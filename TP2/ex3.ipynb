{
 "cells": [
  {
   "cell_type": "markdown",
   "id": "8f10b697-dc9e-434d-bd91-9f2b59c41528",
   "metadata": {},
   "source": [
    "# Enunciado"
   ]
  },
  {
   "cell_type": "markdown",
   "id": "b727a98d-6364-48ec-b67b-74673f340015",
   "metadata": {},
   "source": [
    "\n",
    "3. Usando a experiência obtida na resolução dos problemas 1 e 2, e usando, ao invés  do grupo abeliano multiplicativo $\\,\\mathbb{F}_p^\\ast\\,$,  o  grupo abeliano aditivo que usou na pergunta 2,   \n",
    "    1. Construa ambas as versões  IND-CPA segura e IND-CCA segura do esquema de cifra ElGamal em curvas elípticas.\n",
    "    2. Construa uma implementação em curvas elípticas de um protocolo autenticado de “Oblivious Transfer” $\\,\\kappa$-out-of-$n\\,$."
   ]
  },
  {
   "cell_type": "markdown",
   "id": "e254692c-4503-46aa-bea4-eef77b41a129",
   "metadata": {},
   "source": [
    "-----------"
   ]
  },
  {
   "cell_type": "markdown",
   "id": "35e43ad8-77c4-43f0-b214-96c2598adb28",
   "metadata": {},
   "source": [
    "## Exercício 3.a"
   ]
  },
  {
   "cell_type": "markdown",
   "id": "bb88746c-7ca3-4019-8319-32409fe1199b",
   "metadata": {},
   "source": [
    "### **Versão IND-CPA**"
   ]
  },
  {
   "cell_type": "markdown",
   "id": "0cab392e-a004-4be2-894e-850df97af2b1",
   "metadata": {},
   "source": [
    "#### Geração de chaves"
   ]
  },
  {
   "cell_type": "markdown",
   "id": "13f8b38b-76a0-462c-94fe-c15c4205c064",
   "metadata": {},
   "source": [
    "**Chave Privada (sk)**: Um número inteiro aleatório no intervalo $[1, L-1]$, onde $L$ é a ordem do subgrupo gerado pelo ponto base $P$. \\\n",
    "**Chave Pública (pk)**: Um ponto na curva elíptica, calculado como $p_k = s_k * P$"
   ]
  },
  {
   "cell_type": "markdown",
   "id": "eaac8074-cf7b-47b8-b941-26040d6eb89d",
   "metadata": {},
   "source": [
    "#### Cifra"
   ]
  },
  {
   "cell_type": "markdown",
   "id": "2e9d56a8-76f8-40b6-b5a8-825f7e97dd6a",
   "metadata": {},
   "source": [
    "- Escolher um número inteiro aleatório $\\kappa$ no intervalo $[1, L-1]$.\n",
    "- Calcular o ponto $C_1 = \\kappa * P$.\n",
    "- Converter a mensagem $m$ num ponto na curva elíptica (como no método de Koblitz).\n",
    "- Calcular o ponto $C_2 = m + \\kappa * p_k$.\n",
    "- O texto cifrado é o par $(C_1, C_2)$"
   ]
  },
  {
   "cell_type": "markdown",
   "id": "b8b81f57-95be-4aa8-8a28-c6f2904f1ae2",
   "metadata": {},
   "source": [
    "#### Decifra"
   ]
  },
  {
   "cell_type": "markdown",
   "id": "83acd357-879b-47d1-8e23-4d278ac1f0a1",
   "metadata": {},
   "source": [
    "- Usar a chave privada $s_k$ para calcular $m = C_2 - s_k * C_1$.\n",
    "- Converter o ponto $m$ de volta para a mensagem original"
   ]
  },
  {
   "cell_type": "markdown",
   "id": "3c61b529-08d7-4a16-97dd-789704a23ed6",
   "metadata": {},
   "source": [
    "#### Diferenças entre usa o grupo multiplicativo $F_p^*$ e usar um grupo abeliano"
   ]
  },
  {
   "cell_type": "markdown",
   "id": "9db91538-1438-480d-96ac-57a3bd4ab9ed",
   "metadata": {},
   "source": [
    "No Exercício 3.A, a cifra e decifra não são iguais ao Exercício 1.A, porque as operações matemáticas mudam:\n",
    "\n",
    "- No grupo multiplicativo $F_p^∗$, usamos exponenciação e multiplicação modular.\n",
    "- Nas curvas elípticas, usamos adição de pontos.\n",
    "\n",
    "Portanto, a cifra e decifra no Exercício 3.A devem ser adaptadas para as operações no grupo aditivo da curva elíptica. Comparando-as:"
   ]
  },
  {
   "cell_type": "markdown",
   "id": "8e70185a-3a5e-4625-bdd2-f2fb225de64e",
   "metadata": {},
   "source": [
    "| Operação                     | Grupo Multiplicativo $ \\mathbb{F}_p^* $ | Curva Elíptica $ E $ |\n",
    "|------------------------------|-------------------------------------------|-------------------------|\n",
    "| **Geração de Chaves (pk)**         | $ g^s\\mod p $                          | $ g \\cdot s $         |\n",
    "| **Cifra**                     | $ \\gamma = g^\\omega \\mod p $            | $ \\gamma = \\omega \\cdot g $ |\n",
    "|                              | $ \\kappa = (g^s)^\\omega \\mod p $        | $ \\kappa = \\omega \\cdot S $  |\n",
    "|                              | $ \\delta = m \\cdot \\kappa \\mod p $      | $ C = M + \\kappa $           |\n",
    "| **Decifra**                   | $ \\kappa = \\gamma^s \\mod p $            | $ \\kappa = s \\cdot \\gamma $  |\n",
    "|                              | $ m = \\delta \\cdot \\kappa^{-1} \\mod p $ | $ M = C - \\kappa $           |"
   ]
  },
  {
   "cell_type": "markdown",
   "id": "5ccdccf4-4c1b-46a8-a86e-162c88e73cb5",
   "metadata": {},
   "source": [
    "fonte: https://crypto.stackexchange.com/questions/9987/elgamal-with-elliptic-curves"
   ]
  },
  {
   "cell_type": "markdown",
   "id": "bbabfcf3-cfe5-4209-84e0-f4072bc1becc",
   "metadata": {},
   "source": [
    "#### Conversão de pontos"
   ]
  },
  {
   "cell_type": "markdown",
   "id": "1ae1e0b8-efce-4d42-bb8f-06b11149b19c",
   "metadata": {},
   "source": [
    "Especialmente no contexto de curvas elípticas, a conversão de pontos é uma técnica utilizada para mapear mensagens (ou dados) em pontos específicos sobre a curva elíptica.\n",
    "Para conseguir agregar o melhor dos dois mundos (curvas elípticas e ElGamal) precisamos de mapear mensagens em pontos e vice-versa.\n",
    "\n",
    "Nesta secção apresentamos a metodologia de conversão que iremos utilizar:"
   ]
  },
  {
   "cell_type": "markdown",
   "id": "7f39448b-e98b-4d5e-bf8f-2513490d8f8a",
   "metadata": {},
   "source": [
    "Para mapear uma mensagem de $p−1−l$ bits num ponto $(x,y)$ sobre uma curva elíptica definida no corpo primo abeliano de $p$ bits fazemos passo a passo:\n",
    "\n",
    "1. **Preparação da Mensagem:**\n",
    "\n",
    "    - A mensagem $m$ tem $p−1−l$ bits.\n",
    "    - Para ajustar o tamanho, a mensagem é concatenada com $l$ bits zero, resultando em $x=m∥0l$.\n",
    "\n",
    "2. **Cálculo de $x'$:**\n",
    "\n",
    "    - O valor $x'$ é calculado como $x' = x^3 + a⋅x +b \\mod p$, onde $a$ e $b$ são parâmetros da curva elíptica, e $p$ é o primo que define o corpo finito.\n",
    "\n",
    "3. **Verificação do Resíduo Quadrático**:\n",
    "    \n",
    "    - Se $x'$ for um resíduo quadrático módulo $p$, então existe um $y$ tal que $y^2≡x' \\mod p$. Nesse caso, o ponto $(x,y)$ é um ponto válido na curva.\n",
    "    - Se $x'$ não for um resíduo quadrático, os últimos $l$ bits de $x$ são incrementados em 1, e o processo é repetido.\n",
    "\n",
    "4. **Limite de Tentativas:**\n",
    "\n",
    "    - O processo é repetido até $2^l$ vezes. Se nenhum $x'$ válido for encontrado, a mensagem é considerada \"não codificável\".\n",
    "\n",
    "5. **Decodificação:**\n",
    "\n",
    "    - Para recuperar a mensagem original, basta ignorar a coordenada $y$ e remover os últimos $l$ bits da coordenada $x$."
   ]
  },
  {
   "cell_type": "markdown",
   "id": "d2045d1c-af53-47e4-b92f-65f8263e3584",
   "metadata": {},
   "source": [
    "fonte: https://crypto.stackexchange.com/questions/76340/how-to-create-an-ec-point-from-a-plaintext-message-for-encryption"
   ]
  },
  {
   "cell_type": "markdown",
   "id": "aab746cf-a93e-4d01-b41b-fa2b0773f8cf",
   "metadata": {},
   "source": [
    "#### **Implementação**"
   ]
  },
  {
   "cell_type": "markdown",
   "id": "c7ecd172-5847-47e8-94b7-398629e14622",
   "metadata": {},
   "source": [
    "Usando a classe definida no exercício 2:"
   ]
  },
  {
   "cell_type": "code",
   "execution_count": 1,
   "id": "794ab112-13eb-4c11-983d-cb9e9fb98cdc",
   "metadata": {},
   "outputs": [],
   "source": [
    "import hashlib\n",
    "import random\n",
    "from sage.all import *\n",
    "\n",
    "class EcDSA_Ed25519:\n",
    "    def __init__(self, p, a, d):\n",
    "        assert a != d and is_prime(p) and p > 3\n",
    "        self.K = GF(p)  # Definido como atributo para possível uso futuro\n",
    "\n",
    "        # Convertendo a e d para elementos do campo finito K\n",
    "        self.a = self.K(a)\n",
    "        self.d = self.K(d)\n",
    "\n",
    "        # Calculando A e B dentro do campo finito K\n",
    "        A = 2 * (self.a + self.d) / (self.a - self.d)\n",
    "        B = 4 / (self.a - self.d)\n",
    "\n",
    "        self.alfa = A / (3 * B)\n",
    "        self.s = B\n",
    "\n",
    "        # Calculando a4 e a6 no campo K\n",
    "        a4 = self.s**(-2) - 3 * self.alfa**2\n",
    "        a6 = -self.alfa**3 - a4 * self.alfa\n",
    "\n",
    "        self.EC = EllipticCurve(self.K, [a4, a6])\n",
    "\n",
    "        # Pontos base convertidos para K\n",
    "        self.Px = self.K(15112221349535400772501151409588531511454012693041857206046113283949847762202)\n",
    "        self.Py = self.K(46316835694926478169428394003475163141307993866256225615783033603165251855960)\n",
    "\n",
    "        self.L = ZZ(2**252 + 27742317777372353535851937790883648493)\n",
    "        self.P = self.ed2ec(self.Px, self.Py)\n",
    "\n",
    "        self.private_key = self.generate_private_key()\n",
    "\n",
    "    def generate_private_key(self):\n",
    "        return randint(1, self.L - 1)\n",
    "    \n",
    "    def generate_public_key(self):\n",
    "        return self.private_key * self.P\n",
    "    \n",
    "    def ed2ec(self, x, y):\n",
    "        if (x, y) == (0, 1):\n",
    "            return self.EC(0)\n",
    "        z = (1 + y) / (1 - y)\n",
    "        w = z / x\n",
    "        return self.EC(z / self.s + self.alfa, w / self.s)\n",
    "\n",
    "    # Os métodos sign e verify permanecem os mesmos\n",
    "    def sign(self, message):\n",
    "        h = hashlib.sha512(message).digest()\n",
    "        h_int = int.from_bytes(h, 'big') % self.L\n",
    "\n",
    "        k = randint(1, self.L - 1)\n",
    "        R = k * self.P\n",
    "\n",
    "        r = int(R[0]) % self.L\n",
    "\n",
    "        s = (k + h_int * self.private_key) % self.L\n",
    "\n",
    "        return (r, s)\n",
    "    \n",
    "    def verify(self, message, signature, public_key):\n",
    "        r, s = signature\n",
    "\n",
    "        if not (1 <= r < self.L and 1 <= s < self.L):\n",
    "            return False\n",
    "        \n",
    "        if not public_key in self.EC:\n",
    "            return False\n",
    "        \n",
    "        h = hashlib.sha512(message).digest()\n",
    "        h_int = int.from_bytes(h, 'big') % self.L\n",
    "\n",
    "        R_prime = s * self.P - h_int * public_key\n",
    "\n",
    "        return int(R_prime[0]) % self.L == r"
   ]
  },
  {
   "cell_type": "markdown",
   "id": "1c8a9b7b-d9c3-4172-af9d-1b8e8ec70d34",
   "metadata": {},
   "source": [
    "E definindo a cifra e decifra baseado no que foi abordado anteriormente:"
   ]
  },
  {
   "cell_type": "code",
   "execution_count": 2,
   "id": "80d77df9-173e-447b-807e-1dabc37ec762",
   "metadata": {},
   "outputs": [],
   "source": [
    "import numpy as np\n",
    "\n",
    "def gen_keys(E, q):\n",
    "    '''\n",
    "    Gerar chaves pública e privada de ElGamal para a cifra e decifra a partir da ordem q\n",
    "    '''\n",
    "    sk = randint(1, q - 1)\n",
    "    pk = sk * E.P\n",
    "    return sk, pk\n",
    "\n",
    "def encrypt(E,message,public_key):\n",
    "    '''\n",
    "    Escolher um número inteiro aleatório k no intervalo [1, L-1].\n",
    "    Calcular o ponto C1 = k * P.\n",
    "    Converter a mensagem m num ponto na curva elíptica\n",
    "    Calcular o ponto C2 = m + k * pk.\n",
    "    O texto cifrado é o par (C1, C2)..\n",
    "    '''\n",
    "    k = randint(1, E.L - 1)\n",
    "    C1 = k * E.P\n",
    "    m_point = encode_message(E, message)\n",
    "    C2 = m_point + k * public_key    \n",
    "    return (C1, C2)\n",
    "    \n",
    "def decrypt(E,ciphertext,private_key):\n",
    "    '''\n",
    "    Usar a chave privada sk para calcular m = C2 - sk * C1.\n",
    "    Converter o ponto m de volta para a mensagem original\n",
    "    '''\n",
    "    C1, C2 = ciphertext\n",
    "    m_point = C2 - (private_key * C1)\n",
    "    \n",
    "    return decode_message(E, m_point)\n",
    "\n",
    "def is_quadratic_residue(x, p):\n",
    "    \"\"\"\n",
    "    Verifica se x é um resíduo quadrático módulo p.\n",
    "    \"\"\"\n",
    "    return legendre_symbol(x, p) == 1\n",
    "\n",
    "def encode_message(E, message, l=8):\n",
    "    \"\"\"\n",
    "    Converte uma mensagem num ponto na curva elíptica.\n",
    "    \"\"\"\n",
    "    K = E.K\n",
    "    q = K.order()\n",
    "    k = q.nbits() \n",
    "    m_int = int.from_bytes(message, 'big')\n",
    "    m_bits = m_int.bit_length()\n",
    "\n",
    "    # Ajusta o tamanho da mensagem para k-1-l bits\n",
    "    if m_bits > k - 1 - l:\n",
    "        raise ValueError(\"Mensagem muito grande para o campo finito.\")\n",
    "\n",
    "    # Concatena a mensagem com l bits zero\n",
    "    x = (m_int << l)  # Equivalente a m || 0^l\n",
    "\n",
    "    # Tenta encontrar um ponto válido na curva\n",
    "    for i in range(2**l):\n",
    "        x_prime = x + i  \n",
    "        x_prime = K(x_prime)  \n",
    "\n",
    "        # Calcula x' = x^3 + a*x + b (equação da curva)\n",
    "        y_squared = x_prime**3 + E.EC.a4() * x_prime + E.EC.a6()\n",
    "\n",
    "        # Verifica se y_squared é um resíduo quadrático\n",
    "        if is_quadratic_residue(y_squared, q):\n",
    "            y = y_squared.sqrt()\n",
    "            return E.EC(x_prime, y) \n",
    "            \n",
    "    # Caso ultrapasse o limite de 2^l tentativas:\n",
    "    raise ValueError(\"Não foi possível codificar a mensagem em um ponto da curva.\")\n",
    "\n",
    "def decode_message(E, point):\n",
    "    \"\"\"\n",
    "    Converte um ponto na curva elíptica de volta para a mensagem original.\n",
    "    \"\"\"\n",
    "    x = int(point[0]) \n",
    "    l = 8  # Número de bits usados para o padding\n",
    "    m_int = x >> l  # Remove os últimos l bits\n",
    "    m_bytes = m_int.to_bytes((m_int.bit_length() + 7) // 8, 'big')\n",
    "    return m_bytes"
   ]
  },
  {
   "cell_type": "markdown",
   "id": "3e5fb469-bab4-4116-b049-2186d44ca25d",
   "metadata": {},
   "source": [
    "#### **Exemplo de uso:**"
   ]
  },
  {
   "cell_type": "code",
   "execution_count": 3,
   "id": "50271738-9c94-4c7f-99cb-4358780ef6f2",
   "metadata": {},
   "outputs": [
    {
     "name": "stdout",
     "output_type": "stream",
     "text": [
      "Mensagem codificada como ponto: (96231036770510887582514965757268926721 : 9327398782287318265056166936429671725248326146653680186023877059085667908223 : 1)\n",
      "Mensagem decodificada: Hello, Ed25519!\n",
      "Texto cifrado: ((2523425871936966218282680275620987981300259910143950160513254210741988079054 : 38931871572636621283414838541043388201152835068140378724821616721798198669985 : 1), (33384531941930146788726174476199750345194765044272099532160194890117511353208 : 46359258041945112270863595375989683816157315044804958676812483601286740730327 : 1))\n",
      "Mensagem decifrada: Hello, Ed25519!\n"
     ]
    }
   ],
   "source": [
    "# Exemplo de uso\n",
    "if __name__ == \"__main__\":\n",
    "    # Parâmetros da curva Ed25519\n",
    "    p = 2**255 - 19\n",
    "    a = -1\n",
    "    d = -121665 / 121666\n",
    "\n",
    "    # Instancia a curva\n",
    "    E = EcDSA_Ed25519(p, a, d)\n",
    "\n",
    "    # Mensagem de exemplo\n",
    "    message = b\"Hello, Ed25519!\"\n",
    "\n",
    "    # Codifica a mensagem em um ponto na curva\n",
    "    try:\n",
    "        m_point = encode_message(E, message)\n",
    "        print(f\"Mensagem codificada como ponto: {m_point}\")\n",
    "    except ValueError as e:\n",
    "        print(e)\n",
    "\n",
    "    # Decodifica o ponto de volta para a mensagem\n",
    "    decoded_message = decode_message(E, m_point)\n",
    "    print(f\"Mensagem decodificada: {decoded_message.decode()}\")\n",
    "\n",
    "    # Teste de cifra e decifra\n",
    "    sk, pk = gen_keys(E, E.L)\n",
    "    ciphertext = encrypt(E, message, pk)\n",
    "    print(f\"Texto cifrado: {ciphertext}\")\n",
    "\n",
    "    decrypted_message = decrypt(E, ciphertext, sk)\n",
    "    print(f\"Mensagem decifrada: {decrypted_message.decode()}\")"
   ]
  },
  {
   "cell_type": "markdown",
   "id": "4582abfd-7bd2-4ae9-a92c-8bd3e1a61d2b",
   "metadata": {},
   "source": [
    "------"
   ]
  },
  {
   "cell_type": "markdown",
   "id": "30867428-d1bf-4ff0-8aa1-821b5abf10a6",
   "metadata": {},
   "source": [
    "### **Transformar um  PKE-IND-CPA em um PKE-IND-CCA**"
   ]
  },
  {
   "cell_type": "markdown",
   "id": "cba78b67-4b2a-4e34-90d6-4f74ec08b614",
   "metadata": {},
   "source": [
    "A transformação FO original constrói, a partir de $\\,(E_p,D_s)\\,$,  um novo esquema de cifra assimétrica $\\,(E'_p,D'_s)\\,$ , usando um  “hash” pseudo-aleatório $\\,h\\,$ de tamanho $\\,\\lambda\\,$ e um “hash” pseudo-aleatório $\\,g\\,$ de tamanho $\\,|x|\\,$.\n",
    "\n",
    "O algoritmo de cifra parametrizado pelos dois “hashs”  $\\,h,g\\,$    é \n",
    "\n",
    "  $$E'_{p}(x)\\;\\equiv\\;\\vartheta\\,r\\gets \\{0,1\\}^\\lambda\\,\\centerdot\\,\\vartheta\\,y \\gets x\\oplus g(r)\\,\\centerdot\\,\\vartheta\\,r'\\gets h(r,y)\\,\\centerdot\\,\\vartheta\\,c\\gets f_p(r,r') \\,\\centerdot\\, (y\\,,\\,c)$$\n",
    "\n",
    "O algoritmo $\\,D'_{s}\\,$ rejeita o criptograma se detecta algum sinal de fraude. \n",
    "\n",
    "\n",
    "$$D'_{s}(y,c)\\;\\equiv\\;\\vartheta\\,r \\gets D_s(c)\\,\\centerdot\\,\\vartheta\\,r'\\gets h(r,y)\\,\\centerdot\\,\\mathsf{if}\\;\\;c\\neq f_p(r,r')\\;\\;\\mathsf{then}\\;\\;\\bot\\;\\mathsf{else}\\;\\;y\\oplus g(r)$$"
   ]
  },
  {
   "cell_type": "markdown",
   "id": "408957cb-c485-43a1-8b8c-15fd89667533",
   "metadata": {},
   "source": [
    "### Implementação"
   ]
  },
  {
   "cell_type": "code",
   "execution_count": 4,
   "id": "ede0485a-9e1d-4d0c-85e7-9cfa7c7d35c4",
   "metadata": {},
   "outputs": [],
   "source": [
    "def g(r,message):\n",
    "    \"\"\"Hash pseudoaleatório g(r) com tamanho igual ao da mensagem x\"\"\"\n",
    "    g = hashlib.sha512()\n",
    "    r_bytes = r.to_bytes((r.bit_length() + 7) // 8, 'big')\n",
    "    g.update(r_bytes)\n",
    "    final_hash = g.digest()  # Truncar para o tamanho de x\n",
    "    while len(final_hash) < len(message):\n",
    "        g = hashlib.sha512()\n",
    "        g.update(r_bytes)\n",
    "        final_hash += g.digest()\n",
    "    return final_hash[:len(message)]\n",
    "\n",
    "def h(r, y):\n",
    "    \"\"\"Hash pseudoaleatório h(r, y) com tamanho lambda_bits\"\"\"\n",
    "    h = hashlib.sha512()\n",
    "    r_bytes = r.to_bytes((r.bit_length() + 7) // 8, 'big')\n",
    "    ry = bytes(a ^^ b for a, b in zip(r_bytes, y))\n",
    "    h.update(ry)\n",
    "    full_hash = h.digest()[:64 // 8]\n",
    "    return full_hash"
   ]
  },
  {
   "cell_type": "code",
   "execution_count": 5,
   "id": "b5cfe1c1-bb5b-4525-8902-fb0c9448fcbb",
   "metadata": {},
   "outputs": [],
   "source": [
    "# Criar uma seed fixa\n",
    "import random\n",
    "random.seed(b\"10\")\n",
    "\n",
    "def f_p(public_key,r,rlinha):\n",
    "    k = random.randint(1, E.L - 1)\n",
    "    C1 = k * E.P\n",
    "    m_point = encode_message(E, message)\n",
    "    C2 = m_point + k * public_key\n",
    "    if not (C1 in E and C2 in E):\n",
    "        raise ValueError(\"C1 e C2 devem ser pontos válidos na curva elíptica.\")\n",
    "    return (C1, C2)"
   ]
  },
  {
   "cell_type": "code",
   "execution_count": 6,
   "id": "b1a632d0-f0ff-4701-a10f-69584390ec58",
   "metadata": {},
   "outputs": [],
   "source": [
    "def encrypt_FO(E,message,public_key):\n",
    "    r = randint(1,E.L)\n",
    "    print(\"message:\",message)\n",
    "    y = bytes(a ^^ b for a, b in zip(message, g(r,message)))\n",
    "    rlinha = h(r,y)\n",
    "    c = f_p(public_key,r,rlinha)\n",
    "    return (y,c)\n",
    "\n",
    "def decrypt_FO(E,ciphertext,private_key):\n",
    "    r = decrypt(E,ciphertext,private_key)\n",
    "    rlinha = h(r,y)\n",
    "    if c != f_p(r,rlinha):\n",
    "        print(\"Absurdo!\")\n",
    "        return\n",
    "    else:\n",
    "        return bytes(a ^^ b for a, b in zip(y, g(r)))"
   ]
  },
  {
   "cell_type": "code",
   "execution_count": 7,
   "id": "11ec732c-979a-4652-9038-05cd0ae17fb4",
   "metadata": {},
   "outputs": [
    {
     "name": "stdout",
     "output_type": "stream",
     "text": [
      "Mensagem codificada como ponto: (5723056021398692096 : 23117725897293925760354401963284524461283169530651030787792243700936166073628 : 1)\n",
      "Mensagem decodificada: Ola!!!!\n",
      "message: b'Ola!!!!'\n"
     ]
    },
    {
     "ename": "TypeError",
     "evalue": "argument of type 'EcDSA_Ed25519' is not iterable",
     "output_type": "error",
     "traceback": [
      "\u001b[0;31m---------------------------------------------------------------------------\u001b[0m",
      "\u001b[0;31mTypeError\u001b[0m                                 Traceback (most recent call last)",
      "Cell \u001b[0;32mIn[7], line 15\u001b[0m\n\u001b[1;32m     13\u001b[0m \u001b[38;5;66;03m# Teste de cifra e decifra\u001b[39;00m\n\u001b[1;32m     14\u001b[0m sk, pk \u001b[38;5;241m=\u001b[39m gen_keys(E, E\u001b[38;5;241m.\u001b[39mL)\n\u001b[0;32m---> 15\u001b[0m ciphertext \u001b[38;5;241m=\u001b[39m \u001b[43mencrypt_FO\u001b[49m\u001b[43m(\u001b[49m\u001b[43mE\u001b[49m\u001b[43m,\u001b[49m\u001b[43m \u001b[49m\u001b[43mmessage\u001b[49m\u001b[43m,\u001b[49m\u001b[43m \u001b[49m\u001b[43mpk\u001b[49m\u001b[43m)\u001b[49m \n\u001b[1;32m     16\u001b[0m \u001b[38;5;28mprint\u001b[39m(\u001b[38;5;124mf\u001b[39m\u001b[38;5;124m\"\u001b[39m\u001b[38;5;124mTexto cifrado: \u001b[39m\u001b[38;5;132;01m{\u001b[39;00mciphertext\u001b[38;5;132;01m}\u001b[39;00m\u001b[38;5;124m\"\u001b[39m)\n\u001b[1;32m     18\u001b[0m decrypted_message \u001b[38;5;241m=\u001b[39m decrypt_FO(E, ciphertext, sk)\n",
      "Cell \u001b[0;32mIn[6], line 6\u001b[0m, in \u001b[0;36mencrypt_FO\u001b[0;34m(E, message, public_key)\u001b[0m\n\u001b[1;32m      4\u001b[0m y \u001b[38;5;241m=\u001b[39m \u001b[38;5;28mbytes\u001b[39m(a \u001b[38;5;241m^\u001b[39m b \u001b[38;5;28;01mfor\u001b[39;00m a, b \u001b[38;5;129;01min\u001b[39;00m \u001b[38;5;28mzip\u001b[39m(message, g(r,message)))\n\u001b[1;32m      5\u001b[0m rlinha \u001b[38;5;241m=\u001b[39m h(r,y)\n\u001b[0;32m----> 6\u001b[0m c \u001b[38;5;241m=\u001b[39m \u001b[43mf_p\u001b[49m\u001b[43m(\u001b[49m\u001b[43mpublic_key\u001b[49m\u001b[43m,\u001b[49m\u001b[43mr\u001b[49m\u001b[43m,\u001b[49m\u001b[43mrlinha\u001b[49m\u001b[43m)\u001b[49m\n\u001b[1;32m      7\u001b[0m \u001b[38;5;28;01mreturn\u001b[39;00m (y,c)\n",
      "Cell \u001b[0;32mIn[5], line 10\u001b[0m, in \u001b[0;36mf_p\u001b[0;34m(public_key, r, rlinha)\u001b[0m\n\u001b[1;32m      8\u001b[0m m_point \u001b[38;5;241m=\u001b[39m encode_message(E, message)\n\u001b[1;32m      9\u001b[0m C2 \u001b[38;5;241m=\u001b[39m m_point \u001b[38;5;241m+\u001b[39m k \u001b[38;5;241m*\u001b[39m public_key\n\u001b[0;32m---> 10\u001b[0m \u001b[38;5;28;01mif\u001b[39;00m \u001b[38;5;129;01mnot\u001b[39;00m (\u001b[43mC1\u001b[49m\u001b[43m \u001b[49m\u001b[38;5;129;43;01min\u001b[39;49;00m\u001b[43m \u001b[49m\u001b[43mE\u001b[49m \u001b[38;5;129;01mand\u001b[39;00m C2 \u001b[38;5;129;01min\u001b[39;00m E):\n\u001b[1;32m     11\u001b[0m     \u001b[38;5;28;01mraise\u001b[39;00m \u001b[38;5;167;01mValueError\u001b[39;00m(\u001b[38;5;124m\"\u001b[39m\u001b[38;5;124mC1 e C2 devem ser pontos válidos na curva elíptica.\u001b[39m\u001b[38;5;124m\"\u001b[39m)\n\u001b[1;32m     12\u001b[0m \u001b[38;5;28;01mreturn\u001b[39;00m (C1, C2)\n",
      "\u001b[0;31mTypeError\u001b[0m: argument of type 'EcDSA_Ed25519' is not iterable"
     ]
    }
   ],
   "source": [
    "message = b\"Ola!!!!\"\n",
    "# Codifica a mensagem em um ponto na curva\n",
    "try:\n",
    "    m_point = encode_message(E, message)\n",
    "    print(f\"Mensagem codificada como ponto: {m_point}\")\n",
    "except ValueError as e:\n",
    "    print(e)\n",
    "\n",
    "# Decodifica o ponto de volta para a mensagem\n",
    "decoded_message = decode_message(E, m_point)\n",
    "print(f\"Mensagem decodificada: {decoded_message.decode()}\")\n",
    "\n",
    "# Teste de cifra e decifra\n",
    "sk, pk = gen_keys(E, E.L)\n",
    "ciphertext = encrypt_FO(E, message, pk) \n",
    "print(f\"Texto cifrado: {ciphertext}\")\n",
    "\n",
    "decrypted_message = decrypt_FO(E, ciphertext, sk)\n",
    "print(f\"Mensagem decifrada: {decrypted_message.decode()}\")"
   ]
  },
  {
   "cell_type": "markdown",
   "id": "3dc1f00d-2ea9-43ab-8d47-665a04ffff12",
   "metadata": {},
   "source": [
    "## “Oblivious Transfer” $\\,\\kappa$-out-of-$n\\,$"
   ]
  },
  {
   "cell_type": "code",
   "execution_count": null,
   "id": "1e9dd381-5615-4209-bc33-5cc2ee672971",
   "metadata": {},
   "outputs": [],
   "source": []
  }
 ],
 "metadata": {
  "kernelspec": {
   "display_name": "SageMath 10.5",
   "language": "sage",
   "name": "sagemath"
  },
  "language_info": {
   "codemirror_mode": {
    "name": "ipython",
    "version": 3
   },
   "file_extension": ".py",
   "mimetype": "text/x-python",
   "name": "python",
   "nbconvert_exporter": "python",
   "pygments_lexer": "ipython3",
   "version": "3.12.9"
  }
 },
 "nbformat": 4,
 "nbformat_minor": 5
}
