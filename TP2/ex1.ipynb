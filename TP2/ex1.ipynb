{
 "cells": [
  {
   "cell_type": "markdown",
   "id": "c3ce6268-0d5b-4173-8aba-8f36f2786e26",
   "metadata": {},
   "source": [
    "# Enunciado"
   ]
  },
  {
   "cell_type": "markdown",
   "id": "4fbbe49e-9b94-4830-b52d-6980d78f640b",
   "metadata": {},
   "source": [
    "\n",
    "Este trabalho usa SageMath nas suas implementações\n",
    "\n",
    "\n",
    "1. Pretende-se construir em torno de uma cifra assimétrica um conjunto de técnicas criptográficas destinadas a fins distintos. Apesar de todas as alíneas do problema poderem ser  respondidas com a maioria das cifras assimétricas clássicas ou pós-quânticas, neste problema vamos exemplificar o processo com uma técnica simples da família Diffie-Hellman nomeadamente a cifra assimétrica ElGamal com parâmetros de segurança $\\,\\lambda\\,$.\n",
    "    1. Implemente um esquema  PKE $\\,\\mathsf{ElGamal}(\\lambda)\\,$ (ver Capítulo 4) num subgrupo de ordem prima $\\,q\\,$,  com $\\,|q|\\geq \\lambda\\,$, do grupo multiplicativo $\\,\\mathbb{F}^\\ast_p\\,$ com $\\,p\\,$ um primo que verifica $\\,|p| \\geq \\lambda\\times|\\lambda|$ . Identifique o gerador de chaves e os algoritmos de cifra de decifra neste esquema. Identifique o núcleo deterministico do algoritmo de cifra.\n",
    "    2. Supondo que a cifra que implementou é IND-CPA segura (de novo Capítulo 4), usando a transformação de Fujisaki-Okamoto implemente um PKE que seja IND-CCA seguro.\n",
    "    3. A partir de (b) construa um esquema de KEM que seja IND-CCA seguro.\n",
    "    4. A partir de (b) construa uma implementação de um protocolo autenticado de \"Oblivious Transfer\" $\\,\\kappa$-out-of-$n\\,$."
   ]
  },
  {
   "cell_type": "markdown",
   "id": "8389d2b7-f65a-486e-9dd5-89b205d7cab6",
   "metadata": {},
   "source": [
    "# **Exercício 1.a.**"
   ]
  },
  {
   "cell_type": "markdown",
   "id": "ce0ee8e0-9150-4e6a-bbc1-4d8ce555684a",
   "metadata": {},
   "source": [
    "EL GAMAL\n",
    "Qualquer PKE é determinado por três algoritmos: geração de chaves, cifra e decifra:\n",
    "\n",
    " ----------<br><br>$\\text{GenKeys}(\\lambda)$                                 …       $\\lambda\\;$ é o parâmetro de segurança<br><br><br>    - gerar aleatoriamente um primo $\\,q \\approx 2^\\lambda$                                      <br>    - gerar um primo $p$  tal que  $\\,\\mathbb{F}_p^\\ast\\,$ tem um sub-grupo de ordem $\\,q\\,$ ; calcular um gerador $g$ desse sub-grupo<br>    - gerar aleatoriamente  $\\,0 <s < q\\,$ ,  a chave privada<br>    - calcular e  revelar  a chave pública   $\\,\\mathsf{pk} \\equiv \\langle p,q, g,g^s\\rangle$<br>----------<br><br>$\\text{Enc}(\\mathsf{pk},m)$                                   …   a mensagem $m$ é um elemento de $\\mathbb{F}_p^\\ast$ <br><br><br>    - obter elementos públicos  $\\,p,q,g,g^s \\,\\gets\\,\\mathsf{pk}$<br>    - gerar aleatoriamente  $\\,0 <\\omega < q$ <br>    - calcular  $\\,\\gamma \\gets g^\\omega\\;$ e $\\,\\kappa \\gets (g^s)^\\omega\\,$.<br>    - construir  o criptograma $\\,\\mathbf{c}\\gets \\langle\\,\\gamma\\,,\\, m\\times\\kappa\\,\\rangle\\,$<br>----------<br><br>Note-se que se verifica $\\,\\kappa = \\gamma^s\\,$.<br> \n",
    "----------<br><br>$\\text{Dec}(\\mathsf{sk},\\mathbf{c})$  …  $\\mathsf{sk} = s$ é a chave privada<br><br>\n",
    "- obter a chave privada $s$<br>    \n",
    "- obter o criptograma $\\mathbf{c} = \\langle \\gamma, \\delta \\rangle$<br>    \n",
    "- calcular $\\kappa \\gets \\gamma^s \\mod p$<br>    \n",
    "- calcular $\\kappa^{-1} \\mod p$<br>    \n",
    "- recuperar a mensagem original: $m \\gets \\delta \\times \\kappa^{-1} \\mod p$<br>    "
   ]
  },
  {
   "cell_type": "code",
   "execution_count": 1,
   "id": "f01d8ce5-0cea-4c68-bab6-45d697e52f01",
   "metadata": {},
   "outputs": [],
   "source": [
    "print_tentativas_genKeys = False"
   ]
  },
  {
   "cell_type": "code",
   "execution_count": 2,
   "id": "d5bdb3ad-85b9-469d-8dff-02c25c4d53d7",
   "metadata": {},
   "outputs": [],
   "source": [
    "from sage.all import *\n",
    "lambda_security = 128  # Define um tamanho de bits para q"
   ]
  },
  {
   "cell_type": "markdown",
   "id": "7922b141-08cb-441e-9b78-d951f66f896c",
   "metadata": {},
   "source": [
    "Para encontrar um gerador do grupo multiplicativo temos que encontrar um número cuja ordem seja igual à do grupo, i.e.:\n",
    "- Dada a ordem do grupo multiplicativo $F_p^* = \\phi(p)$ o gerador g tem de ter ordem $\\phi(p)$, ou seja, $g^{\\phi(n)}=1 \\ mod \\ p$"
   ]
  },
  {
   "cell_type": "code",
   "execution_count": 3,
   "id": "21c39732-23af-4a54-84ee-a4fbb3c10555",
   "metadata": {},
   "outputs": [],
   "source": [
    "def find_generator(p):\n",
    "    \"\"\"Encontra um gerador do grupo multiplicativo F_p^*.\"\"\"\n",
    "    if not is_prime(p):\n",
    "        raise Exception(\"O p de input não é primo\")\n",
    "\n",
    "    phi_p = p - 1  # Para p primo, phi(p) = p - 1\n",
    "\n",
    "    fatoracao = factor(phi_p)\n",
    "    fatores_primos = list(set([q for q, e in fatoracao]))\n",
    "    \n",
    "    print(f\"Fatoração de phi(p): {fatoracao}\")\n",
    "    print(f\"Fatores primos de phi(p): {fatores_primos}\")\n",
    "\n",
    "    # Itera sobre possíveis geradores\n",
    "    for g in range(2, p):\n",
    "        if gcd(g, p) != 1:\n",
    "            continue  # Ignora números não coprimos com p\n",
    "\n",
    "        is_gerador = True\n",
    "        for q in fatores_primos:\n",
    "            if pow(g, phi_p // q, p) == 1:\n",
    "                is_gerador = False\n",
    "                break\n",
    "\n",
    "        if is_gerador:\n",
    "            return g \n",
    "\n",
    "    return None  "
   ]
  },
  {
   "cell_type": "code",
   "execution_count": 4,
   "id": "26e587e6-b57c-472b-bf28-e72fe93623cb",
   "metadata": {},
   "outputs": [],
   "source": [
    "def gen_keys(lambda_security):\n",
    "    print(\"lambda: \",lambda_security)\n",
    "    # Gerar aleatoriamente q com bit_length maior que lambda\n",
    "    q = random_prime(2^129 - 1, False, 2^128)\n",
    "    print(\"Parâmetro q gerado:\",q)\n",
    "    print(\"Tamanho de q:\",q.nbits())\n",
    "    \n",
    "    #Gera-se sucessivamente inteiros pi = q*2^i+1 até que pi seja um primo suficientemente grande, ou seja |p| > 1024\n",
    "    i = 1\n",
    "    p_i = q * (2^i) + 1 \n",
    "    tamanho_desejado = lambda_security * lambda_security.nbits()\n",
    "    \n",
    "    while True:\n",
    "        # Caso o p_i não convergir tenta um novo q\n",
    "        if p_i.nbits() > 2500:\n",
    "            q = random_prime(2^129 - 1, False, 2^128)\n",
    "            i = 1\n",
    "            p_i = q * (2^i) + 1\n",
    "            print(\"p não convergiu, novo valor de q: \",q)\n",
    "            \n",
    "        if is_prime(p_i) and p_i.nbits() >= tamanho_desejado:\n",
    "            break  \n",
    "    \n",
    "        i += 1\n",
    "        p_i = q * (2^i) + 1\n",
    "        if print_tentativas_genKeys:\n",
    "            print(f\"Tentativa {i}: p_i = {p_i} (Tamanho: {p_i.nbits()} bits)\")\n",
    "\n",
    "    p = p_i\n",
    "    print(\"Parâmetro p gerado:\",p)\n",
    "    print(f\"Tamanho de bits de p (lambda x |lambda| = {tamanho_desejado}): {p.nbits()}\")\n",
    "    \n",
    "    # Fp é um grupo multiplicativo se para todo o x pertencente a Fp gcd(x,p) = 1 (trivial já que p é primo)\n",
    "    # Criar o corpo finito F_p\n",
    "    F_p = GF(p)\n",
    "    # O grupo multiplicativo F_p^* é o conjunto de elementos não nulos de F_p\n",
    "    F_p_star = F_p.unit_group()\n",
    "        \n",
    "    # Agora obtemos um gerador do subgrupo de ordem q\n",
    "    g = find_generator(p)\n",
    "    print(\"g:\",g)\n",
    "    \n",
    "    # Gerar aleatoriamente a chave privada 0<s<q\n",
    "    s = randint(1, q-1)\n",
    "    \n",
    "    return (p, q, g, pow(g, s, p)), s"
   ]
  },
  {
   "cell_type": "markdown",
   "id": "83406e20-ced7-4e66-9fbc-b5ff7aef5f5e",
   "metadata": {},
   "source": [
    "## Escolha de p:\n",
    "A ordem desse grupo é $\\,n = p - 1\\,$ e para que o DLP seja  complexo não basta apenas que $\\,p\\,$ seja grande: é também necessário que o maior factor primo de $\\,(p-1)\\,$ seja também grande. \n",
    "Para garantir estas condições o primo $\\,p\\,$  é gerado de uma determinada forma:\n",
    "\n",
    "1. Gera-se um primo $\\,q\\,$ grande: com mais de $\\lambda$ bits de tamanho; este vai ser o maior factor de $\\,(p-1)\\,$\n",
    "2. Gera-se sucessivamente inteiros  $\\,p_i\\;=\\;q\\,2^i + 1\\,$ até que $\\,p_i\\,$ seja  um primo suficientemente grande ."
   ]
  },
  {
   "cell_type": "markdown",
   "id": "9af254e2-ecd8-44aa-9173-d5b07d167696",
   "metadata": {},
   "source": [
    "## Como é que $F_p^*$ tem um subgrupo de ordem q? (Teorema de Lagrange)\n",
    "O Teorema de Lagrange diz que, se um grupo G tem ordem finita e H é um subgrupo de G, então |H| é um divisor de |G|.\n",
    "\n",
    "Visto que $F_p^*$ tem ordem $p-1$ e $p-1$ divide $2q$ (e consequentemente $q$) então podemos afirmar que $F_p^*$ tem um subgrupo de ordem q. "
   ]
  },
  {
   "cell_type": "markdown",
   "id": "38d83f60-4b49-494c-816b-1ce321783863",
   "metadata": {},
   "source": [
    "------------------"
   ]
  },
  {
   "cell_type": "code",
   "execution_count": 5,
   "id": "1e6b9b0a-a22c-4b46-9b2a-4c5d756d1a20",
   "metadata": {},
   "outputs": [],
   "source": [
    "def enc(pk, m):\n",
    "    p, q, g, g_s = pk\n",
    "    omega = randint(1, q-1)  # Escolhe um valor aleatório ω entre 0 e q\n",
    "    gamma = pow(g, omega, p)  # γ = g^ω mod p\n",
    "    kappa = pow(g_s, omega, p)  # κ = (g^s)^ω mod p\n",
    "    c = (gamma, (m * kappa) % p)  # Criptograma\n",
    "    return c"
   ]
  },
  {
   "cell_type": "markdown",
   "id": "9a53bbe5-f7bb-4046-aba4-b2f222b3fc76",
   "metadata": {},
   "source": [
    "------------------"
   ]
  },
  {
   "cell_type": "code",
   "execution_count": 6,
   "id": "e76111b2-a112-4db9-9500-8da0154cf1f7",
   "metadata": {},
   "outputs": [],
   "source": [
    "def dec(sk, pk, c):\n",
    "    p, _, _, _ = pk\n",
    "    gamma, delta = c\n",
    "    kappa = pow(gamma, sk, p)  # κ = γ^s mod p\n",
    "    kappa_inv = inverse_mod(Integer(kappa), Integer(p))  # Calcula o inverso de κ mod p\n",
    "    m = (delta * kappa_inv) % p  # Recupera a mensagem original\n",
    "    return m"
   ]
  },
  {
   "cell_type": "markdown",
   "id": "ab492e40-b185-4f54-a12e-932a334b76ce",
   "metadata": {},
   "source": [
    "------------------"
   ]
  },
  {
   "cell_type": "code",
   "execution_count": 7,
   "id": "8c7475fa-c66f-4975-be98-2dee091c0767",
   "metadata": {
    "scrolled": true
   },
   "outputs": [
    {
     "name": "stdout",
     "output_type": "stream",
     "text": [
      "lambda:  128\n",
      "Parâmetro q gerado: 403375798132636591563995377708191291601\n",
      "Tamanho de q: 129\n",
      "Parâmetro p gerado: 2478243596982939790757749352506836421525691407195082399551414017424166442915789393326074074263611252513777814596783983686248175279086242963896781948441310817474452207868506082330789662051309677707060473962158669769139919542938121260615916489710146003308346215418994757803064628039448590942490429656892966615315512600566349591080249640786443960090031140284414797001717921801978083856901681865059517905774837818663995780227181048162669604955488257\n",
      "Tamanho de bits de p (lambda x |lambda| = 1024): 1477\n",
      "Fatoração de phi(p): 2^1348 * 403375798132636591563995377708191291601\n",
      "Fatores primos de phi(p): [2, 403375798132636591563995377708191291601]\n",
      "g: 3\n",
      "Mensagem original: 1546723643290151296155362817905868518545837122357812706808728859418550850800934266181825422512366601579906991937204327820468589682322110811088940278053708075559063579376431344804831747994472408827104660157248997626141367841992913960307209073810421092763755620929375006918596792692888073311399800172130818176479450419915155011979138172803060955141824666668106594251062581948063812708382432505274455517005384266871588430568191548852906484027742575\n",
      "Criptograma: (181728315080404987982823339940878376637793591850890799746193955940521158685093160100244517445694175812113489152105523682793902643144451738820116597946137503842142901749538062465001459854517104624876006028308516994050007590523213408481254150984917336918579176497242520828395061597059389473651947148050744958673299532725896371188330268760006888147410674636088048973242397039725011634030549251336351396213006773855710337611712278128820019733846173, 1945217351947486374126237011503435265828687335486191398582209886348569303133304724749040123877700101070055656922444241903546419823501488979183434125543789599002206148501365818471700175813196639231922718879637874258569597334849040317533117749430050725281412007871635540621780866689219942153028165542339709716792677414564938173030985253718255076517872599319222283630632699185529219937948459031802354041737651832926555368885804669936560015917617671)\n",
      "Mensagem decifrada: 1546723643290151296155362817905868518545837122357812706808728859418550850800934266181825422512366601579906991937204327820468589682322110811088940278053708075559063579376431344804831747994472408827104660157248997626141367841992913960307209073810421092763755620929375006918596792692888073311399800172130818176479450419915155011979138172803060955141824666668106594251062581948063812708382432505274455517005384266871588430568191548852906484027742575\n",
      "Decifração bem-sucedida? True\n"
     ]
    }
   ],
   "source": [
    "# Exemplo\n",
    "pk, sk = gen_keys(lambda_security)  # Geração de chaves\n",
    "m = randint(1, pk[0]-1)  # Mensagem aleatória em F_p*\n",
    "c = enc(pk, m)  # Cifra a mensagem\n",
    "m_dec = dec(sk, pk, c)  # Decifra a mensagem\n",
    "\n",
    "# Exibir os resultados\n",
    "print(f\"Mensagem original: {m}\")\n",
    "print(f\"Criptograma: {c}\")\n",
    "print(f\"Mensagem decifrada: {m_dec}\")\n",
    "print(f\"Decifração bem-sucedida? {m == m_dec}\")"
   ]
  },
  {
   "cell_type": "markdown",
   "id": "f5b546fe-12af-4e84-9bb9-9e1374281576",
   "metadata": {},
   "source": [
    "--------"
   ]
  },
  {
   "cell_type": "markdown",
   "id": "959c61be-9be9-4935-a4ef-f0b186e610a3",
   "metadata": {},
   "source": [
    "# **Exercício 1.b.**"
   ]
  },
  {
   "cell_type": "markdown",
   "id": "8cb4b8b1-40ec-49c3-af84-02be7e617104",
   "metadata": {},
   "source": [
    "Supondo que a cifra que implementou é IND-CPA segura (de novo Capítulo 4), usando a transformação de Fujisaki-Okamoto implemente um PKE que seja IND-CCA seguro."
   ]
  },
  {
   "cell_type": "markdown",
   "id": "7adb4876-e652-4c6f-be01-5e9b614a231c",
   "metadata": {},
   "source": [
    "### **Transformar um  PKE-IND-CPA em um PKE-IND-CCA**"
   ]
  },
  {
   "cell_type": "markdown",
   "id": "f7845f03-d636-4780-85bb-97548352836a",
   "metadata": {},
   "source": [
    "A transformação FO original constrói, a partir de $\\,(E_p,D_s)\\,$,  um novo esquema de cifra assimétrica $\\,(E'_p,D'_s)\\,$ , usando um  “hash” pseudo-aleatório $\\,h\\,$ de tamanho $\\,\\lambda\\,$ e um “hash” pseudo-aleatório $\\,g\\,$ de tamanho $\\,|x|\\,$.\n",
    "\n",
    "O algoritmo de cifra parametrizado pelos dois “hashs”  $\\,h,g\\,$    é \n",
    "\n",
    "  $E'_{p}(x)\\;\\equiv\\;\\vartheta\\,r\\gets \\{0,1\\}^\\lambda\\,\\centerdot\\,\\vartheta\\,y \\gets x\\oplus g(r)\\,\\centerdot\\,\\vartheta\\,r'\\gets h(r,y)\\,\\centerdot\\,\\vartheta\\,c\\gets f_p(r,r') \\,\\centerdot\\, (y\\,,\\,c)$"
   ]
  },
  {
   "cell_type": "markdown",
   "id": "012c330e-fb8d-4aaf-be6a-3270269f969f",
   "metadata": {},
   "source": [
    "### Definições de variáveis"
   ]
  },
  {
   "cell_type": "code",
   "execution_count": 8,
   "id": "d700f39d-e350-4c19-b2f3-6408fc4d7a15",
   "metadata": {},
   "outputs": [
    {
     "name": "stdout",
     "output_type": "stream",
     "text": [
      "----------------------------------Definição de veriáveis----------------------------------\n",
      "lambda:  128\n",
      "Parâmetro q gerado: 658718539952579972405075393153779598417\n",
      "Tamanho de q: 129\n",
      "p não convergiu, novo valor de q:  363304254277967637575396774975950025911\n",
      "p não convergiu, novo valor de q:  588092000229710790720553713739672430861\n",
      "p não convergiu, novo valor de q:  669109259562764449524966804068993842343\n",
      "Parâmetro p gerado: 71003915862298958125476879588726389593795749008826188513955551097652390101047068759254794513381905521414619911540090237611917652604537805889497255887390898744805448642896614223934539633177359497300377432268404575030514691206619163650265926858862431719699960209577451332714040079446487687716480119090444051812303739013848234803297849199709636019028270802633405975494657\n",
      "Tamanho de bits de p (lambda x |lambda| = 1024): 1222\n",
      "Fatoração de phi(p): 2^1093 * 669109259562764449524966804068993842343\n",
      "Fatores primos de phi(p): [669109259562764449524966804068993842343, 2]\n",
      "g: 3\n",
      "length x: 153\n",
      "Mensagem de input: b'=\\xf6\\xfd\\x19\\x86\\x83\\x17\\x9c?\\x08\\xc6N\\xf9\\x1f\\x900J\\xa32wH\\x12\\xc6+\\xfdP\\x9e!\\xc1\\xb0a\\xd3\\xac*\\xf6\\x18+\\xc2\\x8b\\xc1_\\x12\\xd9+\\xa9;Z\\n\\xfb.\\x89eJ\\xbc\\x82\\xdd=\\xe7\\xa9\\xd8\\xe1\\x17\\xfbM\\x11\\xcf\\xc0\\xf5\\xf1\\xf1px\\x8d\\xd4\\xb5a\\x0e\\xdb\\x87\\xed\\x04\\xd4\\xd7o4\\xcc\\x91V6\\xdc}P\\x1bFUg\\x11\\xe1\\x0e\\xa1\\xefL\\x93\\x10\\xcao:r\\xf4\\x0f\\xa0\\xb0u\\x8e\\x88 \\x1f\\xba\\x0b\\xe9\\xa4\\xfd\\x0bG8\\xcc\\xcb\\xd4\\xf7\\xf6\\xda\\x08\\xa9\\x03\\x03c\\x98\\xfa\\xc6!\\xd9\\xa1\\xec\\xed#\\xe1\\xe8v\\xdb\\xc9xdl'\n",
      "-------------------------------------------------------------------------------------------\n"
     ]
    }
   ],
   "source": [
    "print(\"----------------------------------Definição de veriáveis----------------------------------\")\n",
    "lambda_bits = 128\n",
    "\n",
    "pk, sk = gen_keys(lambda_bits)\n",
    "x = randint(1, pk[0]-1)  # Mensagem aleatória em F_p*\n",
    "length_in_bytes = (x.bit_length() + 7) // 8\n",
    "x = x.to_bytes(length_in_bytes, byteorder='big')\n",
    "print(\"length x:\",len(x))\n",
    "print(\"Mensagem de input:\",x)\n",
    "print(\"-------------------------------------------------------------------------------------------\")"
   ]
  },
  {
   "cell_type": "markdown",
   "id": "9f6786da-5d9a-43ba-8ca9-fd979f4ac084",
   "metadata": {},
   "source": [
    "-------"
   ]
  },
  {
   "cell_type": "markdown",
   "id": "891a4bc4-c938-4bb1-b6da-9ec5e94026dd",
   "metadata": {},
   "source": [
    "### Funções auxiliares:\n",
    "- $g$, um \"hash\" pseudo-aleatório de tamanho $|x|$\n",
    "- $h$, um \"hash\" pseudo-aleatório de tamanho $lambda$\n",
    "- $f_p$ o núcleo determinístico da cifra ElGamal"
   ]
  },
  {
   "cell_type": "code",
   "execution_count": 9,
   "id": "5877808a-8ad9-48a7-9576-2117537f886b",
   "metadata": {},
   "outputs": [],
   "source": [
    "import hashlib\n",
    "\n",
    "def g(r):\n",
    "    \"\"\"Hash pseudoaleatório g(r) com tamanho igual ao da mensagem x\"\"\"\n",
    "    g = hashlib.sha512()\n",
    "    r_bytes = r.to_bytes((r.bit_length() + 7) // 8, 'big')\n",
    "    g.update(r_bytes)\n",
    "    final_hash = g.digest()  # Truncar para o tamanho de x\n",
    "    while len(final_hash) < len(x):\n",
    "        g = hashlib.sha512()\n",
    "        g.update(r_bytes)\n",
    "        final_hash += g.digest()\n",
    "    print(\"g(r) hash:\", final_hash[:len(x)])\n",
    "    return final_hash[:len(x)]\n",
    "\n",
    "def h(r, y):\n",
    "    \"\"\"Hash pseudoaleatório h(r, y) com tamanho lambda_bits\"\"\"\n",
    "    h = hashlib.sha512()\n",
    "    r_bytes = r.to_bytes((r.bit_length() + 7) // 8, 'big')\n",
    "    ry = bytes(a ^^ b for a, b in zip(r_bytes, y))\n",
    "    h.update(ry)\n",
    "    full_hash = h.digest()[:lambda_bits // 8]  # Truncar para lambda bits\n",
    "    print(\"h(r, y) hash:\", full_hash)\n",
    "    return full_hash\n",
    "\n",
    "\n",
    "#Núcleo determinístico da função enc anterior\n",
    "def f_p(pk, r, rlinha):\n",
    "    p, q, g, g_s = pk\n",
    "    gamma = pow(g, rlinha, p)  # γ = g^ω mod p\n",
    "    kappa = pow(g_s, rlinha, p)  # κ = (g^s)^ω mod p\n",
    "    return (gamma, (r * kappa) % p)"
   ]
  },
  {
   "cell_type": "markdown",
   "id": "be39abee-7c52-4713-aa35-624695534af1",
   "metadata": {},
   "source": [
    "### Cifra IND-CPA segura "
   ]
  },
  {
   "cell_type": "code",
   "execution_count": 10,
   "id": "4a9a2da9-f127-491c-8a74-c730eb7fa407",
   "metadata": {},
   "outputs": [
    {
     "name": "stdout",
     "output_type": "stream",
     "text": [
      "----------------------------------CIFRA----------------------------------\n",
      "g(r) hash: b'\\xedq\\x9d\\xa9\\x1e\\xf7\\xe0T\\x8e\\xc4\\xd4e\\xb8\\x0e(\\x81\\xb2\\x7f\\x18\\xbd_S\\xdet|\\x02\\x05s^\\xa49\\x8fQ\\xaf\\xbb\\x94\\x86a.\\x83\\xae\\'\\xccf\\xb9\\xf7\\xf9\\xa3\\xcb-\\x9a\\xaf\\xa4(\\x97u\"#\\xdf\\xfd\\xf3\\xe7\\x8a\\x9a\\xedq\\x9d\\xa9\\x1e\\xf7\\xe0T\\x8e\\xc4\\xd4e\\xb8\\x0e(\\x81\\xb2\\x7f\\x18\\xbd_S\\xdet|\\x02\\x05s^\\xa49\\x8fQ\\xaf\\xbb\\x94\\x86a.\\x83\\xae\\'\\xccf\\xb9\\xf7\\xf9\\xa3\\xcb-\\x9a\\xaf\\xa4(\\x97u\"#\\xdf\\xfd\\xf3\\xe7\\x8a\\x9a\\xedq\\x9d\\xa9\\x1e\\xf7\\xe0T\\x8e\\xc4\\xd4e\\xb8\\x0e(\\x81\\xb2\\x7f\\x18\\xbd_S\\xdet|'\n",
      "g(r) hash: b'\\xedq\\x9d\\xa9\\x1e\\xf7\\xe0T\\x8e\\xc4\\xd4e\\xb8\\x0e(\\x81\\xb2\\x7f\\x18\\xbd_S\\xdet|\\x02\\x05s^\\xa49\\x8fQ\\xaf\\xbb\\x94\\x86a.\\x83\\xae\\'\\xccf\\xb9\\xf7\\xf9\\xa3\\xcb-\\x9a\\xaf\\xa4(\\x97u\"#\\xdf\\xfd\\xf3\\xe7\\x8a\\x9a\\xedq\\x9d\\xa9\\x1e\\xf7\\xe0T\\x8e\\xc4\\xd4e\\xb8\\x0e(\\x81\\xb2\\x7f\\x18\\xbd_S\\xdet|\\x02\\x05s^\\xa49\\x8fQ\\xaf\\xbb\\x94\\x86a.\\x83\\xae\\'\\xccf\\xb9\\xf7\\xf9\\xa3\\xcb-\\x9a\\xaf\\xa4(\\x97u\"#\\xdf\\xfd\\xf3\\xe7\\x8a\\x9a\\xedq\\x9d\\xa9\\x1e\\xf7\\xe0T\\x8e\\xc4\\xd4e\\xb8\\x0e(\\x81\\xb2\\x7f\\x18\\xbd_S\\xdet|'\n",
      "h(r, y) hash: b'7\\xba3\\x8f\\xcaq\\xcd%\\xac y<\\xd0\\xe4\\xd6\\xe5'\n",
      "(y,c) =  (b'\\xd0\\x87`\\xb0\\x98t\\xf7\\xc8\\xb1\\xcc\\x12+A\\x11\\xb8\\xb1\\xf8\\xdc*\\xca\\x17A\\x18_\\x81R\\x9bR\\x9f\\x14X\\\\\\xfd\\x85M\\x8c\\xad\\xa3\\xa5B\\xf15\\x15M\\x10\\xcc\\xa3\\xa90\\x03\\x13\\xca\\xee\\x94\\x15\\xa8\\x1f\\xc4v%\\x12\\xf0q\\xd7\\xfc\\xbe]\\\\\\xef\\x06\\x90,\\x03\\x10a\\x04\\xb6\\xd5\\xafl\\xb6\\xab\\xcf\\xd2k\\x9fO\"J\\xdex#E\\xe2l\\xe8@N\\xb55i-\\xbd\\x93dH\\xf6\\x14M\\xf8Y\\x13\\xbe\\xa3\\x12\\x8f\\xbb\\x92\\x9c\\x9c\\x86\\xde\\xd4\\xba\\xcb+AN\\x1a\\x87G\\xa1\\xb7\\xf4\\xe37\\x16>\\x12Da\\xaf\\xc4l\\x91\\x9e\\xf0\\xcb\\x84\\x9a\\xa6\\x10\\x10', (39888302907150932471984964864611503266575913454274002997257962294456272994727591880904496781427581105967947659305179600954431858765125398647893881051994687115608674225595302996697791614487438816869895917298200545949183190562924303599036581495159512148992807155416400213266605129902794092320054649219729192962512273305847234285195090658500168740074129831712200274009960, 37136892488530696334602843302146047193522998901984113778922941259841186194720744824440966474994820369402388146403156101363799916572676918196048274678123928380970126665724651726875256691392973149246898350528510540420423200410706892719202739997128030241067287176261358352771417778309958505578103216781855912211763157738276125088527223660128621592398123107241525468791039))\n",
      "-------------------------------------------------------------------------------------------\n"
     ]
    }
   ],
   "source": [
    "print(\"----------------------------------CIFRA----------------------------------\")\n",
    "def enc_fujisaki(pk,x):\n",
    "    r = ZZ.random_element(2^(lambda_bits - 1), 2^lambda_bits)\n",
    "    a = g(r)\n",
    "    y = bytes(a ^^ b for a, b in zip(x, g(r)))\n",
    "    rlinha = h(r,y)\n",
    "    c = f_p(pk,r,int.from_bytes(rlinha,\"big\"))\n",
    "    return (y,c)\n",
    "\n",
    "(y,c) = enc_fujisaki(pk,x)\n",
    "print(\"(y,c) = \",(y,c))\n",
    "print(\"-------------------------------------------------------------------------------------------\")"
   ]
  },
  {
   "cell_type": "markdown",
   "id": "407b00d3-f572-45db-ad83-52ba1c160500",
   "metadata": {},
   "source": [
    "### Decifra"
   ]
  },
  {
   "cell_type": "code",
   "execution_count": 11,
   "id": "398217f7-ea3c-4e26-8cd7-e3ca0dabcbae",
   "metadata": {},
   "outputs": [
    {
     "name": "stdout",
     "output_type": "stream",
     "text": [
      "----------------------------------DECIFRA----------------------------------\n",
      "h(r, y) hash: b'7\\xba3\\x8f\\xcaq\\xcd%\\xac y<\\xd0\\xe4\\xd6\\xe5'\n",
      "g(r) hash: b'\\xedq\\x9d\\xa9\\x1e\\xf7\\xe0T\\x8e\\xc4\\xd4e\\xb8\\x0e(\\x81\\xb2\\x7f\\x18\\xbd_S\\xdet|\\x02\\x05s^\\xa49\\x8fQ\\xaf\\xbb\\x94\\x86a.\\x83\\xae\\'\\xccf\\xb9\\xf7\\xf9\\xa3\\xcb-\\x9a\\xaf\\xa4(\\x97u\"#\\xdf\\xfd\\xf3\\xe7\\x8a\\x9a\\xedq\\x9d\\xa9\\x1e\\xf7\\xe0T\\x8e\\xc4\\xd4e\\xb8\\x0e(\\x81\\xb2\\x7f\\x18\\xbd_S\\xdet|\\x02\\x05s^\\xa49\\x8fQ\\xaf\\xbb\\x94\\x86a.\\x83\\xae\\'\\xccf\\xb9\\xf7\\xf9\\xa3\\xcb-\\x9a\\xaf\\xa4(\\x97u\"#\\xdf\\xfd\\xf3\\xe7\\x8a\\x9a\\xedq\\x9d\\xa9\\x1e\\xf7\\xe0T\\x8e\\xc4\\xd4e\\xb8\\x0e(\\x81\\xb2\\x7f\\x18\\xbd_S\\xdet|'\n",
      "Mensagem decifrada:  b'=\\xf6\\xfd\\x19\\x86\\x83\\x17\\x9c?\\x08\\xc6N\\xf9\\x1f\\x900J\\xa32wH\\x12\\xc6+\\xfdP\\x9e!\\xc1\\xb0a\\xd3\\xac*\\xf6\\x18+\\xc2\\x8b\\xc1_\\x12\\xd9+\\xa9;Z\\n\\xfb.\\x89eJ\\xbc\\x82\\xdd=\\xe7\\xa9\\xd8\\xe1\\x17\\xfbM\\x11\\xcf\\xc0\\xf5\\xf1\\xf1px\\x8d\\xd4\\xb5a\\x0e\\xdb\\x87\\xed\\x04\\xd4\\xd7o4\\xcc\\x91V6\\xdc}P\\x1bFUg\\x11\\xe1\\x0e\\xa1\\xefL\\x93\\x10\\xcao:r\\xf4\\x0f\\xa0\\xb0u\\x8e\\x88 \\x1f\\xba\\x0b\\xe9\\xa4\\xfd\\x0bG8\\xcc\\xcb\\xd4\\xf7\\xf6\\xda\\x08\\xa9\\x03\\x03c\\x98\\xfa\\xc6!\\xd9\\xa1\\xec\\xed#\\xe1\\xe8v\\xdb\\xc9xdl'\n",
      "h(r, y) hash: b'7\\xba3\\x8f\\xcaq\\xcd%\\xac y<\\xd0\\xe4\\xd6\\xe5'\n",
      "g(r) hash: b'\\xedq\\x9d\\xa9\\x1e\\xf7\\xe0T\\x8e\\xc4\\xd4e\\xb8\\x0e(\\x81\\xb2\\x7f\\x18\\xbd_S\\xdet|\\x02\\x05s^\\xa49\\x8fQ\\xaf\\xbb\\x94\\x86a.\\x83\\xae\\'\\xccf\\xb9\\xf7\\xf9\\xa3\\xcb-\\x9a\\xaf\\xa4(\\x97u\"#\\xdf\\xfd\\xf3\\xe7\\x8a\\x9a\\xedq\\x9d\\xa9\\x1e\\xf7\\xe0T\\x8e\\xc4\\xd4e\\xb8\\x0e(\\x81\\xb2\\x7f\\x18\\xbd_S\\xdet|\\x02\\x05s^\\xa49\\x8fQ\\xaf\\xbb\\x94\\x86a.\\x83\\xae\\'\\xccf\\xb9\\xf7\\xf9\\xa3\\xcb-\\x9a\\xaf\\xa4(\\x97u\"#\\xdf\\xfd\\xf3\\xe7\\x8a\\x9a\\xedq\\x9d\\xa9\\x1e\\xf7\\xe0T\\x8e\\xc4\\xd4e\\xb8\\x0e(\\x81\\xb2\\x7f\\x18\\xbd_S\\xdet|'\n",
      "x == dec_fujisaki(sk,pk,y,c)?:  True\n",
      "-------------------------------------------------------------------------------------------\n"
     ]
    }
   ],
   "source": [
    "print(\"----------------------------------DECIFRA----------------------------------\")\n",
    "def dec_fujisaki(sk,pk,y,c):\n",
    "    r = dec(sk,pk,c)\n",
    "    rlinha = h(r,y)\n",
    "    if c != f_p(pk,r,int.from_bytes(rlinha,\"big\")):\n",
    "        raise Exception(\"O criptograma não corresponde a fp(r,r'), absurdo\")\n",
    "    else:\n",
    "        res = bytes(a ^^ b for a, b in zip(y, g(r)))\n",
    "        return res\n",
    "\n",
    "print(\"Mensagem decifrada: \",dec_fujisaki(sk,pk,y,c))\n",
    "print(\"x == dec_fujisaki(sk,pk,y,c)?: \",x == dec_fujisaki(sk,pk,y,c)) \n",
    "print(\"-------------------------------------------------------------------------------------------\")"
   ]
  }
 ],
 "metadata": {
  "kernelspec": {
   "display_name": "SageMath 10.5",
   "language": "sage",
   "name": "sagemath"
  },
  "language_info": {
   "codemirror_mode": {
    "name": "ipython",
    "version": 3
   },
   "file_extension": ".py",
   "mimetype": "text/x-python",
   "name": "python",
   "nbconvert_exporter": "python",
   "pygments_lexer": "ipython3",
   "version": "3.12.9"
  }
 },
 "nbformat": 4,
 "nbformat_minor": 5
}
