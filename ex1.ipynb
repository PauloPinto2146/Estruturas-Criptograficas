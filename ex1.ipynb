{
 "cells": [
  {
   "cell_type": "markdown",
   "id": "e103c9b1-1406-4e50-9f76-d68d40175c51",
   "metadata": {},
   "source": [
    "# Enunciado"
   ]
  },
  {
   "cell_type": "markdown",
   "id": "b4e85921-564c-4bb0-8a32-9d8970340314",
   "metadata": {},
   "source": [
    "\n",
    "1. Pretende-se um protótipo protocolo $\\,{N\\choose{N-1}}\\,$-OT, usando a abordagem $\\,\\mathsf{LPN}\\,$ “Learning Parity with Noise” +Capítulo 6d:  Oblivious Linear Evaluation para mensagens de $\\,n\\,$ bytes (i.e. $\\,8\\times n\\,$bits) que possa ser convertido para mensagens $\\,m\\in \\mathbb{F}_p^n\\,$ (vetores de $\\,n\\,$componentes no corpo finito  $\\,\\mathbb{F}_p\\,$). Para isso\n",
    "    1. Implemente um protótipo do protocolo $\\,\\mathsf{LPN}$ $\\,{N\\choose{N-1}}$-OT  para mensagens de $\\,n\\,$ bytes (i.e. $\\,8\\times n\\,$bits). Ver +Capítulo 6d:  Oblivious Linear Evaluation .\n",
    "    2. Codificando os elementos de um corpo primo $\\;\\mathbb{F}_p\\;$ em “arrays” de “bytes” , converta a solução anterior num protocolo $\\,{N\\choose{N-1}}$-OT em que as mensagens são  vetores $\\,\\mathbb{F}_p^\\ell\\,$."
   ]
  },
  {
   "cell_type": "markdown",
   "id": "0f342fe7-e4ce-4549-8f69-2e3563ebed34",
   "metadata": {},
   "source": [
    "----------"
   ]
  },
  {
   "cell_type": "markdown",
   "id": "fe5b9c92-5eea-4608-a18e-6ad5da799786",
   "metadata": {},
   "source": [
    "## Definição de variáveis"
   ]
  },
  {
   "cell_type": "code",
   "execution_count": 1,
   "id": "dd7fbb59-86e3-4e3f-8ffa-8c6957ccd905",
   "metadata": {},
   "outputs": [
    {
     "data": {
      "text/plain": [
       "Vector space of dimension 8 over Finite Field of size 7"
      ]
     },
     "execution_count": 1,
     "metadata": {},
     "output_type": "execute_result"
    }
   ],
   "source": [
    "p = 7  \n",
    "F = GF(p)\n",
    "n = 8\n",
    "V = VectorSpace(F, n)  # Espaço vetorial F_p^n\n",
    "V"
   ]
  },
  {
   "cell_type": "code",
   "execution_count": 2,
   "id": "acca3321-5844-4c5e-b28a-00e5952d72bd",
   "metadata": {},
   "outputs": [
    {
     "name": "stdout",
     "output_type": "stream",
     "text": [
      "(1, 3, 5, 6, 2, 0, 4, 1)\n",
      "(5, 2, 1, 3, 3, 3, 2, 1)\n"
     ]
    }
   ],
   "source": [
    "m1 = V([1, 3, 5, 6, 2, 0, 4, 1])  # Exemplo de vetor em F_p^n\n",
    "print(m1)\n",
    "m2 = V.random_element()  # Gera um vetor aleatório em F_p^n\n",
    "print(m2)"
   ]
  },
  {
   "cell_type": "code",
   "execution_count": 3,
   "id": "90b1bd15-d4f5-43aa-ad53-307f6e24d4bf",
   "metadata": {},
   "outputs": [
    {
     "name": "stdout",
     "output_type": "stream",
     "text": [
      "(6, 5, 6, 2, 5, 3, 6, 2)\n",
      "(3, 2, 1, 4, 6, 0, 5, 3)\n"
     ]
    }
   ],
   "source": [
    "soma = m1 + m2  # Soma vetorial em F_p^n\n",
    "print(soma)\n",
    "produto_escalar = 3 * m1 \n",
    "print(produto_escalar)"
   ]
  },
  {
   "cell_type": "code",
   "execution_count": 4,
   "id": "bb8ea700-3464-4982-9aa0-82044c0b135d",
   "metadata": {},
   "outputs": [
    {
     "name": "stdout",
     "output_type": "stream",
     "text": [
      "(6, 3, 3, 3, 6, 5, 5, 5)\n"
     ]
    }
   ],
   "source": [
    "import binascii\n",
    "\n",
    "def bytes_to_fp_vetor(byte_string, p, n):\n",
    "    \"\"\"Converte uma string de bytes para um vetor em F_p^n\"\"\"\n",
    "    F = GF(p)\n",
    "    V = VectorSpace(F, n)\n",
    "    valores = [F(b) for b in bytearray(byte_string)[:n]]\n",
    "    return V(valores)\n",
    "\n",
    "# Exemplo: Converter a string \"hello!!!\" para um vetor em F_7^8\n",
    "msg_bytes = b\"hello!!!\"\n",
    "msg_fp = bytes_to_fp_vetor(msg_bytes, p, n)\n",
    "print(msg_fp)"
   ]
  },
  {
   "cell_type": "markdown",
   "id": "c7057a34-aa70-4abf-ae1c-9808985765c3",
   "metadata": {},
   "source": [
    "---------------"
   ]
  },
  {
   "cell_type": "markdown",
   "id": "090a0002-ca6e-4d0f-868d-ba1c8a27216e",
   "metadata": {},
   "source": [
    "## Gerador de Bernoulli"
   ]
  },
  {
   "cell_type": "markdown",
   "id": "2a138436-d203-4eed-a348-ee4845b4356f",
   "metadata": {},
   "source": [
    "O problema LPN (Learning Parity with Noise) baseia-se na dificuldade computacional de resolver sistemas lineares corrompidos por um erro. Especificamente, em LPN, temos um conjunto de equações da forma:\n",
    "$$ y=Ax+e $$\n",
    "\n",
    "onde:\n",
    "\n",
    "- $A$ é uma matriz binária $m×n$ (geralmente aleatória).\n",
    "\n",
    "- $x$ é um vetor secreto de $n$ bits.\n",
    "\n",
    "- $e$ é um vetor de erro, onde cada entrada é $1$ com uma pequena probabilidade $\\epsilon$ (geralmente pequena, como 0.10.1 ou 0.20.2).\n",
    "\n",
    "- $y$ é o vetor de observações.\n",
    "\n",
    "O vetor de erro ee segue uma distribuição Bernoulli com parâmetro ϵϵ, ou seja:\n",
    "$$ e_i∼Bernoulli(\\epsilon)$$\n",
    "\n",
    "Isso significa que cada bit $e_i$ tem probabilidade $\\epsilon$ de ser $1$ (ruído) e $1-\\epsilon$ de ser $0$ (sem ruído)."
   ]
  },
  {
   "cell_type": "markdown",
   "id": "c95aa7d9-f060-4543-a22d-7b0a95e2187f",
   "metadata": {},
   "source": [
    "A forma mais direta de implementar um gerador de Bernoulli  $\\,\\mathcal{B}(\\epsilon)$  com a precisão de $\\,n\\,$ bits, é o algoritmo.\n",
    "                            $$\\mathcal{B}(\\epsilon) \\;\\equiv\\;\\vartheta \\,w\\gets \\{0,1\\}^n\\,\\centerdot\\,\\mathsf{if}\\,\\;\\sum_{i=1}^n\\,w_i\\,2^{-i}\\,\\leq\\, \\varepsilon\\;\\,\\mathsf{then}\\,\\;1\\;\\,\\mathsf{else}\\,\\;0$$\n",
    "Aqui  $\\,\\hat{w} \\equiv \\sum_{i=1}^n\\,2^{-i}\\,w_i\\,$ é o designado racional de Lebesgue  determinado pela string de bits $\\,w\\,$.  Em muitos CPU’s ,  $\\,\\hat{w}\\,$ pode ser calculado em tempo constante ; por isso, este é um processo usual para gerar uniformemente racionais no intervalo $\\,[0\\,,\\,1]$."
   ]
  },
  {
   "cell_type": "code",
   "execution_count": 6,
   "id": "7ccb0701-c90d-4ccb-bdb3-ad46846edc14",
   "metadata": {},
   "outputs": [
    {
     "name": "stdout",
     "output_type": "stream",
     "text": [
      "[0, 0, 0, 0, 0, 0, 0, 0, 0, 0]\n"
     ]
    }
   ],
   "source": [
    "import random\n",
    "\n",
    "def bernoulli_lebesgue(epsilon, n=53):\n",
    "    \"\"\"\n",
    "    Gera uma amostra de Bernoulli B(epsilon) usando a construção de Lebesgue.\n",
    "    - epsilon: parâmetro da distribuição de Bernoulli (0 < epsilon < 1)\n",
    "    - n: número de bits para a precisão (default: 53, precisão de um double)\n",
    "    \"\"\"\n",
    "    # Gera a string de bits aleatórios {0,1}^n\n",
    "    w = [random.randint(0, 1) for _ in range(1, n+1)]\n",
    "    \n",
    "    # Calcula o racional de Lebesgue\n",
    "    w_hat = sum(w[i-1] * 2^(-i) for i in range(1,n+1))\n",
    "    \n",
    "    return 1 if w_hat <= epsilon else 0\n",
    "\n",
    "# Teste com epsilon = 0.1\n",
    "epsilon = 0.1\n",
    "print([bernoulli_lebesgue(epsilon) for _ in range(10)])"
   ]
  },
  {
   "cell_type": "markdown",
   "id": "0c4400fa-c430-4c3f-8045-6d13c2cacf0d",
   "metadata": {},
   "source": [
    "\n",
    "O gerador $\\,\\mathsf{LPN}_{\\lambda,\\epsilon}(\\mathsf{s})\\,$, para um segredo $\\,\\mathsf{s}\\gets \\mathcal{B}^\\lambda\\,$,   usa parâmetros $\\,\\lambda\\,$ e $\\,\\epsilon\\,$ definindo-se do seguinte modo\n",
    "\n",
    "\n",
    "$$\\mathsf{LPN}_{\\lambda,\\epsilon}(\\mathsf{s})\\;\\equiv\\quad\\vartheta\\,{a}\\gets\\mathcal{B}^\\lambda\\,\\centerdot\\,e\\gets \\mathcal{B}(\\varepsilon)\\,\\centerdot\\,\\vartheta\\,t\\gets \\mathsf{s}\\cdot a + e\\,\\centerdot\\,\\langle\\,a,t\\,\\rangle$$ \n",
    "        \n",
    "\n",
    "Aqui  $\\,\\mathsf{s}\\cdot a\\,\\equiv\\,\\sum_i\\,\\mathsf{s}_i\\times a_i\\;$ denota o produto interno dos dois vetores."
   ]
  },
  {
   "cell_type": "code",
   "execution_count": 7,
   "id": "74b3938d-1f55-4235-9fbb-c6f2d3aa15c6",
   "metadata": {},
   "outputs": [
    {
     "name": "stdout",
     "output_type": "stream",
     "text": [
      "Vetor a: (1, 0, 1, 1, 0, 0, 1, 0, 1, 1)\n",
      "Valor t: 1\n"
     ]
    }
   ],
   "source": [
    "def bernoulli_noise(epsilon):\n",
    "    \"\"\"Gerador de Bernoulli B(epsilon) que retorna 1 com probabilidade epsilon e 0 caso contrário.\"\"\"\n",
    "    return 1 if random.random() < epsilon else 0\n",
    "\n",
    "def LPN_generator(lambda_, epsilon):\n",
    "    \"\"\"Gera um par (a, t) segundo o protocolo LPN.\"\"\"\n",
    "    # Segredo s gerado aleatoriamente com bits {0,1}^λ\n",
    "    s = vector(GF(2), [randint(0, 1) for _ in range(lambda_)])\n",
    "    \n",
    "    # Vetor aleatório a em {0,1}^λ\n",
    "    a = vector(GF(2), [randint(0, 1) for _ in range(lambda_)])\n",
    "    \n",
    "    # Erro e seguindo uma distribuição de Bernoulli B(epsilon)\n",
    "    e = bernoulli_noise(epsilon)\n",
    "    \n",
    "    # Computa t = s ⋅ a + e\n",
    "    t = s.dot_product(a) + e\n",
    "    \n",
    "    return a, t\n",
    "\n",
    "# Exemplo de uso com lambda = 10 e epsilon = 0.1\n",
    "lambda_ = 10\n",
    "epsilon = 0.1\n",
    "a, t = LPN_generator(lambda_, epsilon)\n",
    "\n",
    "print(\"Vetor a:\", a)\n",
    "print(\"Valor t:\", t)"
   ]
  },
  {
   "cell_type": "markdown",
   "id": "d48a628e-ee1a-4f94-87ce-74d682414c70",
   "metadata": {},
   "source": [
    "## Operação Choose(b)"
   ]
  },
  {
   "cell_type": "markdown",
   "id": "889233e9-77e3-46aa-b800-ff427f0f725b",
   "metadata": {},
   "source": [
    "Neste protocolo $\\,b\\in [N]\\,$ denota o índice da mensagem que vai ser excluída das transferências legítimas; o criptograma $\\,c_b\\,$ não pode ser decifrado corretamente pelo receiver porque este agente não conhece uma chave privada que o permita.\n",
    "    \n",
    "1. O sender  escolhe o par $\\,(\\alpha,\\ell)\\,$ e a função XOF e envia essa informação para o sender;  esta informação determina completamente   a sequência $\\;\\{\\langle\\,a_i,u_i\\,\\rangle\\}_{i=1}^\\ell\\,$  que passa a  formar o “oblivious criterion” ; ambos os agentes podem construir estes elementos.\n",
    "2. o receiver gera $\\,N\\,$ segredos $\\,\\mathsf{s}_k\\gets \\mathcal{B}^\\lambda\\,$,  se $k\\neq b\\,$, e $\\,\\mathsf{s}_b \\gets \\bot\\,$. Para todo $\\,$$$\\,k\\in [N]\\,$ e todo $\\,i\\in [\\ell]\\,$ , calcula $\\,t_{k,i}$ da seguinte forma\n",
    "            \n",
    "$$t_{i,k}\\;\\gets\\;\\left\\{\\begin{array}{lcl}\\vartheta\\,e_{i,k}\\gets \\mathcal{B(\\epsilon)}\\,\\centerdot\\, a_i\\cdot \\mathsf{s}_k + e_{i,k} & \\text{se} & k\\neq b \\\\ u_i + \\sum_{j\\neq b}\\,t_{i,j} &\\text{se}& k=b\\end{array}\\right.$$\n",
    "\n",
    "Regista esta ingerar_ruidoformação na sua memória.  \n",
    "\n",
    "Construímos, para cada $\\,i\\in[\\ell]\\,$ , um vetor em $\\,\\mathcal{B}^N$\n",
    "\n",
    "$$\\mathsf{t}_i\\,\\equiv\\,\\{t_{i,k} \\;|\\;k\\in [N]\\}\\,$$\n",
    "\n",
    "e envia-os para o sender  como chaves públicas.\n",
    "\n",
    "c .  o sender   recolhe todas os vetores de chaves públicas $\\,\\mathsf{t_i}\\,$ e verifca as igualdades \n",
    "\n",
    "$$\\sum_{k\\in [N]}\\,\\mathsf{t}_{i,k}\\;=\\; u_i$$  $\\,$ \n",
    "\n",
    "Se, para algum $\\,i\\in[\\ell]\\,$  a igualdade não se verifica então termina em falha.\n",
    "Se se verificar a igualdade então  regista todos os $\\,\\mathsf{t}_i\\,$ na sua memória para transferência futura."
   ]
  },
  {
   "cell_type": "markdown",
   "id": "8675bec6-af77-448f-8b3a-d683d6ad08aa",
   "metadata": {},
   "source": [
    "## Operação transfer"
   ]
  },
  {
   "cell_type": "code",
   "execution_count": null,
   "id": "2a604d28-4b25-4fe0-8cc8-e31f491772d9",
   "metadata": {},
   "outputs": [],
   "source": []
  }
 ],
 "metadata": {
  "kernelspec": {
   "display_name": "SageMath 10.5",
   "language": "sage",
   "name": "sagemath"
  },
  "language_info": {
   "codemirror_mode": {
    "name": "ipython",
    "version": 3
   },
   "file_extension": ".py",
   "mimetype": "text/x-python",
   "name": "python",
   "nbconvert_exporter": "python",
   "pygments_lexer": "ipython3",
   "version": "3.12.9"
  }
 },
 "nbformat": 4,
 "nbformat_minor": 5
}
