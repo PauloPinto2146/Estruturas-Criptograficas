{
 "cells": [
  {
   "cell_type": "markdown",
   "id": "1f2a754c-efb9-49d5-a704-d2161e611f74",
   "metadata": {},
   "source": [
    "# Exercício de avaliação 1 - Relatório/Notebook"
   ]
  },
  {
   "cell_type": "markdown",
   "id": "530f14d8-803d-411b-98c0-6bf5024b77f7",
   "metadata": {},
   "source": [
    "## Enunciado do primeiro exercício de avaliação:"
   ]
  },
  {
   "cell_type": "markdown",
   "id": "58afc0ae-be59-43f1-88b5-1eae78d43576",
   "metadata": {},
   "source": [
    "**1.** Use a package cryptography    para  criar um comunicação privada assíncrona entre um agente Emitter e um agente Receiver que cubra os seguintes aspectos: \\\n",
    "    **a.** Comunicação cliente-servidor que use o package python `asyncio`.\\\n",
    "    **b.** Usar como cifra AEAD   o “hash” SHAKE-256  em modo XOFHash \\\n",
    "    **c.** As chaves de cifra  e  os “nounces” são gerados por um gerador KDF . As diferentes chaves para inicialização KDF  são inputs do emissor e do receptor."
   ]
  },
  {
   "cell_type": "markdown",
   "id": "ffdb31f4-d56d-4951-baf1-677a43c510e1",
   "metadata": {},
   "source": [
    "## Introdução"
   ]
  },
  {
   "cell_type": "markdown",
   "id": "cac9368b-58aa-471c-8093-3b9a4d654e7d",
   "metadata": {},
   "source": [
    "A segurança na comunicação digital é essencial para garantir a confidencialidade e a integridade dos dados trocados entre agentes. Neste trabalho, implementamos um canal de comunicação privada entre um `Emitter` e um `Receiver`, garantindo a proteção das mensagens através de criptografia autenticada (AEAD) e mecanismos seguros de derivação de chaves.\n",
    "\n",
    "A comunicação é baseada no modelo cliente-servidor assíncrono, utilizando o pacote `asyncio` do *Python* para permitir a troca de mensagens entre os agentes. O esquema de criptografia utilizado foi **_SHAKE-256_** em modo **_XOFHash_** como **_Authenticated Encryption with Associated Data_** (AEAD), garantindo tanto a confidencialidade quanto a integridade das mensagens trocadas.\n",
    "\n",
    "As chaves de cifra e os nonces necessários para a encriptação e desencriptação das mensagens são gerados através de um **_Key Derivation Function_** (KDF). As chaves de inicialização do KDF são fornecidas como inputs pelo emissor e pelo receptor, garantindo que ambos os agentes possam derivar as mesmas chaves de forma independente e segura.\n",
    "\n",
    "Para estruturar a implementação, tornar mais claro o que é nos pedido para chegar a uma implementação final e garantir que o sistema cumpra os objetivos definidos, foram determinados requisitos funcionais, estes definem as funcionalidades essenciais que o sistema deve oferecer:"
   ]
  },
  {
   "cell_type": "markdown",
   "id": "9bb0b0f3-b4ef-4ee9-a9ab-1585eb3a2a6a",
   "metadata": {},
   "source": [
    "## Requisitos funcionais"
   ]
  },
  {
   "cell_type": "markdown",
   "id": "49fe6c8c-8efc-4ffc-baf9-9bda05a8e527",
   "metadata": {},
   "source": [
    "**RF1** - Deve haver uma lógica de cifraçãode mensagens através da cifra AEAD com hash SHAKE-256 em modo XOFHash\\\n",
    "**RF2** - Deve haver uma lógica de decifração de mensagens através da cifra AEAD com hash SHAKE-256 em modo XOFHash\\\n",
    "**RF3** - O servidor deve verificar a tag de autenticação antes de processar a mensagem do cliente \\\n",
    "**RF4** - Para efeitos de modularidade e para que a lógica de cifração não esteja contida nos ficheiros de cliente e servidor deve-se criar um ficheiro à parte com as funções de cifração \\\n",
    "**RF5** - O servidor fica à escuta de conexões do cliente \\\n",
    "**RF6** - O servidor deve ser capaz de receber mensagens criptografadas \\\n",
    "**RF7** - O servidor deve guardar as conexões com cada utilizador guardando e alterando informação relevante para que as novas mensagens enviadas nunca sejam iguais no processo de comunicação \\\n",
    "**RF8** - O cliente quando inicializa fica à escuta para receber parâmetros relevantes para a definição da chave e do nonce \\\n",
    "**RF9** - O cliente envia mensagens cifradas dado o protocolo de cifragem \\\n",
    "**RF10** - O cliente quando envia a sua mensagem cifrada deve mandar também a tag de autenticação \\\n",
    "**RF11** - Após envio de mensagem o cliente deve atualizar os parâmetros relevantes (de maneira igual ao servidor) para obter imunidade contra ataques de replicação \\\n",
    "**RF12** - Os nonce's e chaves de cifra dos clientes são definidos por KDF "
   ]
  },
  {
   "cell_type": "markdown",
   "id": "eab83fb2-5e69-4e56-930c-b6254acfc770",
   "metadata": {},
   "source": [
    "Neste documento iremos mostrar como é que foram satisfeitos todos os requisitos funcionais estabelecidos explicando pretinentemente o raciocínio por de trás da implementação."
   ]
  },
  {
   "cell_type": "markdown",
   "id": "5695c527-efc6-4020-989d-d6401430c6a7",
   "metadata": {},
   "source": [
    "----------------------------------------------------------"
   ]
  },
  {
   "cell_type": "markdown",
   "id": "094276ca-f277-4f83-b8fa-14823ef71536",
   "metadata": {},
   "source": [
    "## **RF1** -  Deve haver uma lógica de cifração de mensagens através da cifra AEAD com hash SHAKE-256 em modo XOFHash"
   ]
  },
  {
   "cell_type": "markdown",
   "id": "aeafb7cd-9fae-4f42-9798-f23a2c846dbd",
   "metadata": {},
   "source": [
    "Para satisfazer este requisito funcional o grupo decidiu seguir o plano de implementação definido no capítulo 1 \"Primitivas Criptográficas Básicas\" mais concretamente uma **Cifra AEAD usando o modelo \"sponge\"**."
   ]
  },
  {
   "cell_type": "markdown",
   "id": "b6da7c11-2a74-4871-bc3b-6c3519946d78",
   "metadata": {},
   "source": [
    "![Cifra AEAD usando o modelo \"sponge\"](Sponge.png)"
   ]
  },
  {
   "cell_type": "markdown",
   "id": "9f960cef-f539-41f6-aef1-6c31bbaddf8b",
   "metadata": {},
   "source": [
    "Começamos por definir o estado inicial da função concatenando o vetor inicial (nonce) com a chave de cifração (dada por *input* do cliente e do servidor), assim como a função de Hash, neste caso **_SHAKE256_**, uma função de hash baseada na família SHA-3 de output extensível (XOFHash), neste caso de output de 256 bits fixo. Esta função de hash é derivada de uma das famílias de hash mais seguras atualmente como podemos observar nesta tabela de tempos de vida de hashes criptográficos populares:"
   ]
  },
  {
   "cell_type": "markdown",
   "id": "547d7c65-e4d2-4ed3-9e09-785a18a14c1a",
   "metadata": {},
   "source": [
    "![Lifetimes of popular cryptographic hashes (the rainbow chart)](HashesLifetime.png)"
   ]
  },
  {
   "cell_type": "markdown",
   "id": "deca00d1-b5a7-4511-b7e8-8baeb503c517",
   "metadata": {},
   "source": [
    "(fonte : https://valerieaurora.org/hash.html)"
   ]
  },
  {
   "cell_type": "markdown",
   "id": "94215300-a2cd-4921-aa40-d39169fc8775",
   "metadata": {},
   "source": [
    "Após isso entramos numa 1ª fase **“absorb”** são absorvidos os segmentos que descrevem os dados associados.\n",
    "\n",
    "Na 2ª fase, equivalente ao **“squeeze”**, usa-se uma cifra que recebe segmentos $\\,p_i\\,$ sucessivos de um “_plaintext_” , soma-os com $r$ bits do estado e devolve os segmento $\\,c_i\\,$ do criptograma.\n",
    "\n",
    "Finalmente, após o processamento de todo o “plaintext” existe uma na aplicação da permutação para construir a “tag” de autenticação final.\n",
    "A chave $K$ da cifra, aparece na inicialização do 1º valor do estado e aparece antes e depois da última aplicação da permutação.\n"
   ]
  },
  {
   "cell_type": "markdown",
   "id": "5c2bd5d4-d85f-4107-8e1f-fc10f6fe0f4c",
   "metadata": {},
   "source": [
    "### O processo todo é na prática implementado da seguinte forma:"
   ]
  },
  {
   "cell_type": "markdown",
   "id": "b0957429-38fc-406f-a574-2317b2b1d572",
   "metadata": {},
   "source": [
    "**Passo 1:** Definição de estado inicial aplicando a função de hash"
   ]
  },
  {
   "cell_type": "code",
   "execution_count": 1,
   "id": "b8b51b9c-3383-490a-9d47-9fca591c407f",
   "metadata": {},
   "outputs": [],
   "source": [
    "import os\n",
    "from cryptography.hazmat.primitives import hashes\n",
    "\n",
    "#Input aleatório de ambos os parâmetros (o input real do programa é dado de maneira diferente)\n",
    "key = os.urandom(32)\n",
    "nonce = os.urandom(16)\n",
    "\n",
    "\n",
    "iv_key = nonce + key   \n",
    "shake = hashes.Hash(hashes.SHAKE256(64))\n",
    "\n",
    "shake.update(iv_key)"
   ]
  },
  {
   "cell_type": "markdown",
   "id": "ff75f911-dcab-4762-99e9-0496a29f7b23",
   "metadata": {},
   "source": [
    "**Passo 2:** Fase de **absorb** dos dados associados "
   ]
  },
  {
   "cell_type": "code",
   "execution_count": 2,
   "id": "120739ee-2ab5-4eba-bdd1-cfba884942ba",
   "metadata": {},
   "outputs": [],
   "source": [
    "#Exemplo de dados associados\n",
    "associated_data = b'Isto sao dados associados que precisam ser processados em blocos.'\n",
    "block_size = 16\n",
    "for i in range(0, len(associated_data), block_size):\n",
    "    shake.update(associated_data[i:i + block_size])"
   ]
  },
  {
   "cell_type": "markdown",
   "id": "b270f053-be8f-40d1-8ee0-bbda47060aca",
   "metadata": {},
   "source": [
    "**Passo 3:** Processar a mensagem e fazer **squeeze** do _ciphertext_"
   ]
  },
  {
   "cell_type": "code",
   "execution_count": 3,
   "id": "80165aed-c95d-4490-9023-3352cd5026da",
   "metadata": {},
   "outputs": [
    {
     "name": "stdout",
     "output_type": "stream",
     "text": [
      "[CLIENTE] Absorvendo bloco: 4f6c61207365727669646f7221204573\n",
      "(Bloco original:  b'Ola servidor! Es' )\n",
      "[CLIENTE] Absorvendo bloco: 7065726f207175652065737461206d65\n",
      "(Bloco original:  b'pero que esta me' )\n",
      "[CLIENTE] Absorvendo bloco: 6e736167656d20657374656a61206369\n",
      "(Bloco original:  b'nsagem esteja ci' )\n",
      "[CLIENTE] Absorvendo bloco: 667261646121\n",
      "(Bloco original:  b'frada!' )\n"
     ]
    }
   ],
   "source": [
    "#Exemplo de plaintext\n",
    "plaintext = b\"Ola servidor! Espero que esta mensagem esteja cifrada!\"\n",
    "\n",
    "ciphertext = b\"\"\n",
    "for i in range(0, len(plaintext), block_size):\n",
    "    block = plaintext[i:i + block_size]\n",
    "    keystream = shake.copy().finalize()[:len(block)]\n",
    "    ciphertext += bytes(a ^ b for a, b in zip(block, keystream))\n",
    "    print(f\"[CLIENTE] Absorvendo bloco: {block.hex()}\")\n",
    "    print(f\"(Bloco original: \",block, \")\")\n",
    "    shake.update(block)"
   ]
  },
  {
   "cell_type": "markdown",
   "id": "67059e02-9402-459b-8b6e-3bca9ab7e40c",
   "metadata": {},
   "source": [
    "**Passo 4:** Finalizar e gerar a _tag_ de autenticação"
   ]
  },
  {
   "cell_type": "code",
   "execution_count": 4,
   "id": "2e384178-ec5c-4f80-bc54-fdc9e8dfcc20",
   "metadata": {},
   "outputs": [
    {
     "name": "stdout",
     "output_type": "stream",
     "text": [
      "ciphertext:  b'\\x92\\xae\\xc3%\\xc3\\x15L\\x02=\\xbb.\\x85\\xe9E^0\\xf6W\\xdf\\xf6TX\\xa9y\\xd0F\\x91\\xb4\\xc2\\x93\\x98\\xc8\\xeb\"\\xb0\\xce\\xda\\xfdr9\\xc9\\x93\\xe6\\x19\\x0e\\x12]\\x85QZ)sF\\xc0'\n",
      "tag:  b'\\x18\\x80\\xeb\\xa7\\x84,\\x9e\\x9b\\xed\\xf6\\xe6\\x8a\\x03x\\x86!'\n"
     ]
    }
   ],
   "source": [
    "    #Passo 4: Finaliza e gera a Tag\n",
    "    state = shake.copy().finalize()[:block_size]\n",
    "\n",
    "    # XOR com K\n",
    "    state = bytes(a ^ b for a, b in zip(state, key))\n",
    "    # Aplica hash com esse novo estado\n",
    "    shake.update(state)\n",
    "    # Aplica um segundo XOR com K\n",
    "    state = bytes(a ^ b for a, b in zip(state, key))\n",
    "\n",
    "    # Finaliza tag\n",
    "    tag = shake.finalize()[:block_size]\n",
    "\n",
    "    print (\"ciphertext: \",ciphertext)\n",
    "    print (\"tag: \",tag)"
   ]
  },
  {
   "cell_type": "markdown",
   "id": "d8ce1eec-ce2b-40e1-bcec-836faf701eae",
   "metadata": {},
   "source": [
    "-------------------------------------------------------------------------------------------------------------------------------------------------"
   ]
  },
  {
   "cell_type": "markdown",
   "id": "81b1046b-17bf-4d48-9da3-9314e5e0e90a",
   "metadata": {},
   "source": [
    "## **RF2** - Deve haver uma lógica de decifração de mensagens através da cifra AEAD com hash SHAKE-256 em modo XOFHash"
   ]
  },
  {
   "cell_type": "markdown",
   "id": "176280e4-7565-462b-98f7-6a2c284efcde",
   "metadata": {},
   "source": [
    "Para decifrar a mensagem o processo é semelhante, queremos criar um fluxo de chave igual (possível dado que temos a chave de cifração e o nonce) e a partir dela aplicar analogamente o processo de absorção ao texto cifrado, obtendo o texto correto (_plaintext_), após isso também finalizamos gerando a tag de autenticação, se esta corresponder à tag recebida (abordado no **RF3**) é relativamente seguro prosseguir:"
   ]
  },
  {
   "cell_type": "code",
   "execution_count": 5,
   "id": "5f964737-04b9-461a-bfa7-bec007fd326f",
   "metadata": {},
   "outputs": [],
   "source": [
    "    iv_key = nonce + key\n",
    "    shake = hashes.Hash(hashes.SHAKE256(64))\n",
    "    \n",
    "    # Passo 1: Iniciar com IV || Key e aplicar o shake\n",
    "    shake.update(iv_key)\n",
    "\n",
    "    # Passo 2: Absorver os dados associados \n",
    "    for i in range(0, len(associated_data), block_size):\n",
    "        shake.update(associated_data[i:i + block_size])\n",
    "\n",
    "    # Passo 3: Processar o ciphertext e recuperar o plaintext\n",
    "    plaintext = b\"\"\n",
    "    for i in range(0, len(ciphertext), block_size):\n",
    "        block = ciphertext[i:i + block_size]\n",
    "        keystream = shake.copy().finalize()[:len(block)]\n",
    "        plaintext += bytes(a ^ b for a, b in zip(block, keystream))\n",
    "        #print(f\"[SERVIDOR] Absorvendo bloco: {block.hex()}\")\n",
    "        #shake.update(block)  # Continua absorvendo\n",
    "        shake.update(plaintext[i:i + block_size])  # Absorver o plaintext correto\n",
    "\n",
    "    # Passo 4: Recalcular a Tag para verificar a integridade\n",
    "    state = shake.copy().finalize()[:block_size]  # Obtém estado interno atual\n",
    "\n",
    "    #print(f\"[SERVIDOR] Estado após primeiro XOR: {state.hex()}\")\n",
    "\n",
    "    # XOR com K\n",
    "    state = bytes(a ^ b for a, b in zip(state, key))\n",
    "    # Faz update com esse novo estado\n",
    "    shake.update(state)\n",
    "    # Aplica um segundo XOR com K\n",
    "    state = bytes(a ^ b for a, b in zip(state, key))\n",
    "    \n",
    "    # Finaliza e gera a tag para verificação\n",
    "    #print(f\"[SERVIDOR] Estado final antes da tag: {shake.copy().finalize().hex()}\")\n",
    "\n",
    "    computed_tag = shake.finalize()[:block_size]"
   ]
  },
  {
   "cell_type": "markdown",
   "id": "f9da07bc-2897-4d31-85b3-f7adbe2f1b52",
   "metadata": {},
   "source": [
    "-------------------------------------------------------------------------------------------------------------------------------------------------"
   ]
  },
  {
   "cell_type": "markdown",
   "id": "988485b4-e420-4ced-8b1a-8395c9063030",
   "metadata": {},
   "source": [
    "## **RF3** - O servidor deve verificar a tag de autenticação antes de processar a mensagem do cliente"
   ]
  },
  {
   "cell_type": "markdown",
   "id": "a6fe85b9-9ce9-43b9-a685-e61e6cc826f4",
   "metadata": {},
   "source": [
    "Após decifração (e devida cifração) a tag final gerada deve corresponder à tag recebida pelo servidor do cliente"
   ]
  },
  {
   "cell_type": "code",
   "execution_count": 6,
   "id": "f523b1a8-4e6d-4a06-9175-86c93fcff44a",
   "metadata": {},
   "outputs": [],
   "source": [
    "if computed_tag != tag:\n",
    "    raise ValueError(\"Autenticação falhou! O ciphertext foi alterado ou a chave está errada.\")"
   ]
  },
  {
   "cell_type": "markdown",
   "id": "7e501786-8488-4e0c-aafd-f6ade45f4a2a",
   "metadata": {},
   "source": [
    "-------------------------------------------------------------------------------------------------------------------------------------------------"
   ]
  },
  {
   "cell_type": "markdown",
   "id": "5a4d36a1-97d4-4ba7-9830-2502f1ec4e4f",
   "metadata": {},
   "source": [
    "## **RF4** -  Para efeitos de modularidade e para que a lógica de cifração não esteja contida nos ficheiros de cliente e servidor deve-se criar um ficheiro à parte com as funções de cifração"
   ]
  },
  {
   "cell_type": "markdown",
   "id": "aa133fbd-8d55-455a-a379-6d09645419b3",
   "metadata": {},
   "source": [
    "Como é possível comprovar a pasta contém um ficheiro **crypto_utils** onde está contida toda a lógica de cifração.\n",
    "\n",
    "O grupo 7 decidiu manter a cifração num módulo à parte evitando que lógicas sensíveis fiquem expostas ou misturadas com código de rede, reduzindo a possibilidade de vulnerabilidades. Para além disso o código de servidor e cliente fica mais legível e há uma maior reutilização de código se necessário no futuro."
   ]
  },
  {
   "cell_type": "markdown",
   "id": "0cb2946d-58ec-45f6-a570-7e06c4cc9846",
   "metadata": {},
   "source": [
    "-------------------------------------------------------------------------------------------------------------------------------------------------"
   ]
  },
  {
   "cell_type": "markdown",
   "id": "0030504f-562f-42d0-a7c1-13c981107dd0",
   "metadata": {},
   "source": [
    "## **RF5** - O servidor fica à escuta de conexões do cliente"
   ]
  },
  {
   "cell_type": "markdown",
   "id": "d012b2da-0875-4fa5-bb35-e363f0b99406",
   "metadata": {},
   "source": [
    "Para satisfazer este requisito utilizamos a biblioteca `asyncio` para definir uma função que irá ficar à escuta no IP local da máquina na porta 8888 até que o processo seja morto.  "
   ]
  },
  {
   "cell_type": "code",
   "execution_count": 7,
   "id": "7fab4381-410c-44a9-8098-e0f2ae7c02b2",
   "metadata": {},
   "outputs": [],
   "source": [
    "async def start_server(self):\n",
    "    server = await asyncio.start_server(self.handle_client, '127.0.0.1', 8888)\n",
    "    async with server:\n",
    "        await server.serve_forever() "
   ]
  },
  {
   "cell_type": "markdown",
   "id": "93dabd4e-3a12-47e2-b455-cfdaec57d741",
   "metadata": {},
   "source": [
    "-------------------------------------------------------------------------------------------------------------------------------------------------"
   ]
  },
  {
   "cell_type": "markdown",
   "id": "ebe7bbeb-4d86-475d-bbd3-3518e6670919",
   "metadata": {},
   "source": [
    "## **RF6** - O servidor deve ser capaz de receber mensagens criptografadas"
   ]
  },
  {
   "cell_type": "markdown",
   "id": "d86bc799-052e-414c-930d-08f361fc1066",
   "metadata": {},
   "source": [
    "A lógica de receção de mensagens é se o servidor não estiver no \"`End of file`\", ou seja, até nós não matarmos o processo. Dado o nosso protocolo queremos ler os primeiros 4 bytes para definição do `ID` de um novo cliente. \n",
    "\n",
    "Para não estarmos sujeitos a ficar bloquados no `await` criámos certas exceções para tratar de tal ocasião:"
   ]
  },
  {
   "cell_type": "code",
   "execution_count": 8,
   "id": "c73b8b36-252d-4e0e-a965-3eeea8b0b19f",
   "metadata": {},
   "outputs": [],
   "source": [
    "async def receive_messages_example(reader):\n",
    "    try:\n",
    "        while not reader.at_eof():\n",
    "            id_bytes = await asyncio.wait_for(reader.readexactly(4), timeout=5)\n",
    "            print(\"######## MENSAGEM RECEBIDA ########\")\n",
    "    except asyncio.TimeoutError:\n",
    "        print(\"Nenhuma mensagem recebida dentro do tempo limite.\")\n",
    "    except asyncio.IncompleteReadError:\n",
    "        print(\"Conexão fechada antes de receber os 4 bytes esperados.\")"
   ]
  },
  {
   "cell_type": "markdown",
   "id": "34281839-ee1f-4089-99e0-3dc709b94da8",
   "metadata": {},
   "source": [
    "-------------------------------------------------------------------------------------------------------------------------------------------------"
   ]
  },
  {
   "cell_type": "markdown",
   "id": "87b9a334-fa9e-49a7-9948-23b542772825",
   "metadata": {},
   "source": [
    "## **RF7** - O servidor deve guardar as conexões com cada utilizador guardando e alterando informação relevante para que as novas mensagens enviadas nunca sejam iguais no processo de comunicação "
   ]
  },
  {
   "cell_type": "markdown",
   "id": "23ade256-1bc3-4a53-b273-b6d87bbc1d51",
   "metadata": {},
   "source": [
    "Foi utilizada uma função de chave derivada (KDF) fazendo uso da primitiva `HKDF` que como algoritmo de hash utiliza o `SHAKE-256`:"
   ]
  },
  {
   "cell_type": "code",
   "execution_count": 9,
   "id": "43b8db76-3b37-4cdf-bf18-8791334cacaa",
   "metadata": {},
   "outputs": [
    {
     "name": "stdout",
     "output_type": "stream",
     "text": [
      "b'3\\xf9h\\xc0s\\x8b\\x9b\\x85\\x04_\\x0f\\\\\\xb2v\\xe0io\\xb6\\xf6\\xc4\\xa2q\\x9bL/\\xec4\\x84\\xf6<2\\x9d\\xe5g\\x1e\\x0fN\\xf6\\xa2\\xf9f\\xce\\xc8\\x9b'\n"
     ]
    }
   ],
   "source": [
    "from cryptography.hazmat.primitives.kdf.hkdf import HKDF\n",
    "\n",
    "def hkdf_sha256(salt: bytes, key: bytes) -> bytes:\n",
    "    hkdf = HKDF(\n",
    "        algorithm=hashes.SHA256(),\n",
    "        length=44, # 32 bytes para a chave e 12 bytes para o nonce\n",
    "        salt=salt, #Randomizes the KDF’s output.\n",
    "        info=b'',\n",
    "    )\n",
    "    derived_bytes = hkdf.derive(key)\n",
    "    return derived_bytes\n",
    "\n",
    "#Exemplo de um cliente\n",
    "client_id = b\"3\"\n",
    "message_id = b\"5\"\n",
    "salt = b\"salt_clientid_\" + str(client_id).encode() + b\"_messageid_\" + str(message_id).encode()\n",
    "\n",
    "derived_bytes = hkdf_sha256(salt, key)\n",
    "print(derived_bytes)"
   ]
  },
  {
   "cell_type": "code",
   "execution_count": 10,
   "id": "4baf7c4e-1e80-4752-affc-910d5a5b5004",
   "metadata": {},
   "outputs": [],
   "source": [
    "clients = {}\n",
    "clients[int(client_id)] = {\n",
    "    \"writer\": \"writer\",\n",
    "    \"cypher_key\": derived_bytes[:32], # 32 bytes para a chave -> 256 bits\n",
    "    \"nonce\": derived_bytes[32:], # 12 bytes para o nonce -> 96 bits\n",
    "    \"messageCounter\": 0\n",
    "}"
   ]
  },
  {
   "cell_type": "markdown",
   "id": "08f5fc72-de60-4c8e-a58a-3fbc67e1efca",
   "metadata": {},
   "source": [
    "Após envio de uma mensagem de um cliente a lógica implementada para que as próximas mensagens não tenham um criptograma igual é a seguinte (tanto para cliente e servidor): "
   ]
  },
  {
   "cell_type": "code",
   "execution_count": 11,
   "id": "4bebe642-8d13-4a3f-b269-c4a91be6aed7",
   "metadata": {},
   "outputs": [],
   "source": [
    "clients[int(client_id)]['messageCounter'] += 1"
   ]
  },
  {
   "cell_type": "code",
   "execution_count": 12,
   "id": "988a9a53-8b9b-4f2f-8f8d-2bbfe011c0eb",
   "metadata": {},
   "outputs": [],
   "source": [
    "def enviadados():\n",
    "    salt = b\"salt_clientid_\" + str(client_id).encode() + b\"_messageid_\" + str(self.clients[int(client_id)]['messageCounter']).encode()\n",
    "    writer.write(salt + b\"\\n\")  # Envia o salt para o cliente\n",
    "    #await writer.drain()\n",
    "    derived_bytes = hkdf_sha256(salt, self.server_key)\n",
    "    self.clients[int(client_id)] = {\n",
    "                    \"writer\": writer,\n",
    "                    \"cypher_key\": derived_bytes[:32], # 32 bytes para a chave -> 256 bits\n",
    "                    \"nonce\": derived_bytes[32:], # 12 bytes para o nonce -> 96 bits\n",
    "                    \"messageCounter\": self.clients[int(client_id)]['messageCounter']\n",
    "                }"
   ]
  },
  {
   "cell_type": "markdown",
   "id": "c1ff5bdc-f4e4-4f81-bc51-c68efcec2b2d",
   "metadata": {},
   "source": [
    "-------------------------------------------------------------------------------------------------------------------------------------------------"
   ]
  },
  {
   "cell_type": "markdown",
   "id": "99b8df20-0f18-4d4b-990a-035db4e7e741",
   "metadata": {},
   "source": [
    "## **RF8** - O cliente quando inicializa fica à escuta para receber parâmetros relevantes para a definição da chave e do nonce "
   ]
  },
  {
   "cell_type": "markdown",
   "id": "a796f47b-8596-473a-b938-3e6c21af66af",
   "metadata": {},
   "source": [
    "Definido no `Client.py` temos toda a lógica de conexão com o servidor:"
   ]
  },
  {
   "cell_type": "markdown",
   "id": "a7c1e015-d939-469b-8924-56ea3dff602d",
   "metadata": {},
   "source": [
    "        reader, writer = await asyncio.open_connection('127.0.0.1', 8888)\n",
    "\n",
    "        # Recebe o client_id\n",
    "        client_id = await reader.readline()\n",
    "        client_id = client_id.decode().strip()\n",
    "        print(f\"Cliente ID recebido: {client_id}\")\n",
    "\n",
    "        # Recebe o salt\n",
    "        salt = await reader.readline()\n",
    "        salt = salt.strip()  # Remove o '\\n'\n",
    "        print(f\"Salt recebido: {salt.decode()}\")\n",
    "\n",
    "        # Deriva a chave e nonce com HKDF\n",
    "        derived_bytes = hkdf_sha256(salt, self.client_key)\n",
    "\n",
    "        self.cypher_key = derived_bytes[:32] # 32 bytes para a chave -> 256 bits\n",
    "        self.client_nonce = derived_bytes[32:] # 12 bytes para o nonce -> 96 bits\n",
    "        print(f\"Chave da cifra: {self.cypher_key.hex()}\")\n",
    "        print(f\"Nonce do cliente: {self.client_nonce.hex()}\")"
   ]
  },
  {
   "cell_type": "markdown",
   "id": "56851df3-018d-4442-b311-0d0c343a0894",
   "metadata": {},
   "source": [
    "Nomeadamente temos sequencialmente: \\\n",
    "     - Conexão com o servidor; \\\n",
    "     - Receção de informação do seu número de identificação; \\\n",
    "     - Receção de dados relevantes para definição de `chave de cifra` e de `nonce`. \\\n",
    "Após estes passsos o cliente fica apto para enviar mensagens de forma segura para o servidor."
   ]
  },
  {
   "cell_type": "markdown",
   "id": "72468cf7-6c72-4de8-86ee-259b350407a2",
   "metadata": {},
   "source": [
    "-------------------------------------------------------------------------------------------------------------------------------------------------"
   ]
  },
  {
   "cell_type": "markdown",
   "id": "aa5f5d2b-f753-4113-8908-de31d274d14e",
   "metadata": {},
   "source": [
    "## **RF9** - O cliente envia mensagens cifradas dado o protocolo de cifragem"
   ]
  },
  {
   "cell_type": "markdown",
   "id": "9b7077fc-f90c-4c5d-be25-1a4783a09228",
   "metadata": {},
   "source": [
    "O código escrito no `Client.py` faz uso das primitivas definidas definidas no ficheiro `crypo_utils.py`, nomeadamente `hkdf_sha256` para definição de chave de cifra e nonce assim como o `sponge_aead_encrypt` para cifração de mensagem dados esses mesmo parâmetros juntamente com a mensagem a ser cifrada."
   ]
  },
  {
   "cell_type": "raw",
   "id": "79b7ff30-5661-4e7f-a97a-181116764a96",
   "metadata": {
    "vscode": {
     "languageId": "raw"
    }
   },
   "source": [
    "       while True:\n",
    "                message = await asyncio.get_event_loop().run_in_executor(None, input, \"Digite a sua mensagem: \")\n",
    "                if message.lower() == \"sair\":\n",
    "                    break \n",
    "\n",
    "                chipher_message, tag = sponge_aead_encrypt(self.cypher_key,self.client_nonce,message.encode())\n",
    "                print(f\"Mensagem cifrada: {chipher_message.hex()}\")\n",
    "                print(f\"Tag: {tag.hex()}\")\n",
    "\n",
    "                client_id_bytes = str(client_id).encode().ljust(4, b' ')  # Garantir 4 bytes fixos para o ID\n",
    "\n",
    "                # Criar o pacote final: ID (4 bytes) + mensagem cifrada + tag (16 bytes)\n",
    "                packet = client_id_bytes + chipher_message + tag\n",
    "\n",
    "                writer.write(packet)\n",
    "                await writer.drain()\n",
    "                print(\"Mensagem enviada!\")\n",
    "                #..."
   ]
  },
  {
   "cell_type": "markdown",
   "id": "8df17e9b-7e05-4755-9a8c-5c9239f776e6",
   "metadata": {},
   "source": [
    "-------------------------------------------------------------------------------------------------------------------------------------------------"
   ]
  },
  {
   "cell_type": "markdown",
   "id": "8c6394af-571c-44c1-a59b-43f6333aff9b",
   "metadata": {},
   "source": [
    "## **RF10** - O cliente quando envia a sua mensagem cifrada deve mandar também a tag de autenticação"
   ]
  },
  {
   "cell_type": "markdown",
   "id": "83be9f78-91c4-4447-b4b0-081e25bbdc81",
   "metadata": {},
   "source": [
    "Dado no requisito funcional anterior, nomeadamente em:"
   ]
  },
  {
   "cell_type": "raw",
   "id": "2587dd47-57d7-405b-a902-76e1b2c01160",
   "metadata": {},
   "source": [
    "...\n",
    "    packet = client_id_bytes + chipher_message + tag\n",
    "\n",
    "    writer.write(packet)\n",
    "    await writer.drain()\n",
    "    print(\"Mensagem enviada!\")\n",
    "..."
   ]
  },
  {
   "cell_type": "markdown",
   "id": "8f0e6897-028e-47bd-9f93-f0141a0e9823",
   "metadata": {},
   "source": [
    "Ou seja, o cliente lança para o servidor uma mensagem de corpo:\n",
    " - ID do cliente || mensagem cifrada || tag"
   ]
  },
  {
   "cell_type": "markdown",
   "id": "30dad699-ad7f-461c-a386-a19fdc3b3289",
   "metadata": {},
   "source": [
    "(Onde || é a função usual de concatenação)"
   ]
  },
  {
   "cell_type": "markdown",
   "id": "1aa3b9bf-0c68-4b24-8ee6-c56386f533e0",
   "metadata": {},
   "source": [
    "-------------------------------------------------------------------------------------------------------------------------------------------------"
   ]
  },
  {
   "cell_type": "markdown",
   "id": "ffc498c8-22f5-425c-90a6-d76e190fa608",
   "metadata": {},
   "source": [
    "## **RF11** - Após envio de mensagem o cliente deve atualizar os parâmetros relevantes (de maneira igual ao servidor) para obter imunidade contra ataques de replicação"
   ]
  },
  {
   "cell_type": "markdown",
   "id": "f0c8cd99-fd0f-4b8e-a5da-40fc2f19a982",
   "metadata": {},
   "source": [
    "O parâmetro `salt` é recebido do servidor tanto como garantia que a mensagem foi recebida como para definir novos valores para a chave de `cifra` e o `nonce`, tentando ao máximo não ser previsível."
   ]
  },
  {
   "cell_type": "raw",
   "id": "99b03e92-af31-4b6c-b214-00db3be9b9b4",
   "metadata": {},
   "source": [
    "    ...\n",
    "    salt = await reader.readline()\n",
    "    salt = salt.strip()  # Remove o '\\n'\n",
    "    print(f\"Salt recebido: {salt.decode()}\")\n",
    "    derived_bytes = hkdf_sha256(salt, self.client_key)\n",
    "    self.cypher_key = derived_bytes[:32] # 32 bytes para a chave -> 256 bits\n",
    "    self.client_nonce = derived_bytes[32:] # 12 bytes para o nonce -> 96 bits\n",
    "    print(f\"Chave da cifra: {self.cypher_key.hex()}\")\n",
    "    print(f\"Nonce do cliente: {self.client_nonce.hex()}\")"
   ]
  },
  {
   "cell_type": "markdown",
   "id": "bf037a39-7a34-41f2-a8c5-b9a1d7c80041",
   "metadata": {},
   "source": [
    "-------------------------------------------------------------------------------------------------------------------------------------------------"
   ]
  },
  {
   "cell_type": "markdown",
   "id": "e7167ce1-39bf-4740-b07b-f50ab7c58cd8",
   "metadata": {},
   "source": [
    "## **RF12** - Os nonce's e chaves de cifra dos clientes são definidos por KDF "
   ]
  },
  {
   "cell_type": "markdown",
   "id": "9da25322-5474-4de9-8ce7-b6ec14a35dc9",
   "metadata": {},
   "source": [
    "Através da primitva definida `hkdf_sha256` no ficheiro de `crypto_utils.py`:"
   ]
  },
  {
   "cell_type": "code",
   "execution_count": 13,
   "id": "0903da39-2417-4af6-9ae9-8a4da09b66ae",
   "metadata": {},
   "outputs": [],
   "source": [
    "def hkdf_sha256(salt: bytes, key: bytes) -> bytes:\n",
    "    hkdf = HKDF(\n",
    "        algorithm=hashes.SHA256(),\n",
    "        length=44, # 32 bytes para a chave e 12 bytes para o nonce\n",
    "        salt=salt, #Randomizes the KDF’s output.\n",
    "        info=b'',\n",
    "    )\n",
    "    derived_bytes = hkdf.derive(key.encode())\n",
    "    return derived_bytes"
   ]
  },
  {
   "cell_type": "markdown",
   "id": "cbbe3d75-4b47-4805-b2c8-1fde92da6683",
   "metadata": {},
   "source": [
    "Conseguimos definir por KDF, a `chave de cifra` (primeiros 32 bytes) e o `nonce` (últimos 12 bytes)"
   ]
  },
  {
   "cell_type": "raw",
   "id": "ea3b68e2-e5a1-4cb7-bed1-97229489b21b",
   "metadata": {},
   "source": [
    "derived_bytes = hkdf_sha256(salt, self.server_key)\n",
    "\n",
    "self.clients[int(client_id)] = {\n",
    "            \"writer\": writer,\n",
    "            \"cypher_key\": derived_bytes[:32], # 32 bytes para a chave -> 256 bits\n",
    "            \"nonce\": derived_bytes[32:], # 12 bytes para o nonce -> 96 bits\n",
    "            \"messageCounter\": 0\n",
    "        }"
   ]
  },
  {
   "cell_type": "markdown",
   "id": "f7b264c9-dfb5-46b1-8fe1-14dfdae00b3d",
   "metadata": {},
   "source": [
    "Que irão ser armazenados no servidor como informação relevante da conexão com o cliente"
   ]
  },
  {
   "cell_type": "markdown",
   "id": "76ebaa3f-abbf-4923-b568-57881f0f545c",
   "metadata": {},
   "source": [
    "-------------------------------------------------------------------------------------------------------------------------------------------------"
   ]
  },
  {
   "cell_type": "markdown",
   "id": "07afa818-d460-457c-b73f-04d43e02ed03",
   "metadata": {},
   "source": [
    "## Conclusão e Observações"
   ]
  },
  {
   "cell_type": "markdown",
   "id": "44e34472-dada-4e76-9223-8523cb925898",
   "metadata": {},
   "source": [
    "O grupo considera que comunicação privada assíncrona foi implementada corretamente utilizando as biblioteca de `asyncio` para estabelecer a comunicação **cliente-servidor** entre os agentes `Emitter` e `Receiver`. Para a cifra **AEAD**, foi empregado o **SHAKE-256** no modo **XOFHash**, aproveitando as propriedades do **modelo sponge** para gerar uma saída variável e resistente a ataques de pré-imagem.\n",
    "\n",
    "As **chaves de cifra** e os **nonces** foram derivados de um **KDF** (Key Derivation Function), garantindo unicidade e imprevisibilidade para cada sessão, características essenciais a cumprir nas estruturas criptográficas. \n",
    "\n",
    "O grupo considera que a estratégia de acordo de informação e parâmetros ed cifração e decifração foram bem implementados e que deixa pouca margem a ataques."
   ]
  },
  {
   "cell_type": "markdown",
   "id": "8e9d9c8d-e88a-4638-b8e2-ffb98969333b",
   "metadata": {},
   "source": [
    "------"
   ]
  },
  {
   "cell_type": "markdown",
   "id": "db36eea0-7675-4c48-8f9f-df8e67c62a66",
   "metadata": {},
   "source": [
    "### **Ficheiro _Notebook_ do trabalho prático 1 - Exercício de avaliação alínea 1**\n",
    "### Estruturas Criptográficas 2024/2025 \n",
    "\n",
    "#### Realizado pelo grupo 7:\n",
    "Paulo André Alegre Pinto PG55991 \\\n",
    "Pedro Miguel Dias Leiras PG55995"
   ]
  }
 ],
 "metadata": {
  "kernelspec": {
   "display_name": "Python 3 (ipykernel)",
   "language": "python",
   "name": "python3"
  },
  "language_info": {
   "codemirror_mode": {
    "name": "ipython",
    "version": 3
   },
   "file_extension": ".py",
   "mimetype": "text/x-python",
   "name": "python",
   "nbconvert_exporter": "python",
   "pygments_lexer": "ipython3",
   "version": "3.9.21"
  }
 },
 "nbformat": 4,
 "nbformat_minor": 5
}
