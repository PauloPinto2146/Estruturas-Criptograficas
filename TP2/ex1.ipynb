{
 "cells": [
  {
   "cell_type": "markdown",
   "id": "c3ce6268-0d5b-4173-8aba-8f36f2786e26",
   "metadata": {},
   "source": [
    "# Enunciado"
   ]
  },
  {
   "cell_type": "markdown",
   "id": "4fbbe49e-9b94-4830-b52d-6980d78f640b",
   "metadata": {},
   "source": [
    "\n",
    "Este trabalho usa SageMath nas suas implementações\n",
    "\n",
    "\n",
    "1. Pretende-se construir em torno de uma cifra assimétrica um conjunto de técnicas criptográficas destinadas a fins distintos. Apesar de todas as alíneas do problema poderem ser  respondidas com a maioria das cifras assimétricas clássicas ou pós-quânticas, neste problema vamos exemplificar o processo com uma técnica simples da família Diffie-Hellman nomeadamente a cifra assimétrica ElGamal com parâmetros de segurança $\\,\\lambda\\,$.\n",
    "    1. Implemente um esquema  PKE $\\,\\mathsf{ElGamal}(\\lambda)\\,$ (ver Capítulo 4) num subgrupo de ordem prima $\\,q\\,$,  com $\\,|q|\\geq \\lambda\\,$, do grupo multiplicativo $\\,\\mathbb{F}^\\ast_p\\,$ com $\\,p\\,$ um primo que verifica $\\,|p| \\geq \\lambda\\times|\\lambda|$ . Identifique o gerador de chaves e os algoritmos de cifra de decifra neste esquema. Identifique o núcleo deterministico do algoritmo de cifra.\n",
    "    2. Supondo que a cifra que implementou é IND-CPA segura (de novo Capítulo 4), usando a transformação de Fujisaki-Okamoto implemente um PKE que seja IND-CCA seguro.\n",
    "    3. A partir de (b) construa um esquema de KEM que seja IND-CCA seguro.\n",
    "    4. A partir de (b) construa uma implementação de um protocolo autenticado de \"Oblivious Transfer\" $\\,\\kappa$-out-of-$n\\,$."
   ]
  },
  {
   "cell_type": "markdown",
   "id": "8389d2b7-f65a-486e-9dd5-89b205d7cab6",
   "metadata": {},
   "source": [
    "# **Exercício 1.a.**"
   ]
  },
  {
   "cell_type": "markdown",
   "id": "ce0ee8e0-9150-4e6a-bbc1-4d8ce555684a",
   "metadata": {},
   "source": [
    "EL GAMAL\n",
    "Qualquer PKE é determinado por três algoritmos: geração de chaves, cifra e decifra:\n",
    "\n",
    " ----------<br><br>$\\text{GenKeys}(\\lambda)$                                 …       $\\lambda\\;$ é o parâmetro de segurança<br><br><br>    - gerar aleatoriamente um primo $\\,q \\approx 2^\\lambda$                                      <br>    - gerar um primo $p$  tal que  $\\,\\mathbb{F}_p^\\ast\\,$ tem um sub-grupo de ordem $\\,q\\,$ ; calcular um gerador $g$ desse sub-grupo<br>    - gerar aleatoriamente  $\\,0 <s < q\\,$ ,  a chave privada<br>    - calcular e  revelar  a chave pública   $\\,\\mathsf{pk} \\equiv \\langle p,q, g,g^s\\rangle$<br>----------<br><br>$\\text{Enc}(\\mathsf{pk},m)$                                   …   a mensagem $m$ é um elemento de $\\mathbb{F}_p^\\ast$ <br><br><br>    - obter elementos públicos  $\\,p,q,g,g^s \\,\\gets\\,\\mathsf{pk}$<br>    - gerar aleatoriamente  $\\,0 <\\omega < q$ <br>    - calcular  $\\,\\gamma \\gets g^\\omega\\;$ e $\\,\\kappa \\gets (g^s)^\\omega\\,$.<br>    - construir  o criptograma $\\,\\mathbf{c}\\gets \\langle\\,\\gamma\\,,\\, m\\times\\kappa\\,\\rangle\\,$<br>----------<br><br>Note-se que se verifica $\\,\\kappa = \\gamma^s\\,$.<br> \n",
    "----------<br><br>$\\text{Dec}(\\mathsf{sk},\\mathbf{c})$  …  $\\mathsf{sk} = s$ é a chave privada<br><br>\n",
    "- obter a chave privada $s$<br>    \n",
    "- obter o criptograma $\\mathbf{c} = \\langle \\gamma, \\delta \\rangle$<br>    \n",
    "- calcular $\\kappa \\gets \\gamma^s \\mod p$<br>    \n",
    "- calcular $\\kappa^{-1} \\mod p$<br>    \n",
    "- recuperar a mensagem original: $m \\gets \\delta \\times \\kappa^{-1} \\mod p$<br>    "
   ]
  },
  {
   "cell_type": "code",
   "execution_count": 1,
   "id": "f01d8ce5-0cea-4c68-bab6-45d697e52f01",
   "metadata": {},
   "outputs": [],
   "source": [
    "print_tentativas_genKeys = False"
   ]
  },
  {
   "cell_type": "code",
   "execution_count": 2,
   "id": "d5bdb3ad-85b9-469d-8dff-02c25c4d53d7",
   "metadata": {},
   "outputs": [],
   "source": [
    "from sage.all import *\n",
    "lambda_security = 128  # Define um tamanho de bits para q"
   ]
  },
  {
   "cell_type": "markdown",
   "id": "7922b141-08cb-441e-9b78-d951f66f896c",
   "metadata": {},
   "source": [
    "Para encontrar um gerador do grupo multiplicativo temos que encontrar um número cuja ordem seja igual à do grupo, i.e.:\n",
    "- Dada a ordem do grupo multiplicativo $F_p^* = \\phi(p)$ o gerador g tem de ter ordem $\\phi(p)$, ou seja, $g^{\\phi(n)}=1 \\ mod \\ p$"
   ]
  },
  {
   "cell_type": "code",
   "execution_count": 3,
   "id": "21c39732-23af-4a54-84ee-a4fbb3c10555",
   "metadata": {},
   "outputs": [],
   "source": [
    "def find_generator(p):\n",
    "    \"\"\"Encontra um gerador do grupo multiplicativo F_p^*.\"\"\"\n",
    "    if not is_prime(p):\n",
    "        raise Exception(\"O p de input não é primo\")\n",
    "\n",
    "    phi_p = p - 1  # Para p primo, phi(p) = p - 1\n",
    "\n",
    "    fatoracao = factor(phi_p)\n",
    "    fatores_primos = list(set([q for q, e in fatoracao]))\n",
    "    \n",
    "    #print(f\"Fatoração de phi(p): {fatoracao}\")\n",
    "    #print(f\"Fatores primos de phi(p): {fatores_primos}\")\n",
    "\n",
    "    # Itera sobre possíveis geradores\n",
    "    for g in range(2, p):\n",
    "        if gcd(g, p) != 1:\n",
    "            continue  # Ignora números não coprimos com p\n",
    "\n",
    "        is_gerador = True\n",
    "        for q in fatores_primos:\n",
    "            if pow(g, phi_p // q, p) == 1:\n",
    "                is_gerador = False\n",
    "                break\n",
    "\n",
    "        if is_gerador:\n",
    "            return g \n",
    "\n",
    "    return None  "
   ]
  },
  {
   "cell_type": "code",
   "execution_count": 4,
   "id": "26e587e6-b57c-472b-bf28-e72fe93623cb",
   "metadata": {},
   "outputs": [],
   "source": [
    "def gen_keys(lambda_security):\n",
    "    print(\"----------------------------------Geração de chaves:--------------------------------------\")\n",
    "    # Gerar aleatoriamente q com bit_length maior que lambda\n",
    "    q = random_prime(2^129 - 1, False, 2^128)\n",
    "    print(\"Parâmetro q gerado:\",q)\n",
    "    \n",
    "    #Gera-se sucessivamente inteiros pi = q*2^i+1 até que pi seja um primo suficientemente grande, ou seja |p| > 1024\n",
    "    i = 1\n",
    "    p_i = q * (2^i) + 1 \n",
    "    tamanho_desejado = lambda_security * lambda_security.nbits()\n",
    "    \n",
    "    while True:\n",
    "        # Caso o p_i não convergir tenta um novo q\n",
    "        if p_i.nbits() > 2500:\n",
    "            q = random_prime(2^129 - 1, False, 2^128)\n",
    "            i = 1\n",
    "            p_i = q * (2^i) + 1\n",
    "            print(\"p não convergiu, novo valor de q: \",q)\n",
    "            \n",
    "        if is_prime(p_i) and p_i.nbits() >= tamanho_desejado:\n",
    "            break  \n",
    "    \n",
    "        i += 1\n",
    "        p_i = q * (2^i) + 1\n",
    "        if print_tentativas_genKeys:\n",
    "            print(f\"Tentativa {i}: p_i = {p_i} (Tamanho: {p_i.nbits()} bits)\")\n",
    "\n",
    "    p = p_i\n",
    "    print(\"Parâmetro p gerado:\",p)\n",
    "    \n",
    "    # Fp é um grupo multiplicativo se para todo o x pertencente a Fp gcd(x,p) = 1 (trivial já que p é primo)\n",
    "    # Criar o corpo finito F_p\n",
    "    F_p = GF(p)\n",
    "    # O grupo multiplicativo F_p^* é o conjunto de elementos não nulos de F_p\n",
    "    F_p_star = F_p.unit_group()\n",
    "        \n",
    "    # Agora obtemos um gerador do subgrupo de ordem q\n",
    "    g = find_generator(p)\n",
    "    print(\"gerador (g):\",g)\n",
    "    \n",
    "    # Gerar aleatoriamente a chave privada 0<s<q\n",
    "    s = randint(1, q-1)\n",
    "    print(\"chave privada (s):\", s)\n",
    "    print(\"---------------------------------------------------------------------------------\")\n",
    "    return (p, q, g, pow(g, s, p)), s"
   ]
  },
  {
   "cell_type": "markdown",
   "id": "83406e20-ced7-4e66-9fbc-b5ff7aef5f5e",
   "metadata": {},
   "source": [
    "## Escolha de p:\n",
    "A ordem desse grupo é $\\,n = p - 1\\,$ e para que o DLP seja  complexo não basta apenas que $\\,p\\,$ seja grande: é também necessário que o maior factor primo de $\\,(p-1)\\,$ seja também grande. \n",
    "Para garantir estas condições o primo $\\,p\\,$  é gerado de uma determinada forma:\n",
    "\n",
    "1. Gera-se um primo $\\,q\\,$ grande: com mais de $\\lambda$ bits de tamanho; este vai ser o maior factor de $\\,(p-1)\\,$\n",
    "2. Gera-se sucessivamente inteiros  $\\,p_i\\;=\\;q\\,2^i + 1\\,$ até que $\\,p_i\\,$ seja  um primo suficientemente grande ."
   ]
  },
  {
   "cell_type": "markdown",
   "id": "9af254e2-ecd8-44aa-9173-d5b07d167696",
   "metadata": {},
   "source": [
    "## Como é que $F_p^*$ tem um subgrupo de ordem q? (Teorema de Lagrange)\n",
    "O Teorema de Lagrange diz que, se um grupo G tem ordem finita e H é um subgrupo de G, então |H| é um divisor de |G|.\n",
    "\n",
    "Visto que $F_p^*$ tem ordem $p-1$ e $p-1$ divide $2q$ (e consequentemente $q$) então podemos afirmar que $F_p^*$ tem um subgrupo de ordem q. "
   ]
  },
  {
   "cell_type": "markdown",
   "id": "38d83f60-4b49-494c-816b-1ce321783863",
   "metadata": {},
   "source": [
    "------------------"
   ]
  },
  {
   "cell_type": "code",
   "execution_count": 5,
   "id": "1e6b9b0a-a22c-4b46-9b2a-4c5d756d1a20",
   "metadata": {},
   "outputs": [],
   "source": [
    "def enc(pk, m):\n",
    "    p, q, g, g_s = pk\n",
    "    omega = randint(1, q-1)  # Escolhe um valor aleatório ω entre 0 e q\n",
    "    gamma = pow(g, omega, p)  # γ = g^ω mod p\n",
    "    kappa = pow(g_s, omega, p)  # κ = (g^s)^ω mod p\n",
    "    c = (gamma, (m * kappa) % p) \n",
    "    return c"
   ]
  },
  {
   "cell_type": "markdown",
   "id": "9a53bbe5-f7bb-4046-aba4-b2f222b3fc76",
   "metadata": {},
   "source": [
    "------------------"
   ]
  },
  {
   "cell_type": "code",
   "execution_count": 6,
   "id": "e76111b2-a112-4db9-9500-8da0154cf1f7",
   "metadata": {},
   "outputs": [],
   "source": [
    "def dec(sk, pk, c):\n",
    "    p, _, _, _ = pk\n",
    "    gamma, delta = c\n",
    "    kappa = pow(gamma, sk, p)  # κ = γ^s mod p\n",
    "    kappa_inv = inverse_mod(Integer(kappa), Integer(p))  # Calcula o inverso de κ mod p\n",
    "    m = (delta * kappa_inv) % p  # Recupera a mensagem original\n",
    "    return m"
   ]
  },
  {
   "cell_type": "markdown",
   "id": "ab492e40-b185-4f54-a12e-932a334b76ce",
   "metadata": {},
   "source": [
    "------------------"
   ]
  },
  {
   "cell_type": "code",
   "execution_count": 7,
   "id": "8c7475fa-c66f-4975-be98-2dee091c0767",
   "metadata": {
    "scrolled": true
   },
   "outputs": [
    {
     "name": "stdout",
     "output_type": "stream",
     "text": [
      "----------------------------------Geração de chaves:--------------------------------------\n",
      "Parâmetro q gerado: 366612083898431147301155577919442505793\n",
      "Parâmetro p gerado: 69107033191929826119404786459264957023992978522538375825938486719385472720010042049845355079174715448047150174127074633794182149117233409600417537167957765876773845578331493332977401449315466238714179965568521215343401473648315264139279010807008602086755418460078369040449173673849978875713231653430612822291297607019103881510887434409583582267087781889\n",
      "gerador (g): 3\n",
      "chave privada (s): 164075583970069760899753505327901761120\n",
      "---------------------------------------------------------------------------------\n",
      "Mensagem original: 52540533948253632323535478276287295777489566308629341347308228309730390129935069590874403738139601615048857448287120776657940809856127470613781295337971787942133666684810167228028637088304901279418995029237622629886090911239752423762851588980131343529598064567435313765329308544690020497078369619240128804357692410228218524639831944181774341564402999299\n",
      "Criptograma: (16916274450959928811524121092598585556803988994447894492674130756560661843221977528354343689606619392541447496801426080886145952015458900193221853952565854776382049033049546236527685815530050796261156448716824241994063475193342195607496817995326902946868742816944703083221694581643811381742768637714102808085779947272100085288178841847604476079294315428, 37986940079092982117331387091076693406767706906624630484014007735228074674266510189056702185302831704905593667330209007975323987244747614791785665679746916242647272136871237894982685165642938260675657589039911551407300590895470688230835571019529313098499454703907978554514566220433764885123314855024405301361192321606809509524120592655582789175027351120)\n",
      "Mensagem decifrada: 52540533948253632323535478276287295777489566308629341347308228309730390129935069590874403738139601615048857448287120776657940809856127470613781295337971787942133666684810167228028637088304901279418995029237622629886090911239752423762851588980131343529598064567435313765329308544690020497078369619240128804357692410228218524639831944181774341564402999299\n",
      "Decifração bem-sucedida? True\n",
      "---------------------------------------------------------------------------------\n"
     ]
    }
   ],
   "source": [
    "# Exemplo\n",
    "pk, sk = gen_keys(lambda_security)  # Geração de chaves\n",
    "m = randint(1, pk[0]-1)  # Mensagem aleatória em F_p*\n",
    "c = enc(pk, m)  # Cifra a mensagem\n",
    "m_dec = dec(sk, pk, c)  # Decifra a mensagem\n",
    "\n",
    "# Exibir os resultados\n",
    "print(f\"Mensagem original: {m}\")\n",
    "print(f\"Criptograma: {c}\")\n",
    "print(f\"Mensagem decifrada: {m_dec}\")\n",
    "print(f\"Decifração bem-sucedida? {m == m_dec}\")\n",
    "print(\"---------------------------------------------------------------------------------\")"
   ]
  },
  {
   "cell_type": "markdown",
   "id": "f5b546fe-12af-4e84-9bb9-9e1374281576",
   "metadata": {},
   "source": [
    "--------"
   ]
  },
  {
   "cell_type": "markdown",
   "id": "959c61be-9be9-4935-a4ef-f0b186e610a3",
   "metadata": {},
   "source": [
    "# **Exercício 1.b.**"
   ]
  },
  {
   "cell_type": "markdown",
   "id": "8cb4b8b1-40ec-49c3-af84-02be7e617104",
   "metadata": {},
   "source": [
    "Supondo que a cifra que implementou é IND-CPA segura (de novo Capítulo 4), usando a transformação de Fujisaki-Okamoto implemente um PKE que seja IND-CCA seguro."
   ]
  },
  {
   "cell_type": "markdown",
   "id": "7adb4876-e652-4c6f-be01-5e9b614a231c",
   "metadata": {},
   "source": [
    "### **Transformar um  PKE-IND-CPA em um PKE-IND-CCA**"
   ]
  },
  {
   "cell_type": "markdown",
   "id": "f7845f03-d636-4780-85bb-97548352836a",
   "metadata": {},
   "source": [
    "A transformação FO original constrói, a partir de $\\,(E_p,D_s)\\,$,  um novo esquema de cifra assimétrica $\\,(E'_p,D'_s)\\,$ , usando um  “hash” pseudo-aleatório $\\,h\\,$ de tamanho $\\,\\lambda\\,$ e um “hash” pseudo-aleatório $\\,g\\,$ de tamanho $\\,|x|\\,$.\n",
    "\n",
    "O algoritmo de cifra parametrizado pelos dois “hashs”  $\\,h,g\\,$    é \n",
    "\n",
    "  $$E'_{p}(x)\\;\\equiv\\;\\vartheta\\,r\\gets \\{0,1\\}^\\lambda\\,\\centerdot\\,\\vartheta\\,y \\gets x\\oplus g(r)\\,\\centerdot\\,\\vartheta\\,r'\\gets h(r,y)\\,\\centerdot\\,\\vartheta\\,c\\gets f_p(r,r') \\,\\centerdot\\, (y\\,,\\,c)$$\n",
    "\n",
    "O algoritmo $\\,D'_{s}\\,$ rejeita o criptograma se detecta algum sinal de fraude. \n",
    "\n",
    "\n",
    "$$D'_{s}(y,c)\\;\\equiv\\;\\vartheta\\,r \\gets D_s(c)\\,\\centerdot\\,\\vartheta\\,r'\\gets h(r,y)\\,\\centerdot\\,\\mathsf{if}\\;\\;c\\neq f_p(r,r')\\;\\;\\mathsf{then}\\;\\;\\bot\\;\\mathsf{else}\\;\\;y\\oplus g(r)$$"
   ]
  },
  {
   "cell_type": "markdown",
   "id": "012c330e-fb8d-4aaf-be6a-3270269f969f",
   "metadata": {},
   "source": [
    "### Definições de variáveis"
   ]
  },
  {
   "cell_type": "code",
   "execution_count": 8,
   "id": "d700f39d-e350-4c19-b2f3-6408fc4d7a15",
   "metadata": {},
   "outputs": [
    {
     "name": "stdout",
     "output_type": "stream",
     "text": [
      "----------------------------------Definição de veriáveis----------------------------------\n",
      "----------------------------------Geração de chaves:--------------------------------------\n",
      "Parâmetro q gerado: 527631778565279328552715835647233433529\n",
      "p não convergiu, novo valor de q:  579870760771153711949407231341541825681\n",
      "Parâmetro p gerado: 32261636153106694249085209366157559522357107106660094142296181845294505425422415467886723091432525881290037743389087443376220566849501159849358337305475265449303968927990050411809089029251892702419124395079362418410243312712661308634049765299344297408049275933063203131042305877407014516850217325774359267363736554740501408426580866070776808620516804179399569570315555045377\n",
      "gerador (g): 3\n",
      "chave privada (s): 205857933387831295781825345216766073685\n",
      "---------------------------------------------------------------------------------\n",
      "length x: 156\n",
      "Mensagem de input: b\"\\x01+\\xaa\\x91\\xf2\\xd1\\x94\\x8a\\x89L|\\x02\\x85\\xad\\xcc\\x97\\xb4\\xc2=R\\xd95\\xb1\\xca\\xecN\\x92%\\xc3\\x17\\x1f8\\x1d\\xa1\\x9aW\\x1c\\xb62\\x97FGg'\\xf4\\xff\\x89\\xf5.u\\xca\\xc7\\xfc&$q\\x96=T\\x1f}\\x83\\x7f\\xe6\\x81\\xd5\\xf6\\xf0Fy$\\xfe~\\x9f\\x82\\xe1-\\xf1\\x14L\\x1f0O\\xe8\\x1e\\xcf\\xbe},\\xa8\\xffZ\\xeb`#\\xc1\\xe9k\\xe2\\xd1\\x01\\xb2\\xd4(\\x8b\\x1c\\x90k\\xb8\\x119=\\x10\\xa6\\x08c}\\xa8\\xed\\x8c\\x8c\\xb5\\x05pI!n\\x9d\\x8c\\xb9\\x0c*\\xd1\\x85z[\\xaa\\xff]\\x9e>\\x9bzUwOC{\\xdd+\\xd3\\xd4{\\xd8\\xb5\\x8e\"\n",
      "-------------------------------------------------------------------------------------------\n"
     ]
    }
   ],
   "source": [
    "print(\"----------------------------------Definição de veriáveis----------------------------------\")\n",
    "lambda_bits = 128\n",
    "\n",
    "pk, sk = gen_keys(lambda_bits)\n",
    "x = randint(1, pk[0]-1)  # Mensagem aleatória em F_p*\n",
    "length_in_bytes = (x.bit_length() + 7) // 8\n",
    "x = x.to_bytes(length_in_bytes, byteorder='big')\n",
    "print(\"length x:\",len(x))\n",
    "print(\"Mensagem de input:\",x)\n",
    "print(\"-------------------------------------------------------------------------------------------\")"
   ]
  },
  {
   "cell_type": "markdown",
   "id": "9f6786da-5d9a-43ba-8ca9-fd979f4ac084",
   "metadata": {},
   "source": [
    "-------"
   ]
  },
  {
   "cell_type": "markdown",
   "id": "891a4bc4-c938-4bb1-b6da-9ec5e94026dd",
   "metadata": {},
   "source": [
    "### Funções auxiliares:\n",
    "- $g$, um \"hash\" pseudo-aleatório de tamanho $|x|$\n",
    "- $h$, um \"hash\" pseudo-aleatório de tamanho $lambda$\n",
    "- $f_p$ o núcleo determinístico da cifra ElGamal"
   ]
  },
  {
   "cell_type": "code",
   "execution_count": 9,
   "id": "5877808a-8ad9-48a7-9576-2117537f886b",
   "metadata": {},
   "outputs": [],
   "source": [
    "import hashlib\n",
    "\n",
    "def g(r):\n",
    "    \"\"\"Hash pseudoaleatório g(r) com tamanho igual ao da mensagem x\"\"\"\n",
    "    g = hashlib.sha512()\n",
    "    r_bytes = r.to_bytes((r.bit_length() + 7) // 8, 'big')\n",
    "    g.update(r_bytes)\n",
    "    final_hash = g.digest()  # Truncar para o tamanho de x\n",
    "    while len(final_hash) < len(x):\n",
    "        g = hashlib.sha512()\n",
    "        g.update(r_bytes)\n",
    "        final_hash += g.digest()\n",
    "    #print(\"g(r) hash:\", final_hash[:len(x)])\n",
    "    return final_hash[:len(x)]\n",
    "\n",
    "def h(r, y):\n",
    "    \"\"\"Hash pseudoaleatório h(r, y) com tamanho lambda_bits\"\"\"\n",
    "    h = hashlib.sha512()\n",
    "    r_bytes = r.to_bytes((r.bit_length() + 7) // 8, 'big')\n",
    "    ry = bytes(a ^^ b for a, b in zip(r_bytes, y))\n",
    "    h.update(ry)\n",
    "    full_hash = h.digest()[:lambda_bits // 8]  # Truncar para lambda bits\n",
    "    #print(\"h(r, y) hash:\", full_hash)\n",
    "    return full_hash\n",
    "\n",
    "#Núcleo determinístico da função enc anterior\n",
    "def f_p(pk, r, rlinha):\n",
    "    p, q, g, g_s = pk\n",
    "    gamma = pow(g, rlinha, p)  # γ = g^ω mod p\n",
    "    kappa = pow(g_s, rlinha, p)  # κ = (g^s)^ω mod p\n",
    "    return (gamma, (r * kappa) % p)"
   ]
  },
  {
   "cell_type": "markdown",
   "id": "be39abee-7c52-4713-aa35-624695534af1",
   "metadata": {},
   "source": [
    "### Cifra IND-CPA segura "
   ]
  },
  {
   "cell_type": "code",
   "execution_count": 10,
   "id": "4a9a2da9-f127-491c-8a74-c730eb7fa407",
   "metadata": {},
   "outputs": [
    {
     "name": "stdout",
     "output_type": "stream",
     "text": [
      "----------------------------------CIFRA----------------------------------\n",
      "r: 337362501341971141411018721255327700780\n",
      "(y,c) =  (b';\\xd9\\x81\\x08\\x18\\x03v\\x9d\\xe5{/\\xfc\\x99\\xc9!\\\\\\x10\\xf2\\x9f\\xe1)\\xb2\\x8d\\xe3\\xa2s\\xad\\xf1\\xa2\\xb30\\xa8T9\"\\x83e\\x10\\xd0=\\xa3\\xd4\\x91r\\x84\\xe1\\xfen\\xc6\\x16\\xe7\\xbe\\xea\\xe8\\x8e}H\\x18[s\\xceu\\x9e[\\xbb\\'\\xddi\\xac\\xab\\xc6\\xe9\\x12\\xa8\\xd1\\x1f1\\x95\\xf9\\x87\\xbb\\x00\\xed[\\xeeH\\x82Tb\\x95\\xc0\\x8e\\x8a\\xc4\\x0cQ\\xa0\\xf3Z\\x05x\\x146\\x82n\\x8ff>\\xc8\\x0fN\\xa6\\xf8\\xc5%\\x1akfG\\x80R\\x90\\n\\x1c\\xfa\\xd7\\x8f \\xb6K\\'\\xb3;W\\x98L\\xc6\\xc8\\x0e`\"\\xff\\x97\\x9e\\xd3\\x7f\\xe1\\xc8-\\xac\\xef\\xfd5\\xe5\\x8aZ', (17055642291148646609079067918370833638900181737407364212556277229258044203520297358441814513050982623953056986618903328553076185661416504989083259079025037120941825024829698066386088726370832565785128864075082813153052058999222031964102130017778175201260427821598908681250992549038217509379458740534742293380046114227688230031090977482841559470375580964068898773571744349715, 12030535212644873552884599313039913979587147061245304138377122752488853083111227659556103530441812220396543026019977253135269353148219682671444406509234937533080567234087359163778451061843961666348656559540469502642312096796967377465326350799535062164797959882432124479640728037428779594419238840279963034532527760396927755394925578141536935025403338270797856215752053251815))\n",
      "-------------------------------------------------------------------------------------------\n"
     ]
    }
   ],
   "source": [
    "print(\"----------------------------------CIFRA----------------------------------\")\n",
    "def enc_fujisaki(pk,x):\n",
    "    r = ZZ.random_element(2^(lambda_bits - 1), 2^lambda_bits)\n",
    "    print(\"r:\",r)\n",
    "    y = bytes(a ^^ b for a, b in zip(x, g(r)))\n",
    "    rlinha = h(r,y)\n",
    "    c = f_p(pk,r,int.from_bytes(rlinha,\"big\"))\n",
    "    return (y,c)\n",
    "\n",
    "(y,c) = enc_fujisaki(pk,x)\n",
    "print(\"(y,c) = \",(y,c))\n",
    "print(\"-------------------------------------------------------------------------------------------\")"
   ]
  },
  {
   "cell_type": "markdown",
   "id": "407b00d3-f572-45db-ad83-52ba1c160500",
   "metadata": {},
   "source": [
    "### Decifra"
   ]
  },
  {
   "cell_type": "code",
   "execution_count": 11,
   "id": "398217f7-ea3c-4e26-8cd7-e3ca0dabcbae",
   "metadata": {},
   "outputs": [
    {
     "name": "stdout",
     "output_type": "stream",
     "text": [
      "----------------------------------------DECIFRA--------------------------------------------\n",
      "r: 337362501341971141411018721255327700780\n",
      "Mensagem decifrada:  b\"\\x01+\\xaa\\x91\\xf2\\xd1\\x94\\x8a\\x89L|\\x02\\x85\\xad\\xcc\\x97\\xb4\\xc2=R\\xd95\\xb1\\xca\\xecN\\x92%\\xc3\\x17\\x1f8\\x1d\\xa1\\x9aW\\x1c\\xb62\\x97FGg'\\xf4\\xff\\x89\\xf5.u\\xca\\xc7\\xfc&$q\\x96=T\\x1f}\\x83\\x7f\\xe6\\x81\\xd5\\xf6\\xf0Fy$\\xfe~\\x9f\\x82\\xe1-\\xf1\\x14L\\x1f0O\\xe8\\x1e\\xcf\\xbe},\\xa8\\xffZ\\xeb`#\\xc1\\xe9k\\xe2\\xd1\\x01\\xb2\\xd4(\\x8b\\x1c\\x90k\\xb8\\x119=\\x10\\xa6\\x08c}\\xa8\\xed\\x8c\\x8c\\xb5\\x05pI!n\\x9d\\x8c\\xb9\\x0c*\\xd1\\x85z[\\xaa\\xff]\\x9e>\\x9bzUwOC{\\xdd+\\xd3\\xd4{\\xd8\\xb5\\x8e\"\n",
      "r: 337362501341971141411018721255327700780\n",
      "x == dec_fujisaki(sk,pk,y,c)?:  True\n",
      "-------------------------------------------------------------------------------------------\n"
     ]
    }
   ],
   "source": [
    "print(\"----------------------------------------DECIFRA--------------------------------------------\")\n",
    "def dec_fujisaki(sk,pk,y,c):\n",
    "    r = dec(sk,pk,c)\n",
    "    print(\"r:\",r)\n",
    "    rlinha = h(r,y)\n",
    "    if c != f_p(pk,r,int.from_bytes(rlinha,\"big\")):\n",
    "        raise Exception(\"O criptograma não corresponde a fp(r,r'), absurdo\")\n",
    "    else:\n",
    "        res = bytes(a ^^ b for a, b in zip(y, g(r)))\n",
    "        return res\n",
    "\n",
    "print(\"Mensagem decifrada: \",dec_fujisaki(sk,pk,y,c))\n",
    "print(\"x == dec_fujisaki(sk,pk,y,c)?: \",x == dec_fujisaki(sk,pk,y,c)) \n",
    "print(\"-------------------------------------------------------------------------------------------\")"
   ]
  },
  {
   "cell_type": "markdown",
   "id": "a49fe3d1-e85a-46e5-88ea-fe85c04411f8",
   "metadata": {},
   "source": [
    "# **Exercício 1.c.**"
   ]
  },
  {
   "cell_type": "markdown",
   "id": "1dd39766-5e66-412f-8ebb-46c1db5cdd25",
   "metadata": {},
   "source": [
    "Associado a um mecanismo de encapsulamento de chaves existe um algoritmo de revelação ou KRev (“_key revelation_”), que a partir do encapsulamento de uma chave, revela-a.  Naturalmente, por analogia com as cifras assimétricas, o KEM é um algoritmo  público, total e probabilístico,  enquanto que o KRev é um algoritmo privado, parcial e determinístico.\n",
    "\n",
    "A condição de correção será\n",
    "                                            $$(e,k)\\,\\gets\\,\\mathsf{KEM}\\quad\\;\\text{sse}\\;\\quad \\mathsf{KRev}(e)\\,\\simeq\\, k$$"
   ]
  },
  {
   "cell_type": "markdown",
   "id": "2cca7133-69d4-47e4-9352-440c07135096",
   "metadata": {},
   "source": [
    "Combinando o exercício anterior com um KEM o esquema pode-se descrever pelo par de algoritmos:\n",
    "\n",
    "$$\\left\\{\\begin{array}{lcl}E(x) & \\equiv & \\vartheta\\,(e,k)\\gets\\mathsf{KEM}\\,\\centerdot\\,(e\\,,\\,k \\oplus x) \\\\ D(e,c) & \\equiv & \\vartheta\\,k \\gets \\mathsf{KRev}(e)\\,\\centerdot\\,k\\oplus c\\end{array}\\right.$$"
   ]
  },
  {
   "cell_type": "markdown",
   "id": "d6f680fb-47b5-4d02-ab7b-dff9bc230f36",
   "metadata": {},
   "source": [
    "Substituindo KEM pela função de cifra do exercício (b) obtemos uma segurança IND-CCA para a encapsulação da chave.\n",
    "Como o KEM é um mecanismo apenas de encapsulamento da chave iremos utilizar em conjunto com um DEM (neste caso OTP) para demonstrar que resulta para cifrar uma mensagem, como é demonstrado no diagrama:"
   ]
  },
  {
   "cell_type": "markdown",
   "id": "9a95ae7a-ae02-43d3-9820-8b8aa70712f4",
   "metadata": {},
   "source": [
    "![PKE standard KEM + OTP](KEMDEM.png)"
   ]
  },
  {
   "cell_type": "markdown",
   "id": "fb2cf34e-f720-4940-9f55-d5680e06cd32",
   "metadata": {},
   "source": [
    "----------"
   ]
  },
  {
   "cell_type": "markdown",
   "id": "6e91ed7b-ed64-4b28-a987-c05e3c945a40",
   "metadata": {},
   "source": [
    "### Definições de variáveis"
   ]
  },
  {
   "cell_type": "code",
   "execution_count": 12,
   "id": "632800ec-ed2e-45ab-98c7-e927e6afb832",
   "metadata": {},
   "outputs": [
    {
     "name": "stdout",
     "output_type": "stream",
     "text": [
      "----------------------------------Geração de chaves:--------------------------------------\n",
      "Parâmetro q gerado: 604884144537685470257801027021436073421\n",
      "p não convergiu, novo valor de q:  562711663498646999761799762645931314671\n",
      "Parâmetro p gerado: 178731226771262448024886227910045514755010740489419621880658143241379515832225587209336958662119740295704815409306393430219854943176109495769538888867504120721163014908698879046182536284666531124548762604813958694367134843977791653886278673782079766334208386359738955286051415524500894845554748528298726982815092518950486858571472590146704062963474439557409721044761235552692632654674247781186780852637136707491343630337\n",
      "gerador (g): 3\n",
      "chave privada (s): 380557587300284706791950697925045009951\n",
      "---------------------------------------------------------------------------------\n",
      "Mensagem aleatória em F_p*:  b'\\x11C\\xc5\\x0b\\x1d\\x9b\\x8b`\\xae\\x92\\xd1FY-Uu\\xa5L@\\x04_Ud\\x12?\\x08\\xe2\\xf8(\\xf2\\xe9v\\x87\\xc6\\xc81\\xe7\\x86\\xca\\xe5%Gc\\x99\\x86\\xec\\xeeB\\xd5\\x05\\x1a\\xe7\\xc65\\x06\\xf2\\x8b\\xca\\x93\\xc4(\\xb62E\\xe4\\xcc\\xc7\\x9d\\xe3\\x9dJK\\x0e\\xa8\\x97Gxw\\xd4\\xd1\\n\\\\\\xa0r.\\x100\\t\\xed\\x1d\\x92\\x0f\\xa9\\\\<I\\xc3,\\xb1/\\x93S>+\\x92\\xfe\\x83\\xf0WQG_z\\xc6\\xa0\\xabw\\xbb\\r|\\xc3\\x02\\xfe&\\x14s%/\\xddLZ\\x8c\\xb8\\xe1\\xfb\\x1d JXH\\x1d\\xce\\x13\\xbf\\xaa\\x0f\\x8f\\xb3\\x94*\\\\\\x98\\x94\\x83}\\x8f\\x00\\x06J\\xb5L\\x18\\xe1\\xb1F.\\x84w(\\x0c\\xd2\\xac2\\xf9'\n"
     ]
    }
   ],
   "source": [
    "lambda_bits = 128\n",
    "\n",
    "pk, sk = gen_keys(lambda_bits)\n",
    "x = randint(1, pk[0]-1)  # Mensagem aleatória em F_p*\n",
    "length_in_bytes = (x.bit_length() + 7) // 8\n",
    "x = x.to_bytes(length_in_bytes, byteorder='big')\n",
    "\n",
    "print(\"Mensagem aleatória em F_p*: \",x)"
   ]
  },
  {
   "cell_type": "markdown",
   "id": "ab0e3545-7675-413b-b086-6a50f0f9c425",
   "metadata": {},
   "source": [
    "-------"
   ]
  },
  {
   "cell_type": "markdown",
   "id": "d9cf598b-6424-49fc-9829-46deec18567f",
   "metadata": {},
   "source": [
    "### KEM + DEM Encrypt"
   ]
  },
  {
   "cell_type": "markdown",
   "id": "dc877d98-8ceb-4f05-9caa-e3c3e312bbd2",
   "metadata": {},
   "source": [
    "Construir algoritmo de cifra tal que\n",
    "$ E(x) \\equiv \\vartheta (e,k) ← KEM⋅(e,k⊕x)  $ \n",
    "onde \n",
    "- $k$ é gerado aleatoriamente;\n",
    "- $e$ é o encapsulamento dessa chave."
   ]
  },
  {
   "cell_type": "code",
   "execution_count": 13,
   "id": "15498303-beb1-4e7c-83e3-f09a04e10225",
   "metadata": {},
   "outputs": [],
   "source": [
    "def kem_encrypt(pk, x):\n",
    "    # Gerar chave simétrica aleatória k\n",
    "    k = ZZ.random_element(2^(8*len(x)-1), 2^(8*len(x))).to_bytes(len(x), 'big')\n",
    "    print(\"k: \",k)\n",
    "    # Utilizar cifra do ex1.b. como KEM para encapsular k\n",
    "    e = enc_fujisaki(pk,k)\n",
    "    \n",
    "    # Aplicar DEM (neste caso OTP) da chave gerada k com a mensagem x\n",
    "    ciphertext = dem(x,k)\n",
    "\n",
    "    return e, ciphertext\n",
    "\n",
    "def dem(x,k):\n",
    "    ciphertext = bytes(a ^^ b for a, b in zip(x, k))\n",
    "    while len(ciphertext) < len(x):\n",
    "        ciphertext += bytes(a ^^ b for a, b in zip(x[len(ciphertext):], k))\n",
    "        ciphertext[:len(x)]\n",
    "    return ciphertext"
   ]
  },
  {
   "cell_type": "markdown",
   "id": "538483a9-40e5-4a03-a1ec-3e5b7e752e73",
   "metadata": {},
   "source": [
    "-------"
   ]
  },
  {
   "cell_type": "markdown",
   "id": "b3ebf0a5-4154-47ac-84e6-6c2e4bbca6a2",
   "metadata": {},
   "source": [
    "### KEM + DEM Decrypt"
   ]
  },
  {
   "cell_type": "markdown",
   "id": "d655770a-6577-4c93-ad65-9ad2ccf47bc8",
   "metadata": {},
   "source": [
    "A decifração é dada por:\n",
    "$ D(e,c) ≡ ϑk←KRev(e)⋅k⊕c $\n",
    "onde \n",
    "- $KRev$ no nosso caso é a técnica de decifração utilizada no exercício 1.b.;\n",
    "- $e$ é o encpasulamento da chave gerada;\n",
    "- $c$ o criptograma recebido de KEM."
   ]
  },
  {
   "cell_type": "code",
   "execution_count": 14,
   "id": "f442df30-8408-4628-a8cb-071f1bc963ba",
   "metadata": {},
   "outputs": [],
   "source": [
    "def kem_dem_decrypt(sk, pk, e, ciphertext):\n",
    "    (y, c) = e\n",
    "    k = dec_fujisaki(sk, pk, y, c)\n",
    "    print(\"k: \",k)\n",
    "    x = dem(ciphertext,k)\n",
    "    return x"
   ]
  },
  {
   "cell_type": "markdown",
   "id": "46eb8894-25a3-4ee3-b063-f46b79c680ff",
   "metadata": {},
   "source": [
    "---------"
   ]
  },
  {
   "cell_type": "markdown",
   "id": "a02e1bbc-9bd0-40b6-b232-4601be02a028",
   "metadata": {},
   "source": [
    "### Teste"
   ]
  },
  {
   "cell_type": "code",
   "execution_count": 15,
   "id": "52bca661-228d-4b43-81a0-12a4c9b6efa1",
   "metadata": {},
   "outputs": [
    {
     "name": "stdout",
     "output_type": "stream",
     "text": [
      "-------------------------------------------------------------------------------------------------------------------\n",
      "mensagem (x):  b'\\x11C\\xc5\\x0b\\x1d\\x9b\\x8b`\\xae\\x92\\xd1FY-Uu\\xa5L@\\x04_Ud\\x12?\\x08\\xe2\\xf8(\\xf2\\xe9v\\x87\\xc6\\xc81\\xe7\\x86\\xca\\xe5%Gc\\x99\\x86\\xec\\xeeB\\xd5\\x05\\x1a\\xe7\\xc65\\x06\\xf2\\x8b\\xca\\x93\\xc4(\\xb62E\\xe4\\xcc\\xc7\\x9d\\xe3\\x9dJK\\x0e\\xa8\\x97Gxw\\xd4\\xd1\\n\\\\\\xa0r.\\x100\\t\\xed\\x1d\\x92\\x0f\\xa9\\\\<I\\xc3,\\xb1/\\x93S>+\\x92\\xfe\\x83\\xf0WQG_z\\xc6\\xa0\\xabw\\xbb\\r|\\xc3\\x02\\xfe&\\x14s%/\\xddLZ\\x8c\\xb8\\xe1\\xfb\\x1d JXH\\x1d\\xce\\x13\\xbf\\xaa\\x0f\\x8f\\xb3\\x94*\\\\\\x98\\x94\\x83}\\x8f\\x00\\x06J\\xb5L\\x18\\xe1\\xb1F.\\x84w(\\x0c\\xd2\\xac2\\xf9'\n",
      "k:  b'\\xb9\\x8f\\xcf\\xa0\\xa5\\xff\\xc8\\xf0\\xc6\\xc5\\xa3SY=&Tn\\xe6\\x06\\x9e\\xe0l\\xc7<I\\xda\\x9b\\x10\\xbaz\\xc9\\xe8\\xa4\\x846+5k\\xd4\\x8e\\xd2\\xa0\\x98\\x96\\xbeA\\x04B\\xbefC\\x0f]\"\\x16L?\\xd1\\xc6wt\\x0f\\xa6\\xf8wl}\\xda\\x97\\xbe\\xfa\\xddL*\\xa0\\xc3\\x14l\\x8dR\\x11\\x02\\xbe\\xd9\\x0e\\x06\\x10\\x8e\\x90\\x15/-\\xa9\\x14\\x99U\\x0b\\x19e\\xb8\\x05\\xd9\\x0b\\t\\xa8&\\xe9?\\xe3\\x81\\xe4\\xade\\xc7\\xa6\\xb5\\xa4\\xe8_\\x8aj\\xb2%\\\\\\xe8\\xc5\\xaf\\x04|\\xe7\\xa0^q\\xea\\xf0\\xab6\\xb9ah\\xb0\\x82#\\xbb\\x10\\xcc{*\\xc2vh\\xe6\\x1d\\xeaO\\xed\\xa5\\x06\\x172\\xdeju\\x90\\x8b\\xb8\\xa5\\x8aL\\xe95UON'\n",
      "r: 276022670871077297364448212663631223899\n",
      "-------------------------------------------------------------------------------------------------------------------\n",
      "e:  (b\"X\\x0e\\xc2Fk\\xe2\\xb7\\x06r\\xeb3\\xe06\\xdc\\x96\\x0bX\\x9b*\\xfag\\xc8\\xcb\\x93+s\\xbdh\\xed\\xf5\\x16\\x9cL\\xca\\x91r\\x97\\xb0E\\xc5=P\\x95&\\xe5l\\xe1\\x9e\\xa9\\x8c\\x8bp\\xb8\\xa9\\xf6g\\xceQ\\x040\\xda\\xfbmQ\\x96\\xedp<Y\\xa3\\x85+\\xf8\\x040p{\\x8d=\\r'\\x7f\\x92\\xbd\\x89\\xa2\\x1c!\\xf2\\xbc\\tU\\xfe\\x9bF!\\xe3W\\xc2\\xe1\\xa7\\x02\\x9aBG\\xd6\\xe4\\x8f\\xb8\\xac\\x01qr-n\\xcaAc\\xbf\\xa1\\x9b2\\xe7\\x1bF1d\\xad\\x9df\\xad\\xb8\\xbf\\xf7\\x8f]\\x82\\x97\\xf1\\xdb\\xdfc\\x93\\xe4&\\xb1WNE\\xd2dI\\x7fCi\\x95\\xf2\\x89\\xc8F6$\\xd2\\xc9)c4\\xc1\\xa3\\x198\\xe5\\x14c\", (143542972893666402297022297115780826890865818184992668296814118772154199377018526394839324991661400433846030689545573638055080663061542133162858126060808013656253744096495650367648831349007498199011145132266812322109333019829212441247043169582570769791143398561954170626699893265984869459097231186327845779800134955119885032856839838073914467450826489346969364029098399617613833471156262089150268125298891096041334772523, 42187240398266208574535127011467199746238304501431338645968318153756810744845395477986375423456586109929960889941298190405550309299634473645844827293414954023810488576790350174514594257135796149017227039916973731389142026928751999533485736447471088791213075487993772992092665504324443875784333713391454581216298065469773824036352396910427524482590684845852971337201333668117627780626870162126537957442751639947980270897))\n",
      "-------------------------------------------------------------------------------------------------------------------\n",
      "k (+) x:  b'\\xa8\\xcc\\n\\xab\\xb8dC\\x90hWr\\x15\\x00\\x10s!\\xcb\\xaaF\\x9a\\xbf9\\xa3.v\\xd2y\\xe8\\x92\\x88 \\x9e#B\\xfe\\x1a\\xd2\\xed\\x1ek\\xf7\\xe7\\xfb\\x0f8\\xad\\xea\\x00kcY\\xe8\\x9b\\x17\\x10\\xbe\\xb4\\x1bU\\xb3\\\\\\xb9\\x94\\xbd\\x93\\xa0\\xbaGt#\\xb0\\x96B\\x827\\x84l\\x1bY\\x83\\x1b^\\x1e\\xab \\x16 \\x87}\\x08\\xbd\"\\x00H\\xa5\\x1c\\xc85\\xd4\\x97\\x96\\x8a5\":\\xd8j\\xcf\\xb4\\xd0\\xa3\\xf2\\x1f\\x01\\x06\\x1e\\xd3SR\\xf6\\xa9\\xb0\\xdbz\\xfc\\xb6\\x8a+\\xa1\\xab\\xfa\\xd2\\xc9\\x0b\\x0b\\xb6\\x16\\xf39 \\xadL0\\x04\\xba\\xc3\\xf4\\x99V\\\\4~\\x89i2b\\xa5\\x00]\\x87\\x92r\\x94!\\xcd\\x96!\\xfdd\\xe5\\xe7\\xf9}\\xb7'\n",
      "-------------------------------------------------------------------------------------------------------------------\n",
      "r: 276022670871077297364448212663631223899\n",
      "k:  b'\\xb9\\x8f\\xcf\\xa0\\xa5\\xff\\xc8\\xf0\\xc6\\xc5\\xa3SY=&Tn\\xe6\\x06\\x9e\\xe0l\\xc7<I\\xda\\x9b\\x10\\xbaz\\xc9\\xe8\\xa4\\x846+5k\\xd4\\x8e\\xd2\\xa0\\x98\\x96\\xbeA\\x04B\\xbefC\\x0f]\"\\x16L?\\xd1\\xc6wt\\x0f\\xa6\\xf8wl}\\xda\\x97\\xbe\\xfa\\xddL*\\xa0\\xc3\\x14l\\x8dR\\x11\\x02\\xbe\\xd9\\x0e\\x06\\x10\\x8e\\x90\\x15/-\\xa9\\x14\\x99U\\x0b\\x19e\\xb8\\x05\\xd9\\x0b\\t\\xa8&\\xe9?\\xe3\\x81\\xe4\\xade\\xc7\\xa6\\xb5\\xa4\\xe8_\\x8aj\\xb2%\\\\\\xe8\\xc5\\xaf\\x04|\\xe7\\xa0^q\\xea\\xf0\\xab6\\xb9ah\\xb0\\x82#\\xbb\\x10\\xcc{*\\xc2vh\\xe6\\x1d\\xeaO\\xed\\xa5\\x06\\x172\\xdeju\\x90\\x8b\\xb8\\xa5\\x8aL\\xe95UON'\n",
      "mensagem (final):  b'\\x11C\\xc5\\x0b\\x1d\\x9b\\x8b`\\xae\\x92\\xd1FY-Uu\\xa5L@\\x04_Ud\\x12?\\x08\\xe2\\xf8(\\xf2\\xe9v\\x87\\xc6\\xc81\\xe7\\x86\\xca\\xe5%Gc\\x99\\x86\\xec\\xeeB\\xd5\\x05\\x1a\\xe7\\xc65\\x06\\xf2\\x8b\\xca\\x93\\xc4(\\xb62E\\xe4\\xcc\\xc7\\x9d\\xe3\\x9dJK\\x0e\\xa8\\x97Gxw\\xd4\\xd1\\n\\\\\\xa0r.\\x100\\t\\xed\\x1d\\x92\\x0f\\xa9\\\\<I\\xc3,\\xb1/\\x93S>+\\x92\\xfe\\x83\\xf0WQG_z\\xc6\\xa0\\xabw\\xbb\\r|\\xc3\\x02\\xfe&\\x14s%/\\xddLZ\\x8c\\xb8\\xe1\\xfb\\x1d JXH\\x1d\\xce\\x13\\xbf\\xaa\\x0f\\x8f\\xb3\\x94*\\\\\\x98\\x94\\x83}\\x8f\\x00\\x06J\\xb5L\\x18\\xe1\\xb1F.\\x84w(\\x0c\\xd2\\xac2\\xf9'\n",
      "-------------------------------------------------------------------------------------------------------------------\n",
      "mensagem inicial == mensagem final ?:  True\n",
      "-------------------------------------------------------------------------------------------------------------------\n"
     ]
    }
   ],
   "source": [
    "print(\"-------------------------------------------------------------------------------------------------------------------\")\n",
    "print(\"mensagem (x): \",x)\n",
    "e, ciphertext = kem_encrypt(pk,x)\n",
    "print(\"-------------------------------------------------------------------------------------------------------------------\")\n",
    "print(\"e: \",e)\n",
    "print(\"-------------------------------------------------------------------------------------------------------------------\")\n",
    "print(\"k (+) x: \",ciphertext)\n",
    "print(\"-------------------------------------------------------------------------------------------------------------------\")\n",
    "\n",
    "mensagem = kem_dem_decrypt(sk, pk, e, ciphertext)\n",
    "\n",
    "print(\"mensagem (final): \",mensagem)\n",
    "print(\"-------------------------------------------------------------------------------------------------------------------\")\n",
    "print(\"mensagem inicial == mensagem final ?: \",x == mensagem)\n",
    "print(\"-------------------------------------------------------------------------------------------------------------------\")"
   ]
  },
  {
   "cell_type": "markdown",
   "id": "802e0f37-4000-4903-b196-1c4216912371",
   "metadata": {},
   "source": [
    "----------------"
   ]
  },
  {
   "cell_type": "markdown",
   "id": "63127f40-a608-44a0-98ff-23c945c7e10b",
   "metadata": {},
   "source": [
    "# Exercício 1.d."
   ]
  },
  {
   "cell_type": "markdown",
   "id": "fd08fe97-21c7-41c5-9aad-9e518706a4c5",
   "metadata": {},
   "source": [
    "\n",
    "O protocolo de “oblivious transfer”  implementa um mecanismo de transferência de informação entre dois agentes: o **Provider** (também designado por Sender) e o **Receiver** (também designado por Adversário) . Em linhas gerais, o protocolo caracteriza-se da forma seguinte:\n",
    "\n",
    "\n",
    "1. O **Provider** põe à disposição para comunicação futura $\\,n\\,$ items de informação (ou mensagens) que ele enumera como $\\,m_1, m_2, \\cdots,m_{n}\\;$ e que armazena de forma privada. \n",
    "    Nesta fase a única informação tornada pública é o número  de mensagens  $\\,n$ .\n",
    "2. O Receiver informa o **Provider** que pretende receber $\\,\\kappa\\,$ das $\\,n\\,$ mensagens\n",
    "3. Caso o **Provider** aceite o par $(n,\\kappa)\\;$ os dois agentes, a começar pelo **Provider**, trocam uma sequência de mensagens e, no final,\n",
    "    1. O **Receiver** passa a conhecer exatamente  $\\,\\kappa\\,$ mensagens mas continua a ignorar o conteúdo de todas as restantes $\\,n-\\kappa\\,$ mensagens.\n",
    "    2. O **Provider** ignora a identificação (“is oblivious of”)  das $\\,\\kappa\\,$ mensagens que o Receiver passou a conhecer."
   ]
  },
  {
   "cell_type": "markdown",
   "id": "efcfc420-1463-40fb-a821-b240e8df14f8",
   "metadata": {},
   "source": [
    "O protocolo usa um esquema PKE   $\\,\\{(E_p,D_s)\\}_{(s,p)\\in\\mathcal{G}}$ que neste caso irão ser a cifra e decifra do exerício 1.b.. "
   ]
  },
  {
   "cell_type": "markdown",
   "id": "d715239e-2626-4228-ba0a-9cbd401a45bf",
   "metadata": {},
   "source": [
    "----"
   ]
  },
  {
   "cell_type": "markdown",
   "id": "3bcac056-bece-4bb4-af16-c742592fd11a",
   "metadata": {},
   "source": [
    "### Criterion"
   ]
  },
  {
   "cell_type": "markdown",
   "id": "d6601ff5-47bf-47f1-bd61-15f0d48fbc75",
   "metadata": {},
   "source": [
    "O critério $C{κ,n}$ define quais vetores de chaves públicas **p** são considerados válidos. O **Receiver** deve criar um vetor **p** onde:\n",
    "\n",
    "- Algumas entradas são chaves públicas \"boas\" (as que correspondem às mensagens que quer receber).\n",
    "- O resto das entradas são chaves públicas \"más\" (geradas para manter a segurança do protocolo)."
   ]
  },
  {
   "cell_type": "markdown",
   "id": "cce295bf-da11-467a-a3ba-b307d77c095a",
   "metadata": {},
   "source": [
    "O critério $\\,\\mathcal{C}_\\kappa\\,$ depende da estrutura algébrica usada pelo mecanismo de geração de pares de chaves. Vamos considerar:\n",
    "\n",
    "- Cada chave pública, válida ou não, é codificada por um inteiro em $\\,\\mathbb{F}_p^*\\,$.\n",
    "- Uma matriz de “rank” completo  $\\,\\mathsf{A} \\in \\mathbb{F}_p^{* n\\times(n-\\kappa)}\\,$ e um vector $\\,\\mathsf{u}\\neq 0\\in \\mathbb{Z}_q^{n-\\kappa}\\,$ ; estes elementos são gerados por um XOF a partir de uma “seed”   $\\,\\rho\\,$ . A  “seed” é aleatoriamente gerada e os restantes elementos são construídos com o XOF, por tentativas, até se verificarem as condições exigidas.\n",
    "- O critério tem a forma de um sistema de equações lineares  $\\;\\mathsf{p} \\times \\mathsf{A}\\,=\\,\\mathsf{u}$ ."
   ]
  },
  {
   "cell_type": "code",
   "execution_count": 16,
   "id": "a53037f9-7ebb-4d77-b9d7-5b8afee3ad29",
   "metadata": {},
   "outputs": [],
   "source": [
    "import numpy as np\n",
    "\n",
    "class CknCriterion:\n",
    "    def __init__(self, kappa, n, q):\n",
    "        self.kappa = kappa\n",
    "        self.n = n\n",
    "        self.q = int(q) \n",
    "        self.seed = np.random.randint(0, 2**32)\n",
    "        self.A = self.generate_A()\n",
    "        self.u = self.generate_u()\n",
    "        self.Fp = GF(q).unit_group()\n",
    "    \n",
    "    def generate_A(self):\n",
    "        \"\"\"Gera a matriz A usando XOF a partir da seed\"\"\"\n",
    "        np.random.seed(self.seed)\n",
    "        A = random_matrix(GF(self.q), self.n, self.n - self.kappa)\n",
    "        return A\n",
    "    \n",
    "    def generate_u(self):\n",
    "        \"\"\"Gera o vetor u, que deve ser não nulo\"\"\"\n",
    "        np.random.seed(self.seed + 1) \n",
    "        u = vector(GF(self.q), [randint(1, self.q - 1) for _ in range(self.n - self.kappa)])\n",
    "        return u\n",
    "    \n",
    "    def verify(self, p):\n",
    "        \"\"\"Verifica se p satisfaz o critério Ckn, ou seja, se p * A = u\"\"\"\n",
    "        if len(p) != self.n:\n",
    "            raise ValueError(f\"p deve ter {self.n} elementos\")\n",
    "        \n",
    "        p_values = [x[0] if isinstance(x, tuple) else x for x in p]\n",
    "        print(\"p_values:\",p_values)\n",
    "        \n",
    "        # Converter p_values para um vetor no corpo finito Z_q\n",
    "        Zq = GF(self.q)\n",
    "        p_vector = vector(Zq, p_values)\n",
    "    \n",
    "        # Calcular p * A no corpo finito Z_q\n",
    "        A_matrix = matrix(Zq, self.A) \n",
    "        pA = p_vector * A_matrix \n",
    "    \n",
    "        # Verificar se pA é igual a u\n",
    "        u_vector = vector(Zq, self.u)  # Converter u para um vetor no corpo finito Z_q\n",
    "        return pA == u_vector\n",
    "    \n",
    "    def print_criterion(self):\n",
    "        print(f\"Matriz A:\\n{self.A}\")\n",
    "        print(f\"Vetor u:\\n{self.u}\")"
   ]
  },
  {
   "cell_type": "markdown",
   "id": "d1681e23-19d5-4405-8e61-54945a115b32",
   "metadata": {},
   "source": [
    "## Provider"
   ]
  },
  {
   "cell_type": "code",
   "execution_count": 17,
   "id": "2d24a50a-17eb-4fba-a2e4-5ac7bd531ca3",
   "metadata": {},
   "outputs": [],
   "source": [
    "class Provider:\n",
    "    def __init__(self, pk, sk, n_mensagens):\n",
    "        self.pk,self.sk = gen_keys(lambda_bits) #(p, q, g, pow(g, s, p)) , s\n",
    "        self.numero_de_mensagens = n_mensagens\n",
    "        # Informação privada das mensagens:\n",
    "        self.messages = [f\"mensagem{i}\" for i in range(n_mensagens)]\n",
    "        self.criterion = None\n",
    "    def define_criterion(self,kappa):\n",
    "        n = self.numero_de_mensagens\n",
    "        q = pk[1]\n",
    "        self.criterion = CknCriterion(kappa, n, q)"
   ]
  },
  {
   "cell_type": "markdown",
   "id": "520c8b5a-c00d-408a-958b-52e50c9f5fa4",
   "metadata": {},
   "source": [
    "Inicialmente:\n",
    "- Gera chaves\n",
    "- Gera mensagens\n",
    "- Expõe apenas o número de mensagens, matriz $A$ e vetor $u$"
   ]
  },
  {
   "cell_type": "code",
   "execution_count": 18,
   "id": "d11181ab-7b83-4568-8ca1-d251cbfa4f45",
   "metadata": {},
   "outputs": [
    {
     "name": "stdout",
     "output_type": "stream",
     "text": [
      "----------------------------------Geração de chaves:--------------------------------------\n",
      "Parâmetro q gerado: 478059461990121761147462853540001071043\n",
      "Parâmetro p gerado: 8429011993812721819844378270294614395744643039980929259044475094639151971478827918984340673996832005792234705881000058554435691619214062059734766037438912236961872841490144166005446902469564135392049705356831836108126702820756031589575396314743381236887383170951132903976178548812131991006525593101917170181174628278013766952369636788744049009821542643567148255244457694561552194798550937539064765612033\n",
      "gerador (g): 3\n",
      "chave privada (s): 270220245422073796200357473228367340635\n",
      "---------------------------------------------------------------------------------\n"
     ]
    }
   ],
   "source": [
    "n_mensagens = 100\n",
    "provider = Provider(None,None,n_mensagens)"
   ]
  },
  {
   "cell_type": "markdown",
   "id": "97fc68b8-9183-49e7-9f1e-bb48d23d3845",
   "metadata": {},
   "source": [
    "## Receiver"
   ]
  },
  {
   "cell_type": "code",
   "execution_count": 19,
   "id": "14ac884d-3afa-4a78-9111-a4c6c7aee198",
   "metadata": {},
   "outputs": [],
   "source": [
    "import hashlib\n",
    "from random import sample\n",
    "\n",
    "class Receiver:\n",
    "    def __init__(self, k, n_mensagens, q):\n",
    "        self.k = k  # Número de chaves privadas geradas\n",
    "        self.n_mensagens = n_mensagens\n",
    "        self.q = q \n",
    "        self.I = sample(range(n_mensagens), k)  # Seleção aleatória de k índices\n",
    "        self.e = self.enumeration(self.I)  \n",
    "        self.p,self.s_values = self.generate_keys()  \n",
    "        self.s = self.generate_secret()\n",
    "        self.tau = self.generate_authentication_tag()\n",
    "\n",
    "    def enumeration(self, I):\n",
    "        \"\"\"Cria a função de enumeração que mapeia {1, 2, ..., κ} para os elementos de I ordenados\"\"\"\n",
    "        I_sorted = sorted(I)\n",
    "        return {i + 1: I_sorted[i] for i in range(len(I_sorted))}\n",
    "\n",
    "    def generate_secret(self):\n",
    "        \"\"\"Gera um segredo aleatório (simulado como um número grande)\"\"\"\n",
    "        return ZZ.random_element(2**32)\n",
    "\n",
    "    def generate_keys(self):\n",
    "        \"\"\"Gera κ chaves privadas e publicas usando o genkeys de ElGamal\"\"\"\n",
    "        vetor_pk = [0] * self.n_mensagens \n",
    "        vetor_sk = []\n",
    "        for i in range(1,self.k+1):\n",
    "            pk,sk = gen_keys(lambda_bits) # (p, q, g, pow(g, s, p)), s\n",
    "            vetor_sk.append(sk)\n",
    "            vetor_pk[self.e[i]] = pk\n",
    "        return vetor_pk,vetor_sk\n",
    "\n",
    "    def generate_authentication_tag(self):\n",
    "        \"\"\"Gera a tag de autenticação hash(I, s)\"\"\"\n",
    "        data = str(self.I) + str(self.s)\n",
    "        return hashlib.sha256(data.encode()).digest()\n",
    "\n",
    "    def complete_p_vector(self, A, u):\n",
    "        \"\"\"Completa o vetor p para satisfazer p * A = u no corpo finito Z_q\"\"\"\n",
    "        Zq = GF(self.q)  # Define o corpo finito Z_q\n",
    "    \n",
    "        # Identificar os índices já preenchidos (valores diferentes de 0)\n",
    "        filled_indices = [i for i in range(self.n_mensagens) if self.p[i] != 0]\n",
    "        filled_values = vector(Zq, [self.p[i][0] if isinstance(self.p[i], tuple) else self.p[i] for i in filled_indices])\n",
    "    \n",
    "        # Criar a matriz A_filled (linhas correspondentes aos índices preenchidos)\n",
    "        A_filled = matrix(Zq, [A[i] for i in filled_indices])\n",
    "    \n",
    "        # Criar a matriz A_empty (linhas correspondentes aos índices vazios, ou seja, onde p[i] == 0)\n",
    "        A_empty = matrix(Zq, [A[i] for i in range(A.nrows()) if i not in filled_indices])\n",
    "    \n",
    "        # Calcular u' = u - (filled_values * A_filled)\n",
    "        u_prime = vector(Zq, u) - filled_values * A_filled\n",
    "    \n",
    "        # Resolver o sistema linear A_empty^T * p_empty = u' no corpo finito Z_q\n",
    "        try:\n",
    "            A_empty_T = A_empty.transpose()\n",
    "            p_empty = A_empty_T.solve_right(u_prime)\n",
    "        except:\n",
    "            # Se o sistema for singular, tentar solução alternativa (ex: mínimos quadrados)\n",
    "            p_empty = A_empty_T.pseudoinverse() * u_prime\n",
    "    \n",
    "        # Preencher os elementos desconhecidos no vetor p (apenas onde p[i] == 0)\n",
    "        empty_indices = [i for i in range(self.n_mensagens) if self.p[i] == 0]\n",
    "        for i, idx in enumerate(empty_indices):\n",
    "            # Gerar a chave \"má\"\n",
    "            p_mau, q_mau, g_mau, gs_mau = self.gen_mau_keys() \n",
    "            self.p[idx] = (p_mau, q_mau, g_mau, gs_mau)\n",
    "        return self.p\n",
    "    \n",
    "    def gen_mau_keys(self, max_attempts=100):\n",
    "        \"\"\"Gera uma chave 'má' no formato (p, q, g, g^s)\"\"\"\n",
    "        attempts = 0\n",
    "        while attempts < max_attempts:\n",
    "            # Gerar q_mau como um número primo aleatório\n",
    "            q_mau = random_prime(2^128, False, 2^127)\n",
    "    \n",
    "            # Tentar encontrar um k tal que p_mau = q_mau * 2^k + 1 seja primo\n",
    "            for k in range(1, 10):  # Limitar k a um intervalo razoável\n",
    "                p_mau = q_mau * (2^k) + 1\n",
    "                if is_prime(p_mau):\n",
    "                    # Criar o corpo finito F_p_mau\n",
    "                    F_p_mau = GF(p_mau)\n",
    "    \n",
    "                    # Encontrar um gerador g_mau do grupo multiplicativo F_p_mau^*\n",
    "                    g_mau = F_p_mau.multiplicative_generator()\n",
    "    \n",
    "                    # Gerar a chave privada s_mau aleatoriamente\n",
    "                    s_mau = randint(1, q_mau - 1)\n",
    "    \n",
    "                    # Calcular g^s mod p\n",
    "                    gs_mau = pow(g_mau, s_mau, p_mau)\n",
    "    \n",
    "                    return p_mau, q_mau, g_mau, gs_mau\n",
    "    \n",
    "            attempts += 1\n",
    "    \n",
    "        raise ValueError(f\"Não foi possível gerar p_mau após {max_attempts} tentativas.\")\n",
    "    \n",
    "    def print_info(self):\n",
    "        print(\"----------------------------------------------------------------------\")\n",
    "        print(f\"Seleção I: {self.I}\")\n",
    "        print(\"----------------------------------------------------------------------\")\n",
    "        print(f\"Função de enumeração e: {self.e}\")\n",
    "        print(\"----------------------------------------------------------------------\")\n",
    "        print(f\"Segredo s: {self.s}\")\n",
    "        print(\"----------------------------------------------------------------------\")\n",
    "        print(f\"Chaves privadas s_i: {self.s_values}\")\n",
    "        print(\"----------------------------------------------------------------------\")\n",
    "        print(f\"Vetor p (com chaves públicas mapeadas): {self.p}\")\n",
    "        print(\"----------------------------------------------------------------------\")\n",
    "        print(f\"Tag de autenticação τ: {self.tau}\")\n",
    "        print(\"----------------------------------------------------------------------\")"
   ]
  },
  {
   "cell_type": "markdown",
   "id": "67564db3-862f-4076-8278-4b032122ef26",
   "metadata": {},
   "source": [
    "Escolhe o número de mensagens que pretende receber do Provider tendo acesso ao número de mensagens disponíveis"
   ]
  },
  {
   "cell_type": "code",
   "execution_count": 20,
   "id": "96d91176-50b2-4764-98bb-7e3a743824f4",
   "metadata": {},
   "outputs": [
    {
     "name": "stdout",
     "output_type": "stream",
     "text": [
      "----------------------------------Geração de chaves:--------------------------------------\n",
      "Parâmetro q gerado: 486442810527030314103382405881541889911\n",
      "p não convergiu, novo valor de q:  377569782642478873907115701018881956299\n",
      "Parâmetro p gerado: 49600048414471097261822416922941709710968385036689142127186371308625012763030106433463560494490394217794012819828050985298094917622464124093216190509982762918043910596761797841474527544366974021861805002403181081849461069109784516979236049924076756744865654139877406610818536586265001914622608795694212102388206321978039054969621984652801837618523888306791023483612911840784961746354376898772993\n",
      "gerador (g): 3\n",
      "chave privada (s): 226885061370998964098354702329544267932\n",
      "---------------------------------------------------------------------------------\n",
      "----------------------------------Geração de chaves:--------------------------------------\n",
      "Parâmetro q gerado: 377442959734070604324618431942065683347\n",
      "Parâmetro p gerado: 6940883303076822657853461559025834650333478542855730639208245340184580867919480917541941832065626881363819252449087732927940298447682925423182069251837101025575458732843780588017753438592659136751768897253741609608728429814503568611106881283129665934356692416548577117261780443604749176215955716507568111594294569047300342428267740659728295390044829284776691627181040300540385691496443042155630550773276887401778360579092531593019342991351891295144331203382014873395458720218739546013272098471937\n",
      "gerador (g): 3\n",
      "chave privada (s): 178712025332514114829515272993095154187\n",
      "---------------------------------------------------------------------------------\n",
      "----------------------------------Geração de chaves:--------------------------------------\n",
      "Parâmetro q gerado: 544783424612716769326324787863835723081\n",
      "Parâmetro p gerado: 29825333217358013588518245272892070289998073084072865345681839231822431906619012524867638665021939957087442673603644518003383305310565922240074862480283413982121624855619029891739221719829679650753280273968197514247973650482593824910196605674627628539049480948749059289977407057979455169213581705214620217054214017895496478021087110654693258579159734150609664833235937970304987870513838667608337140815188430178768998351597022156537082323490223416064637710966500707726681906998607931626014927125890825549576040147447825596667165872157951866009509106318557762823086343466657155922931879406257685466168861052730901017463246863674667696129\n",
      "gerador (g): 3\n",
      "chave privada (s): 527408834047236640450652190479827982799\n",
      "---------------------------------------------------------------------------------\n",
      "----------------------------------Geração de chaves:--------------------------------------\n",
      "Parâmetro q gerado: 441568517057643599025827370281732732069\n",
      "p não convergiu, novo valor de q:  552283574924857118081932336461863922473\n",
      "Parâmetro p gerado: 8204005279937804524477610403136658060005678086287553525333183660014618082423898097482250749921640933351130764582682947325967459653126302020342085351236980595855240752829587895613587059135693181960853923029627521828313538191272517266827880507857366081385765500683725720756204872160892026569162974877677196802089027101304701596150033780621726634132293485024008497609687985037826651232536374863538130662534128332207419657151583465050537600989810867319442228179212882149377\n",
      "gerador (g): 3\n",
      "chave privada (s): 436595198523929514097165485880435276671\n",
      "---------------------------------------------------------------------------------\n",
      "----------------------------------Geração de chaves:--------------------------------------\n",
      "Parâmetro q gerado: 624726004541829363078319095619338650443\n",
      "Parâmetro p gerado: 22148564622866357803533624635270901043466039429821637014551572488590287322266177017600659368608744477446627010532761788658466520865998142464174708532388409398262382552409124807834065286411972717295146839335083615940652487790270352853036377333420517747580825859616014073522172173770992216733910314099544013848992284673\n",
      "gerador (g): 3\n",
      "chave privada (s): 186783303180366133592672145674504211794\n",
      "---------------------------------------------------------------------------------\n",
      "----------------------------------Geração de chaves:--------------------------------------\n",
      "Parâmetro q gerado: 640274481240536773929201993106348696861\n",
      "Parâmetro p gerado: 3985086920356624568285379074176946640961169287724348124584149489013248212561917783032874378977111346152023500259747661544450732902521363063436171389907701051577945399877676778356570227285932110975250892913779526699881952910472433129325432718045268810971592782903100361099463348006319901923035595497749338269160371429471917325319415447945935784021335254430343185040821707539663206522117572134146997109484798209787001727743419441001324860896544421063118113331126935484348399788680273488905631086222833182126761131049201512901780283342126902069315236602344041909514345184127651191217184499949854324499426413279875103715229697\n",
      "gerador (g): 3\n",
      "chave privada (s): 140537400477684584179199104751971254909\n",
      "---------------------------------------------------------------------------------\n",
      "----------------------------------Geração de chaves:--------------------------------------\n",
      "Parâmetro q gerado: 417448924420928976458352254245640328089\n",
      "Parâmetro p gerado: 646076147247930129684835500927731561789159062915207741832902704058685652441419965493826474813514167326655231448279316058433660241013682494598246403412542507017057099685783344810806542547139529137867699391409805636070850811819123552636874920974255009853298620868452466926365320742519381029558864580020482845031475630548993574793122743685912825617822298309279359492543016927823294863017566803678086073001014854619958226179592117064596412475332859744286874545534864217132050843452699208006614989285399600094447800261003116631091170561540445346486270099646657308342586830133348514139442720107200410345544873403363160158411907666825641766095072951397946223865724873497220030987239610800601216092356070336062554113\n",
      "gerador (g): 3\n",
      "chave privada (s): 268711264571099086292722113046041843877\n",
      "---------------------------------------------------------------------------------\n",
      "----------------------------------Geração de chaves:--------------------------------------\n",
      "Parâmetro q gerado: 385026069895713363594829592560007535707\n",
      "p não convergiu, novo valor de q:  609484006191877844549297734503295779877\n",
      "p não convergiu, novo valor de q:  356722111972180623533512023831563633387\n",
      "Parâmetro p gerado: 472686502608527854588287415992018478391191931279739218935647451000904070916103800771254599226755579656530590987039137600816830361651875248361470592093590634142013807155810380111448098608904389621539035408505995747951128254683488053141048475149884024377197040856218450811926089520996144615555195139741750374646256402418220855863039306901762230575330141059597672115169295115909068410368695853885297113876283420353842392722225085397075748053848350881508145048861762334174966833045996414503755616866448107728657186817\n",
      "gerador (g): 3\n",
      "chave privada (s): 178390265693830742827090273037613946003\n",
      "---------------------------------------------------------------------------------\n",
      "----------------------------------Geração de chaves:--------------------------------------\n",
      "Parâmetro q gerado: 398274057022616491890698042931358867637\n",
      "Parâmetro p gerado: 430911500735001362509784505094606475983769635016589723104708569956294368707106072748344500924104834306725271508378935960368790221036306914334590100833298572349824534797378539856840877097671443468659989135321116781789050804455254223142463757120185235379557557120732853766584512934643756860243228952420250116161537\n",
      "gerador (g): 3\n",
      "chave privada (s): 309800912060098770858160714005163176126\n",
      "---------------------------------------------------------------------------------\n",
      "----------------------------------Geração de chaves:--------------------------------------\n",
      "Parâmetro q gerado: 515106417188572315969434303613918155187\n",
      "p não convergiu, novo valor de q:  550299462676085255597480960755002796901\n",
      "Parâmetro p gerado: 1027316252134987177955028471444664470143923933973923323267635120493609301870600808424868845458713316494956666784735783684450377447573383256822991519160571297280218290221975917742267742353882897517086326529952101084633056254103293643005277237405126276148622878528985679818839416759696812253522750041981878132775419663098949116272874422002100592728573464847558954056934165304964022273\n",
      "gerador (g): 3\n",
      "chave privada (s): 106531227040635437936858043356432249503\n",
      "---------------------------------------------------------------------------------\n",
      "----------------------------------Geração de chaves:--------------------------------------\n",
      "Parâmetro q gerado: 371370443156779752298343077470836703659\n",
      "Parâmetro p gerado: 1211849977113108579858145339833919209783432697596401455921259163044289169585567530022636481909375188409090414272739076588038714671527050584666846377493749306941666891543461747132289932263059483672936417203895350929877472317798946429979792955667391819189803292929114790131313893502307685383140861354077513598636233956819419773485472591679073000404777102205276557773836252675135120499241063628474581360917315407743722629192154629800945574526267006393133635779913018299280205840901847208098746785039303813291012265999784152363688817077599177360042535839427361491774770979116694353796816136290035222786201067126387918361514750246913\n",
      "gerador (g): 3\n",
      "chave privada (s): 365024301089010526496162316528687501466\n",
      "---------------------------------------------------------------------------------\n",
      "----------------------------------Geração de chaves:--------------------------------------\n",
      "Parâmetro q gerado: 469732865058907176982146666886072203227\n",
      "p não convergiu, novo valor de q:  344496569739525158424498276506749957739\n",
      "Parâmetro p gerado: 1678613623980915728980981331561300399497705924301561300612864732509078424875099349555122111763570812118503469811411982396037919304218985921666673355982907454802080067444692464342178481381073411453390997382721857428599118533065630427210226035375191580912500143150226521721165916421217008819186449679438774505314555732402878021633\n",
      "gerador (g): 3\n",
      "chave privada (s): 226111550794779209198604652883830726430\n",
      "---------------------------------------------------------------------------------\n",
      "----------------------------------Geração de chaves:--------------------------------------\n",
      "Parâmetro q gerado: 457745908129934030093177453227126171787\n",
      "p não convergiu, novo valor de q:  409004394686674733735945403523833491479\n",
      "Parâmetro p gerado: 2966619355911083435745220961215271771289775428730597132659065646883551363143356577773317637372952872518319746510524510672669060376140764122438657054581264768198456439034493864744567368747249564990649460889733625747578457090734410571601873891776142124176666759539616350092437647716851627347007241755047110558163037397820756769475988715615400832760328368236995216794993840489731688585209546361899969162190813629203614512924700768015887564425662762410066419327462014977\n",
      "gerador (g): 3\n",
      "chave privada (s): 317989135036213304399916376188078831078\n",
      "---------------------------------------------------------------------------------\n",
      "----------------------------------Geração de chaves:--------------------------------------\n",
      "Parâmetro q gerado: 488018891230291774386970047644127306001\n",
      "Parâmetro p gerado: 6715360235102280331085184680594128038778055402994255570332320627059435514289303190863215876812239257835693506677761097856957663607224091505825328351728807868284598149637193647522891855210755642979191673355136751856844059493631609977054012353368063633292403745632536630276936644382543123976912007400891457200959889213173437822875550294366898655940282074341160833458118229079949868540919935164396637466368139183027168846348823651571775600590069243173390683825917665037214329717961039542496049011378984171798663323697631285954238200299958910693933057\n",
      "gerador (g): 3\n",
      "chave privada (s): 214139867211585054069234907043619824904\n",
      "---------------------------------------------------------------------------------\n",
      "----------------------------------Geração de chaves:--------------------------------------\n",
      "Parâmetro q gerado: 576855396714208406144785865786810240749\n",
      "Parâmetro p gerado: 7297302007964897948716318823900539744161057220539262611328226970117796904611976744371029183270748744710813483359626285232524288159772657293457147934639676195791882239935012247546893388028490809385591869198044101398949639602829214852792486810380730457395507893885927741909133078178868656281486387855006338963556127463384568997553116510116962813220734469800984577\n",
      "gerador (g): 3\n",
      "chave privada (s): 309861986842302640323603373427240938574\n",
      "---------------------------------------------------------------------------------\n",
      "----------------------------------Geração de chaves:--------------------------------------\n",
      "Parâmetro q gerado: 406199988636742463957939209977015071681\n",
      "Parâmetro p gerado: 76159507512142609818729211551714734585546241458837673974854348396324723073811513951535758694984204921764917398694542812422204898640384931528873301306477491946851308922494131711021014862922412829520730263841999066138954748541582334529701720846579731590595745674106265360142176903675582360223886711480385402524848757068163834076773203855311663654072798883574338699743646312113705944110428214230044534871783905266866004936688520918683355185153\n",
      "gerador (g): 3\n",
      "chave privada (s): 80632231630799923341749612596126458647\n",
      "---------------------------------------------------------------------------------\n",
      "----------------------------------Geração de chaves:--------------------------------------\n",
      "Parâmetro q gerado: 558062349787347741240217108196653284779\n",
      "Parâmetro p gerado: 802579884030277948979498186536200762609376748834071018717352582794561382828832887894146071374191843893459370221769644871421772363737546370987293533581307600225056455804263973597739053436694479454696008799664988814644640009911046511200695992406933883748630406775626346347216798291056007022720781311865708714092336097283475048314843477126908961882113\n",
      "gerador (g): 3\n",
      "chave privada (s): 457670704371894008041679104786659646522\n",
      "---------------------------------------------------------------------------------\n",
      "----------------------------------Geração de chaves:--------------------------------------\n",
      "Parâmetro q gerado: 517593998144470208426744853460301025703\n",
      "Parâmetro p gerado: 338504897485200625706601312928765323217832055536148253290997358329024672736207976126711951181838326677130810558378941075507376360548437070213790368825890337016511439142009227305664951305150668580471169043494313538301052716983989499419477618645815445258920743405893548254444657610441137404738469269738990390053149276989616456080757358593\n",
      "gerador (g): 3\n",
      "chave privada (s): 377893058809953255686842633751055956069\n",
      "---------------------------------------------------------------------------------\n",
      "----------------------------------Geração de chaves:--------------------------------------\n",
      "Parâmetro q gerado: 507903014849352553616197478780123834917\n",
      "Parâmetro p gerado: 14053183603987134369497405794463082819230496008664556227120975323048401842428298449055001965576383737342134071397409984377269197758737232861375212936837047887843020866841201558789784201686857653699108759881881539476921493832838678842968647562635720764721070802410742416761789403216177155268503705498338402986692429073639984033840521783148961497944885863982416896478055670470245198003674161951649414833677947421526778088362179238728643979134927487318426535329793\n",
      "gerador (g): 3\n",
      "chave privada (s): 462158457628871493123388877487785352743\n",
      "---------------------------------------------------------------------------------\n",
      "----------------------------------Geração de chaves:--------------------------------------\n",
      "Parâmetro q gerado: 640087937531746905943467991780008931967\n",
      "p não convergiu, novo valor de q:  409102620499554674402471098169954535149\n",
      "Parâmetro p gerado: 61960779346102017208610498126601647962216182210120140491637614426262809386685512928816041078165510201327578406416787635400613976498781903777149068519014640180356778650934219790888349699182975988963174392862906228695805462959173983139042779647089961411657742118352656282980891122286065198626794511901970527549970437636298971361431115357155543254049034112903218574388138642570805090816197515541483427829295708372993\n",
      "gerador (g): 3\n",
      "chave privada (s): 152221180142521614973067871772214144787\n",
      "---------------------------------------------------------------------------------\n"
     ]
    }
   ],
   "source": [
    "k = 20\n",
    "receiver = Receiver(k,n_mensagens,provider.pk[1]) # Receiver escolhe o conjunto I já na sua construção"
   ]
  },
  {
   "cell_type": "markdown",
   "id": "8d22e573-d251-43e0-82ca-e5727658cacf",
   "metadata": {},
   "source": [
    "### 1. O **Provider** gera o critério C_{k,n} e envia-o ao **Receiver**"
   ]
  },
  {
   "cell_type": "code",
   "execution_count": 21,
   "id": "ff1ab722-0503-4536-be78-911dffd58995",
   "metadata": {},
   "outputs": [],
   "source": [
    "provider.define_criterion(k)"
   ]
  },
  {
   "cell_type": "markdown",
   "id": "00b8cd93-0dc9-4734-b985-26168a1b35b1",
   "metadata": {},
   "source": [
    "### 2. O Receiver  escolhe um conjunto $\\,I \\subset \\{1,n\\}\\,$ , de tamanho $\\,\\#I = \\kappa\\,$ , que identifica os índices das mensagens que pretende recolher.  \n",
    "Seja $\\;e\\;$ a enumeração de $\\,I\\,$:  a função crescente $\\,e\\colon\\{1,\\kappa\\}\\to \\{1,n\\}\\;$  cuja imagem é $\\,I\\,$.\n",
    "\n",
    "O Receiver compromete-se com a escolha de mensagens da seguinte forma (dado o conjunto $I$ e a função crescente $e$):\n",
    "\n",
    "1. Gera aleatoriamente um segredo $\\,\\mathbf{s}\\,$ e , usando um XOF com$\\,\\mathbf{s}\\,$ como “seed”, constrói$\\,\\kappa\\,$  chaves privadas$\\,s_1,\\cdots,s_\\kappa\\,$ .\n",
    "2. Para cada$\\,i\\in \\{1,\\kappa\\}\\,$ gera chaves públicas $\\;\\upsilon_i \\gets \\mathsf{pk}(s_i)\\,$ e atribui o valor$\\,\\upsilon_i\\,$ à componente de ordem$\\,e(i)\\,$ do vector $\\,\\mathsf{p}\\;$; ou seja , executa$\\,$ $\\,\\mathsf{p}_{e(i)} \\gets \\upsilon_i\\,$\n",
    "3. Gera uma “tag” de autenticação$\\,$para a seleção$\\,I\\,$ e o segredo$\\,\\mathbf{s}\\,$\n",
    "\n",
    "$$\\,\\tau \\gets \\mathsf{hash}(I\\,,\\,\\mathbf{s})\\,$$"
   ]
  },
  {
   "cell_type": "markdown",
   "id": "b7ca6967-1be8-4e7b-bb07-639c27a377cf",
   "metadata": {},
   "source": [
    "(Definido na classe:)"
   ]
  },
  {
   "cell_type": "code",
   "execution_count": 22,
   "id": "d5d1e86f-8d6a-45f5-8264-06ecd532c95a",
   "metadata": {},
   "outputs": [
    {
     "name": "stdout",
     "output_type": "stream",
     "text": [
      "----------------------------------------------------------------------\n",
      "Seleção I: [79, 24, 3, 88, 96, 22, 97, 43, 57, 56, 23, 33, 0, 6, 53, 51, 28, 78, 8, 72]\n",
      "----------------------------------------------------------------------\n",
      "Função de enumeração e: {1: 0, 2: 3, 3: 6, 4: 8, 5: 22, 6: 23, 7: 24, 8: 28, 9: 33, 10: 43, 11: 51, 12: 53, 13: 56, 14: 57, 15: 72, 16: 78, 17: 79, 18: 88, 19: 96, 20: 97}\n",
      "----------------------------------------------------------------------\n",
      "Segredo s: 1770542929\n",
      "----------------------------------------------------------------------\n",
      "Chaves privadas s_i: [226885061370998964098354702329544267932, 178712025332514114829515272993095154187, 527408834047236640450652190479827982799, 436595198523929514097165485880435276671, 186783303180366133592672145674504211794, 140537400477684584179199104751971254909, 268711264571099086292722113046041843877, 178390265693830742827090273037613946003, 309800912060098770858160714005163176126, 106531227040635437936858043356432249503, 365024301089010526496162316528687501466, 226111550794779209198604652883830726430, 317989135036213304399916376188078831078, 214139867211585054069234907043619824904, 309861986842302640323603373427240938574, 80632231630799923341749612596126458647, 457670704371894008041679104786659646522, 377893058809953255686842633751055956069, 462158457628871493123388877487785352743, 152221180142521614973067871772214144787]\n",
      "----------------------------------------------------------------------\n",
      "Vetor p (com chaves públicas mapeadas): [(49600048414471097261822416922941709710968385036689142127186371308625012763030106433463560494490394217794012819828050985298094917622464124093216190509982762918043910596761797841474527544366974021861805002403181081849461069109784516979236049924076756744865654139877406610818536586265001914622608795694212102388206321978039054969621984652801837618523888306791023483612911840784961746354376898772993, 377569782642478873907115701018881956299, 3, 22717723164065415179675647333068428552736728466935953753961080149647107049257938104715801096803056847023197820208371194521221646267183153887146786561507506674452226398783337374093469292866287164954908375943749225693210288276079985660611734480716486603291587094413737255354647811769648888565881878403487840426660853781011260381687362282012164342898686739397614372262404052669384198986584646599973), 0, 0, (6940883303076822657853461559025834650333478542855730639208245340184580867919480917541941832065626881363819252449087732927940298447682925423182069251837101025575458732843780588017753438592659136751768897253741609608728429814503568611106881283129665934356692416548577117261780443604749176215955716507568111594294569047300342428267740659728295390044829284776691627181040300540385691496443042155630550773276887401778360579092531593019342991351891295144331203382014873395458720218739546013272098471937, 377442959734070604324618431942065683347, 3, 4114790305683264003800984287004258459222404285931236087740417334462298416754734359822924176351333810166276229606537182953860971112567148980803664287040589439601351656150767625614847700835724671641811755237570129618932752471786561009487737571686290715800363830547700041563803841164009044484045664374492984383394557034143516315627929607971909062204305901189513602328126913538712128103501260742945027521107632773357754501383894571868722874799658708358166135116758504479162847173271569600125008146016), 0, 0, (29825333217358013588518245272892070289998073084072865345681839231822431906619012524867638665021939957087442673603644518003383305310565922240074862480283413982121624855619029891739221719829679650753280273968197514247973650482593824910196605674627628539049480948749059289977407057979455169213581705214620217054214017895496478021087110654693258579159734150609664833235937970304987870513838667608337140815188430178768998351597022156537082323490223416064637710966500707726681906998607931626014927125890825549576040147447825596667165872157951866009509106318557762823086343466657155922931879406257685466168861052730901017463246863674667696129, 544783424612716769326324787863835723081, 3, 24992184684307146669238909651939330446332394989260372890740148801200284378984421715764385435142025112700141498177007663018245179826699392006557443944949547913415131054420533726883809628088063353851257048679001957956587181035638120068562008678230849331463814926655020946667819036839655066676293502137232202645580550275453886596238371038861129625360246787765503193727064881933701782860114343206292849430443748925128199342585914797701135392285303189002471778479490419013639313638726597711200298647711359107774402672103054124539528350944935343156425235833434277003020769906034893648485004975083492891826205085550718515511325479265065617755), 0, (8204005279937804524477610403136658060005678086287553525333183660014618082423898097482250749921640933351130764582682947325967459653126302020342085351236980595855240752829587895613587059135693181960853923029627521828313538191272517266827880507857366081385765500683725720756204872160892026569162974877677196802089027101304701596150033780621726634132293485024008497609687985037826651232536374863538130662534128332207419657151583465050537600989810867319442228179212882149377, 552283574924857118081932336461863922473, 3, 3881527640413500275161624116222785846143980787979667296710895027693403254715330870330097439644025830810340401207529605499649919434185303108774370066848968558920357788903963532550063013685553079088297671981404669031056638368134983840519330945906551260803738110427505207043521885383251235528908169483122762620160804163206393439505944320276949118741734632384924526774486076075746789377621600267431617340380081922574833846012724435718747778913058585155951647403256225751520), 0, 0, 0, 0, 0, 0, 0, 0, 0, 0, 0, 0, 0, (22148564622866357803533624635270901043466039429821637014551572488590287322266177017600659368608744477446627010532761788658466520865998142464174708532388409398262382552409124807834065286411972717295146839335083615940652487790270352853036377333420517747580825859616014073522172173770992216733910314099544013848992284673, 624726004541829363078319095619338650443, 3, 4377217873423076500376520334089779111160273053842135931018910519819893749341188691343897407884343572237538850082709281361918884862919119528548998507782388171519809679391292197593763636863217529134690262164464644490081434902373758883846340031181648370520516894716872384557078468946337031803011925979162462292558654817), (3985086920356624568285379074176946640961169287724348124584149489013248212561917783032874378977111346152023500259747661544450732902521363063436171389907701051577945399877676778356570227285932110975250892913779526699881952910472433129325432718045268810971592782903100361099463348006319901923035595497749338269160371429471917325319415447945935784021335254430343185040821707539663206522117572134146997109484798209787001727743419441001324860896544421063118113331126935484348399788680273488905631086222833182126761131049201512901780283342126902069315236602344041909514345184127651191217184499949854324499426413279875103715229697, 640274481240536773929201993106348696861, 3, 1753763011657589884807443505636001320674501955935230842258856454035410329863131931401940718457936889173759230965283330192377646850330601865536451823098274337193372893734019217979246547202462222544748117342400714868060837938330050445734844738507349673837030248590754059668603105447372968942655293386681703375867944404034189271822146615235372054750757268368209708247848405728341959117465277651942989960199869805351485704864249612583845517429506758841385577637173659659215466499388402865892195238147262822656622223775246211187390068969077687538590025631913816062609005991651397403279104691665200143971628894019655825907702793), (646076147247930129684835500927731561789159062915207741832902704058685652441419965493826474813514167326655231448279316058433660241013682494598246403412542507017057099685783344810806542547139529137867699391409805636070850811819123552636874920974255009853298620868452466926365320742519381029558864580020482845031475630548993574793122743685912825617822298309279359492543016927823294863017566803678086073001014854619958226179592117064596412475332859744286874545534864217132050843452699208006614989285399600094447800261003116631091170561540445346486270099646657308342586830133348514139442720107200410345544873403363160158411907666825641766095072951397946223865724873497220030987239610800601216092356070336062554113, 417448924420928976458352254245640328089, 3, 237292074329440438992260991677943517158455968308264278840047634394700153662844685014862695988605231731724057887133115352383659468376494081956116171454500695537283365744682611253437320985355172479294659164413168931161670924496154225375279298122802474153318669578180700484016348519625054412447177090808787600166066590058757595877272876197219133773218618705187173835940362905950899251744091718171175694359143233048593829132439080206858383014862805455592122115147298842975610986131145671719622105872055231436813388860839445154135742250682634395769454260662499510891763458619438538423897287770746107998563113894860763465922006770540852126495703711528047801078596300341475032417001475369256613492476189024030902336), 0, 0, 0, (472686502608527854588287415992018478391191931279739218935647451000904070916103800771254599226755579656530590987039137600816830361651875248361470592093590634142013807155810380111448098608904389621539035408505995747951128254683488053141048475149884024377197040856218450811926089520996144615555195139741750374646256402418220855863039306901762230575330141059597672115169295115909068410368695853885297113876283420353842392722225085397075748053848350881508145048861762334174966833045996414503755616866448107728657186817, 356722111972180623533512023831563633387, 3, 90085110919602333312719416403098683133616214847648018532974319154856720983129013034551034058744927238893726179905034506938352951236559140698452409537669488945506179415046173888625791230302150854783886493473832101814148337647277064824030515259143241258141963460966179800585796701782130938558973307461575359833751929814034948235416281220341506958996358122652618039054139881583051477706297052358507785054808907305990159867431088522108429592844373201814267248770175932772472320698487081135021147981068780208397654101), 0, 0, 0, 0, (430911500735001362509784505094606475983769635016589723104708569956294368707106072748344500924104834306725271508378935960368790221036306914334590100833298572349824534797378539856840877097671443468659989135321116781789050804455254223142463757120185235379557557120732853766584512934643756860243228952420250116161537, 398274057022616491890698042931358867637, 3, 421738352853459446778692953220806943468321795189181648539767122615315187963264463439848790512405891518442176389491707507355921992395380535694352104830916533917606521356805840054238160490382130280784473980291166102859891152943744855030305740909429145532424876101255374642786701681362368272708278208877228042715183), 0, 0, 0, 0, 0, 0, 0, 0, 0, (1027316252134987177955028471444664470143923933973923323267635120493609301870600808424868845458713316494956666784735783684450377447573383256822991519160571297280218290221975917742267742353882897517086326529952101084633056254103293643005277237405126276148622878528985679818839416759696812253522750041981878132775419663098949116272874422002100592728573464847558954056934165304964022273, 550299462676085255597480960755002796901, 3, 593470558180343739924098737919359211765701272596320144566371475431610682357435304969823897935969606708012575775633183339378706739365148775619323732535851478001025078929629970743447356035328698401302568448890409700286815996197097688360107663057878741561459033103913201441799768592622348031774127898171551611266057118016730533195465358880712347370229040172649199967098456794295189786), 0, 0, 0, 0, 0, 0, 0, (1211849977113108579858145339833919209783432697596401455921259163044289169585567530022636481909375188409090414272739076588038714671527050584666846377493749306941666891543461747132289932263059483672936417203895350929877472317798946429979792955667391819189803292929114790131313893502307685383140861354077513598636233956819419773485472591679073000404777102205276557773836252675135120499241063628474581360917315407743722629192154629800945574526267006393133635779913018299280205840901847208098746785039303813291012265999784152363688817077599177360042535839427361491774770979116694353796816136290035222786201067126387918361514750246913, 371370443156779752298343077470836703659, 3, 252234106909895372340461897001902775030815808921018178701291471812634092976753401369083822036961466038877653248938757828412990419340755024433218931944121333224384019636576337817818608031739349778431150268778929416332305971717464747380148057061869282307363520496293269942243073187177341025736279678064592456192138582284871138834798590578934728455504677692390625173451533981785457640039753389926839466810678275271630365528205058214471827016011161406820663843534568811948039839928750486075211162829890475883765180309196137575182281248018507585464515881817973621201939859856050321146968096991440335394133399770218684906995910402627), 0, (1678613623980915728980981331561300399497705924301561300612864732509078424875099349555122111763570812118503469811411982396037919304218985921666673355982907454802080067444692464342178481381073411453390997382721857428599118533065630427210226035375191580912500143150226521721165916421217008819186449679438774505314555732402878021633, 344496569739525158424498276506749957739, 3, 438536347456660036298302026982893092574566636372147258564377600088060797956302953059789167716083877361274141479315274032018636165101818693208528920232830499373451540431784111328636087237820643360006013189607094102804137944682748254472438125451962421723185228374749432346594061118860100359606579050667717053007951716008846612717), 0, 0, (2966619355911083435745220961215271771289775428730597132659065646883551363143356577773317637372952872518319746510524510672669060376140764122438657054581264768198456439034493864744567368747249564990649460889733625747578457090734410571601873891776142124176666759539616350092437647716851627347007241755047110558163037397820756769475988715615400832760328368236995216794993840489731688585209546361899969162190813629203614512924700768015887564425662762410066419327462014977, 409004394686674733735945403523833491479, 3, 689513427911110663967717974701687959416625419649444959295225666036100023329689571317746254966214956672776362483645818730943024975518809524289121743862703142616466389882683849326611848282475889143697086580675175268109872869457398760618425429172390812280440147664535432275856558105376532389497706203460389722949533260109024302661571253555281116814639495108730368686408301392749927550279958333311595121174451436651188971820848459441019432434186213155903551682663633187), (6715360235102280331085184680594128038778055402994255570332320627059435514289303190863215876812239257835693506677761097856957663607224091505825328351728807868284598149637193647522891855210755642979191673355136751856844059493631609977054012353368063633292403745632536630276936644382543123976912007400891457200959889213173437822875550294366898655940282074341160833458118229079949868540919935164396637466368139183027168846348823651571775600590069243173390683825917665037214329717961039542496049011378984171798663323697631285954238200299958910693933057, 488018891230291774386970047644127306001, 3, 4023628332938813424335671227233148988126783350368798005277427392664410831791293546274075068099525108956113352591550666551649921317565231231431108262885232529367662260021508914311716712177999892517077035092582861575878408037063691795155714216710997856783965353187948083545314927773725753121760161254587599318741004362519767979062097252278275782126035402132515328054233159139088161039866351896875339524723817964429674055527672970335876530138107289737386483707887396567085580753850017328816575958339038521569343519773731379582156248555604294299023967), 0, 0, 0, 0, 0, 0, 0, 0, 0, 0, 0, 0, 0, 0, (7297302007964897948716318823900539744161057220539262611328226970117796904611976744371029183270748744710813483359626285232524288159772657293457147934639676195791882239935012247546893388028490809385591869198044101398949639602829214852792486810380730457395507893885927741909133078178868656281486387855006338963556127463384568997553116510116962813220734469800984577, 576855396714208406144785865786810240749, 3, 5852327801984554043299425950503182217745615013172429931796914252171221588529256590481486887140328013869697274970089464422116580336641056838370007262958078921532762781593048504618836329845007167815916284535963458781155723202991199443565545419598869564836751607833010315614629650046401552755183453383027913569861195286485327357335597867573328427902881846728507816), 0, 0, 0, 0, 0, (76159507512142609818729211551714734585546241458837673974854348396324723073811513951535758694984204921764917398694542812422204898640384931528873301306477491946851308922494131711021014862922412829520730263841999066138954748541582334529701720846579731590595745674106265360142176903675582360223886711480385402524848757068163834076773203855311663654072798883574338699743646312113705944110428214230044534871783905266866004936688520918683355185153, 406199988636742463957939209977015071681, 3, 69791332942471571475417010461109898294048559061901724861951896621614825962908869828154502183592831405288088614866043220688407018202401626182510935376225264696519099515209736682671560916664526373417254367334147918153274858097311984188641208955330241641254500010931500403389917130839665972298471487866695675417586064257453361575606583732524780595928080469969578077400898096585451994506747198009046414931044038784534772852430278027693203543075), (802579884030277948979498186536200762609376748834071018717352582794561382828832887894146071374191843893459370221769644871421772363737546370987293533581307600225056455804263973597739053436694479454696008799664988814644640009911046511200695992406933883748630406775626346347216798291056007022720781311865708714092336097283475048314843477126908961882113, 558062349787347741240217108196653284779, 3, 405750694871095883146408525439657574167793362252278077570558967099793033623266262714445129911383851859328879399160736486472570363384101887478436903216380015192665847553951003702158849946624503812994127804692795947778274206059381237755982718620789785375297277013581120503451933931260776895885669964156772512554047526811214157816614076214665054505472), 0, 0, 0, 0, 0, 0, 0, 0, (338504897485200625706601312928765323217832055536148253290997358329024672736207976126711951181838326677130810558378941075507376360548437070213790368825890337016511439142009227305664951305150668580471169043494313538301052716983989499419477618645815445258920743405893548254444657610441137404738469269738990390053149276989616456080757358593, 517593998144470208426744853460301025703, 3, 285739108823250824961465689037225216416578538121983729160682951719199030709162138772408901977742115984956407196249996165607738361667262396916085149305349320801698854812798752099151911639345326858149656265728050645352669483035813383468128637988056577419418637328167022411080458313133612798682003008769564669327907601459345121414207767956), 0, 0, 0, 0, 0, 0, 0, (14053183603987134369497405794463082819230496008664556227120975323048401842428298449055001965576383737342134071397409984377269197758737232861375212936837047887843020866841201558789784201686857653699108759881881539476921493832838678842968647562635720764721070802410742416761789403216177155268503705498338402986692429073639984033840521783148961497944885863982416896478055670470245198003674161951649414833677947421526778088362179238728643979134927487318426535329793, 507903014849352553616197478780123834917, 3, 5205913972817202341639258053211842776284765124475296500052014902902387527050559308490864348901508049384684089763375896438914730439868375796502617911035246996532931497397292986925759255488236494038982633044676451791677392438569542828610362522609246811001406136232318290631571681318825259947470255479426429428494926664360674841006827259285277468971701531977692613112088394873795791264641591022082019643163082134857547891659964029627550319547389003145542124863712), (61960779346102017208610498126601647962216182210120140491637614426262809386685512928816041078165510201327578406416787635400613976498781903777149068519014640180356778650934219790888349699182975988963174392862906228695805462959173983139042779647089961411657742118352656282980891122286065198626794511901970527549970437636298971361431115357155543254049034112903218574388138642570805090816197515541483427829295708372993, 409102620499554674402471098169954535149, 3, 30683573496770888422326847043364365638419015877229048121265881369011563758395275058537618312502072335607099322202473526960620423180915487982337871790770366822611980921650171749677910103238811576036416081504943654305104574166666355098275251794540659515554189579392836983897403679864003596592239810863715553490799815545929042047684375982910159306362743482098737019305752030491946900900872244788721601377660340696968), 0, 0]\n",
      "----------------------------------------------------------------------\n",
      "Tag de autenticação τ: b'D\\x16+\\xa4\\xb3\\xed\\x01\\xdf\\x9fx\\xdb\\x01\\xbeLM\\xc6M\\xf1{q\\xec\\xe8c\\xeb\\xf9\\x8d\\x8b\\xbe\\x1f\\xc5R\\xb4'\n",
      "----------------------------------------------------------------------\n"
     ]
    }
   ],
   "source": [
    "receiver.print_info()"
   ]
  },
  {
   "cell_type": "markdown",
   "id": "4b6dd2ea-f0c7-4dea-80a3-c9c59763042a",
   "metadata": {},
   "source": [
    "Em seguida completa a definição de $\\,\\mathsf{p}\\,$ atribuindo às compompentes $\\,\\{\\mathsf{p}_j\\}_{j\\in\\!\\!\\!/I}$valores tais que o vetor de chaves públicas  $\\,\\mathsf{p}\\,$ seja aceite pelo critério $\\,\\mathcal{C}_{\\kappa,n}\\,$."
   ]
  },
  {
   "cell_type": "markdown",
   "id": "065979eb-ead7-41f7-916f-88207af2e2fb",
   "metadata": {},
   "source": [
    "Para que o vetor **p** satisfaça a equação $p×A=u$, onde **A** é a matriz gerada pelo critério $C_{k,n}$ e **u** é o vetor correspondente, o Receiver precisa preencher os espaços em **p** que não foram preenchidos pelas chaves públicas de forma que a equação seja satisfeita.\n",
    "\n",
    "Mais concretamente essa forma de completar o vetor é descrita na classe Receiver:"
   ]
  },
  {
   "cell_type": "raw",
   "id": "5916350a-5eff-4e43-90dd-3c7e15601638",
   "metadata": {},
   "source": [
    "def complete_p_vector(self, A, u):\n",
    "    \"\"\"Completa o vetor p para satisfazer p * A = u no corpo finito Z_q\"\"\"\n",
    "    Zq = GF(self.q)  # Define o corpo finito Z_q\n",
    "\n",
    "    # Identificar os índices já preenchidos (valores diferentes de 0)\n",
    "    filled_indices = [i for i in range(self.n_mensagens) if self.p[i] != 0]\n",
    "    filled_values = vector(Zq, [self.p[i][0] if isinstance(self.p[i], tuple) else self.p[i] for i in filled_indices])\n",
    "\n",
    "    # Criar a matriz A_filled (linhas correspondentes aos índices preenchidos)\n",
    "    A_filled = matrix(Zq, [A[i] for i in filled_indices])\n",
    "\n",
    "    # Criar a matriz A_empty (linhas correspondentes aos índices vazios, ou seja, onde p[i] == 0)\n",
    "    A_empty = matrix(Zq, [A[i] for i in range(A.nrows()) if i not in filled_indices])\n",
    "\n",
    "    # Calcular u' = u - (filled_values * A_filled)\n",
    "    u_prime = vector(Zq, u) - filled_values * A_filled\n",
    "\n",
    "    # Resolver o sistema linear A_empty^T * p_empty = u' no corpo finito Z_q\n",
    "    try:\n",
    "        A_empty_T = A_empty.transpose()\n",
    "        p_empty = A_empty_T.solve_right(u_prime)\n",
    "    except:\n",
    "        # Se o sistema for singular, tentar solução alternativa (ex: mínimos quadrados)\n",
    "        p_empty = A_empty_T.pseudoinverse() * u_prime\n",
    "\n",
    "    # Preencher os elementos desconhecidos no vetor p (apenas onde p[i] == 0)\n",
    "    empty_indices = [i for i in range(self.n_mensagens) if self.p[i] == 0]\n",
    "    for i, idx in enumerate(empty_indices):\n",
    "        # Gerar uma chave \"má\" como uma tupla de 4 dimensões\n",
    "        # Aqui, você pode usar a função gen_keys para gerar uma nova chave (p, q, g, g^s)\n",
    "        # Ou, se preferir, usar valores padrão ou aleatórios para as chaves \"más\"\n",
    "        p_mau, q_mau, g_mau, gs_mau = self.gen_mau_keys()  # Exemplo de função para gerar chaves \"más\"\n",
    "        self.p[idx] = (int(p_empty[i]), q_mau, g_mau, gs_mau)  # Tupla de 4 dimensões\n",
    "\n",
    "    return self.p"
   ]
  },
  {
   "cell_type": "markdown",
   "id": "953a8d43-94d2-4180-bf97-a07af2bc723b",
   "metadata": {},
   "source": [
    "O código realiza a seguinte sequência de operações para completar o vetor p de forma que satisfaça a equação p×A=up×A=u no corpo finito $Z_q$:\n",
    "\n",
    "- Definição do corpo finito $Z_q$ usando ```GF(self.q)```.\n",
    "\n",
    "- Identificação dos índices preenchidos no vetor $p$ usando ```filled_indices```, que são obtidos a partir dos valores em ```self.e```. Os valores correspondentes a esses índices são armazenados em ```filled_values```.\n",
    "\n",
    "- Criação das matriz ```A_filled```  partir das linhas da matriz $A$ correspondentes aos índices preenchidos.\n",
    "\n",
    "- Criação das matriz ```A_empty``` a partir das linhas da matriz $A$ correspondentes aos índices vazios.\n",
    "\n",
    "- Cálculo do vetor $u′$ subtraindo a contribuição dos elementos preenchidos de $u$, ou seja, ```u′ = u − (filled_values × A_filled)```.\n",
    "\n",
    "- Resolução do sistema linear $p_{empty} = A_{empty}^T . u′$ para preencher os valores desconhecidos de $p$ (chaves \"más\").\n",
    "\n",
    "- Preenchimento de p, colocando os valores de $p_{empty}$ índices correspondentes no vetor p."
   ]
  },
  {
   "cell_type": "markdown",
   "id": "120e284b-2ec9-4bf2-b5f5-3d6ade367884",
   "metadata": {},
   "source": [
    "Finalmente o Receiver envia ao Provider a “tag” $\\,\\tau\\,$ e o vetor $\\,\\mathsf{p}\\,$"
   ]
  },
  {
   "cell_type": "code",
   "execution_count": 23,
   "id": "a46b4b2e-be22-4c48-a4f7-154e9a447fa4",
   "metadata": {},
   "outputs": [],
   "source": [
    "completed_p = receiver.complete_p_vector(provider.criterion.A, provider.criterion.u)\n",
    "tau = receiver.tau"
   ]
  },
  {
   "cell_type": "markdown",
   "id": "f066028d-2423-4c94-8c59-76ef80691e65",
   "metadata": {},
   "source": [
    "### 3. O Provider  determina  $\\,\\mathcal{C}_{\\kappa,n}(\\mathsf{p})\\,$; se $\\,\\mathsf{p}\\,$ não for aceite pelo critério então aborta o protocolo.\n",
    "\n",
    "Se $\\,\\mathsf{p}\\,$  for aceite,  então usa  a variante IND-CCA  da cifra IND-CPA com a “tag”  $\\tau$\n",
    "\n",
    "$$E'_{p}(x,\\tau)\\;\\equiv\\;\\vartheta\\,r\\gets \\{0,1\\}^\\lambda\\,\\centerdot\\,\\vartheta\\,y \\gets x\\oplus g(r)\\,\\centerdot\\,\\vartheta\\,r'\\gets h(r,y,\\tau)\\,\\centerdot\\,\\vartheta\\,c\\gets f_p(r,r') \\,\\centerdot\\, (y\\,,\\,c)$$\n",
    "\n",
    "cuja característica específica é o facto de se incluir o “tag” $\\,\\tau\\,$ no “hash”  $\\;h(r,y,\\tau)\\;$usado para construir a pseudo-aleatoriedade $\\,r'\\,$.\n",
    "\n",
    "Usando esta cifra o Provider  constrói $\\,n\\,$ criptogramas \n",
    "$$\\;(y_i,c_i) \\gets E'_{p_i}(m_i)\\quad$$  com $\\,i\\in\\{1,n\\}$\n",
    "que envia para o Receiver."
   ]
  },
  {
   "cell_type": "markdown",
   "id": "9556f1b0-27e2-4db3-a2fc-3bc5a7f1be87",
   "metadata": {},
   "source": [
    "Iremos definir um novo \"hash\" pseudo-aleatório $h$ para que consiga receber como argumento a tag $\\tau$:"
   ]
  },
  {
   "cell_type": "code",
   "execution_count": 24,
   "id": "27a135fe-a875-43b6-90cd-d5f72b462b2a",
   "metadata": {},
   "outputs": [],
   "source": [
    "def h_OT(r,y,t):\n",
    "    \"\"\"Hash pseudoaleatório h(r, y, t) com tamanho lambda_bits\"\"\"\n",
    "    h = hashlib.sha512()\n",
    "    r_bytes = r.to_bytes((r.bit_length() + 7) // 8, 'big')\n",
    "    ry = bytes(a ^^ b for a, b in zip(r_bytes, y))\n",
    "    ryt = bytes(a ^^ b for a, b in zip(ry, t))\n",
    "    h.update(ryt)\n",
    "    full_hash = h.digest()[:lambda_bits // 8]  # Truncar para lambda bits\n",
    "    #print(\"h(r, y) hash:\", full_hash)\n",
    "    return full_hash"
   ]
  },
  {
   "cell_type": "markdown",
   "id": "264a2b55-c2e5-459c-81d1-b7fb4c5708e5",
   "metadata": {},
   "source": [
    "E definir a cifra, que na realidade irá ser a do exercício 1.b. mas com um argumento extra $\\tau$:"
   ]
  },
  {
   "cell_type": "code",
   "execution_count": 25,
   "id": "a73b621c-26a5-429f-8f18-46ecebe31ba1",
   "metadata": {},
   "outputs": [],
   "source": [
    "def f_p_OT(pk, r, rlinha):\n",
    "    p, q, g, g_s = pk\n",
    "    # Verificar se p é primo\n",
    "    if not is_prime(p):\n",
    "        raise ValueError(f\"p = {p} não é um número primo. Não é possível criar o corpo finito GF(p).\")\n",
    "\n",
    "\n",
    "    # Calcular gamma e kappa\n",
    "    gamma = pow(g, rlinha, p)  # γ = g^ω mod p\n",
    "    kappa = pow(g_s, rlinha, p)  # κ = (g^s)^ω mod p\n",
    "\n",
    "    # Multiplicar r_fp por kappa no corpo finito F_p\n",
    "    result = (r * kappa) % p\n",
    "\n",
    "    return (gamma, result)"
   ]
  },
  {
   "cell_type": "code",
   "execution_count": 26,
   "id": "ab34d697-5152-4a5d-8339-854458f77f13",
   "metadata": {},
   "outputs": [],
   "source": [
    "def enc_fujisaki_OT(pk,x,t):\n",
    "    # r gerado aleatoriamente com lambda bits\n",
    "    r = ZZ.random_element(2^(lambda_bits - 1), 2^lambda_bits)\n",
    "\n",
    "    # y = x XOR g(r)\n",
    "    y = bytes(a ^^ b for a, b in zip(x, g(r)))\n",
    "\n",
    "    # r' = h(r,y,tau)\n",
    "    rlinha = h_OT(r,y,t)\n",
    "    print(rlinha)\n",
    "\n",
    "    # c gerado a partir do núcleo determinístico \n",
    "    c = f_p_OT(pk,r,int.from_bytes(rlinha,\"big\"))\n",
    "\n",
    "    #Devolver criptograma\n",
    "    return (y,c)"
   ]
  },
  {
   "cell_type": "markdown",
   "id": "a2a7675d-45fd-4fd1-99f0-b0ebf80921a9",
   "metadata": {},
   "source": [
    "Determinamos então $C_{k,n}(p)$, se este for aceite ciframos todas as mensagens com as chaves públicas fornecidas em $p$:"
   ]
  },
  {
   "cell_type": "code",
   "execution_count": 29,
   "id": "20be9d20-d087-48a5-a49e-7820d0b7f251",
   "metadata": {},
   "outputs": [
    {
     "name": "stdout",
     "output_type": "stream",
     "text": [
      "p_values: [49600048414471097261822416922941709710968385036689142127186371308625012763030106433463560494490394217794012819828050985298094917622464124093216190509982762918043910596761797841474527544366974021861805002403181081849461069109784516979236049924076756744865654139877406610818536586265001914622608795694212102388206321978039054969621984652801837618523888306791023483612911840784961746354376898772993, 3738764474523369354855148753009499208497, 43951977694132208255731882404579945047297, 6940883303076822657853461559025834650333478542855730639208245340184580867919480917541941832065626881363819252449087732927940298447682925423182069251837101025575458732843780588017753438592659136751768897253741609608728429814503568611106881283129665934356692416548577117261780443604749176215955716507568111594294569047300342428267740659728295390044829284776691627181040300540385691496443042155630550773276887401778360579092531593019342991351891295144331203382014873395458720218739546013272098471937, 3239255672654246085932438763865959375473, 11873931809704059093492024622051699122113, 29825333217358013588518245272892070289998073084072865345681839231822431906619012524867638665021939957087442673603644518003383305310565922240074862480283413982121624855619029891739221719829679650753280273968197514247973650482593824910196605674627628539049480948749059289977407057979455169213581705214620217054214017895496478021087110654693258579159734150609664833235937970304987870513838667608337140815188430178768998351597022156537082323490223416064637710966500707726681906998607931626014927125890825549576040147447825596667165872157951866009509106318557762823086343466657155922931879406257685466168861052730901017463246863674667696129, 20179461338687050627558899553023772902593, 8204005279937804524477610403136658060005678086287553525333183660014618082423898097482250749921640933351130764582682947325967459653126302020342085351236980595855240752829587895613587059135693181960853923029627521828313538191272517266827880507857366081385765500683725720756204872160892026569162974877677196802089027101304701596150033780621726634132293485024008497609687985037826651232536374863538130662534128332207419657151583465050537600989810867319442228179212882149377, 5113578486254904069092070999395403805457, 26248937293761608187151774216484820126593, 3429097737390115508723829377253275129297, 6854055144976305074650844566559499155489, 168975232977368061583257048254179529468417, 36430092024451938751639753379423799198593, 81264811425149123226506790316994767604993, 2530812638687378390405346430405208362937, 746007608089162268412080481214886019293, 20574242768703287047426403732451254936513, 85816324186306786421774831847946971342593, 868096087654170463275880810377976593077, 6754182119554193026816764001104326666657, 22148564622866357803533624635270901043466039429821637014551572488590287322266177017600659368608744477446627010532761788658466520865998142464174708532388409398262382552409124807834065286411972717295146839335083615940652487790270352853036377333420517747580825859616014073522172173770992216733910314099544013848992284673, 3985086920356624568285379074176946640961169287724348124584149489013248212561917783032874378977111346152023500259747661544450732902521363063436171389907701051577945399877676778356570227285932110975250892913779526699881952910472433129325432718045268810971592782903100361099463348006319901923035595497749338269160371429471917325319415447945935784021335254430343185040821707539663206522117572134146997109484798209787001727743419441001324860896544421063118113331126935484348399788680273488905631086222833182126761131049201512901780283342126902069315236602344041909514345184127651191217184499949854324499426413279875103715229697, 646076147247930129684835500927731561789159062915207741832902704058685652441419965493826474813514167326655231448279316058433660241013682494598246403412542507017057099685783344810806542547139529137867699391409805636070850811819123552636874920974255009853298620868452466926365320742519381029558864580020482845031475630548993574793122743685912825617822298309279359492543016927823294863017566803678086073001014854619958226179592117064596412475332859744286874545534864217132050843452699208006614989285399600094447800261003116631091170561540445346486270099646657308342586830133348514139442720107200410345544873403363160158411907666825641766095072951397946223865724873497220030987239610800601216092356070336062554113, 3778502540408348677288937485027301170577, 1877564709782232240936503030645248661993, 120068998969400100985847683259545607838209, 472686502608527854588287415992018478391191931279739218935647451000904070916103800771254599226755579656530590987039137600816830361651875248361470592093590634142013807155810380111448098608904389621539035408505995747951128254683488053141048475149884024377197040856218450811926089520996144615555195139741750374646256402418220855863039306901762230575330141059597672115169295115909068410368695853885297113876283420353842392722225085397075748053848350881508145048861762334174966833045996414503755616866448107728657186817, 6580238651291160018983850221253729561569, 830909715515526594879689994050288575877, 73146370669316019628256415097861559356673, 978610007553190094532889674597027679037, 430911500735001362509784505094606475983769635016589723104708569956294368707106072748344500924104834306725271508378935960368790221036306914334590100833298572349824534797378539856840877097671443468659989135321116781789050804455254223142463757120185235379557557120732853766584512934643756860243228952420250116161537, 465050949378300401356338532297186017203, 20400112910565434609430003143963072650817, 10357572155281224639536891627935416241889, 1058411850962983760080398380223332093189, 377767746397385759745403497587731524599, 8667609499336515364405775881119018237473, 78244744567003147892134343647337543646977, 361764574864578442995778991924447330603, 6288725619068788877079561292157624880737, 1027316252134987177955028471444664470143923933973923323267635120493609301870600808424868845458713316494956666784735783684450377447573383256822991519160571297280218290221975917742267742353882897517086326529952101084633056254103293643005277237405126276148622878528985679818839416759696812253522750041981878132775419663098949116272874422002100592728573464847558954056934165304964022273, 7997836078272722528258694903449123160353, 521062998199453095976684950168205011863, 17991485772482982605382542103370832614337, 9129781980231210099531903401112489993953, 434168763419967236877815332350658642163, 18216335730535825531361434682930717236673, 55085502446110439125649270474419064627969, 1211849977113108579858145339833919209783432697596401455921259163044289169585567530022636481909375188409090414272739076588038714671527050584666846377493749306941666891543461747132289932263059483672936417203895350929877472317798946429979792955667391819189803292929114790131313893502307685383140861354077513598636233956819419773485472591679073000404777102205276557773836252675135120499241063628474581360917315407743722629192154629800945574526267006393133635779913018299280205840901847208098746785039303813291012265999784152363688817077599177360042535839427361491774770979116694353796816136290035222786201067126387918361514750246913, 37618870352707643816002822463168894394497, 1678613623980915728980981331561300399497705924301561300612864732509078424875099349555122111763570812118503469811411982396037919304218985921666673355982907454802080067444692464342178481381073411453390997382721857428599118533065630427210226035375191580912500143150226521721165916421217008819186449679438774505314555732402878021633, 6745152752711499361983220779522769915169, 496897186480076807802019799557671203027, 2966619355911083435745220961215271771289775428730597132659065646883551363143356577773317637372952872518319746510524510672669060376140764122438657054581264768198456439034493864744567368747249564990649460889733625747578457090734410571601873891776142124176666759539616350092437647716851627347007241755047110558163037397820756769475988715615400832760328368236995216794993840489731688585209546361899969162190813629203614512924700768015887564425662762410066419327462014977, 6715360235102280331085184680594128038778055402994255570332320627059435514289303190863215876812239257835693506677761097856957663607224091505825328351728807868284598149637193647522891855210755642979191673355136751856844059493631609977054012353368063633292403745632536630276936644382543123976912007400891457200959889213173437822875550294366898655940282074341160833458118229079949868540919935164396637466368139183027168846348823651571775600590069243173390683825917665037214329717961039542496049011378984171798663323697631285954238200299958910693933057, 30099415466403444482212930152826572689537, 53421011931904773921423634930080949186817, 9088751755949702547350868873450551389409, 15414401442321707526263579118598988095169, 790173594451986879828785829340024721813, 12126541545571117608352535549174892079169, 28324531014611940350855491360958268853889, 60352008422972312353736529543333983001857, 50276765632953678929795899315206502204673, 435956029996467373712321864790016616579, 3868405791294011463959814334728695519729, 41764162804236751333435525885993344989057, 14687934316746421212091907186880426177473, 140330185034418793734355883264354840386049, 7297302007964897948716318823900539744161057220539262611328226970117796904611976744371029183270748744710813483359626285232524288159772657293457147934639676195791882239935012247546893388028490809385591869198044101398949639602829214852792486810380730457395507893885927741909133078178868656281486387855006338963556127463384568997553116510116962813220734469800984577, 15004286757625824146976941277280157210177, 735699635871046414956878551154847064517, 11724582210335229884701019554537068928193, 585510999552003570752152681098626102567, 1935213587472863578739518255365122221577, 76159507512142609818729211551714734585546241458837673974854348396324723073811513951535758694984204921764917398694542812422204898640384931528873301306477491946851308922494131711021014862922412829520730263841999066138954748541582334529701720846579731590595745674106265360142176903675582360223886711480385402524848757068163834076773203855311663654072798883574338699743646312113705944110428214230044534871783905266866004936688520918683355185153, 802579884030277948979498186536200762609376748834071018717352582794561382828832887894146071374191843893459370221769644871421772363737546370987293533581307600225056455804263973597739053436694479454696008799664988814644640009911046511200695992406933883748630406775626346347216798291056007022720781311865708714092336097283475048314843477126908961882113, 52567031157883790216366759665026261530369, 73380413993115798813985763760971245489409, 2188027851390543439341794768333502430409, 502923890283268583677513719683778146219, 3467610896610352425094105547227384145489, 1142007078825919290709291874913492876677, 5339100785931694475010801762646432452593, 39167519786371042268006472760902848215169, 338504897485200625706601312928765323217832055536148253290997358329024672736207976126711951181838326677130810558378941075507376360548437070213790368825890337016511439142009227305664951305150668580471169043494313538301052716983989499419477618645815445258920743405893548254444657610441137404738469269738990390053149276989616456080757358593, 373951329020871365048372717036288564927, 30309605850131129151235385945030768437889, 995535368506911105475419423601435695173, 13752801535235366201323123665578674813889, 551725344825349984493941557991401049307, 11429672222774013397709170513532457736769, 3710387678792114775594016653623612187377, 14053183603987134369497405794463082819230496008664556227120975323048401842428298449055001965576383737342134071397409984377269197758737232861375212936837047887843020866841201558789784201686857653699108759881881539476921493832838678842968647562635720764721070802410742416761789403216177155268503705498338402986692429073639984033840521783148961497944885863982416896478055670470245198003674161951649414833677947421526778088362179238728643979134927487318426535329793, 61960779346102017208610498126601647962216182210120140491637614426262809386685512928816041078165510201327578406416787635400613976498781903777149068519014640180356778650934219790888349699182975988963174392862906228695805462959173983139042779647089961411657742118352656282980891122286065198626794511901970527549970437636298971361431115357155543254049034112903218574388138642570805090816197515541483427829295708372993, 372582490160405955163014644483121027623, 125728903687996761082536006204030211872257]\n",
      "------------------------------------------------------------------------\n",
      "O vetor p foi aceite\n",
      "p final:[ \n",
      "(49600048414471097261822416922941709710968385036689142127186371308625012763030106433463560494490394217794012819828050985298094917622464124093216190509982762918043910596761797841474527544366974021861805002403181081849461069109784516979236049924076756744865654139877406610818536586265001914622608795694212102388206321978039054969621984652801837618523888306791023483612911840784961746354376898772993, 377569782642478873907115701018881956299, 3, 22717723164065415179675647333068428552736728466935953753961080149647107049257938104715801096803056847023197820208371194521221646267183153887146786561507506674452226398783337374093469292866287164954908375943749225693210288276079985660611734480716486603291587094413737255354647811769648888565881878403487840426660853781011260381687362282012164342898686739397614372262404052669384198986584646599973)\n",
      "(3738764474523369354855148753009499208497, 233672779657710584678446797063093700531, 3, 1212347338484070514235659731913756532083)\n",
      "(43951977694132208255731882404579945047297, 171687412867703938498952665642890410341, 3, 29436595181579033999106142096073288231602)\n",
      "(6940883303076822657853461559025834650333478542855730639208245340184580867919480917541941832065626881363819252449087732927940298447682925423182069251837101025575458732843780588017753438592659136751768897253741609608728429814503568611106881283129665934356692416548577117261780443604749176215955716507568111594294569047300342428267740659728295390044829284776691627181040300540385691496443042155630550773276887401778360579092531593019342991351891295144331203382014873395458720218739546013272098471937, 377442959734070604324618431942065683347, 3, 4114790305683264003800984287004258459222404285931236087740417334462298416754734359822924176351333810166276229606537182953860971112567148980803664287040589439601351656150767625614847700835724671641811755237570129618932752471786561009487737571686290715800363830547700041563803841164009044484045664374492984383394557034143516315627929607971909062204305901189513602328126913538712128103501260742945027521107632773357754501383894571868722874799658708358166135116758504479162847173271569600125008146016)\n",
      "(3239255672654246085932438763865959375473, 202453479540890380370777422741622460967, 3, 2290992427395880689740869384223344711461)\n",
      "(11873931809704059093492024622051699122113, 185530184526625923335812884719557798783, 3, 3845817391975962876358641782753322912003)\n",
      "(29825333217358013588518245272892070289998073084072865345681839231822431906619012524867638665021939957087442673603644518003383305310565922240074862480283413982121624855619029891739221719829679650753280273968197514247973650482593824910196605674627628539049480948749059289977407057979455169213581705214620217054214017895496478021087110654693258579159734150609664833235937970304987870513838667608337140815188430178768998351597022156537082323490223416064637710966500707726681906998607931626014927125890825549576040147447825596667165872157951866009509106318557762823086343466657155922931879406257685466168861052730901017463246863674667696129, 544783424612716769326324787863835723081, 3, 24992184684307146669238909651939330446332394989260372890740148801200284378984421715764385435142025112700141498177007663018245179826699392006557443944949547913415131054420533726883809628088063353851257048679001957956587181035638120068562008678230849331463814926655020946667819036839655066676293502137232202645580550275453886596238371038861129625360246787765503193727064881933701782860114343206292849430443748925128199342585914797701135392285303189002471778479490419013639313638726597711200298647711359107774402672103054124539528350944935343156425235833434277003020769906034893648485004975083492891826205085550718515511325479265065617755)\n",
      "(20179461338687050627558899553023772902593, 315304083416985166055607805515996451603, 3, 15110901486159267464961633934939503141734)\n",
      "(8204005279937804524477610403136658060005678086287553525333183660014618082423898097482250749921640933351130764582682947325967459653126302020342085351236980595855240752829587895613587059135693181960853923029627521828313538191272517266827880507857366081385765500683725720756204872160892026569162974877677196802089027101304701596150033780621726634132293485024008497609687985037826651232536374863538130662534128332207419657151583465050537600989810867319442228179212882149377, 552283574924857118081932336461863922473, 3, 3881527640413500275161624116222785846143980787979667296710895027693403254715330870330097439644025830810340401207529605499649919434185303108774370066848968558920357788903963532550063013685553079088297671981404669031056638368134983840519330945906551260803738110427505207043521885383251235528908169483122762620160804163206393439505944320276949118741734632384924526774486076075746789377621600267431617340380081922574833846012724435718747778913058585155951647403256225751520)\n",
      "(5113578486254904069092070999395403805457, 319598655390931504318254437462212737841, 3, 3611679189166061315319739028554358076648)\n",
      "(26248937293761608187151774216484820126593, 205069822607512563962123236066287657239, 3, 9502234014962847819728223520964572671807)\n",
      "(3429097737390115508723829377253275129297, 214318608586882219295239336078329695581, 3, 172231623438944301274806484264197032831)\n",
      "(6854055144976305074650844566559499155489, 214189223280509533582838892704984348609, 3, 3311154272422664791356757842652027960796)\n",
      "(168975232977368061583257048254179529468417, 330029751908921995279798922371444393493, 3, 85161469662215053124221082723465481093539)\n",
      "(36430092024451938751639753379423799198593, 284610093941030771497185573276748431239, 3, 3494338558688148285153170076656202591867)\n",
      "(81264811425149123226506790316994767604993, 317440669629488762603542149675760810957, 3, 29243491899587105881109166190114085330128)\n",
      "(2530812638687378390405346430405208362937, 316351579835922298800668303800651045367, 3, 365849907063315088477116734470325387760)\n",
      "(746007608089162268412080481214886019293, 186501902022290567103020120303721504823, 2, 597513081581075981451508577391005069682)\n",
      "(20574242768703287047426403732451254936513, 321472543260988860116037558319550858383, 3, 17071570048918691024438347681364640286349)\n",
      "(85816324186306786421774831847946971342593, 335220016352760884460057936906042856807, 3, 55085933442511160676457327403092405653386)\n",
      "(868096087654170463275880810377976593077, 217024021913542615818970202594494148269, 2, 734976350487367231931353122758950650808)\n",
      "(6754182119554193026816764001104326666657, 211068191236068532088023875034510208333, 3, 1929264638668188673906102236677031090048)\n",
      "(22148564622866357803533624635270901043466039429821637014551572488590287322266177017600659368608744477446627010532761788658466520865998142464174708532388409398262382552409124807834065286411972717295146839335083615940652487790270352853036377333420517747580825859616014073522172173770992216733910314099544013848992284673, 624726004541829363078319095619338650443, 3, 4377217873423076500376520334089779111160273053842135931018910519819893749341188691343897407884343572237538850082709281361918884862919119528548998507782388171519809679391292197593763636863217529134690262164464644490081434902373758883846340031181648370520516894716872384557078468946337031803011925979162462292558654817)\n",
      "(3985086920356624568285379074176946640961169287724348124584149489013248212561917783032874378977111346152023500259747661544450732902521363063436171389907701051577945399877676778356570227285932110975250892913779526699881952910472433129325432718045268810971592782903100361099463348006319901923035595497749338269160371429471917325319415447945935784021335254430343185040821707539663206522117572134146997109484798209787001727743419441001324860896544421063118113331126935484348399788680273488905631086222833182126761131049201512901780283342126902069315236602344041909514345184127651191217184499949854324499426413279875103715229697, 640274481240536773929201993106348696861, 3, 1753763011657589884807443505636001320674501955935230842258856454035410329863131931401940718457936889173759230965283330192377646850330601865536451823098274337193372893734019217979246547202462222544748117342400714868060837938330050445734844738507349673837030248590754059668603105447372968942655293386681703375867944404034189271822146615235372054750757268368209708247848405728341959117465277651942989960199869805351485704864249612583845517429506758841385577637173659659215466499388402865892195238147262822656622223775246211187390068969077687538590025631913816062609005991651397403279104691665200143971628894019655825907702793)\n",
      "(646076147247930129684835500927731561789159062915207741832902704058685652441419965493826474813514167326655231448279316058433660241013682494598246403412542507017057099685783344810806542547139529137867699391409805636070850811819123552636874920974255009853298620868452466926365320742519381029558864580020482845031475630548993574793122743685912825617822298309279359492543016927823294863017566803678086073001014854619958226179592117064596412475332859744286874545534864217132050843452699208006614989285399600094447800261003116631091170561540445346486270099646657308342586830133348514139442720107200410345544873403363160158411907666825641766095072951397946223865724873497220030987239610800601216092356070336062554113, 417448924420928976458352254245640328089, 3, 237292074329440438992260991677943517158455968308264278840047634394700153662844685014862695988605231731724057887133115352383659468376494081956116171454500695537283365744682611253437320985355172479294659164413168931161670924496154225375279298122802474153318669578180700484016348519625054412447177090808787600166066590058757595877272876197219133773218618705187173835940362905950899251744091718171175694359143233048593829132439080206858383014862805455592122115147298842975610986131145671719622105872055231436813388860839445154135742250682634395769454260662499510891763458619438538423897287770746107998563113894860763465922006770540852126495703711528047801078596300341475032417001475369256613492476189024030902336)\n",
      "(3778502540408348677288937485027301170577, 236156408775521792330558592814206323161, 3, 2534053482296364633446299513390820990821)\n",
      "(1877564709782232240936503030645248661993, 234695588722779030117062878830656082749, 3, 1100832959462062807509403614017464438960)\n",
      "(120068998969400100985847683259545607838209, 234509763612109572237983756366300015309, 3, 22566068164825061472208364218219597313291)\n",
      "(472686502608527854588287415992018478391191931279739218935647451000904070916103800771254599226755579656530590987039137600816830361651875248361470592093590634142013807155810380111448098608904389621539035408505995747951128254683488053141048475149884024377197040856218450811926089520996144615555195139741750374646256402418220855863039306901762230575330141059597672115169295115909068410368695853885297113876283420353842392722225085397075748053848350881508145048861762334174966833045996414503755616866448107728657186817, 356722111972180623533512023831563633387, 3, 90085110919602333312719416403098683133616214847648018532974319154856720983129013034551034058744927238893726179905034506938352951236559140698452409537669488945506179415046173888625791230302150854783886493473832101814148337647277064824030515259143241258141963460966179800585796701782130938558973307461575359833751929814034948235416281220341506958996358122652618039054139881583051477706297052358507785054808907305990159867431088522108429592844373201814267248770175932772472320698487081135021147981068780208397654101)\n",
      "(6580238651291160018983850221253729561569, 205632457852848750593245319414179048799, 3, 1521758943808920159865012240130513031907)\n",
      "(830909715515526594879689994050288575877, 207727428878881648719922498512572143969, 2, 700259354575946837328979834360889449342)\n",
      "(73146370669316019628256415097861559356673, 285728010427015701672876621476021716237, 3, 39150709238199582650038347154796440627034)\n",
      "(978610007553190094532889674597027679037, 244652501888297523633222418649256919759, 2, 696937204183616624029926662836350423517)\n",
      "(430911500735001362509784505094606475983769635016589723104708569956294368707106072748344500924104834306725271508378935960368790221036306914334590100833298572349824534797378539856840877097671443468659989135321116781789050804455254223142463757120185235379557557120732853766584512934643756860243228952420250116161537, 398274057022616491890698042931358867637, 3, 421738352853459446778692953220806943468321795189181648539767122615315187963264463439848790512405891518442176389491707507355921992395380535694352104830916533917606521356805840054238160490382130280784473980291166102859891152943744855030305740909429145532424876101255374642786701681362368272708278208877228042715183)\n",
      "(465050949378300401356338532297186017203, 232525474689150200678169266148593008601, 2, 367069217243703503993540091257135514676)\n",
      "(20400112910565434609430003143963072650817, 318751764227584915772343799124423010169, 3, 3048689615172331789389138228914156289736)\n",
      "(10357572155281224639536891627935416241889, 323674129852538269985527863372981757559, 3, 8817775020736187826211075786313028839695)\n",
      "(1058411850962983760080398380223332093189, 264602962740745940020099595055833023297, 2, 842344052814259829104110804534723577909)\n",
      "(377767746397385759745403497587731524599, 188883873198692879872701748793865762299, 11, 352518912987347416584242839008848323853)\n",
      "(8667609499336515364405775881119018237473, 270862796854266105137680496284969319921, 3, 7898268647906624588350214226548915265312)\n",
      "(78244744567003147892134343647337543646977, 305643533464856046453649779872412279871, 3, 59024173161927452218194208186165822707258)\n",
      "(361764574864578442995778991924447330603, 180882287432289221497889495962223665301, 2, 123531773921946361644712611499046914078)\n",
      "(6288725619068788877079561292157624880737, 196522675595899652408736290379925777523, 3, 257625901569419453723905948731248308697)\n",
      "(1027316252134987177955028471444664470143923933973923323267635120493609301870600808424868845458713316494956666784735783684450377447573383256822991519160571297280218290221975917742267742353882897517086326529952101084633056254103293643005277237405126276148622878528985679818839416759696812253522750041981878132775419663098949116272874422002100592728573464847558954056934165304964022273, 550299462676085255597480960755002796901, 3, 593470558180343739924098737919359211765701272596320144566371475431610682357435304969823897935969606708012575775633183339378706739365148775619323732535851478001025078929629970743447356035328698401302568448890409700286815996197097688360107663057878741561459033103913201441799768592622348031774127898171551611266057118016730533195465358880712347370229040172649199967098456794295189786)\n",
      "(7997836078272722528258694903449123160353, 249932377446022579008084215732785098761, 3, 7345400178454493758210511174059382368584)\n",
      "(521062998199453095976684950168205011863, 260531499099726547988342475084102505931, 5, 260522551149824507117222338520443434543)\n",
      "(17991485772482982605382542103370832614337, 281116965195046603209102220365169259599, 3, 14500634435528607561403550835579283148624)\n",
      "(9129781980231210099531903401112489993953, 285305686882225315610371981284765312311, 3, 5952883876034877614413028066784109008529)\n",
      "(434168763419967236877815332350658642163, 217084381709983618438907666175329321081, 2, 372377346404062589283194960374042998627)\n",
      "(18216335730535825531361434682930717236673, 284630245789622273927522416920792456823, 3, 9679432167418214839847541855184362447631)\n",
      "(55085502446110439125649270474419064627969, 215177743930118902834567462790699471203, 3, 27561532483385732852411653719886089781265)\n",
      "(1211849977113108579858145339833919209783432697596401455921259163044289169585567530022636481909375188409090414272739076588038714671527050584666846377493749306941666891543461747132289932263059483672936417203895350929877472317798946429979792955667391819189803292929114790131313893502307685383140861354077513598636233956819419773485472591679073000404777102205276557773836252675135120499241063628474581360917315407743722629192154629800945574526267006393133635779913018299280205840901847208098746785039303813291012265999784152363688817077599177360042535839427361491774770979116694353796816136290035222786201067126387918361514750246913, 371370443156779752298343077470836703659, 3, 252234106909895372340461897001902775030815808921018178701291471812634092976753401369083822036961466038877653248938757828412990419340755024433218931944121333224384019636576337817818608031739349778431150268778929416332305971717464747380148057061869282307363520496293269942243073187177341025736279678064592456192138582284871138834798590578934728455504677692390625173451533981785457640039753389926839466810678275271630365528205058214471827016011161406820663843534568811948039839928750486075211162829890475883765180309196137575182281248018507585464515881817973621201939859856050321146968096991440335394133399770218684906995910402627)\n",
      "(37618870352707643816002822463168894394497, 293897424630528467312522050493506987457, 3, 17027226445313212489536141366443136548430)\n",
      "(1678613623980915728980981331561300399497705924301561300612864732509078424875099349555122111763570812118503469811411982396037919304218985921666673355982907454802080067444692464342178481381073411453390997382721857428599118533065630427210226035375191580912500143150226521721165916421217008819186449679438774505314555732402878021633, 344496569739525158424498276506749957739, 3, 438536347456660036298302026982893092574566636372147258564377600088060797956302953059789167716083877361274141479315274032018636165101818693208528920232830499373451540431784111328636087237820643360006013189607094102804137944682748254472438125451962421723185228374749432346594061118860100359606579050667717053007951716008846612717)\n",
      "(6745152752711499361983220779522769915169, 210786023522234355061975649360086559849, 3, 3638410732622463863528786942136807905411)\n",
      "(496897186480076807802019799557671203027, 248448593240038403901009899778835601513, 2, 487790344873650634422493505212933370734)\n",
      "(2966619355911083435745220961215271771289775428730597132659065646883551363143356577773317637372952872518319746510524510672669060376140764122438657054581264768198456439034493864744567368747249564990649460889733625747578457090734410571601873891776142124176666759539616350092437647716851627347007241755047110558163037397820756769475988715615400832760328368236995216794993840489731688585209546361899969162190813629203614512924700768015887564425662762410066419327462014977, 409004394686674733735945403523833491479, 3, 689513427911110663967717974701687959416625419649444959295225666036100023329689571317746254966214956672776362483645818730943024975518809524289121743862703142616466389882683849326611848282475889143697086580675175268109872869457398760618425429172390812280440147664535432275856558105376532389497706203460389722949533260109024302661571253555281116814639495108730368686408301392749927550279958333311595121174451436651188971820848459441019432434186213155903551682663633187)\n",
      "(6715360235102280331085184680594128038778055402994255570332320627059435514289303190863215876812239257835693506677761097856957663607224091505825328351728807868284598149637193647522891855210755642979191673355136751856844059493631609977054012353368063633292403745632536630276936644382543123976912007400891457200959889213173437822875550294366898655940282074341160833458118229079949868540919935164396637466368139183027168846348823651571775600590069243173390683825917665037214329717961039542496049011378984171798663323697631285954238200299958910693933057, 488018891230291774386970047644127306001, 3, 4023628332938813424335671227233148988126783350368798005277427392664410831791293546274075068099525108956113352591550666551649921317565231231431108262885232529367662260021508914311716712177999892517077035092582861575878408037063691795155714216710997856783965353187948083545314927773725753121760161254587599318741004362519767979062097252278275782126035402132515328054233159139088161039866351896875339524723817964429674055527672970335876530138107289737386483707887396567085580753850017328816575958339038521569343519773731379582156248555604294299023967)\n",
      "(30099415466403444482212930152826572689537, 235151683331276910017288516818957599137, 3, 23483773496955702710884879309882547926267)\n",
      "(53421011931904773921423634930080949186817, 208675827859003023130561073945628707761, 3, 11216929835091551011414865474980757780772)\n",
      "(9088751755949702547350868873450551389409, 284023492373428204604714652295329730919, 3, 1182432439079238256009380302217223032313)\n",
      "(15414401442321707526263579118598988095169, 240850022536276680097868423728109188987, 3, 2897996689450951161239857142325366901957)\n",
      "(790173594451986879828785829340024721813, 197543398612996719957196457335006180453, 2, 250919108306606341824818303046221833698)\n",
      "(12126541545571117608352535549174892079169, 189477211649548712630508367955857688737, 3, 9568129642373454351963065368766729479015)\n",
      "(28324531014611940350855491360958268853889, 221285398551655783991058526257486475421, 3, 11862898779447839516825813892005360476485)\n",
      "(60352008422972312353736529543333983001857, 235750032902235595131783318528648371101, 3, 2785092565557299919506133555356074463094)\n",
      "(50276765632953678929795899315206502204673, 196393615753725308319515231700025399237, 3, 1434070151126997001658139151803024371908)\n",
      "(435956029996467373712321864790016616579, 217978014998233686856160932395008308289, 2, 37149132867584689665315784757703444070)\n",
      "(3868405791294011463959814334728695519729, 241775361955875716497488395920543469983, 3, 741008163783748017593474729943145320985)\n",
      "(41764162804236751333435525885993344989057, 326282521908099619792465045984323007727, 3, 36764942831325130205195149630192938767194)\n",
      "(14687934316746421212091907186880426177473, 229498973699162831438936049795006659023, 3, 12443571805605966739439983821297478955140)\n",
      "(140330185034418793734355883264354840386049, 274082392645349206512413834500693047629, 3, 71357880504887109333794403663979253569060)\n",
      "(7297302007964897948716318823900539744161057220539262611328226970117796904611976744371029183270748744710813483359626285232524288159772657293457147934639676195791882239935012247546893388028490809385591869198044101398949639602829214852792486810380730457395507893885927741909133078178868656281486387855006338963556127463384568997553116510116962813220734469800984577, 576855396714208406144785865786810240749, 3, 5852327801984554043299425950503182217745615013172429931796914252171221588529256590481486887140328013869697274970089464422116580336641056838370007262958078921532762781593048504618836329845007167815916284535963458781155723202991199443565545419598869564836751607833010315614629650046401552755183453383027913569861195286485327357335597867573328427902881846728507816)\n",
      "(15004286757625824146976941277280157210177, 234441980587903502296514707457502456409, 3, 7989786727295067515846065857173192536621)\n",
      "(735699635871046414956878551154847064517, 183924908967761603739219637788711766129, 2, 489757498532655576083489359947601046621)\n",
      "(11724582210335229884701019554537068928193, 183196597036487966948453430539641702003, 3, 10739263758086599505355843967286618646088)\n",
      "(585510999552003570752152681098626102567, 292755499776001785376076340549313051283, 5, 306406123329685082856691803838431985845)\n",
      "(1935213587472863578739518255365122221577, 241901698434107947342439781920640277697, 3, 694210264358331998810056130748183590223)\n",
      "(76159507512142609818729211551714734585546241458837673974854348396324723073811513951535758694984204921764917398694542812422204898640384931528873301306477491946851308922494131711021014862922412829520730263841999066138954748541582334529701720846579731590595745674106265360142176903675582360223886711480385402524848757068163834076773203855311663654072798883574338699743646312113705944110428214230044534871783905266866004936688520918683355185153, 406199988636742463957939209977015071681, 3, 69791332942471571475417010461109898294048559061901724861951896621614825962908869828154502183592831405288088614866043220688407018202401626182510935376225264696519099515209736682671560916664526373417254367334147918153274858097311984188641208955330241641254500010931500403389917130839665972298471487866695675417586064257453361575606583732524780595928080469969578077400898096585451994506747198009046414931044038784534772852430278027693203543075)\n",
      "(802579884030277948979498186536200762609376748834071018717352582794561382828832887894146071374191843893459370221769644871421772363737546370987293533581307600225056455804263973597739053436694479454696008799664988814644640009911046511200695992406933883748630406775626346347216798291056007022720781311865708714092336097283475048314843477126908961882113, 558062349787347741240217108196653284779, 3, 405750694871095883146408525439657574167793362252278077570558967099793033623266262714445129911383851859328879399160736486472570363384101887478436903216380015192665847553951003702158849946624503812994127804692795947778274206059381237755982718620789785375297277013581120503451933931260776895885669964156772512554047526811214157816614076214665054505472)\n",
      "(52567031157883790216366759665026261530369, 205339965460483555532682654941508834103, 3, 26250740975107095702599588338304799249420)\n",
      "(73380413993115798813985763760971245489409, 286642242160608589117131889691293927693, 3, 29154701660608829864659566605482910889472)\n",
      "(2188027851390543439341794768333502430409, 273503481423817929917724346041687803801, 3, 441052010766036672726539244820587412340)\n",
      "(502923890283268583677513719683778146219, 251461945141634291838756859841889073109, 2, 116346659782418867838960008606097259458)\n",
      "(3467610896610352425094105547227384145489, 216725681038147026568381596701711509093, 3, 1463167714965850120163572976133099874823)\n",
      "(1142007078825919290709291874913492876677, 285501769706479822677322968728373219169, 2, 1050990591507535985088996045961431865701)\n",
      "(5339100785931694475010801762646432452593, 333693799120730904688175110165402028287, 3, 4658503968738968629561741216332087748826)\n",
      "(39167519786371042268006472760902848215169, 305996248331023767718800568444553501681, 3, 3074378517280243694286701504413851600579)\n",
      "(338504897485200625706601312928765323217832055536148253290997358329024672736207976126711951181838326677130810558378941075507376360548437070213790368825890337016511439142009227305664951305150668580471169043494313538301052716983989499419477618645815445258920743405893548254444657610441137404738469269738990390053149276989616456080757358593, 517593998144470208426744853460301025703, 3, 285739108823250824961465689037225216416578538121983729160682951719199030709162138772408901977742115984956407196249996165607738361667262396916085149305349320801698854812798752099151911639345326858149656265728050645352669483035813383468128637988056577419418637328167022411080458313133612798682003008769564669327907601459345121414207767956)\n",
      "(373951329020871365048372717036288564927, 186975664510435682524186358518144282463, 5, 283531682509466096768967884552123359875)\n",
      "(30309605850131129151235385945030768437889, 236793795704149446494026452695552878421, 3, 16968183897397141811242918010649546469723)\n",
      "(995535368506911105475419423601435695173, 248883842126727776368854855900358923793, 2, 801096335731487434286223557884580880529)\n",
      "(13752801535235366201323123665578674813889, 214887523988052596895673807274666793967, 3, 2731435931138456624519120735541494378261)\n",
      "(551725344825349984493941557991401049307, 275862672412674992246970778995700524653, 2, 87441698693376703187001774324761030452)\n",
      "(11429672222774013397709170513532457736769, 178588628480843959339205789273944652137, 3, 8734911012995987354277165218661337508836)\n",
      "(3710387678792114775594016653623612187377, 231899229924507173474626040851475761711, 3, 1748786981715625816642580637039345071171)\n",
      "(14053183603987134369497405794463082819230496008664556227120975323048401842428298449055001965576383737342134071397409984377269197758737232861375212936837047887843020866841201558789784201686857653699108759881881539476921493832838678842968647562635720764721070802410742416761789403216177155268503705498338402986692429073639984033840521783148961497944885863982416896478055670470245198003674161951649414833677947421526778088362179238728643979134927487318426535329793, 507903014849352553616197478780123834917, 3, 5205913972817202341639258053211842776284765124475296500052014902902387527050559308490864348901508049384684089763375896438914730439868375796502617911035246996532931497397292986925759255488236494038982633044676451791677392438569542828610362522609246811001406136232318290631571681318825259947470255479426429428494926664360674841006827259285277468971701531977692613112088394873795791264641591022082019643163082134857547891659964029627550319547389003145542124863712)\n",
      "(61960779346102017208610498126601647962216182210120140491637614426262809386685512928816041078165510201327578406416787635400613976498781903777149068519014640180356778650934219790888349699182975988963174392862906228695805462959173983139042779647089961411657742118352656282980891122286065198626794511901970527549970437636298971361431115357155543254049034112903218574388138642570805090816197515541483427829295708372993, 409102620499554674402471098169954535149, 3, 30683573496770888422326847043364365638419015877229048121265881369011563758395275058537618312502072335607099322202473526960620423180915487982337871790770366822611980921650171749677910103238811576036416081504943654305104574166666355098275251794540659515554189579392836983897403679864003596592239810863715553490799815545929042047684375982910159306362743482098737019305752030491946900900872244788721601377660340696968)\n",
      "(372582490160405955163014644483121027623, 186291245080202977581507322241560513811, 5, 104370676173258410886749546872236413285)\n",
      "(125728903687996761082536006204030211872257, 245564265015618673989328137117246507563, 3, 63511354007244112383576011377803159221042)\n",
      "]\n",
      "------------------------------------------------------------------------\n",
      "b'\\xc0o\\xc2.\\x940~\\x96]M~\\x7fzB=\\xf3'\n",
      "b'W\\xdep\\xbf~\\xd4\\x81\\xf0_\\x8d6\\xeb\\x00`gO'\n",
      "b'{Z\\xc0\\x07\\xfcJ#\\x07\\xf8\\x03\\xf2\\xfe\\x1b\\xf8\\xf7F'\n",
      "b\"\\xe6\\xee'x{e\\xdc\\xc9\\x88W\\x08\\xbd*\\xcc\\x95\\x0e\"\n",
      "b'>\\x06u\\xd2y\\xca\\xad9\\x9e\\x93=\\xe2 \\xe8\\xd9\\x95'\n",
      "b'\\xe4\\x80vE\\xc5\\xb0\\xc8Y\\x98\\x97\\xb1\\x07\\xeek\\x9f\\x01'\n",
      "b'\\xa0\\x15\\x86.St\\xa0\\xc9\\xaa\\x04\\xbb\\x0e\\xeb_\\x03\\xfd'\n",
      "b'9\\xdf[[\\xdb\\x91\\x0e\\xf2\\xba\\x13\\x90a\\xc2\\xed\\xb6\\x08'\n",
      "b'N\\xd79\\xdb\\xfb\\xd0\\xc8\\x00R~\\x86255|\\xb8'\n",
      "b'@\\xdf~\\x1b\\xd8b\\xea\\xb0\\xfa\\xf1XO\\xa6\\xacK\\xd9'\n",
      "b'\\x86\\x17H\\xbfyU\\xe1\\x90\\x08\\xc5?\\xa0\\xda\\xd1y\\xc8'\n",
      "b'\\xffm6\\x12\\x963K\\xd2\\x16D\\x03\\x83\\xda\\xc8\\x06S'\n",
      "b'O\\xd9$\\xdb\\xf26(x\\x11j\\xc6\\xc1?/R\\xce'\n",
      "b'O\\xb7\\xe0q\\xc5;\\xee\\xd5\\xff\\xfb\\xe8f\\x14\\x8e\\x80\\xcd'\n",
      "b'\\xe61\\xf3C\\x0b\\x95\\xae\\xff\\xfcO\\xc7\\xdf+\\xc6Vm'\n",
      "b\"\\x10\\xc7\\xf4`lu\\x1fG j\\xa0\\xdd;\\x8d\\x08'\"\n",
      "b'?ez\\x86^\\x9a2\\xc3{d\\xbd\\xa4\\x19w+\\x84'\n",
      "b'\\xf6\\xc4;\\x91\\xef*K2\\x8fl\\x86\\xfc\\xdb\\xd9w\\xe2'\n",
      "b'P\\x85\\xb5\\x887\\xf8C\\xc9\\x8d\\xd9\\x02Dq\\xb1q\"'\n",
      "b'\\x1d\\xbc\\x04\\'\"\\xb5\\x1d^B,\\x95\\x1f\\x10\\xbcxM'\n",
      "b'L#\\xfet\\x1d\\xaf\\xd6\\xe2 ~\\xdcDGJhF'\n",
      "b'\\xff\\xe6O\\xe4\\r\\x10\\xae\\xffp\\x957\\xa7:+l\\xa3'\n",
      "b'\\xaa\\x1a\\xa5\\x05\\xca\\xb9\\xaay\\xe6\\xa5\\x1e\\x0bx\\x01\\x12\\xb0'\n",
      "b'v\\xb2\\xf2\\xdaOO#\\xbc\\xba\\x93\\x89np\\x11\\xe7\\xc3'\n",
      "b'L\\xe0\\xed|\\xaa;\\x1eR\\x18\\x84\\xdb\\xb4Kz\\x1fF'\n",
      "b'\\xd3sC\\xb9\\xc5CPF\\xf2\\xfe\\xad\\xbd7|\\xe7V'\n",
      "b'\\x92B\\x19\\x1e\\xc4\\xfd\\x1b\\xf7\\xbf\\x00G1\\xa8\\xe2fy'\n",
      "b'\\xc6\\xf73\\x00\\xf4<`\\x01\\xb4\\xbd\\x7fU_\\x9f+)'\n",
      "b'\\x8bU^.fj\\xbd5F\\x17\\xf7\\xe6\\x00<\\x16\\x0f'\n",
      "b'\\xa5\\xe5d\\r\\xc8\\xea\\x82\\xef\\xec#\\xc0Wq\\xec*\\xb6'\n",
      "b'\\x1c\\x8d\\xbboX\\xc5A\\xdb\\x9e$tl\\xa1\\x8a\\xcb\\xd9'\n",
      "b'2\\x0c>P\\xa1J\\x1cAw\\x1bs\\xc5#\\x85\\xf6\\x99'\n",
      "b'\\x03\\xbb\\x1e\\xb5\\x81\\x81\\xb5\\xbc,\\xc1\\x85Y\\xe6\\xd3\\xf8\\x1e'\n",
      "b'\\x15\\xa5e@\\xb2\\xc8\\xc5h9\\xc72f\\xd1\\x8c\\xd7\\xec'\n",
      "b'M\\xd6\\x1b\\xa3e\\xcb\\xe0\\xe6FF\\x9f\\xb0\\xe9\\x9bD\\x97'\n",
      "b'\\x93\\x7f\\x05Fa\\xfd\\xb6\\xe2\\xd1\\x9a\\xe9\\xd6_m\\xc7\\xa0'\n",
      "b'cmp\\xab\\xef/\\xdb\\xb6\\xaa}\\xed\\xcc\\x08&\\xb6\\xcb'\n",
      "b'\\xf1\\x04\\x11\\x857\\xfc\\x11\\xd4\\xd4C\\xc9\\xebv7\\xae\\xce'\n",
      "b'\\x03\\x92\\x91\\xa8\\xfae\\xceG>\\xef!\\x89\\x98\\x7fF@'\n",
      "b\"\\x0e|\\x95C\\x80\\xca\\xbf\\x83\\xa5K_}\\x1c\\x83'\\xf2\"\n",
      "b'\\x9e\\x8by\\xabu\\x8b\\x90q\\x94\\x81\\xab\\x13\\x84\\x9e\\xeb3'\n",
      "b'L\\x0f\\x92\\x17\\x85\\x1e\\xd6?\\n\\xfd\\xe6\\xefm\\xe3\\xd3\\xe6'\n",
      "b'\\xdf\\xc7\\xaa\\xaa\\x8c\\xce\\xda\\xd7\\xc6P\\xf3E \\xf1\\xc4['\n",
      "b'6\\x7f{\\xdc+\\xa3H\\x02\\xfd\\xc0\\xc8\\xa3\\xe9\\xbfT\\xa5'\n",
      "b'\\x15\\x9c\\x8b\\x84\\x86\\x04t\\xc0\\xe2D\\\\<\\x8fv\\x07b'\n",
      "b'{\\x01DP\\x94\\x93V\\x12:FzM\\xcf0n\\x18'\n",
      "b'@\\xdcs\\xd3U\\x80\\xf8\\xf0XvQ\\x9a\\xa0$d\\xe7'\n",
      "b'[s\\xfa\\xdc\\xea\\x07\\x8b\\xc0\\xf8\\xc1\\xfeq1V\\xff\\xbf'\n",
      "b'\\xa3\\xa8n\\xc9\\xb0\\xba\\xbd\\xf4:t\\xd0E\\x0c~\\xb7\\x02'\n",
      "b'\\x8a\\xf8\\xcbD\\xbaiJ\\\\\\x9d\\xe9\\xac4\\xd2\\x93\\x90\\x07'\n",
      "b\"\\xc7'\\xeaM\\xe5\\x98\\x96\\x9e\\x04x%R:\\xf5q?\"\n",
      "b'\\xb3x\\xe6\\xdc7\\xd2\\xcbL2}\\x85v\\xa6JOE'\n",
      "b'\\x89\\xd0\\r8\\xca\\x90\\x99O\\x8b\\xcf\\x8a\\xe5k\\x9a\\xe7x'\n",
      "b'UF@\\xe9\\x06\\x06}\\x13?\\x8f[)\\xc4\\xb0\\x14\\t'\n",
      "b'eO \\x8a\\xda\\x0e&\\xf3\\xd6\\xf5X\\x98\\xd5\\xeeO\\xf5'\n",
      "b'\\xf6f\\x82\\xc9\\xac94\\xf1\\x80\\xc5&\\\\\\x11\\xfb\\xd9\\x1f'\n",
      "b'\\xeb>\\x7f$\\xfc\\xc7\\t\\xa6b\\xefy|\\xc9\\x9eG\\x96'\n",
      "b'\\xbe\\xde\\xb4\\xfb\\x97\\x9f})\\xea@%0\\x87MUf'\n",
      "b'*\\x8d\\xe5\\x18n\\xebF\\x17\\xdc\\xc2\\xbe\\xae\\xc6\\xf6\\x04\\xb1'\n",
      "b'\\x89d\\xadY\\x85\\xca_\\x8aJ\\xe4\\x03\\xd6\\xa4\\xc9Cx'\n",
      "b'\\x07\\xd2U\\xba\\xed\\x00\\x85R1*|\\x1a\\x0c]`\\xc6'\n",
      "b'i\\x9e\\xf6]4\\x135qO\\xda\\xe8\\x8f2-*\\xed'\n",
      "b'\\xb1{\\\\\\x12\\xa2\\xcf\\x10`\\xf5\\xef\\x7f\\xc9lB\\x98k'\n",
      "b'\\x07Y\\x17&=})LhF\\xa2\\xe8\\x03\\x95TO'\n",
      "b'\\xd1$\\x07_pw\\x06\\x82w\\x88\\xbey\\xb8\\xf5\\x00\\xa4'\n",
      "b'\\x8d\\xc5\\xbe(3(\\x8d]u\\xb9\\x18\\xdd5\\xae\\xe3\\xbd'\n",
      "b'\\x07\\xf4\\x99,\\xa9HMj\\xe0{\\xbb\\xd8\\x04\\x1c\\xdb\\t'\n",
      "b'B\\x04\\xc1\\x9a\\xdah\\xd5\\x83\\xa3\\xde\\xcd]\\xf2\\xa5\\xfb\\xc3'\n",
      "b'`\\x8f\\x12\\x89H6\\xb9\\xf4\\xc9\\xa1\\x10\\xbep9\\xbe\\xe6'\n",
      "b'\\x1b\\x91Qv\\xc8\\x04\\xdd\\xd4|\\x95\\xd6\\x96hN}8'\n",
      "b'C\\xee\\xde\\xb2\\x8c\\xaa%\\x1b5R0\\x91\\xf0\\x11\\xd9\\x81'\n",
      "b'c\\xf8Q\\x8a\\xa7\\xb0\\xffb\\x9dc\\xdd\\xb3 3\\x1b\\x01'\n",
      "b'\\x8f\\xbc\\xd4?\\x1c\\xbf/\\xf8)H\\x8bwpMv\\xe4'\n",
      "b'\\x00\\x1d:^=\\xa1\\xe0\\x8e\\xed\\xa6\\x94\\xb3\\xdb?q\\xc8'\n",
      "b'\\x05\\x0eN2\\xdd\\xa5,L\\x96\\x8a\\xb0\\xd6\\xf0M&\\xa4'\n",
      "b'r\\xf1\\x1f\\xf3\\xe05\\x01\\xd9h\\x8eX\\x86XC\\xd7\\x90'\n",
      "b'\\xfc\\xd5[\\\\\\x18+c\\xbc\\x03\\x7f\\xd0\\x99<\\xfbrb'\n",
      "b'\\xf1\\x96\\xe0\\xe8\\x81Z\\x90?\\x83w\\xa0\\x87Y6\\xda%'\n",
      "b';\\xbf\\xa1\\xb8oQ\\xa6\\x1cB\\x8e\\xb9HZa\\xeeA'\n",
      "b'U\\t\\x14k\\xbfHQ\\xe7v,Skd\\x01\\xce\\xa8'\n",
      "b'\\xce\\x97\\xca*f*\\x16X>\\xbd\\x8b\\x1c$\\x9d\\xd7z'\n",
      "b'\\x95\\xe4\\x9fQ\\xe9\\xc4\\x87/\\x01\\x18Cj\\xd1\\x92\\x0c)'\n",
      "b'}^:\\x0c\\xd8\\x1e-.\\xbd\\xc0R\\xe4\\x17\\xb7\\x83\\xa8'\n",
      "b'b-\\x7f\\xfa\\x9bA\\x97\\xbe*}\\x15\\x81A\\x7f\\x14\\xf2'\n",
      "b'-\\x1e]\\x18\\x9a\\xde\\xb0\\xcb\\x8e4\\x95\\x1c\\x1b\\xf7&\\x8d'\n",
      "b'\\xe1\\xe8\\xe7\\xd6Yo\\x8cI\\x87\\xc9\\x88\\x9b\\x85\\x0e\\x87\\x15'\n",
      "b'Q\\xe7 \\xdc\\x85\\xb4\\xb5\\xde\\x1a9?\\x85[\\t\\x07_'\n",
      "b'R\\xe8j\\x995\\xe6\\n\\x15\\xef\\x8c\\x9a\\xd1X\\xce\\xec\\xa0'\n",
      "b'\\xa9\\x08~ru\\x1d\\xcdIk\\x0f\\xff\\r2\\x15=4'\n",
      "b'5K\\xce\\n\\xcf\\xfc\\xc1\\x179\\xd8\\x0b\\xbc\\xa5^\\x1b\\xf2'\n",
      "b'\\xa6\\x86\\x12s\\xd4~\\xdd\\xce\\xdfb\\x03\\xbd\\xa8\\x02\\x1es'\n",
      "b'2\\xb6}\\xdd\\xe5\\x86C\\xbdN0\\xe9\\xdc\\xb4yN\\x15'\n",
      "b'b\\xafr\\xb4\\xaa\\xd4\\xf2\\x0f\\xdb\\xb0G\\x107\\x87\\x0e\\xcc'\n",
      "b'\\xaeVG\\t\\xfd\\x85\\xa5I\\xcc\\x13\\xb1Z\\xb5}\\xc9W'\n",
      "b'f\\xf2\\xd1\\xb0S\\x8d\\xf5}\\xbaH\\xedX\\xa0\\x0f\\x1d2'\n",
      "b'\\x8bu\\x060u\\x8f\\xf9\\xc0\\xda\\xf0\\xbf\\xece\\x05e\\xfe'\n",
      "b'F\\x1bG\\x0c\\\\\\x19&\\x18\\xb9Rj\\x8a\\xc7\\xdaV\\x84'\n",
      "b'%\\xcf\\x84\\xef\\x048tv\\xd4\\xb3o\\xd7\\x8f\\x83y@'\n",
      "b'\\xec\\x96{\\xb6\\xd7\\x16\\x1bk\\x9er\\x0eP\\xa8\\xb8\\x17\\x0f'\n",
      "b'o\\xecY\\xd7k\\x9d\\xf8\\xcbGv\\xb0\\xc0\\xac\\x85\\xd1('\n"
     ]
    }
   ],
   "source": [
    "import sys \n",
    "if not provider.criterion.verify(completed_p):\n",
    "    print(\"------------------------------------------------------------------------\")\n",
    "    print(\"O vetor p foi aceite\")\n",
    "    print(\"p final:[ \")\n",
    "    for key in completed_p:\n",
    "        print(key)\n",
    "    print(\"]\")\n",
    "    print(\"------------------------------------------------------------------------\")\n",
    "    ciphertext_vector = []\n",
    "    i = 0\n",
    "    for public_key in completed_p:\n",
    "        if isinstance(public_key, tuple):\n",
    "            byte_length = (sys.getsizeof(provider.messages[i]))\n",
    "            ciphertext_vector.append(enc_fujisaki_OT(public_key, bytes(provider.messages[i], 'utf-8'), tau))\n",
    "            i += 1\n",
    "        else:\n",
    "            raise ValueError(f\"encontrada chave pública não primo: {public_key}\")\n",
    "else:\n",
    "    print(\"O vetor p não foi aceite. Abortado\")"
   ]
  },
  {
   "cell_type": "markdown",
   "id": "958e6aae-ad4f-4ee4-b946-39668b45c941",
   "metadata": {},
   "source": [
    "### 4. O Receiver  usa  a variante IND-CCA  da cifra IND-CPA com a “tag” de autenticação $\\tau$\n",
    "$$D'_{s}(y,c,\\tau)\\;\\equiv\\;\\vartheta\\,r \\gets D_s(c)\\,\\centerdot\\,\\vartheta\\,r'\\gets h(r,y,\\tau)\\,\\centerdot\\,\\mathsf{if}\\;\\;c\\neq f_p(r,r')\\;\\;\\mathsf{then}\\;\\;\\bot\\;\\mathsf{else}\\;\\;y\\oplus g(r)$$\n",
    "         \n",
    "uma vez mais a única característica particular deste algoritmo é o uso da “tag” de autenticação $\\,\\tau\\,$ na construção da pseudo-aleatoriedade $\\;r'\\gets h(r,y,\\tau)\\;$.\n",
    "\n",
    "\n",
    "O agente Receiver \n",
    "   - conhece, porque criou,  a “tag” $\\,\\tau\\,$que autentica o conjunto de mensagens escolhidas $\\,I\\,$ e  o respetivo conjunto de chaves públicas (as “boas” chaves).\n",
    "    - conhece , porque gerou e armazenou num passo anterior,  as chaves privadas $\\,s_i\\,$ para todos $\\,i\\in I\\,$  \n",
    "    - conhece, porque recebeu do Receiver,  todos os criptogramas $\\{(y_i,c_i)\\}_{i\\in\\{1,n\\}}\\,$\n",
    "        \n",
    "Então,  para todo $\\,i\\in I\\,$,  pode recuperar  a mensagem\n",
    "                                                        $$m_i \\,\\gets\\, D_{s_i}(y_i,c_i,\\tau)$$ \n"
   ]
  },
  {
   "cell_type": "markdown",
   "id": "860a8bb3-2773-49aa-8408-56d7341570df",
   "metadata": {},
   "source": [
    "Como na cifra vamos fazer com que a decifra possa receber a tag de autenticação:"
   ]
  },
  {
   "cell_type": "code",
   "execution_count": 30,
   "id": "eb55040d-03a0-446a-9865-9ac79fbc8c3f",
   "metadata": {},
   "outputs": [],
   "source": [
    "def dec_fujisaki_OT(sk,pk,y,c,tau):\n",
    "    r = int(dec(sk,pk,c))\n",
    "    rlinha = h_OT(r,y,tau)\n",
    "    if c != f_p_OT(pk,r,int.from_bytes(rlinha,\"big\")):\n",
    "        print(\"má decifração\")\n",
    "        return None\n",
    "    else:\n",
    "        print(\"boa decifração\")\n",
    "        res = bytes(a ^^ b for a, b in zip(y, g(r)))\n",
    "        return res"
   ]
  },
  {
   "cell_type": "code",
   "execution_count": 37,
   "id": "a6c5c39c-51b4-46be-8646-2f1c1407729b",
   "metadata": {},
   "outputs": [
    {
     "name": "stdout",
     "output_type": "stream",
     "text": [
      "\n",
      "Número da mensagem: 1\n",
      "Índice no vetor ciphertext_vector: 0\n",
      "Chave privada (sk): 226885061370998964098354702329544267932\n",
      "Chave pública (pk): (49600048414471097261822416922941709710968385036689142127186371308625012763030106433463560494490394217794012819828050985298094917622464124093216190509982762918043910596761797841474527544366974021861805002403181081849461069109784516979236049924076756744865654139877406610818536586265001914622608795694212102388206321978039054969621984652801837618523888306791023483612911840784961746354376898772993, 377569782642478873907115701018881956299, 3, 22717723164065415179675647333068428552736728466935953753961080149647107049257938104715801096803056847023197820208371194521221646267183153887146786561507506674452226398783337374093469292866287164954908375943749225693210288276079985660611734480716486603291587094413737255354647811769648888565881878403487840426660853781011260381687362282012164342898686739397614372262404052669384198986584646599973)\n",
      "len(ciphertext_vector):  100\n",
      "boa decifração\n",
      "Mensagem decifrada: b'mensagem0'\n",
      "provider.messages[idx] b'mensagem0'\n",
      "!!!!!!!!!!!!!!!!!!!!!!!!!!!!!!!!!!!!!!!!!!!!!!!!!!!!\n",
      "Erro na decifração: A mensagem decifrada NÃO corresponde à original.\n",
      "!!!!!!!!!!!!!!!!!!!!!!!!!!!!!!!!!!!!!!!!!!!!!!!!!!!!\n",
      "\n",
      "Número da mensagem: 2\n",
      "Índice no vetor ciphertext_vector: 3\n",
      "Chave privada (sk): 178712025332514114829515272993095154187\n",
      "Chave pública (pk): (6940883303076822657853461559025834650333478542855730639208245340184580867919480917541941832065626881363819252449087732927940298447682925423182069251837101025575458732843780588017753438592659136751768897253741609608728429814503568611106881283129665934356692416548577117261780443604749176215955716507568111594294569047300342428267740659728295390044829284776691627181040300540385691496443042155630550773276887401778360579092531593019342991351891295144331203382014873395458720218739546013272098471937, 377442959734070604324618431942065683347, 3, 4114790305683264003800984287004258459222404285931236087740417334462298416754734359822924176351333810166276229606537182953860971112567148980803664287040589439601351656150767625614847700835724671641811755237570129618932752471786561009487737571686290715800363830547700041563803841164009044484045664374492984383394557034143516315627929607971909062204305901189513602328126913538712128103501260742945027521107632773357754501383894571868722874799658708358166135116758504479162847173271569600125008146016)\n",
      "len(ciphertext_vector):  100\n",
      "boa decifração\n",
      "Mensagem decifrada: b'mensagem3'\n",
      "provider.messages[idx] b'mensagem3'\n",
      "!!!!!!!!!!!!!!!!!!!!!!!!!!!!!!!!!!!!!!!!!!!!!!!!!!!!\n",
      "Erro na decifração: A mensagem decifrada NÃO corresponde à original.\n",
      "!!!!!!!!!!!!!!!!!!!!!!!!!!!!!!!!!!!!!!!!!!!!!!!!!!!!\n",
      "\n",
      "Número da mensagem: 3\n",
      "Índice no vetor ciphertext_vector: 6\n",
      "Chave privada (sk): 527408834047236640450652190479827982799\n",
      "Chave pública (pk): (29825333217358013588518245272892070289998073084072865345681839231822431906619012524867638665021939957087442673603644518003383305310565922240074862480283413982121624855619029891739221719829679650753280273968197514247973650482593824910196605674627628539049480948749059289977407057979455169213581705214620217054214017895496478021087110654693258579159734150609664833235937970304987870513838667608337140815188430178768998351597022156537082323490223416064637710966500707726681906998607931626014927125890825549576040147447825596667165872157951866009509106318557762823086343466657155922931879406257685466168861052730901017463246863674667696129, 544783424612716769326324787863835723081, 3, 24992184684307146669238909651939330446332394989260372890740148801200284378984421715764385435142025112700141498177007663018245179826699392006557443944949547913415131054420533726883809628088063353851257048679001957956587181035638120068562008678230849331463814926655020946667819036839655066676293502137232202645580550275453886596238371038861129625360246787765503193727064881933701782860114343206292849430443748925128199342585914797701135392285303189002471778479490419013639313638726597711200298647711359107774402672103054124539528350944935343156425235833434277003020769906034893648485004975083492891826205085550718515511325479265065617755)\n",
      "len(ciphertext_vector):  100\n",
      "boa decifração\n",
      "Mensagem decifrada: b'mensagem6'\n",
      "provider.messages[idx] b'mensagem6'\n",
      "!!!!!!!!!!!!!!!!!!!!!!!!!!!!!!!!!!!!!!!!!!!!!!!!!!!!\n",
      "Erro na decifração: A mensagem decifrada NÃO corresponde à original.\n",
      "!!!!!!!!!!!!!!!!!!!!!!!!!!!!!!!!!!!!!!!!!!!!!!!!!!!!\n",
      "\n",
      "Número da mensagem: 4\n",
      "Índice no vetor ciphertext_vector: 8\n",
      "Chave privada (sk): 436595198523929514097165485880435276671\n",
      "Chave pública (pk): (8204005279937804524477610403136658060005678086287553525333183660014618082423898097482250749921640933351130764582682947325967459653126302020342085351236980595855240752829587895613587059135693181960853923029627521828313538191272517266827880507857366081385765500683725720756204872160892026569162974877677196802089027101304701596150033780621726634132293485024008497609687985037826651232536374863538130662534128332207419657151583465050537600989810867319442228179212882149377, 552283574924857118081932336461863922473, 3, 3881527640413500275161624116222785846143980787979667296710895027693403254715330870330097439644025830810340401207529605499649919434185303108774370066848968558920357788903963532550063013685553079088297671981404669031056638368134983840519330945906551260803738110427505207043521885383251235528908169483122762620160804163206393439505944320276949118741734632384924526774486076075746789377621600267431617340380081922574833846012724435718747778913058585155951647403256225751520)\n",
      "len(ciphertext_vector):  100\n",
      "boa decifração\n",
      "Mensagem decifrada: b'mensagem8'\n",
      "provider.messages[idx] b'mensagem8'\n",
      "!!!!!!!!!!!!!!!!!!!!!!!!!!!!!!!!!!!!!!!!!!!!!!!!!!!!\n",
      "Erro na decifração: A mensagem decifrada NÃO corresponde à original.\n",
      "!!!!!!!!!!!!!!!!!!!!!!!!!!!!!!!!!!!!!!!!!!!!!!!!!!!!\n",
      "\n",
      "Número da mensagem: 5\n",
      "Índice no vetor ciphertext_vector: 22\n",
      "Chave privada (sk): 186783303180366133592672145674504211794\n",
      "Chave pública (pk): (22148564622866357803533624635270901043466039429821637014551572488590287322266177017600659368608744477446627010532761788658466520865998142464174708532388409398262382552409124807834065286411972717295146839335083615940652487790270352853036377333420517747580825859616014073522172173770992216733910314099544013848992284673, 624726004541829363078319095619338650443, 3, 4377217873423076500376520334089779111160273053842135931018910519819893749341188691343897407884343572237538850082709281361918884862919119528548998507782388171519809679391292197593763636863217529134690262164464644490081434902373758883846340031181648370520516894716872384557078468946337031803011925979162462292558654817)\n",
      "len(ciphertext_vector):  100\n",
      "boa decifração\n",
      "Mensagem decifrada: b'mensagem22'\n",
      "provider.messages[idx] b'mensagem22'\n",
      "!!!!!!!!!!!!!!!!!!!!!!!!!!!!!!!!!!!!!!!!!!!!!!!!!!!!\n",
      "Erro na decifração: A mensagem decifrada NÃO corresponde à original.\n",
      "!!!!!!!!!!!!!!!!!!!!!!!!!!!!!!!!!!!!!!!!!!!!!!!!!!!!\n",
      "\n",
      "Número da mensagem: 6\n",
      "Índice no vetor ciphertext_vector: 23\n",
      "Chave privada (sk): 140537400477684584179199104751971254909\n",
      "Chave pública (pk): (3985086920356624568285379074176946640961169287724348124584149489013248212561917783032874378977111346152023500259747661544450732902521363063436171389907701051577945399877676778356570227285932110975250892913779526699881952910472433129325432718045268810971592782903100361099463348006319901923035595497749338269160371429471917325319415447945935784021335254430343185040821707539663206522117572134146997109484798209787001727743419441001324860896544421063118113331126935484348399788680273488905631086222833182126761131049201512901780283342126902069315236602344041909514345184127651191217184499949854324499426413279875103715229697, 640274481240536773929201993106348696861, 3, 1753763011657589884807443505636001320674501955935230842258856454035410329863131931401940718457936889173759230965283330192377646850330601865536451823098274337193372893734019217979246547202462222544748117342400714868060837938330050445734844738507349673837030248590754059668603105447372968942655293386681703375867944404034189271822146615235372054750757268368209708247848405728341959117465277651942989960199869805351485704864249612583845517429506758841385577637173659659215466499388402865892195238147262822656622223775246211187390068969077687538590025631913816062609005991651397403279104691665200143971628894019655825907702793)\n",
      "len(ciphertext_vector):  100\n",
      "boa decifração\n",
      "Mensagem decifrada: b'mensagem23'\n",
      "provider.messages[idx] b'mensagem23'\n",
      "!!!!!!!!!!!!!!!!!!!!!!!!!!!!!!!!!!!!!!!!!!!!!!!!!!!!\n",
      "Erro na decifração: A mensagem decifrada NÃO corresponde à original.\n",
      "!!!!!!!!!!!!!!!!!!!!!!!!!!!!!!!!!!!!!!!!!!!!!!!!!!!!\n",
      "\n",
      "Número da mensagem: 7\n",
      "Índice no vetor ciphertext_vector: 24\n",
      "Chave privada (sk): 268711264571099086292722113046041843877\n",
      "Chave pública (pk): (646076147247930129684835500927731561789159062915207741832902704058685652441419965493826474813514167326655231448279316058433660241013682494598246403412542507017057099685783344810806542547139529137867699391409805636070850811819123552636874920974255009853298620868452466926365320742519381029558864580020482845031475630548993574793122743685912825617822298309279359492543016927823294863017566803678086073001014854619958226179592117064596412475332859744286874545534864217132050843452699208006614989285399600094447800261003116631091170561540445346486270099646657308342586830133348514139442720107200410345544873403363160158411907666825641766095072951397946223865724873497220030987239610800601216092356070336062554113, 417448924420928976458352254245640328089, 3, 237292074329440438992260991677943517158455968308264278840047634394700153662844685014862695988605231731724057887133115352383659468376494081956116171454500695537283365744682611253437320985355172479294659164413168931161670924496154225375279298122802474153318669578180700484016348519625054412447177090808787600166066590058757595877272876197219133773218618705187173835940362905950899251744091718171175694359143233048593829132439080206858383014862805455592122115147298842975610986131145671719622105872055231436813388860839445154135742250682634395769454260662499510891763458619438538423897287770746107998563113894860763465922006770540852126495703711528047801078596300341475032417001475369256613492476189024030902336)\n",
      "len(ciphertext_vector):  100\n",
      "boa decifração\n",
      "Mensagem decifrada: b'mensagem24'\n",
      "provider.messages[idx] b'mensagem24'\n",
      "!!!!!!!!!!!!!!!!!!!!!!!!!!!!!!!!!!!!!!!!!!!!!!!!!!!!\n",
      "Erro na decifração: A mensagem decifrada NÃO corresponde à original.\n",
      "!!!!!!!!!!!!!!!!!!!!!!!!!!!!!!!!!!!!!!!!!!!!!!!!!!!!\n",
      "\n",
      "Número da mensagem: 8\n",
      "Índice no vetor ciphertext_vector: 28\n",
      "Chave privada (sk): 178390265693830742827090273037613946003\n",
      "Chave pública (pk): (472686502608527854588287415992018478391191931279739218935647451000904070916103800771254599226755579656530590987039137600816830361651875248361470592093590634142013807155810380111448098608904389621539035408505995747951128254683488053141048475149884024377197040856218450811926089520996144615555195139741750374646256402418220855863039306901762230575330141059597672115169295115909068410368695853885297113876283420353842392722225085397075748053848350881508145048861762334174966833045996414503755616866448107728657186817, 356722111972180623533512023831563633387, 3, 90085110919602333312719416403098683133616214847648018532974319154856720983129013034551034058744927238893726179905034506938352951236559140698452409537669488945506179415046173888625791230302150854783886493473832101814148337647277064824030515259143241258141963460966179800585796701782130938558973307461575359833751929814034948235416281220341506958996358122652618039054139881583051477706297052358507785054808907305990159867431088522108429592844373201814267248770175932772472320698487081135021147981068780208397654101)\n",
      "len(ciphertext_vector):  100\n",
      "boa decifração\n",
      "Mensagem decifrada: b'mensagem28'\n",
      "provider.messages[idx] b'mensagem28'\n",
      "!!!!!!!!!!!!!!!!!!!!!!!!!!!!!!!!!!!!!!!!!!!!!!!!!!!!\n",
      "Erro na decifração: A mensagem decifrada NÃO corresponde à original.\n",
      "!!!!!!!!!!!!!!!!!!!!!!!!!!!!!!!!!!!!!!!!!!!!!!!!!!!!\n",
      "\n",
      "Número da mensagem: 9\n",
      "Índice no vetor ciphertext_vector: 33\n",
      "Chave privada (sk): 309800912060098770858160714005163176126\n",
      "Chave pública (pk): (430911500735001362509784505094606475983769635016589723104708569956294368707106072748344500924104834306725271508378935960368790221036306914334590100833298572349824534797378539856840877097671443468659989135321116781789050804455254223142463757120185235379557557120732853766584512934643756860243228952420250116161537, 398274057022616491890698042931358867637, 3, 421738352853459446778692953220806943468321795189181648539767122615315187963264463439848790512405891518442176389491707507355921992395380535694352104830916533917606521356805840054238160490382130280784473980291166102859891152943744855030305740909429145532424876101255374642786701681362368272708278208877228042715183)\n",
      "len(ciphertext_vector):  100\n",
      "boa decifração\n",
      "Mensagem decifrada: b'mensagem33'\n",
      "provider.messages[idx] b'mensagem33'\n",
      "!!!!!!!!!!!!!!!!!!!!!!!!!!!!!!!!!!!!!!!!!!!!!!!!!!!!\n",
      "Erro na decifração: A mensagem decifrada NÃO corresponde à original.\n",
      "!!!!!!!!!!!!!!!!!!!!!!!!!!!!!!!!!!!!!!!!!!!!!!!!!!!!\n",
      "\n",
      "Número da mensagem: 10\n",
      "Índice no vetor ciphertext_vector: 43\n",
      "Chave privada (sk): 106531227040635437936858043356432249503\n",
      "Chave pública (pk): (1027316252134987177955028471444664470143923933973923323267635120493609301870600808424868845458713316494956666784735783684450377447573383256822991519160571297280218290221975917742267742353882897517086326529952101084633056254103293643005277237405126276148622878528985679818839416759696812253522750041981878132775419663098949116272874422002100592728573464847558954056934165304964022273, 550299462676085255597480960755002796901, 3, 593470558180343739924098737919359211765701272596320144566371475431610682357435304969823897935969606708012575775633183339378706739365148775619323732535851478001025078929629970743447356035328698401302568448890409700286815996197097688360107663057878741561459033103913201441799768592622348031774127898171551611266057118016730533195465358880712347370229040172649199967098456794295189786)\n",
      "len(ciphertext_vector):  100\n",
      "boa decifração\n",
      "Mensagem decifrada: b'mensagem43'\n",
      "provider.messages[idx] b'mensagem43'\n",
      "!!!!!!!!!!!!!!!!!!!!!!!!!!!!!!!!!!!!!!!!!!!!!!!!!!!!\n",
      "Erro na decifração: A mensagem decifrada NÃO corresponde à original.\n",
      "!!!!!!!!!!!!!!!!!!!!!!!!!!!!!!!!!!!!!!!!!!!!!!!!!!!!\n",
      "\n",
      "Número da mensagem: 11\n",
      "Índice no vetor ciphertext_vector: 51\n",
      "Chave privada (sk): 365024301089010526496162316528687501466\n",
      "Chave pública (pk): (1211849977113108579858145339833919209783432697596401455921259163044289169585567530022636481909375188409090414272739076588038714671527050584666846377493749306941666891543461747132289932263059483672936417203895350929877472317798946429979792955667391819189803292929114790131313893502307685383140861354077513598636233956819419773485472591679073000404777102205276557773836252675135120499241063628474581360917315407743722629192154629800945574526267006393133635779913018299280205840901847208098746785039303813291012265999784152363688817077599177360042535839427361491774770979116694353796816136290035222786201067126387918361514750246913, 371370443156779752298343077470836703659, 3, 252234106909895372340461897001902775030815808921018178701291471812634092976753401369083822036961466038877653248938757828412990419340755024433218931944121333224384019636576337817818608031739349778431150268778929416332305971717464747380148057061869282307363520496293269942243073187177341025736279678064592456192138582284871138834798590578934728455504677692390625173451533981785457640039753389926839466810678275271630365528205058214471827016011161406820663843534568811948039839928750486075211162829890475883765180309196137575182281248018507585464515881817973621201939859856050321146968096991440335394133399770218684906995910402627)\n",
      "len(ciphertext_vector):  100\n",
      "boa decifração\n",
      "Mensagem decifrada: b'mensagem51'\n",
      "provider.messages[idx] b'mensagem51'\n",
      "!!!!!!!!!!!!!!!!!!!!!!!!!!!!!!!!!!!!!!!!!!!!!!!!!!!!\n",
      "Erro na decifração: A mensagem decifrada NÃO corresponde à original.\n",
      "!!!!!!!!!!!!!!!!!!!!!!!!!!!!!!!!!!!!!!!!!!!!!!!!!!!!\n",
      "\n",
      "Número da mensagem: 12\n",
      "Índice no vetor ciphertext_vector: 53\n",
      "Chave privada (sk): 226111550794779209198604652883830726430\n",
      "Chave pública (pk): (1678613623980915728980981331561300399497705924301561300612864732509078424875099349555122111763570812118503469811411982396037919304218985921666673355982907454802080067444692464342178481381073411453390997382721857428599118533065630427210226035375191580912500143150226521721165916421217008819186449679438774505314555732402878021633, 344496569739525158424498276506749957739, 3, 438536347456660036298302026982893092574566636372147258564377600088060797956302953059789167716083877361274141479315274032018636165101818693208528920232830499373451540431784111328636087237820643360006013189607094102804137944682748254472438125451962421723185228374749432346594061118860100359606579050667717053007951716008846612717)\n",
      "len(ciphertext_vector):  100\n",
      "boa decifração\n",
      "Mensagem decifrada: b'mensagem53'\n",
      "provider.messages[idx] b'mensagem53'\n",
      "!!!!!!!!!!!!!!!!!!!!!!!!!!!!!!!!!!!!!!!!!!!!!!!!!!!!\n",
      "Erro na decifração: A mensagem decifrada NÃO corresponde à original.\n",
      "!!!!!!!!!!!!!!!!!!!!!!!!!!!!!!!!!!!!!!!!!!!!!!!!!!!!\n",
      "\n",
      "Número da mensagem: 13\n",
      "Índice no vetor ciphertext_vector: 56\n",
      "Chave privada (sk): 317989135036213304399916376188078831078\n",
      "Chave pública (pk): (2966619355911083435745220961215271771289775428730597132659065646883551363143356577773317637372952872518319746510524510672669060376140764122438657054581264768198456439034493864744567368747249564990649460889733625747578457090734410571601873891776142124176666759539616350092437647716851627347007241755047110558163037397820756769475988715615400832760328368236995216794993840489731688585209546361899969162190813629203614512924700768015887564425662762410066419327462014977, 409004394686674733735945403523833491479, 3, 689513427911110663967717974701687959416625419649444959295225666036100023329689571317746254966214956672776362483645818730943024975518809524289121743862703142616466389882683849326611848282475889143697086580675175268109872869457398760618425429172390812280440147664535432275856558105376532389497706203460389722949533260109024302661571253555281116814639495108730368686408301392749927550279958333311595121174451436651188971820848459441019432434186213155903551682663633187)\n",
      "len(ciphertext_vector):  100\n",
      "boa decifração\n",
      "Mensagem decifrada: b'mensagem56'\n",
      "provider.messages[idx] b'mensagem56'\n",
      "!!!!!!!!!!!!!!!!!!!!!!!!!!!!!!!!!!!!!!!!!!!!!!!!!!!!\n",
      "Erro na decifração: A mensagem decifrada NÃO corresponde à original.\n",
      "!!!!!!!!!!!!!!!!!!!!!!!!!!!!!!!!!!!!!!!!!!!!!!!!!!!!\n",
      "\n",
      "Número da mensagem: 14\n",
      "Índice no vetor ciphertext_vector: 57\n",
      "Chave privada (sk): 214139867211585054069234907043619824904\n",
      "Chave pública (pk): (6715360235102280331085184680594128038778055402994255570332320627059435514289303190863215876812239257835693506677761097856957663607224091505825328351728807868284598149637193647522891855210755642979191673355136751856844059493631609977054012353368063633292403745632536630276936644382543123976912007400891457200959889213173437822875550294366898655940282074341160833458118229079949868540919935164396637466368139183027168846348823651571775600590069243173390683825917665037214329717961039542496049011378984171798663323697631285954238200299958910693933057, 488018891230291774386970047644127306001, 3, 4023628332938813424335671227233148988126783350368798005277427392664410831791293546274075068099525108956113352591550666551649921317565231231431108262885232529367662260021508914311716712177999892517077035092582861575878408037063691795155714216710997856783965353187948083545314927773725753121760161254587599318741004362519767979062097252278275782126035402132515328054233159139088161039866351896875339524723817964429674055527672970335876530138107289737386483707887396567085580753850017328816575958339038521569343519773731379582156248555604294299023967)\n",
      "len(ciphertext_vector):  100\n",
      "boa decifração\n",
      "Mensagem decifrada: b'mensagem57'\n",
      "provider.messages[idx] b'mensagem57'\n",
      "!!!!!!!!!!!!!!!!!!!!!!!!!!!!!!!!!!!!!!!!!!!!!!!!!!!!\n",
      "Erro na decifração: A mensagem decifrada NÃO corresponde à original.\n",
      "!!!!!!!!!!!!!!!!!!!!!!!!!!!!!!!!!!!!!!!!!!!!!!!!!!!!\n",
      "\n",
      "Número da mensagem: 15\n",
      "Índice no vetor ciphertext_vector: 72\n",
      "Chave privada (sk): 309861986842302640323603373427240938574\n",
      "Chave pública (pk): (7297302007964897948716318823900539744161057220539262611328226970117796904611976744371029183270748744710813483359626285232524288159772657293457147934639676195791882239935012247546893388028490809385591869198044101398949639602829214852792486810380730457395507893885927741909133078178868656281486387855006338963556127463384568997553116510116962813220734469800984577, 576855396714208406144785865786810240749, 3, 5852327801984554043299425950503182217745615013172429931796914252171221588529256590481486887140328013869697274970089464422116580336641056838370007262958078921532762781593048504618836329845007167815916284535963458781155723202991199443565545419598869564836751607833010315614629650046401552755183453383027913569861195286485327357335597867573328427902881846728507816)\n",
      "len(ciphertext_vector):  100\n",
      "boa decifração\n",
      "Mensagem decifrada: b'mensagem72'\n",
      "provider.messages[idx] b'mensagem72'\n",
      "!!!!!!!!!!!!!!!!!!!!!!!!!!!!!!!!!!!!!!!!!!!!!!!!!!!!\n",
      "Erro na decifração: A mensagem decifrada NÃO corresponde à original.\n",
      "!!!!!!!!!!!!!!!!!!!!!!!!!!!!!!!!!!!!!!!!!!!!!!!!!!!!\n",
      "\n",
      "Número da mensagem: 16\n",
      "Índice no vetor ciphertext_vector: 78\n",
      "Chave privada (sk): 80632231630799923341749612596126458647\n",
      "Chave pública (pk): (76159507512142609818729211551714734585546241458837673974854348396324723073811513951535758694984204921764917398694542812422204898640384931528873301306477491946851308922494131711021014862922412829520730263841999066138954748541582334529701720846579731590595745674106265360142176903675582360223886711480385402524848757068163834076773203855311663654072798883574338699743646312113705944110428214230044534871783905266866004936688520918683355185153, 406199988636742463957939209977015071681, 3, 69791332942471571475417010461109898294048559061901724861951896621614825962908869828154502183592831405288088614866043220688407018202401626182510935376225264696519099515209736682671560916664526373417254367334147918153274858097311984188641208955330241641254500010931500403389917130839665972298471487866695675417586064257453361575606583732524780595928080469969578077400898096585451994506747198009046414931044038784534772852430278027693203543075)\n",
      "len(ciphertext_vector):  100\n",
      "boa decifração\n",
      "Mensagem decifrada: b'mensagem78'\n",
      "provider.messages[idx] b'mensagem78'\n",
      "!!!!!!!!!!!!!!!!!!!!!!!!!!!!!!!!!!!!!!!!!!!!!!!!!!!!\n",
      "Erro na decifração: A mensagem decifrada NÃO corresponde à original.\n",
      "!!!!!!!!!!!!!!!!!!!!!!!!!!!!!!!!!!!!!!!!!!!!!!!!!!!!\n",
      "\n",
      "Número da mensagem: 17\n",
      "Índice no vetor ciphertext_vector: 79\n",
      "Chave privada (sk): 457670704371894008041679104786659646522\n",
      "Chave pública (pk): (802579884030277948979498186536200762609376748834071018717352582794561382828832887894146071374191843893459370221769644871421772363737546370987293533581307600225056455804263973597739053436694479454696008799664988814644640009911046511200695992406933883748630406775626346347216798291056007022720781311865708714092336097283475048314843477126908961882113, 558062349787347741240217108196653284779, 3, 405750694871095883146408525439657574167793362252278077570558967099793033623266262714445129911383851859328879399160736486472570363384101887478436903216380015192665847553951003702158849946624503812994127804692795947778274206059381237755982718620789785375297277013581120503451933931260776895885669964156772512554047526811214157816614076214665054505472)\n",
      "len(ciphertext_vector):  100\n",
      "boa decifração\n",
      "Mensagem decifrada: b'mensagem79'\n",
      "provider.messages[idx] b'mensagem79'\n",
      "!!!!!!!!!!!!!!!!!!!!!!!!!!!!!!!!!!!!!!!!!!!!!!!!!!!!\n",
      "Erro na decifração: A mensagem decifrada NÃO corresponde à original.\n",
      "!!!!!!!!!!!!!!!!!!!!!!!!!!!!!!!!!!!!!!!!!!!!!!!!!!!!\n",
      "\n",
      "Número da mensagem: 18\n",
      "Índice no vetor ciphertext_vector: 88\n",
      "Chave privada (sk): 377893058809953255686842633751055956069\n",
      "Chave pública (pk): (338504897485200625706601312928765323217832055536148253290997358329024672736207976126711951181838326677130810558378941075507376360548437070213790368825890337016511439142009227305664951305150668580471169043494313538301052716983989499419477618645815445258920743405893548254444657610441137404738469269738990390053149276989616456080757358593, 517593998144470208426744853460301025703, 3, 285739108823250824961465689037225216416578538121983729160682951719199030709162138772408901977742115984956407196249996165607738361667262396916085149305349320801698854812798752099151911639345326858149656265728050645352669483035813383468128637988056577419418637328167022411080458313133612798682003008769564669327907601459345121414207767956)\n",
      "len(ciphertext_vector):  100\n",
      "boa decifração\n",
      "Mensagem decifrada: b'mensagem88'\n",
      "provider.messages[idx] b'mensagem88'\n",
      "!!!!!!!!!!!!!!!!!!!!!!!!!!!!!!!!!!!!!!!!!!!!!!!!!!!!\n",
      "Erro na decifração: A mensagem decifrada NÃO corresponde à original.\n",
      "!!!!!!!!!!!!!!!!!!!!!!!!!!!!!!!!!!!!!!!!!!!!!!!!!!!!\n",
      "\n",
      "Número da mensagem: 19\n",
      "Índice no vetor ciphertext_vector: 96\n",
      "Chave privada (sk): 462158457628871493123388877487785352743\n",
      "Chave pública (pk): (14053183603987134369497405794463082819230496008664556227120975323048401842428298449055001965576383737342134071397409984377269197758737232861375212936837047887843020866841201558789784201686857653699108759881881539476921493832838678842968647562635720764721070802410742416761789403216177155268503705498338402986692429073639984033840521783148961497944885863982416896478055670470245198003674161951649414833677947421526778088362179238728643979134927487318426535329793, 507903014849352553616197478780123834917, 3, 5205913972817202341639258053211842776284765124475296500052014902902387527050559308490864348901508049384684089763375896438914730439868375796502617911035246996532931497397292986925759255488236494038982633044676451791677392438569542828610362522609246811001406136232318290631571681318825259947470255479426429428494926664360674841006827259285277468971701531977692613112088394873795791264641591022082019643163082134857547891659964029627550319547389003145542124863712)\n",
      "len(ciphertext_vector):  100\n",
      "boa decifração\n",
      "Mensagem decifrada: b'mensagem96'\n",
      "provider.messages[idx] b'mensagem96'\n",
      "!!!!!!!!!!!!!!!!!!!!!!!!!!!!!!!!!!!!!!!!!!!!!!!!!!!!\n",
      "Erro na decifração: A mensagem decifrada NÃO corresponde à original.\n",
      "!!!!!!!!!!!!!!!!!!!!!!!!!!!!!!!!!!!!!!!!!!!!!!!!!!!!\n",
      "\n",
      "Número da mensagem: 20\n",
      "Índice no vetor ciphertext_vector: 97\n",
      "Chave privada (sk): 152221180142521614973067871772214144787\n",
      "Chave pública (pk): (61960779346102017208610498126601647962216182210120140491637614426262809386685512928816041078165510201327578406416787635400613976498781903777149068519014640180356778650934219790888349699182975988963174392862906228695805462959173983139042779647089961411657742118352656282980891122286065198626794511901970527549970437636298971361431115357155543254049034112903218574388138642570805090816197515541483427829295708372993, 409102620499554674402471098169954535149, 3, 30683573496770888422326847043364365638419015877229048121265881369011563758395275058537618312502072335607099322202473526960620423180915487982337871790770366822611980921650171749677910103238811576036416081504943654305104574166666355098275251794540659515554189579392836983897403679864003596592239810863715553490799815545929042047684375982910159306362743482098737019305752030491946900900872244788721601377660340696968)\n",
      "len(ciphertext_vector):  100\n",
      "boa decifração\n",
      "Mensagem decifrada: b'mensagem97'\n",
      "provider.messages[idx] b'mensagem97'\n",
      "!!!!!!!!!!!!!!!!!!!!!!!!!!!!!!!!!!!!!!!!!!!!!!!!!!!!\n",
      "Erro na decifração: A mensagem decifrada NÃO corresponde à original.\n",
      "!!!!!!!!!!!!!!!!!!!!!!!!!!!!!!!!!!!!!!!!!!!!!!!!!!!!\n"
     ]
    }
   ],
   "source": [
    "# Decifrar e verificar as mensagens\n",
    "decrypted_messages = []\n",
    "for msg_number, idx in receiver.e.items(): \n",
    "    if idx < len(ciphertext_vector):  # Verifica se o índice é válido\n",
    "        print(f\"\\nNúmero da mensagem: {msg_number}\")\n",
    "        print(f\"Índice no vetor ciphertext_vector: {idx}\")\n",
    "        print(f\"Chave privada (sk): {receiver.s_values[msg_number - 1]}\")  # Ajuste para índice base 0\n",
    "        print(f\"Chave pública (pk): {receiver.p[idx]}\")\n",
    "        print(\"len(ciphertext_vector): \",len(ciphertext_vector))\n",
    "        # Verifica se a mensagem foi cifrada corretamente\n",
    "        if ciphertext_vector[idx] is None:\n",
    "            print(\"idx:\",idx)\n",
    "            print(f\"Mensagem {idx} não foi cifrada corretamente.\")\n",
    "            continue\n",
    "\n",
    "        y, c = ciphertext_vector[idx]\n",
    "        sk = receiver.s_values[msg_number - 1] \n",
    "        decrypted_message = dec_fujisaki_OT(sk, receiver.p[idx], y, c, tau)\n",
    "\n",
    "        if decrypted_message is not None:\n",
    "            print(f\"Mensagem decifrada: {decrypted_message}\")\n",
    "\n",
    "            # Compara com a mensagem original no Provider\n",
    "            if decrypted_int == provider.messages[idx].encode('utf-8'):\n",
    "                print(\"provider.messages[idx]\",provider.messages[idx])\n",
    "                print(\"Decifração bem-sucedida! A mensagem decifrada corresponde à original.\")\n",
    "                decrypted_messages.append(decrypted_message)\n",
    "            else:\n",
    "                print(\"provider.messages[idx]\",provider.messages[idx].encode('utf-8'))\n",
    "                print(\"!!!!!!!!!!!!!!!!!!!!!!!!!!!!!!!!!!!!!!!!!!!!!!!!!!!!\")\n",
    "                print(\"Erro na decifração: A mensagem decifrada NÃO corresponde à original.\")\n",
    "                print(\"!!!!!!!!!!!!!!!!!!!!!!!!!!!!!!!!!!!!!!!!!!!!!!!!!!!!\")\n",
    "        else:\n",
    "            print(\"Erro na decifração intencional.\")"
   ]
  },
  {
   "cell_type": "code",
   "execution_count": null,
   "id": "6a00b642-eeed-4e57-b49e-70cc2a73a60a",
   "metadata": {},
   "outputs": [],
   "source": []
  }
 ],
 "metadata": {
  "kernelspec": {
   "display_name": "SageMath 10.5",
   "language": "sage",
   "name": "sagemath"
  },
  "language_info": {
   "codemirror_mode": {
    "name": "ipython",
    "version": 3
   },
   "file_extension": ".py",
   "mimetype": "text/x-python",
   "name": "python",
   "nbconvert_exporter": "python",
   "pygments_lexer": "ipython3",
   "version": "3.12.9"
  }
 },
 "nbformat": 4,
 "nbformat_minor": 5
}
