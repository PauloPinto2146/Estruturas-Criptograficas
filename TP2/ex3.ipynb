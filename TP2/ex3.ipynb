{
 "cells": [
  {
   "cell_type": "markdown",
   "id": "8f10b697-dc9e-434d-bd91-9f2b59c41528",
   "metadata": {},
   "source": [
    "# Enunciado"
   ]
  },
  {
   "cell_type": "markdown",
   "id": "b727a98d-6364-48ec-b67b-74673f340015",
   "metadata": {},
   "source": [
    "\n",
    "3. Usando a experiência obtida na resolução dos problemas 1 e 2, e usando, ao invés  do grupo abeliano multiplicativo $\\,\\mathbb{F}_p^\\ast\\,$,  o  grupo abeliano aditivo que usou na pergunta 2,   \n",
    "    1. Construa ambas as versões  IND-CPA segura e IND-CCA segura do esquema de cifra ElGamal em curvas elípticas.\n",
    "    2. Construa uma implementação em curvas elípticas de um protocolo autenticado de “Oblivious Transfer” $\\,\\kappa$-out-of-$n\\,$."
   ]
  },
  {
   "cell_type": "markdown",
   "id": "e254692c-4503-46aa-bea4-eef77b41a129",
   "metadata": {},
   "source": [
    "-----------"
   ]
  },
  {
   "cell_type": "markdown",
   "id": "35e43ad8-77c4-43f0-b214-96c2598adb28",
   "metadata": {},
   "source": [
    "## Exercício 3.a"
   ]
  },
  {
   "cell_type": "markdown",
   "id": "bb88746c-7ca3-4019-8319-32409fe1199b",
   "metadata": {},
   "source": [
    "### **Versão IND-CPA**"
   ]
  },
  {
   "cell_type": "markdown",
   "id": "0cab392e-a004-4be2-894e-850df97af2b1",
   "metadata": {},
   "source": [
    "#### Geração de chaves"
   ]
  },
  {
   "cell_type": "markdown",
   "id": "13f8b38b-76a0-462c-94fe-c15c4205c064",
   "metadata": {},
   "source": [
    "- Escolher uma curva elíptica $E$ sobre $F_p$, com um ponto gerador $G$ de ordem prima $q$.\n",
    "- A chave privada é $s∈{1,2,...,q−1}$.\n",
    "- A chave pública é $(E,G,S)$, onde $S=s⋅G$."
   ]
  },
  {
   "cell_type": "markdown",
   "id": "eaac8074-cf7b-47b8-b941-26040d6eb89d",
   "metadata": {},
   "source": [
    "#### Cifra"
   ]
  },
  {
   "cell_type": "markdown",
   "id": "2e9d56a8-76f8-40b6-b5a8-825f7e97dd6a",
   "metadata": {},
   "source": [
    "Para cifrar uma mensagem $M$ (mapeada para um ponto em $E$ na curva elíptica):\n",
    "\n",
    "- Escolher $\\omega \\in {1,2,...,q−1}$ aleatoriamente.\n",
    "- Calcular $\\gamma=\\omega⋅G$.\n",
    "- Calcular $\\kappa = \\omega⋅S$.\n",
    "- O criptograma é $(\\gamma,M+\\kappa)$."
   ]
  },
  {
   "cell_type": "markdown",
   "id": "b8b81f57-95be-4aa8-8a28-c6f2904f1ae2",
   "metadata": {},
   "source": [
    "#### Decifra"
   ]
  },
  {
   "cell_type": "markdown",
   "id": "83acd357-879b-47d1-8e23-4d278ac1f0a1",
   "metadata": {},
   "source": [
    "Recebendo a chave privada $sk=s$ e o criptograma $c=(\\gamma,C)c=(\\gamma,C)$:\n",
    "\n",
    "- Calcular $\\kappa=s . \\gamma$ (adição de pontos na curva).\n",
    "- Recuperar $M=C−\\kappa$ (subtração de pontos na curva)."
   ]
  },
  {
   "cell_type": "markdown",
   "id": "3c61b529-08d7-4a16-97dd-789704a23ed6",
   "metadata": {},
   "source": [
    "#### Diferenças entre usa o grupo multiplicativo $F_p^*$ e usar um grupo abeliano"
   ]
  },
  {
   "cell_type": "markdown",
   "id": "9db91538-1438-480d-96ac-57a3bd4ab9ed",
   "metadata": {},
   "source": [
    "No Exercício 3.A, a cifra e decifra não são iguais ao Exercício 1.A, porque as operações matemáticas mudam:\n",
    "\n",
    "- No grupo multiplicativo $F_p^∗$, usamos exponenciação e multiplicação modular.\n",
    "- Nas curvas elípticas, usamos adição de pontos.\n",
    "\n",
    "Portanto, a cifra e decifra no Exercício 3.A devem ser adaptadas para as operações no grupo aditivo da curva elíptica. Comparando-as:"
   ]
  },
  {
   "cell_type": "markdown",
   "id": "8e70185a-3a5e-4625-bdd2-f2fb225de64e",
   "metadata": {},
   "source": [
    "| Operação                     | Grupo Multiplicativo $ \\mathbb{F}_p^* $ | Curva Elíptica $ E $ |\n",
    "|------------------------------|-------------------------------------------|-------------------------|\n",
    "| **Geração de Chaves**         | $ g^s\\mod p $                          | $ s \\cdot G $         |\n",
    "| **Cifra**                     | $ \\gamma = g^\\omega \\mod p $            | $ \\gamma = \\omega \\cdot G $ |\n",
    "|                              | $ \\kappa = (g^s)^\\omega \\mod p $        | $ \\kappa = \\omega \\cdot S $  |\n",
    "|                              | $ \\delta = m \\cdot \\kappa \\mod p $      | $ C = M + \\kappa $           |\n",
    "| **Decifra**                   | $ \\kappa = \\gamma^s \\mod p $            | $ \\kappa = s \\cdot \\gamma $  |\n",
    "|                              | $ m = \\delta \\cdot \\kappa^{-1} \\mod p $ | $ M = C - \\kappa $           |"
   ]
  },
  {
   "cell_type": "markdown",
   "id": "aab746cf-a93e-4d01-b41b-fa2b0773f8cf",
   "metadata": {},
   "source": [
    "#### Implementação"
   ]
  },
  {
   "cell_type": "code",
   "execution_count": 2,
   "id": "80d77df9-173e-447b-807e-1dabc37ec762",
   "metadata": {},
   "outputs": [
    {
     "name": "stdout",
     "output_type": "stream",
     "text": [
      "True\n"
     ]
    }
   ],
   "source": [
    "from sage.all import EllipticCurve, GF\n",
    "\n",
    "# Configuração da curva elíptica\n",
    "p = 0xFFFFFFFFFFFFFFFFFFFFFFFFFFFFFFFFFFFFFFFFFFFFFFFFFFFFFFFEFFFFFC2F  # Secp256k1\n",
    "E = EllipticCurve(GF(p), [0, 7])  # Curva y² = x³ + 7\n",
    "G = E.gens()[0]  # Gerador\n",
    "q = G.order()    # Ordem do gerador\n",
    "\n",
    "# Geração de Chaves\n",
    "s = randint(1, q-1)  # Chave privada\n",
    "S = s * G            # Chave pública\n",
    "\n",
    "# Cifra\n",
    "def encrypt(M, S):\n",
    "    ω = randint(1, q-1)\n",
    "    γ = ω * G\n",
    "    κ = ω * S\n",
    "    C = M + κ\n",
    "    return (γ, C)\n",
    "\n",
    "# Decifra\n",
    "def decrypt(γ, C, s):\n",
    "    κ = s * γ\n",
    "    return C - κ\n",
    "\n",
    "# Exemplo de uso:\n",
    "M = E.random_point()  # Mapeamento da mensagem para a curva\n",
    "γ, C = encrypt(M, S)\n",
    "M_decrypted = decrypt(γ, C, s)\n",
    "print(M_decrypted == M)"
   ]
  },
  {
   "cell_type": "markdown",
   "id": "4582abfd-7bd2-4ae9-a92c-8bd3e1a61d2b",
   "metadata": {},
   "source": [
    "------"
   ]
  },
  {
   "cell_type": "markdown",
   "id": "30867428-d1bf-4ff0-8aa1-821b5abf10a6",
   "metadata": {},
   "source": [
    "### **Transformar um  PKE-IND-CPA em um PKE-IND-CCA**"
   ]
  },
  {
   "cell_type": "markdown",
   "id": "cba78b67-4b2a-4e34-90d6-4f74ec08b614",
   "metadata": {},
   "source": [
    "A transformação FO original constrói, a partir de $\\,(E_p,D_s)\\,$,  um novo esquema de cifra assimétrica $\\,(E'_p,D'_s)\\,$ , usando um  “hash” pseudo-aleatório $\\,h\\,$ de tamanho $\\,\\lambda\\,$ e um “hash” pseudo-aleatório $\\,g\\,$ de tamanho $\\,|x|\\,$.\n",
    "\n",
    "O algoritmo de cifra parametrizado pelos dois “hashs”  $\\,h,g\\,$    é \n",
    "\n",
    "  $$E'_{p}(x)\\;\\equiv\\;\\vartheta\\,r\\gets \\{0,1\\}^\\lambda\\,\\centerdot\\,\\vartheta\\,y \\gets x\\oplus g(r)\\,\\centerdot\\,\\vartheta\\,r'\\gets h(r,y)\\,\\centerdot\\,\\vartheta\\,c\\gets f_p(r,r') \\,\\centerdot\\, (y\\,,\\,c)$$\n",
    "\n",
    "O algoritmo $\\,D'_{s}\\,$ rejeita o criptograma se detecta algum sinal de fraude. \n",
    "\n",
    "\n",
    "$$D'_{s}(y,c)\\;\\equiv\\;\\vartheta\\,r \\gets D_s(c)\\,\\centerdot\\,\\vartheta\\,r'\\gets h(r,y)\\,\\centerdot\\,\\mathsf{if}\\;\\;c\\neq f_p(r,r')\\;\\;\\mathsf{then}\\;\\;\\bot\\;\\mathsf{else}\\;\\;y\\oplus g(r)$$"
   ]
  },
  {
   "cell_type": "code",
   "execution_count": null,
   "id": "6432159c-b21b-459e-a15a-efaa6dec2a75",
   "metadata": {},
   "outputs": [],
   "source": []
  },
  {
   "cell_type": "markdown",
   "id": "3dc1f00d-2ea9-43ab-8d47-665a04ffff12",
   "metadata": {},
   "source": [
    "## “Oblivious Transfer” $\\,\\kappa$-out-of-$n\\,$"
   ]
  },
  {
   "cell_type": "code",
   "execution_count": null,
   "id": "a15b9c40-c4eb-4f2b-9317-7faa4fb07cbb",
   "metadata": {},
   "outputs": [],
   "source": []
  },
  {
   "cell_type": "code",
   "execution_count": null,
   "id": "3aba15ff-6c5b-4574-84cb-f325abfd581f",
   "metadata": {},
   "outputs": [],
   "source": []
  },
  {
   "cell_type": "code",
   "execution_count": null,
   "id": "b539f693-67fa-4eb9-810c-e2109b9249e4",
   "metadata": {},
   "outputs": [],
   "source": []
  }
 ],
 "metadata": {
  "kernelspec": {
   "display_name": "SageMath 10.5",
   "language": "sage",
   "name": "sagemath"
  },
  "language_info": {
   "codemirror_mode": {
    "name": "ipython",
    "version": 3
   },
   "file_extension": ".py",
   "mimetype": "text/x-python",
   "name": "python",
   "nbconvert_exporter": "python",
   "pygments_lexer": "ipython3",
   "version": "3.12.9"
  }
 },
 "nbformat": 4,
 "nbformat_minor": 5
}
