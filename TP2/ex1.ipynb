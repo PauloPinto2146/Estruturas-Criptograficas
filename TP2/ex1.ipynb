{
 "cells": [
  {
   "cell_type": "markdown",
   "id": "c3ce6268-0d5b-4173-8aba-8f36f2786e26",
   "metadata": {},
   "source": [
    "# Enunciado"
   ]
  },
  {
   "cell_type": "markdown",
   "id": "4fbbe49e-9b94-4830-b52d-6980d78f640b",
   "metadata": {},
   "source": [
    "\n",
    "Este trabalho usa SageMath nas suas implementações\n",
    "\n",
    "\n",
    "1. Pretende-se construir em torno de uma cifra assimétrica um conjunto de técnicas criptográficas destinadas a fins distintos. Apesar de todas as alíneas do problema poderem ser  respondidas com a maioria das cifras assimétricas clássicas ou pós-quânticas, neste problema vamos exemplificar o processo com uma técnica simples da família Diffie-Hellman nomeadamente a cifra assimétrica ElGamal com parâmetros de segurança $\\,\\lambda\\,$.\n",
    "    1. Implemente um esquema  PKE $\\,\\mathsf{ElGamal}(\\lambda)\\,$ (ver Capítulo 4) num subgrupo de ordem prima $\\,q\\,$,  com $\\,|q|\\geq \\lambda\\,$, do grupo multiplicativo $\\,\\mathbb{F}^\\ast_p\\,$ com $\\,p\\,$ um primo que verifica $\\,|p| \\geq \\lambda\\times|\\lambda|$ . Identifique o gerador de chaves e os algoritmos de cifra de decifra neste esquema. Identifique o núcleo deterministico do algoritmo de cifra.\n",
    "    2. Supondo que a cifra que implementou é IND-CPA segura (de novo Capítulo 4), usando a transformação de Fujisaki-Okamoto implemente um PKE que seja IND-CCA seguro.\n",
    "    3. A partir de (b) construa um esquema de KEM que seja IND-CCA seguro.\n",
    "    4. A partir de (b) construa uma implementação de um protocolo autenticado de \"Oblivious Transfer\" $\\,\\kappa$-out-of-$n\\,$."
   ]
  },
  {
   "cell_type": "markdown",
   "id": "8389d2b7-f65a-486e-9dd5-89b205d7cab6",
   "metadata": {},
   "source": [
    "# **Exercício 1.a.**"
   ]
  },
  {
   "cell_type": "markdown",
   "id": "ce0ee8e0-9150-4e6a-bbc1-4d8ce555684a",
   "metadata": {},
   "source": [
    "EL GAMAL\n",
    "Qualquer PKE é determinado por três algoritmos: geração de chaves, cifra e decifra:\n",
    "\n",
    " ----------<br><br>$\\text{GenKeys}(\\lambda)$                                 …       $\\lambda\\;$ é o parâmetro de segurança<br><br><br>    - gerar aleatoriamente um primo $\\,q \\approx 2^\\lambda$                                      <br>    - gerar um primo $p$  tal que  $\\,\\mathbb{F}_p^\\ast\\,$ tem um sub-grupo de ordem $\\,q\\,$ ; calcular um gerador $g$ desse sub-grupo<br>    - gerar aleatoriamente  $\\,0 <s < q\\,$ ,  a chave privada<br>    - calcular e  revelar  a chave pública   $\\,\\mathsf{pk} \\equiv \\langle p,q, g,g^s\\rangle$<br>----------<br><br>$\\text{Enc}(\\mathsf{pk},m)$                                   …   a mensagem $m$ é um elemento de $\\mathbb{F}_p^\\ast$ <br><br><br>    - obter elementos públicos  $\\,p,q,g,g^s \\,\\gets\\,\\mathsf{pk}$<br>    - gerar aleatoriamente  $\\,0 <\\omega < q$ <br>    - calcular  $\\,\\gamma \\gets g^\\omega\\;$ e $\\,\\kappa \\gets (g^s)^\\omega\\,$.<br>    - construir  o criptograma $\\,\\mathbf{c}\\gets \\langle\\,\\gamma\\,,\\, m\\times\\kappa\\,\\rangle\\,$<br>----------<br><br>Note-se que se verifica $\\,\\kappa = \\gamma^s\\,$.<br> \n",
    "----------<br><br>$\\text{Dec}(\\mathsf{sk},\\mathbf{c})$  …  $\\mathsf{sk} = s$ é a chave privada<br><br>\n",
    "- obter a chave privada $s$<br>    \n",
    "- obter o criptograma $\\mathbf{c} = \\langle \\gamma, \\delta \\rangle$<br>    \n",
    "- calcular $\\kappa \\gets \\gamma^s \\mod p$<br>    \n",
    "- calcular $\\kappa^{-1} \\mod p$<br>    \n",
    "- recuperar a mensagem original: $m \\gets \\delta \\times \\kappa^{-1} \\mod p$<br>    "
   ]
  },
  {
   "cell_type": "code",
   "execution_count": 1,
   "id": "f01d8ce5-0cea-4c68-bab6-45d697e52f01",
   "metadata": {},
   "outputs": [],
   "source": [
    "print_tentativas_genKeys = False"
   ]
  },
  {
   "cell_type": "code",
   "execution_count": 2,
   "id": "d5bdb3ad-85b9-469d-8dff-02c25c4d53d7",
   "metadata": {},
   "outputs": [],
   "source": [
    "from sage.all import *\n",
    "lambda_security = 128  # Define um tamanho de bits para q"
   ]
  },
  {
   "cell_type": "markdown",
   "id": "7922b141-08cb-441e-9b78-d951f66f896c",
   "metadata": {},
   "source": [
    "Para encontrar um gerador do grupo multiplicativo temos que encontrar um número cuja ordem seja igual à do grupo, i.e.:\n",
    "- Dada a ordem do grupo multiplicativo $F_p^* = \\phi(p)$ o gerador g tem de ter ordem $\\phi(p)$, ou seja, $g^{\\phi(n)}=1 \\ mod \\ p$"
   ]
  },
  {
   "cell_type": "code",
   "execution_count": 3,
   "id": "21c39732-23af-4a54-84ee-a4fbb3c10555",
   "metadata": {},
   "outputs": [],
   "source": [
    "def find_generator(p):\n",
    "    \"\"\"Encontra um gerador do grupo multiplicativo F_p^*.\"\"\"\n",
    "    if not is_prime(p):\n",
    "        raise Exception(\"O p de input não é primo\")\n",
    "\n",
    "    phi_p = p - 1  # Para p primo, phi(p) = p - 1\n",
    "\n",
    "    fatoracao = factor(phi_p)\n",
    "    fatores_primos = list(set([q for q, e in fatoracao]))\n",
    "    \n",
    "    #print(f\"Fatoração de phi(p): {fatoracao}\")\n",
    "    #print(f\"Fatores primos de phi(p): {fatores_primos}\")\n",
    "\n",
    "    # Itera sobre possíveis geradores\n",
    "    for g in range(2, p):\n",
    "        if gcd(g, p) != 1:\n",
    "            continue  # Ignora números não coprimos com p\n",
    "\n",
    "        is_gerador = True\n",
    "        for q in fatores_primos:\n",
    "            if pow(g, phi_p // q, p) == 1:\n",
    "                is_gerador = False\n",
    "                break\n",
    "\n",
    "        if is_gerador:\n",
    "            return g \n",
    "\n",
    "    return None  "
   ]
  },
  {
   "cell_type": "code",
   "execution_count": 4,
   "id": "26e587e6-b57c-472b-bf28-e72fe93623cb",
   "metadata": {},
   "outputs": [],
   "source": [
    "def gen_keys(lambda_security):\n",
    "    print(\"----------------------------------Geração de chaves:--------------------------------------\")\n",
    "    # Gerar aleatoriamente q com bit_length maior que lambda\n",
    "    q = random_prime(2^129 - 1, False, 2^128)\n",
    "    print(\"Parâmetro q gerado:\",q)\n",
    "    \n",
    "    #Gera-se sucessivamente inteiros pi = q*2^i+1 até que pi seja um primo suficientemente grande, ou seja |p| > 1024\n",
    "    i = 1\n",
    "    p_i = q * (2^i) + 1 \n",
    "    tamanho_desejado = lambda_security * lambda_security.nbits()\n",
    "    \n",
    "    while True:\n",
    "        # Caso o p_i não convergir tenta um novo q\n",
    "        if p_i.nbits() > 2500:\n",
    "            q = random_prime(2^129 - 1, False, 2^128)\n",
    "            i = 1\n",
    "            p_i = q * (2^i) + 1\n",
    "            print(\"p não convergiu, novo valor de q: \",q)\n",
    "            \n",
    "        if is_prime(p_i) and p_i.nbits() >= tamanho_desejado:\n",
    "            break  \n",
    "    \n",
    "        i += 1\n",
    "        p_i = q * (2^i) + 1\n",
    "        if print_tentativas_genKeys:\n",
    "            print(f\"Tentativa {i}: p_i = {p_i} (Tamanho: {p_i.nbits()} bits)\")\n",
    "\n",
    "    p = p_i\n",
    "    print(\"Parâmetro p gerado:\",p)\n",
    "    \n",
    "    # Fp é um grupo multiplicativo se para todo o x pertencente a Fp gcd(x,p) = 1 (trivial já que p é primo)\n",
    "    # Criar o corpo finito F_p\n",
    "    F_p = GF(p)\n",
    "    # O grupo multiplicativo F_p^* é o conjunto de elementos não nulos de F_p\n",
    "    F_p_star = F_p.unit_group()\n",
    "        \n",
    "    # Agora obtemos um gerador do subgrupo de ordem q\n",
    "    g = find_generator(p)\n",
    "    print(\"gerador (g):\",g)\n",
    "    \n",
    "    # Gerar aleatoriamente a chave privada 0<s<q\n",
    "    s = randint(1, q-1)\n",
    "    print(\"chave privada (s):\", s)\n",
    "    print(\"---------------------------------------------------------------------------------\")\n",
    "    return (p, q, g, pow(g, s, p)), s"
   ]
  },
  {
   "cell_type": "markdown",
   "id": "83406e20-ced7-4e66-9fbc-b5ff7aef5f5e",
   "metadata": {},
   "source": [
    "## Escolha de p:\n",
    "A ordem desse grupo é $\\,n = p - 1\\,$ e para que o DLP seja  complexo não basta apenas que $\\,p\\,$ seja grande: é também necessário que o maior factor primo de $\\,(p-1)\\,$ seja também grande. \n",
    "Para garantir estas condições o primo $\\,p\\,$  é gerado de uma determinada forma:\n",
    "\n",
    "1. Gera-se um primo $\\,q\\,$ grande: com mais de $\\lambda$ bits de tamanho; este vai ser o maior factor de $\\,(p-1)\\,$\n",
    "2. Gera-se sucessivamente inteiros  $\\,p_i\\;=\\;q\\,2^i + 1\\,$ até que $\\,p_i\\,$ seja  um primo suficientemente grande ."
   ]
  },
  {
   "cell_type": "markdown",
   "id": "9af254e2-ecd8-44aa-9173-d5b07d167696",
   "metadata": {},
   "source": [
    "## Como é que $F_p^*$ tem um subgrupo de ordem q? (Teorema de Lagrange)\n",
    "O Teorema de Lagrange diz que, se um grupo G tem ordem finita e H é um subgrupo de G, então |H| é um divisor de |G|.\n",
    "\n",
    "Visto que $F_p^*$ tem ordem $p-1$ e $p-1$ divide $2q$ (e consequentemente $q$) então podemos afirmar que $F_p^*$ tem um subgrupo de ordem q. "
   ]
  },
  {
   "cell_type": "markdown",
   "id": "38d83f60-4b49-494c-816b-1ce321783863",
   "metadata": {},
   "source": [
    "------------------"
   ]
  },
  {
   "cell_type": "code",
   "execution_count": 5,
   "id": "1e6b9b0a-a22c-4b46-9b2a-4c5d756d1a20",
   "metadata": {},
   "outputs": [],
   "source": [
    "def enc(pk, m):\n",
    "    p, q, g, g_s = pk\n",
    "    omega = randint(1, q-1)  # Escolhe um valor aleatório ω entre 0 e q\n",
    "    gamma = pow(g, omega, p)  # γ = g^ω mod p\n",
    "    kappa = pow(g_s, omega, p)  # κ = (g^s)^ω mod p\n",
    "    c = (gamma, (m * kappa) % p) \n",
    "    return c"
   ]
  },
  {
   "cell_type": "markdown",
   "id": "9a53bbe5-f7bb-4046-aba4-b2f222b3fc76",
   "metadata": {},
   "source": [
    "------------------"
   ]
  },
  {
   "cell_type": "code",
   "execution_count": 6,
   "id": "e76111b2-a112-4db9-9500-8da0154cf1f7",
   "metadata": {},
   "outputs": [],
   "source": [
    "def dec(sk, pk, c):\n",
    "    p, _, _, _ = pk\n",
    "    gamma, delta = c\n",
    "    kappa = pow(gamma, sk, p)  # κ = γ^s mod p\n",
    "    kappa_inv = inverse_mod(Integer(kappa), Integer(p))  # Calcula o inverso de κ mod p\n",
    "    m = (delta * kappa_inv) % p  # Recupera a mensagem original\n",
    "    return m"
   ]
  },
  {
   "cell_type": "markdown",
   "id": "ab492e40-b185-4f54-a12e-932a334b76ce",
   "metadata": {},
   "source": [
    "------------------"
   ]
  },
  {
   "cell_type": "code",
   "execution_count": 7,
   "id": "8c7475fa-c66f-4975-be98-2dee091c0767",
   "metadata": {
    "scrolled": true
   },
   "outputs": [
    {
     "name": "stdout",
     "output_type": "stream",
     "text": [
      "----------------------------------Geração de chaves:--------------------------------------\n",
      "Parâmetro q gerado: 487699698876737818552487516308232197879\n",
      "Parâmetro p gerado: 1506218231047799679526744863109809970689509330025722735562989793769908233228433625215483501146216311197508334689366568906915756775533521505313352015249195953302294888544550636810076827766387213187486366751090244808198263395299431296727952282133407831525274973535471383940865746674369375861170481461652444521938571933320006321838212011172365089260051393150977\n",
      "gerador (g): 3\n",
      "chave privada (s): 352014016105149690688414936672900546621\n",
      "---------------------------------------------------------------------------------\n",
      "Mensagem original: 993242793758555459565595555937848523279772650440560007467842262428857150278417936669488958827258845927294692959197790341915964294429889527147018378646168965599671142104482477252933516956177737639839299746169070747618332987299377643468018285010807504293381587207135358736123110628828842361535245221795530955699916133741841130288590422047783435986671772898247\n",
      "Criptograma: (208301975061275491494087413806577418796907478673655592585267144866552623173310192399557543113415082130895298332121094820140208976499883837269426842928416200117205679062552588788295173863767265963271024384277280305551868243197579894531735391449215834322467240887564473852140761242942201650024209304577584541802032589752212358717838971863694656899018792984599, 1142321494981406364397144175910070415505923065272679803616914334912376348781252299820405990346012657178942238804330445780487109472024482708704696267600006377035447971996450440532959206358565935673876502645795398127785389914802982417206469850671112209661481587509240417820903713005002526564850643284450140583554594293046772748360244552768052479922482095216572)\n",
      "Mensagem decifrada: 993242793758555459565595555937848523279772650440560007467842262428857150278417936669488958827258845927294692959197790341915964294429889527147018378646168965599671142104482477252933516956177737639839299746169070747618332987299377643468018285010807504293381587207135358736123110628828842361535245221795530955699916133741841130288590422047783435986671772898247\n",
      "Decifração bem-sucedida? True\n",
      "---------------------------------------------------------------------------------\n"
     ]
    }
   ],
   "source": [
    "# Exemplo\n",
    "pk, sk = gen_keys(lambda_security)  # Geração de chaves\n",
    "m = randint(1, pk[0]-1)  # Mensagem aleatória em F_p*\n",
    "c = enc(pk, m)  # Cifra a mensagem\n",
    "m_dec = dec(sk, pk, c)  # Decifra a mensagem\n",
    "\n",
    "# Exibir os resultados\n",
    "print(f\"Mensagem original: {m}\")\n",
    "print(f\"Criptograma: {c}\")\n",
    "print(f\"Mensagem decifrada: {m_dec}\")\n",
    "print(f\"Decifração bem-sucedida? {m == m_dec}\")\n",
    "print(\"---------------------------------------------------------------------------------\")"
   ]
  },
  {
   "cell_type": "markdown",
   "id": "f5b546fe-12af-4e84-9bb9-9e1374281576",
   "metadata": {},
   "source": [
    "--------"
   ]
  },
  {
   "cell_type": "markdown",
   "id": "959c61be-9be9-4935-a4ef-f0b186e610a3",
   "metadata": {},
   "source": [
    "# **Exercício 1.b.**"
   ]
  },
  {
   "cell_type": "markdown",
   "id": "8cb4b8b1-40ec-49c3-af84-02be7e617104",
   "metadata": {},
   "source": [
    "Supondo que a cifra que implementou é IND-CPA segura (de novo Capítulo 4), usando a transformação de Fujisaki-Okamoto implemente um PKE que seja IND-CCA seguro."
   ]
  },
  {
   "cell_type": "markdown",
   "id": "7adb4876-e652-4c6f-be01-5e9b614a231c",
   "metadata": {},
   "source": [
    "### **Transformar um  PKE-IND-CPA em um PKE-IND-CCA**"
   ]
  },
  {
   "cell_type": "markdown",
   "id": "f7845f03-d636-4780-85bb-97548352836a",
   "metadata": {},
   "source": [
    "A transformação FO original constrói, a partir de $\\,(E_p,D_s)\\,$,  um novo esquema de cifra assimétrica $\\,(E'_p,D'_s)\\,$ , usando um  “hash” pseudo-aleatório $\\,h\\,$ de tamanho $\\,\\lambda\\,$ e um “hash” pseudo-aleatório $\\,g\\,$ de tamanho $\\,|x|\\,$.\n",
    "\n",
    "O algoritmo de cifra parametrizado pelos dois “hashs”  $\\,h,g\\,$    é \n",
    "\n",
    "  $$E'_{p}(x)\\;\\equiv\\;\\vartheta\\,r\\gets \\{0,1\\}^\\lambda\\,\\centerdot\\,\\vartheta\\,y \\gets x\\oplus g(r)\\,\\centerdot\\,\\vartheta\\,r'\\gets h(r,y)\\,\\centerdot\\,\\vartheta\\,c\\gets f_p(r,r') \\,\\centerdot\\, (y\\,,\\,c)$$\n",
    "\n",
    "O algoritmo $\\,D'_{s}\\,$ rejeita o criptograma se detecta algum sinal de fraude. \n",
    "\n",
    "\n",
    "$$D'_{s}(y,c)\\;\\equiv\\;\\vartheta\\,r \\gets D_s(c)\\,\\centerdot\\,\\vartheta\\,r'\\gets h(r,y)\\,\\centerdot\\,\\mathsf{if}\\;\\;c\\neq f_p(r,r')\\;\\;\\mathsf{then}\\;\\;\\bot\\;\\mathsf{else}\\;\\;y\\oplus g(r)$$"
   ]
  },
  {
   "cell_type": "markdown",
   "id": "012c330e-fb8d-4aaf-be6a-3270269f969f",
   "metadata": {},
   "source": [
    "### Definições de variáveis"
   ]
  },
  {
   "cell_type": "code",
   "execution_count": 8,
   "id": "d700f39d-e350-4c19-b2f3-6408fc4d7a15",
   "metadata": {},
   "outputs": [
    {
     "name": "stdout",
     "output_type": "stream",
     "text": [
      "----------------------------------Definição de veriáveis----------------------------------\n",
      "----------------------------------Geração de chaves:--------------------------------------\n",
      "Parâmetro q gerado: 678267703150883238331992576020294059763\n",
      "Parâmetro p gerado: 284828789229163771187790577473635873555798367063503005037831047771526739928035601633062054324988241820076963902308682872861791497645842452824668204470992375144337691952289457013786690882949070917056684198696433598523224605390231506269050655992159110713945657007377856196348830394016751476039013789416871597674024095688258101629394343967840027070378054817390763149146847310892382957568358932691385679241501267331234017342063506721490377025814091658118206324005661550682536531153178688094008917398877429635069278177038834037808614342824711684097\n",
      "gerador (g): 3\n",
      "chave privada (s): 531949773555625091036396936866208983970\n",
      "---------------------------------------------------------------------------------\n",
      "length x: 226\n",
      "Mensagem de input: b\"\\x02\\x99\\x9f\\xfa\\x8c\\xa5MH\\x1d\\xae&\\xb7\\x1a\\xc1\\xbd\\xe5H\\x1f\\xbf'\\xaa8\\xf0\\x97\\x17\\x04\\x96E\\x07\\xb43\\x03\\xdb0i\\x808\\xb7\\xf8\\xa2@\\x0e@\\xfdN\\xcd\\xde?\\xc2\\x9a!\\x969\\xf6\\xdaeVr7\\xad\\x08\\xb3\\xf4\\x16\\xdf\\x9b\\xfa#\\xa4#\\xd2\\xb3\\xa4\\xaf\\x9b\\x06~,a55\\xbb\\xb2!\\xca\\x888TT\\xdc\\xbb%\\xdf3b\\xbc\\xb2\\x81A]\\x92\\x8c\\xa2\\xeel\\x15\\xa5~Z\\xe5UB9l\\xba8#\\xac\\xc8\\xa0\\x9a\\xd39t\\xcf\\xf5\\xb26\\xe4S\\x9f\\xa9\\xa2z\\xee\\xf8\\xae\\xd8\\xd5\\xe0\\xda\\x10\\xf7EE\\xf6\\xd0\\xca\\xfd\\xbbN\\x1a(\\x93\\xebN\\x17\\x06\\x1a\\xa0\\xda\\xf8\\x8e.\\xba\\x1b\\xc6\\x1d<$\\x01\\xccv\\x02O\\x17#;R\\x9e\\xb1r\\xe6\\xc7\\xa2\\xebi\\xb4\\x1f\\xb5\\x14\\x99\\xd1\\xf9\\xca\\xd9jN\\x92J\\x1a\\x08d4\\xbd\\x98/\\xc9\\x8f\\xe6\\xd5\\xd8?23\\xc2\\xfdr%s6\\xf6\\x0bK7\\xad\"\n",
      "-------------------------------------------------------------------------------------------\n"
     ]
    }
   ],
   "source": [
    "print(\"----------------------------------Definição de veriáveis----------------------------------\")\n",
    "lambda_bits = 128\n",
    "\n",
    "pk, sk = gen_keys(lambda_bits)\n",
    "x = randint(1, pk[0]-1)  # Mensagem aleatória em F_p*\n",
    "length_in_bytes = (x.bit_length() + 7) // 8\n",
    "x = x.to_bytes(length_in_bytes, byteorder='big')\n",
    "print(\"length x:\",len(x))\n",
    "print(\"Mensagem de input:\",x)\n",
    "print(\"-------------------------------------------------------------------------------------------\")"
   ]
  },
  {
   "cell_type": "markdown",
   "id": "9f6786da-5d9a-43ba-8ca9-fd979f4ac084",
   "metadata": {},
   "source": [
    "-------"
   ]
  },
  {
   "cell_type": "markdown",
   "id": "891a4bc4-c938-4bb1-b6da-9ec5e94026dd",
   "metadata": {},
   "source": [
    "### Funções auxiliares:\n",
    "- $g$, um \"hash\" pseudo-aleatório de tamanho $|x|$\n",
    "- $h$, um \"hash\" pseudo-aleatório de tamanho $lambda$\n",
    "- $f_p$ o núcleo determinístico da cifra ElGamal"
   ]
  },
  {
   "cell_type": "code",
   "execution_count": 9,
   "id": "5877808a-8ad9-48a7-9576-2117537f886b",
   "metadata": {},
   "outputs": [],
   "source": [
    "import hashlib\n",
    "\n",
    "def g(r):\n",
    "    \"\"\"Hash pseudoaleatório g(r) com tamanho igual ao da mensagem x\"\"\"\n",
    "    g = hashlib.sha512()\n",
    "    r_bytes = r.to_bytes((r.bit_length() + 7) // 8, 'big')\n",
    "    g.update(r_bytes)\n",
    "    final_hash = g.digest()  # Truncar para o tamanho de x\n",
    "    while len(final_hash) < len(x):\n",
    "        g = hashlib.sha512()\n",
    "        g.update(r_bytes)\n",
    "        final_hash += g.digest()\n",
    "    #print(\"g(r) hash:\", final_hash[:len(x)])\n",
    "    return final_hash[:len(x)]\n",
    "\n",
    "def h(r, y):\n",
    "    \"\"\"Hash pseudoaleatório h(r, y) com tamanho lambda_bits\"\"\"\n",
    "    h = hashlib.sha512()\n",
    "    r_bytes = r.to_bytes((r.bit_length() + 7) // 8, 'big')\n",
    "    ry = bytes(a ^^ b for a, b in zip(r_bytes, y))\n",
    "    h.update(ry)\n",
    "    full_hash = h.digest()[:lambda_bits // 8]  # Truncar para lambda bits\n",
    "    #print(\"h(r, y) hash:\", full_hash)\n",
    "    return full_hash\n",
    "\n",
    "#Núcleo determinístico da função enc anterior\n",
    "def f_p(pk, r, rlinha):\n",
    "    p, q, g, g_s = pk\n",
    "    gamma = pow(g, rlinha, p)  # γ = g^ω mod p\n",
    "    kappa = pow(g_s, rlinha, p)  # κ = (g^s)^ω mod p\n",
    "    return (gamma, (r * kappa) % p)"
   ]
  },
  {
   "cell_type": "markdown",
   "id": "be39abee-7c52-4713-aa35-624695534af1",
   "metadata": {},
   "source": [
    "### Cifra IND-CPA segura "
   ]
  },
  {
   "cell_type": "code",
   "execution_count": 10,
   "id": "4a9a2da9-f127-491c-8a74-c730eb7fa407",
   "metadata": {},
   "outputs": [
    {
     "name": "stdout",
     "output_type": "stream",
     "text": [
      "----------------------------------CIFRA----------------------------------\n",
      "r: 238050111322519302999535069899714334886\n",
      "(y,c) =  (b'u\\xfa\\xe4\\t\\xca\\t\\x0c\\xdb\\x1dv\\xf8-b\\x12\\x87\\xaec\\xf5_+r\\xa5I\\x84n\\xe3\\xbb^x\\x1e\\x11+\\x85C\\xe9\\xd8\\x8f\\x01\\xed\\xd8\\xb0\\xcc\\xb03\\x8aJ=S\\x04\\xdb\\xe0%\\xa9L \\x07?\\xa1\\x19\\x17\\x04\\xfeiF\\xa8\\xf8\\x81\\xd0\\xe2\\x8f\\x93 \\xa4wE\\x9c\\x06\\xff[~\\x1eQR-\\x12\\x15\\x81G-;\\x96>\\xa0\\x99@\\x94\\xec\\xf2\\xc1\\x05%:\\xb7\\x94\\x9c\\xd7U\\xb0\\x9eb\\xb6.\\xff-{\\x8b\\xb3\\x162\\xc2\\xf3\\x00\\x17\\xce\\xc3\\xb8/f\\x930\\xe4Z\\xe4\\xd6\\xafk\\xae\\x00\\x0bz\\xa2\\xc3\\xcd\\x0en\\x1c0\\xc6%&\\xf7\\tQt\\xc6Uh\\xac8\\x88\\x84\\x8b\\x0ev\\r\\xad\\xd3g\\xcc\\xe6\\xf1\\x02\\xb2\\x85\\xac{\\xe5z\\x93-!\\xc8\\x1c\\xa5\\xcb8G\\x0e\\x13\\xf8\\x89\\xc9\\xa6\\x9a\\xb1*,\\xe2\\xd3\\xd9\\x1a\\xd0\\xba\\xae\\xc5K\\x15\\x82\\xa4\\x0c5\\xd4\\xe7\\xaf\\x8a\\xd1\\x84\\x95\\x08hI\\\\)ci\\xde', (55157584727068968557270277751052837805742751203797466793141992339464306859292477029283210496614797257633169876528824121788645479658383201221359500803704577599110938543039717556458868785126127117125286781446965879390093150325098460921784216230161091152992995401481291644173687087555324052547876651122325952464878743206745119832090924642375689392456963225337652467917247158892615366381352333528601879988236799403751343936174826467241250617685754014429183439022574901900387221989840734527492044911817271085847741259060250490616647511081147787678, 4541889669230540858006564306703799679691633105015529821749955973144052898672276221683850925733196617275578503191425196913878869979836339316819445951758866905501106853866873209526716562136077589583530757166100595888785529032972160667423767109009558816304350314663414829512653447894441900041734781288760978129038408703698775852346204908339539420964923070219451679929134940070442972797491748142128795986258788490260329085076134922812222925133144904245090006060182930874463260056085117846185553012792530430263328924604077603729668517928690362010))\n",
      "-------------------------------------------------------------------------------------------\n"
     ]
    }
   ],
   "source": [
    "print(\"----------------------------------CIFRA----------------------------------\")\n",
    "def enc_fujisaki(pk,x):\n",
    "    r = ZZ.random_element(2^(lambda_bits - 1), 2^lambda_bits)\n",
    "    print(\"r:\",r)\n",
    "    y = bytes(a ^^ b for a, b in zip(x, g(r)))\n",
    "    rlinha = h(r,y)\n",
    "    c = f_p(pk,r,int.from_bytes(rlinha,\"big\"))\n",
    "    return (y,c)\n",
    "\n",
    "(y,c) = enc_fujisaki(pk,x)\n",
    "print(\"(y,c) = \",(y,c))\n",
    "print(\"-------------------------------------------------------------------------------------------\")"
   ]
  },
  {
   "cell_type": "markdown",
   "id": "407b00d3-f572-45db-ad83-52ba1c160500",
   "metadata": {},
   "source": [
    "### Decifra"
   ]
  },
  {
   "cell_type": "code",
   "execution_count": 11,
   "id": "398217f7-ea3c-4e26-8cd7-e3ca0dabcbae",
   "metadata": {},
   "outputs": [
    {
     "name": "stdout",
     "output_type": "stream",
     "text": [
      "----------------------------------------DECIFRA--------------------------------------------\n",
      "r: 238050111322519302999535069899714334886\n",
      "Mensagem decifrada:  b\"\\x02\\x99\\x9f\\xfa\\x8c\\xa5MH\\x1d\\xae&\\xb7\\x1a\\xc1\\xbd\\xe5H\\x1f\\xbf'\\xaa8\\xf0\\x97\\x17\\x04\\x96E\\x07\\xb43\\x03\\xdb0i\\x808\\xb7\\xf8\\xa2@\\x0e@\\xfdN\\xcd\\xde?\\xc2\\x9a!\\x969\\xf6\\xdaeVr7\\xad\\x08\\xb3\\xf4\\x16\\xdf\\x9b\\xfa#\\xa4#\\xd2\\xb3\\xa4\\xaf\\x9b\\x06~,a55\\xbb\\xb2!\\xca\\x888TT\\xdc\\xbb%\\xdf3b\\xbc\\xb2\\x81A]\\x92\\x8c\\xa2\\xeel\\x15\\xa5~Z\\xe5UB9l\\xba8#\\xac\\xc8\\xa0\\x9a\\xd39t\\xcf\\xf5\\xb26\\xe4S\\x9f\\xa9\\xa2z\\xee\\xf8\\xae\\xd8\\xd5\\xe0\\xda\\x10\\xf7EE\\xf6\\xd0\\xca\\xfd\\xbbN\\x1a(\\x93\\xebN\\x17\\x06\\x1a\\xa0\\xda\\xf8\\x8e.\\xba\\x1b\\xc6\\x1d<$\\x01\\xccv\\x02O\\x17#;R\\x9e\\xb1r\\xe6\\xc7\\xa2\\xebi\\xb4\\x1f\\xb5\\x14\\x99\\xd1\\xf9\\xca\\xd9jN\\x92J\\x1a\\x08d4\\xbd\\x98/\\xc9\\x8f\\xe6\\xd5\\xd8?23\\xc2\\xfdr%s6\\xf6\\x0bK7\\xad\"\n",
      "r: 238050111322519302999535069899714334886\n",
      "x == dec_fujisaki(sk,pk,y,c)?:  True\n",
      "-------------------------------------------------------------------------------------------\n"
     ]
    }
   ],
   "source": [
    "print(\"----------------------------------------DECIFRA--------------------------------------------\")\n",
    "def dec_fujisaki(sk,pk,y,c):\n",
    "    r = dec(sk,pk,c)\n",
    "    print(\"r:\",r)\n",
    "    rlinha = h(r,y)\n",
    "    if c != f_p(pk,r,int.from_bytes(rlinha,\"big\")):\n",
    "        raise Exception(\"O criptograma não corresponde a fp(r,r'), absurdo\")\n",
    "    else:\n",
    "        res = bytes(a ^^ b for a, b in zip(y, g(r)))\n",
    "        return res\n",
    "\n",
    "print(\"Mensagem decifrada: \",dec_fujisaki(sk,pk,y,c))\n",
    "print(\"x == dec_fujisaki(sk,pk,y,c)?: \",x == dec_fujisaki(sk,pk,y,c)) \n",
    "print(\"-------------------------------------------------------------------------------------------\")"
   ]
  },
  {
   "cell_type": "markdown",
   "id": "a49fe3d1-e85a-46e5-88ea-fe85c04411f8",
   "metadata": {},
   "source": [
    "# **Exercício 1.c.**"
   ]
  },
  {
   "cell_type": "markdown",
   "id": "1dd39766-5e66-412f-8ebb-46c1db5cdd25",
   "metadata": {},
   "source": [
    "Associado a um mecanismo de encapsulamento de chaves existe um algoritmo de revelação ou KRev (“_key revelation_”), que a partir do encapsulamento de uma chave, revela-a.  Naturalmente, por analogia com as cifras assimétricas, o KEM é um algoritmo  público, total e probabilístico,  enquanto que o KRev é um algoritmo privado, parcial e determinístico.\n",
    "\n",
    "A condição de correção será\n",
    "                                            $$(e,k)\\,\\gets\\,\\mathsf{KEM}\\quad\\;\\text{sse}\\;\\quad \\mathsf{KRev}(e)\\,\\simeq\\, k$$"
   ]
  },
  {
   "cell_type": "markdown",
   "id": "2cca7133-69d4-47e4-9352-440c07135096",
   "metadata": {},
   "source": [
    "Combinando o exercício anterior com um KEM o esquema pode-se descrever pelo par de algoritmos:\n",
    "\n",
    "$$\\left\\{\\begin{array}{lcl}E(x) & \\equiv & \\vartheta\\,(e,k)\\gets\\mathsf{KEM}\\,\\centerdot\\,(e\\,,\\,k \\oplus x) \\\\ D(e,c) & \\equiv & \\vartheta\\,k \\gets \\mathsf{KRev}(e)\\,\\centerdot\\,k\\oplus c\\end{array}\\right.$$"
   ]
  },
  {
   "cell_type": "markdown",
   "id": "d6f680fb-47b5-4d02-ab7b-dff9bc230f36",
   "metadata": {},
   "source": [
    "Substituindo KEM pela função de cifra do exercício (b) obtemos uma segurança IND-CCA para a encapsulação da chave.\n",
    "Como o KEM é um mecanismo apenas de encapsulamento da chave iremos utilizar em conjunto com um DEM (neste caso OTP) para demonstrar que resulta para cifrar uma mensagem, como é demonstrado no diagrama:"
   ]
  },
  {
   "cell_type": "markdown",
   "id": "025bdc0b-f0dd-4eff-8e01-837d902ddc7b",
   "metadata": {},
   "source": [
    "$$\n",
    "\\begin{array}{ccc}\n",
    "\\text{KEM} & \\rightarrow & \\text{encapsulation}  &  \\rightarrow & \\text{KRev} \\\\\n",
    "\\downarrow \\text{key} & & & & \\downarrow \\text{key}\\\\\n",
    "\\oplus & \\rightarrow & \\text{Ciphertext} &  \\rightarrow & \\oplus \\\\\n",
    "\\uparrow & & & & \\downarrow\\\\\n",
    "\\text{plaintext} & & & & \\text{plaintext}\n",
    "\\end{array}\n",
    "$$"
   ]
  },
  {
   "cell_type": "markdown",
   "id": "fb2cf34e-f720-4940-9f55-d5680e06cd32",
   "metadata": {},
   "source": [
    "----------"
   ]
  },
  {
   "cell_type": "markdown",
   "id": "6e91ed7b-ed64-4b28-a987-c05e3c945a40",
   "metadata": {},
   "source": [
    "### Definições de variáveis"
   ]
  },
  {
   "cell_type": "code",
   "execution_count": 12,
   "id": "632800ec-ed2e-45ab-98c7-e927e6afb832",
   "metadata": {},
   "outputs": [
    {
     "name": "stdout",
     "output_type": "stream",
     "text": [
      "----------------------------------Geração de chaves:--------------------------------------\n",
      "Parâmetro q gerado: 379967965674325107763402278673704557779\n",
      "Parâmetro p gerado: 304340543531242655349448692851868462628052829515884296078656658567065342541114028136360956120201414016260770982300110613324270212888734585427747342760144055181614967508406736838278055290140797217608930311780397167465592913503293085337104704221747990978421619895835179074776312414559904935862154109630444837102332452707836006979677017315114594927616903384580103906201600121424122121127203471204653249002334734466737852217647125759372008900829807422536649219682854779225822659699222552334931546841772850199377825372549465574781672054849537\n",
      "gerador (g): 3\n",
      "chave privada (s): 291725272953963459071538182785024684384\n",
      "---------------------------------------------------------------------------------\n",
      "Mensagem aleatória em F_p*:  b'7\\xb6\\x128\\xf9j\\x06\\xecb\\\\?\\x11\\xcd\\xb2\\xc8E\\xd43E\\xba5~\\xb6\\x80B\\xbb\\x05\\x86N\\x97L\\xa8|\\x8a\\x1f\\x89\\x8av]!\\xb7\\x93\\xea\\xb8\\xcbk\\xad@Y\\xe5\\xee\\xc4\\x0b\\xaa\\xc3I\\xde\\x02\\xa8\\xd5\\xf1\\x8fC>)\\xe2\\xc9\\xcf\\xfe\\xda\\x0b\\x11]zO\\xe6\\xc2<\\xe5.\\x90\\x05\\xea\\xcdt2\\x18ga:\\xd4A\\xe1\\x05\\xe2^><\\xe7\\xc4\\xeeQJ\\x90=\\xe93E\\x8f0\\x8e\\x1cDV\\xe5\\x06D\\xe8\\x1eb-g\\x18vUpDjp\\xdd\\xe7R\\xcc\\xd23<\\x16\\x9c\\x8cy\\x80L\\xaaN\\xc4\\xd6\\xcb\\x82)\\xfa\\x848c)Fun\\xcf\\xb2\\x87I\\x03\\xda\\x17\\x12\\xe5\\x7f\\xfc\\xa6u\\xbcn\\xd5\\xa8\\t\\xad\\x1d\\x16\\xf2\\x80\\x82\\x13\\x81\\x947\\xe7\\x1c\\xdb\\x0bE\\xe2~\\x8dw,\\x89\\xa7S_%#\\xbd\\x81Z\\x9c\\x02\\x80\\x98\\xb8i\\xfa\\x8b\\x19\\xdah\\xea\\x01cNE\\x9a\\x93['\n"
     ]
    }
   ],
   "source": [
    "lambda_bits = 128\n",
    "\n",
    "pk, sk = gen_keys(lambda_bits)\n",
    "x = randint(1, pk[0]-1)  # Mensagem aleatória em F_p*\n",
    "length_in_bytes = (x.bit_length() + 7) // 8\n",
    "x = x.to_bytes(length_in_bytes, byteorder='big')\n",
    "\n",
    "print(\"Mensagem aleatória em F_p*: \",x)"
   ]
  },
  {
   "cell_type": "markdown",
   "id": "ab0e3545-7675-413b-b086-6a50f0f9c425",
   "metadata": {},
   "source": [
    "-------"
   ]
  },
  {
   "cell_type": "markdown",
   "id": "d9cf598b-6424-49fc-9829-46deec18567f",
   "metadata": {},
   "source": [
    "### KEM + DEM Encrypt"
   ]
  },
  {
   "cell_type": "markdown",
   "id": "dc877d98-8ceb-4f05-9caa-e3c3e312bbd2",
   "metadata": {},
   "source": [
    "Construir algoritmo de cifra tal que\n",
    "$ E(x) \\equiv \\vartheta (e,k) ← KEM⋅(e,k⊕x)  $ \n",
    "onde \n",
    "- $k$ é gerado aleatoriamente;\n",
    "- $e$ é o encapsulamento dessa chave."
   ]
  },
  {
   "cell_type": "code",
   "execution_count": 13,
   "id": "15498303-beb1-4e7c-83e3-f09a04e10225",
   "metadata": {},
   "outputs": [],
   "source": [
    "def kem_encrypt(pk, x):\n",
    "    # Gerar chave simétrica aleatória k\n",
    "    k = ZZ.random_element(2^(8*len(x)-1), 2^(8*len(x))).to_bytes(len(x), 'big')\n",
    "    print(\"k: \",k)\n",
    "    # Utilizar cifra do ex1.b. como KEM para encapsular k\n",
    "    e = enc_fujisaki(pk,k)\n",
    "    \n",
    "    # Aplicar DEM (neste caso OTP) da chave gerada k com a mensagem x\n",
    "    ciphertext = dem(x,k)\n",
    "\n",
    "    return e, ciphertext\n",
    "\n",
    "def dem(x,k):\n",
    "    ciphertext = bytes(a ^^ b for a, b in zip(x, k))\n",
    "    while len(ciphertext) < len(x):\n",
    "        ciphertext += bytes(a ^^ b for a, b in zip(x[len(ciphertext):], k))\n",
    "        ciphertext[:len(x)]\n",
    "    return ciphertext"
   ]
  },
  {
   "cell_type": "markdown",
   "id": "538483a9-40e5-4a03-a1ec-3e5b7e752e73",
   "metadata": {},
   "source": [
    "-------"
   ]
  },
  {
   "cell_type": "markdown",
   "id": "b3ebf0a5-4154-47ac-84e6-6c2e4bbca6a2",
   "metadata": {},
   "source": [
    "### KEM + DEM Decrypt"
   ]
  },
  {
   "cell_type": "markdown",
   "id": "d655770a-6577-4c93-ad65-9ad2ccf47bc8",
   "metadata": {},
   "source": [
    "A decifração é dada por:\n",
    "$ D(e,c) ≡ ϑk←KRev(e)⋅k⊕c $\n",
    "onde \n",
    "- $KRev$ no nosso caso é a técnica de decifração utilizada no exercício 1.b.;\n",
    "- $e$ é o encpasulamento da chave gerada;\n",
    "- $c$ o criptograma recebido de KEM."
   ]
  },
  {
   "cell_type": "code",
   "execution_count": 14,
   "id": "f442df30-8408-4628-a8cb-071f1bc963ba",
   "metadata": {},
   "outputs": [],
   "source": [
    "def kem_dem_decrypt(sk, pk, e, ciphertext):\n",
    "    (y, c) = e\n",
    "    k = dec_fujisaki(sk, pk, y, c)\n",
    "    print(\"k: \",k)\n",
    "    x = dem(ciphertext,k)\n",
    "    return x"
   ]
  },
  {
   "cell_type": "markdown",
   "id": "46eb8894-25a3-4ee3-b063-f46b79c680ff",
   "metadata": {},
   "source": [
    "---------"
   ]
  },
  {
   "cell_type": "markdown",
   "id": "a02e1bbc-9bd0-40b6-b232-4601be02a028",
   "metadata": {},
   "source": [
    "### Teste"
   ]
  },
  {
   "cell_type": "code",
   "execution_count": 15,
   "id": "52bca661-228d-4b43-81a0-12a4c9b6efa1",
   "metadata": {},
   "outputs": [
    {
     "name": "stdout",
     "output_type": "stream",
     "text": [
      "-------------------------------------------------------------------------------------------------------------------\n",
      "mensagem (x):  b'7\\xb6\\x128\\xf9j\\x06\\xecb\\\\?\\x11\\xcd\\xb2\\xc8E\\xd43E\\xba5~\\xb6\\x80B\\xbb\\x05\\x86N\\x97L\\xa8|\\x8a\\x1f\\x89\\x8av]!\\xb7\\x93\\xea\\xb8\\xcbk\\xad@Y\\xe5\\xee\\xc4\\x0b\\xaa\\xc3I\\xde\\x02\\xa8\\xd5\\xf1\\x8fC>)\\xe2\\xc9\\xcf\\xfe\\xda\\x0b\\x11]zO\\xe6\\xc2<\\xe5.\\x90\\x05\\xea\\xcdt2\\x18ga:\\xd4A\\xe1\\x05\\xe2^><\\xe7\\xc4\\xeeQJ\\x90=\\xe93E\\x8f0\\x8e\\x1cDV\\xe5\\x06D\\xe8\\x1eb-g\\x18vUpDjp\\xdd\\xe7R\\xcc\\xd23<\\x16\\x9c\\x8cy\\x80L\\xaaN\\xc4\\xd6\\xcb\\x82)\\xfa\\x848c)Fun\\xcf\\xb2\\x87I\\x03\\xda\\x17\\x12\\xe5\\x7f\\xfc\\xa6u\\xbcn\\xd5\\xa8\\t\\xad\\x1d\\x16\\xf2\\x80\\x82\\x13\\x81\\x947\\xe7\\x1c\\xdb\\x0bE\\xe2~\\x8dw,\\x89\\xa7S_%#\\xbd\\x81Z\\x9c\\x02\\x80\\x98\\xb8i\\xfa\\x8b\\x19\\xdah\\xea\\x01cNE\\x9a\\x93['\n",
      "k:  b'\\x8bC\\xa4\\xe4\\xe7R\\xc3\\xa8~\\xa2\\xb2%\\x9a\\x1aP\\x88j+4,1r\\x8b5\\xd9\\t`\\x9fqh\\xad\\x86\\xb63\\x96\\x0e\\xf8\\xeaA\\xb9\\xb6\\x14UI\\xd9\\xcc\\xe2 \\xd3\\x8au?j-6>s\\x12H8\\xf6tP\\x0bdwT\\x18\\xdaR\\x86\\x9f\\x10\\x1a\\xee\\t\\xd4/J/\\x13c\\x89f\\xef(\\xc0\\x85$/\\x95i\\x80\\x0c\\xdd\\xbd\\x1f\\xba\\x90\\x985%\\xb4h\\x9ay)n\\x0b\\xdb\\x80\\xc4\\xee{CK\\xc0\"\\x91N\\x8a=w\\x04\\x9d4\\x96\\xbcL\\x93\\x8e\\xc9\\x8d\\x8d\\xe1;\\x132\\xdfP\\xdc5\\x831\\xef\\xf1\\x80/[\\xd5\\x19k\\x9e\\xae\\x840\\xca\\xabK\\xfe\\xc85\\x90\\x00\\xe0\\xce\\r\\xb1\\x8fQ\\xef\\xa0\\xb54\\xba\\xee\\xeae\\xd4\\x90\\xdb{\\x90\\x8cK\\x1e\\xd5r&\\x95k\\xba\\xfc-q\\xd8\\r\\x04ZJ\\xd1\\x18\\x96\\xeb\\x0e\\x8c\\x90\\r\\x9c\\x8aiX\\xb6\\x97\\xde\\x10\\xd9W)\\x91\\xca_\\x8d'\n",
      "r: 296997315758975178278350944564934821727\n",
      "-------------------------------------------------------------------------------------------------------------------\n",
      "e:  (b\"\\xa1\\xc4UC\\x90p\\xc8\\x1b\\x1f\\x89\\x0f\\xdaS\\xb19\\xf3\\x81\\xdf+\\xcc\\xfb;\\xb6b\\x11\\xdeJ\\xdedU\\x05\\xa3\\xdf\\x1fm\\x88\\xbc\\x10\\x81Q\\x9f2\\xd2\\xdb\\x7f\\xf0Zw\\xbe\\xb4\\xa4d\\xaeE\\x017C\\xdc\\xa3D\\x92\\x86\\xd2\\xc1N\\xf0\\xa5\\xbf\\xadp\\x8d,q1S\\xf6\\x1d\\x84#T\\xf8\\x97\\x96\\x86%a\\xfd\\xd2\\xec\\xf8\\xbf(\\x951u\\x98v\\x96k\\x1eq\\xdft\\x80\\xb3_\\xae\\xfc\\xad\\xe78\\x93\\x83E\\x92\\x10\\x04J\\xa6G\\xba\\xf3\\x9cx\\xf9\\xc6\\x14vf\\x14\\x7fn\\xfa\\xaf\\xea\\x88r\\x19b\\xaf\\x15\\x9e\\xeaJ\\x04\\x05\\x9f\\xcf\\x91\\x9c$<Vy\\xaeq\\xdf\\x96\\xe3\\xdb\\xa1\\x19k\\x86\\xa44\\xcdY\\xa6wh2\\x13\\x08\\x02\\xb9\\x87[\\x05\\xcb\\x1f\\x13\\xa7\\x85{\\xd0>\\x0eBg\\xe9p\\xd6\\xaa\\x80\\x7fz&Q\\xf9\\xb03+\\x14\\xc7'\\xf9vw~v\\xb8|\\xde\\xe3G\\x11\\x80\\x03\\xd0\\xdfb%\", (85702133062264776292396264379094898978799602575494607562001806336871607461893644097281589140883755667248456078341624380243118862468885463192130105814327436700811913892831418488662504503662114126743114240471030370268212822349458963342024691820889245595397330004279032354440918701408746293329905157142459627760669518552294083519361018191704424430397701472982347666360369611658903825218296277114094176657363035870480758854966722511027166377024986736373055124909323234610001555285503652300811700101513665143845025767775169619682379218288989, 186544065962597332293880568192743118574320255718847306299370206986744082615310507834358734969406258955882237627321915547922384216212344668669554435937646515364690781585882019006747970639228137915321058181388232824114103364785443552361272308964516199281330167668387313769959408986222262199405108381032048180533956839584912940794054572639571626130364595906295829415223537948186294748755160441150373324715450541302251911449331737162261539813759724463340997755248646568246292525973239370072352991022989682976610412171834119637760346326211427))\n",
      "-------------------------------------------------------------------------------------------------------------------\n",
      "k (+) x:  b\"\\xbc\\xf5\\xb6\\xdc\\x1e8\\xc5D\\x1c\\xfe\\x8d4W\\xa8\\x98\\xcd\\xbe\\x18q\\x96\\x04\\x0c=\\xb5\\x9b\\xb2e\\x19?\\xff\\xe1.\\xca\\xb9\\x89\\x87r\\x9c\\x1c\\x98\\x01\\x87\\xbf\\xf1\\x12\\xa7O`\\x8ao\\x9b\\xfba\\x87\\xf5w\\xad\\x10\\xe0\\xed\\x07\\xfb\\x135M\\x95\\x9d\\xd7$\\x88\\x8d\\x8eM`\\xa1\\xef\\x16\\x13\\xaf\\x01\\x83fc\\xab\\x9b\\x1a\\xd8\\xe2E\\x15A(a\\t?\\xe3!\\x86w\\\\\\xdbt\\xfe\\xf8\\xa7\\x90\\x1a+\\x84\\xeb\\x0e\\xd8\\xaa-\\xa6M\\x84\\xca\\x8f,\\xa7Zor\\xc8D\\xd2\\xd6<Ni\\x9bA_\\xd2\\x07\\x05\\xaeS)\\\\y)\\x7f+'K\\xadr/\\x9dS\\xfd\\x87\\xc2E\\xa4d\\xf9y\\x816J\\x17\\xf2+rM)$S\\xce`\\x9c\\xb3C\\xf7s&\\x10Yh\\x11\\x18|\\xf9\\xc9\\xa9-\\xd0\\x89\\xc4qZ]Q\\xaaW\\x05o\\xf2\\xa5\\x17\\xb1\\x92\\x8e\\x10\\x95$\\xe3\\x93\\xd3\\xafM\\xb6\\xfa\\xd84g\\xd4P\\xcc\\xd6\"\n",
      "-------------------------------------------------------------------------------------------------------------------\n",
      "r: 296997315758975178278350944564934821727\n",
      "k:  b'\\x8bC\\xa4\\xe4\\xe7R\\xc3\\xa8~\\xa2\\xb2%\\x9a\\x1aP\\x88j+4,1r\\x8b5\\xd9\\t`\\x9fqh\\xad\\x86\\xb63\\x96\\x0e\\xf8\\xeaA\\xb9\\xb6\\x14UI\\xd9\\xcc\\xe2 \\xd3\\x8au?j-6>s\\x12H8\\xf6tP\\x0bdwT\\x18\\xdaR\\x86\\x9f\\x10\\x1a\\xee\\t\\xd4/J/\\x13c\\x89f\\xef(\\xc0\\x85$/\\x95i\\x80\\x0c\\xdd\\xbd\\x1f\\xba\\x90\\x985%\\xb4h\\x9ay)n\\x0b\\xdb\\x80\\xc4\\xee{CK\\xc0\"\\x91N\\x8a=w\\x04\\x9d4\\x96\\xbcL\\x93\\x8e\\xc9\\x8d\\x8d\\xe1;\\x132\\xdfP\\xdc5\\x831\\xef\\xf1\\x80/[\\xd5\\x19k\\x9e\\xae\\x840\\xca\\xabK\\xfe\\xc85\\x90\\x00\\xe0\\xce\\r\\xb1\\x8fQ\\xef\\xa0\\xb54\\xba\\xee\\xeae\\xd4\\x90\\xdb{\\x90\\x8cK\\x1e\\xd5r&\\x95k\\xba\\xfc-q\\xd8\\r\\x04ZJ\\xd1\\x18\\x96\\xeb\\x0e\\x8c\\x90\\r\\x9c\\x8aiX\\xb6\\x97\\xde\\x10\\xd9W)\\x91\\xca_\\x8d'\n",
      "mensagem (final):  b'7\\xb6\\x128\\xf9j\\x06\\xecb\\\\?\\x11\\xcd\\xb2\\xc8E\\xd43E\\xba5~\\xb6\\x80B\\xbb\\x05\\x86N\\x97L\\xa8|\\x8a\\x1f\\x89\\x8av]!\\xb7\\x93\\xea\\xb8\\xcbk\\xad@Y\\xe5\\xee\\xc4\\x0b\\xaa\\xc3I\\xde\\x02\\xa8\\xd5\\xf1\\x8fC>)\\xe2\\xc9\\xcf\\xfe\\xda\\x0b\\x11]zO\\xe6\\xc2<\\xe5.\\x90\\x05\\xea\\xcdt2\\x18ga:\\xd4A\\xe1\\x05\\xe2^><\\xe7\\xc4\\xeeQJ\\x90=\\xe93E\\x8f0\\x8e\\x1cDV\\xe5\\x06D\\xe8\\x1eb-g\\x18vUpDjp\\xdd\\xe7R\\xcc\\xd23<\\x16\\x9c\\x8cy\\x80L\\xaaN\\xc4\\xd6\\xcb\\x82)\\xfa\\x848c)Fun\\xcf\\xb2\\x87I\\x03\\xda\\x17\\x12\\xe5\\x7f\\xfc\\xa6u\\xbcn\\xd5\\xa8\\t\\xad\\x1d\\x16\\xf2\\x80\\x82\\x13\\x81\\x947\\xe7\\x1c\\xdb\\x0bE\\xe2~\\x8dw,\\x89\\xa7S_%#\\xbd\\x81Z\\x9c\\x02\\x80\\x98\\xb8i\\xfa\\x8b\\x19\\xdah\\xea\\x01cNE\\x9a\\x93['\n",
      "-------------------------------------------------------------------------------------------------------------------\n",
      "mensagem inicial == mensagem final ?:  True\n",
      "-------------------------------------------------------------------------------------------------------------------\n"
     ]
    }
   ],
   "source": [
    "print(\"-------------------------------------------------------------------------------------------------------------------\")\n",
    "print(\"mensagem (x): \",x)\n",
    "e, ciphertext = kem_encrypt(pk,x)\n",
    "print(\"-------------------------------------------------------------------------------------------------------------------\")\n",
    "print(\"e: \",e)\n",
    "print(\"-------------------------------------------------------------------------------------------------------------------\")\n",
    "print(\"k (+) x: \",ciphertext)\n",
    "print(\"-------------------------------------------------------------------------------------------------------------------\")\n",
    "\n",
    "mensagem = kem_dem_decrypt(sk, pk, e, ciphertext)\n",
    "\n",
    "print(\"mensagem (final): \",mensagem)\n",
    "print(\"-------------------------------------------------------------------------------------------------------------------\")\n",
    "print(\"mensagem inicial == mensagem final ?: \",x == mensagem)\n",
    "print(\"-------------------------------------------------------------------------------------------------------------------\")"
   ]
  },
  {
   "cell_type": "markdown",
   "id": "802e0f37-4000-4903-b196-1c4216912371",
   "metadata": {},
   "source": [
    "----------------"
   ]
  },
  {
   "cell_type": "markdown",
   "id": "63127f40-a608-44a0-98ff-23c945c7e10b",
   "metadata": {},
   "source": [
    "# Exercício 1.d."
   ]
  },
  {
   "cell_type": "markdown",
   "id": "fd08fe97-21c7-41c5-9aad-9e518706a4c5",
   "metadata": {},
   "source": [
    "\n",
    "O protocolo de “oblivious transfer”  implementa um mecanismo de transferência de informação entre dois agentes: o **Provider** (também designado por Sender) e o **Receiver** (também designado por Adversário) . Em linhas gerais, o protocolo caracteriza-se da forma seguinte:\n",
    "\n",
    "\n",
    "1. O **Provider** põe à disposição para comunicação futura $\\,n\\,$ items de informação (ou mensagens) que ele enumera como $\\,m_1, m_2, \\cdots,m_{n}\\;$ e que armazena de forma privada. \n",
    "    Nesta fase a única informação tornada pública é o número  de mensagens  $\\,n$ .\n",
    "2. O Receiver informa o **Provider** que pretende receber $\\,\\kappa\\,$ das $\\,n\\,$ mensagens\n",
    "3. Caso o **Provider** aceite o par $(n,\\kappa)\\;$ os dois agentes, a começar pelo **Provider**, trocam uma sequência de mensagens e, no final,\n",
    "    1. O **Receiver** passa a conhecer exatamente  $\\,\\kappa\\,$ mensagens mas continua a ignorar o conteúdo de todas as restantes $\\,n-\\kappa\\,$ mensagens.\n",
    "    2. O **Provider** ignora a identificação (“is oblivious of”)  das $\\,\\kappa\\,$ mensagens que o Receiver passou a conhecer."
   ]
  },
  {
   "cell_type": "markdown",
   "id": "efcfc420-1463-40fb-a821-b240e8df14f8",
   "metadata": {},
   "source": [
    "O protocolo usa um esquema PKE   $\\,\\{(E_p,D_s)\\}_{(s,p)\\in\\mathcal{G}}$ que neste caso irão ser a cifra e decifra do exerício 1.b.. "
   ]
  },
  {
   "cell_type": "markdown",
   "id": "d715239e-2626-4228-ba0a-9cbd401a45bf",
   "metadata": {},
   "source": [
    "----"
   ]
  },
  {
   "cell_type": "markdown",
   "id": "3bcac056-bece-4bb4-af16-c742592fd11a",
   "metadata": {},
   "source": [
    "### Criterion"
   ]
  },
  {
   "cell_type": "markdown",
   "id": "d6601ff5-47bf-47f1-bd61-15f0d48fbc75",
   "metadata": {},
   "source": [
    "O critério $C{κ,n}$ define quais vetores de chaves públicas **p** são considerados válidos. O **Receiver** deve criar um vetor **p** onde:\n",
    "\n",
    "- Algumas entradas são chaves públicas \"boas\" (as que correspondem às mensagens que quer receber).\n",
    "- O resto das entradas são chaves públicas \"más\" (geradas para manter a segurança do protocolo)."
   ]
  },
  {
   "cell_type": "markdown",
   "id": "cce295bf-da11-467a-a3ba-b307d77c095a",
   "metadata": {},
   "source": [
    "O critério $\\,\\mathcal{C}_\\kappa\\,$ depende da estrutura algébrica usada pelo mecanismo de geração de pares de chaves. Vamos considerar:\n",
    "\n",
    "- Cada chave pública, válida ou não, é codificada por um inteiro em $\\,\\mathbb{F}_p^*\\,$.\n",
    "- Uma matriz de “rank” completo  $\\,\\mathsf{A} \\in \\mathbb{F}_p^{* n\\times(n-\\kappa)}\\,$ e um vector $\\,\\mathsf{u}\\neq 0\\in \\mathbb{Z}_q^{n-\\kappa}\\,$ ; estes elementos são gerados por um XOF a partir de uma “seed”   $\\,\\rho\\,$ . A  “seed” é aleatoriamente gerada e os restantes elementos são construídos com o XOF, por tentativas, até se verificarem as condições exigidas.\n",
    "- O critério tem a forma de um sistema de equações lineares  $\\;\\mathsf{p} \\times \\mathsf{A}\\,=\\,\\mathsf{u}$ ."
   ]
  },
  {
   "cell_type": "code",
   "execution_count": 16,
   "id": "a53037f9-7ebb-4d77-b9d7-5b8afee3ad29",
   "metadata": {},
   "outputs": [],
   "source": [
    "import numpy as np\n",
    "\n",
    "class CknCriterion:\n",
    "    def __init__(self, kappa, n, q):\n",
    "        self.kappa = kappa\n",
    "        self.n = n\n",
    "        self.q = int(q) \n",
    "        self.seed = np.random.randint(0, 2**32)\n",
    "        self.A = self.generate_A()\n",
    "        self.u = self.generate_u()\n",
    "        self.Fp = GF(q).unit_group()\n",
    "    \n",
    "    def generate_A(self):\n",
    "        \"\"\"Gera a matriz A usando XOF a partir da seed\"\"\"\n",
    "        np.random.seed(self.seed)\n",
    "        A = random_matrix(GF(self.q), self.n, self.n - self.kappa)\n",
    "        return A\n",
    "    \n",
    "    def generate_u(self):\n",
    "        \"\"\"Gera o vetor u, que deve ser não nulo\"\"\"\n",
    "        np.random.seed(self.seed + 1) \n",
    "        u = vector(GF(self.q), [randint(1, self.q - 1) for _ in range(self.n - self.kappa)])\n",
    "        return u\n",
    "    \n",
    "    def verify(self, p):\n",
    "        \"\"\"Verifica se p satisfaz o critério Ckn, ou seja, se p * A = u\"\"\"\n",
    "        if len(p) != self.n:\n",
    "            raise ValueError(f\"p deve ter {self.n} elementos\")\n",
    "        \n",
    "        p_values = [x[0] if isinstance(x, tuple) else x for x in p]\n",
    "        print(\"p_values:\",p_values)\n",
    "        \n",
    "        # Converter p_values para um vetor no corpo finito Z_q\n",
    "        Zq = GF(self.q)\n",
    "        p_vector = vector(Zq, p_values)\n",
    "    \n",
    "        # Calcular p * A no corpo finito Z_q\n",
    "        A_matrix = matrix(Zq, self.A) \n",
    "        pA = p_vector * A_matrix \n",
    "    \n",
    "        # Verificar se pA é igual a u\n",
    "        u_vector = vector(Zq, self.u)  # Converter u para um vetor no corpo finito Z_q\n",
    "        return pA == u_vector\n",
    "    \n",
    "    def print_criterion(self):\n",
    "        print(f\"Matriz A:\\n{self.A}\")\n",
    "        print(f\"Vetor u:\\n{self.u}\")"
   ]
  },
  {
   "cell_type": "markdown",
   "id": "d1681e23-19d5-4405-8e61-54945a115b32",
   "metadata": {},
   "source": [
    "## Provider"
   ]
  },
  {
   "cell_type": "code",
   "execution_count": 17,
   "id": "2d24a50a-17eb-4fba-a2e4-5ac7bd531ca3",
   "metadata": {},
   "outputs": [],
   "source": [
    "class Provider:\n",
    "    def __init__(self, pk, sk, n_mensagens):\n",
    "        self.pk,self.sk = gen_keys(lambda_bits) #(p, q, g, pow(g, s, p)) , s\n",
    "        self.numero_de_mensagens = n_mensagens\n",
    "        # Informação privada das mensagens:\n",
    "        self.messages = [f\"mensagem{i}\" for i in range(n_mensagens)]\n",
    "        self.criterion = None\n",
    "    def define_criterion(self,kappa):\n",
    "        n = self.numero_de_mensagens\n",
    "        q = pk[1]\n",
    "        self.criterion = CknCriterion(kappa, n, q)"
   ]
  },
  {
   "cell_type": "markdown",
   "id": "520c8b5a-c00d-408a-958b-52e50c9f5fa4",
   "metadata": {},
   "source": [
    "Inicialmente:\n",
    "- Gera chaves\n",
    "- Gera mensagens\n",
    "- Expõe apenas o número de mensagens, matriz $A$ e vetor $u$"
   ]
  },
  {
   "cell_type": "code",
   "execution_count": 18,
   "id": "d11181ab-7b83-4568-8ca1-d251cbfa4f45",
   "metadata": {},
   "outputs": [
    {
     "name": "stdout",
     "output_type": "stream",
     "text": [
      "----------------------------------Geração de chaves:--------------------------------------\n",
      "Parâmetro q gerado: 473425505304861110036818096476948165659\n",
      "p não convergiu, novo valor de q:  651747836086344281351954319461271614363\n",
      "p não convergiu, novo valor de q:  601471082612323349939029982096492979499\n",
      "Parâmetro p gerado: 215094375779393975774016574623634751823852143403715845903541108840829929454124348407857493305682026124217704269568959894133327956157057489001443360933372108916758307715654357662199315540180057042903829181821796856270220038252764543831080057210955536155331489709707943328114310722305101161382017909336692477010926194519409200945692023354820065462171674296319593126392304191602082328911110602149965552157982964433975343717031893968879617\n",
      "gerador (g): 3\n",
      "chave privada (s): 546348918973747653366047085971850553898\n",
      "---------------------------------------------------------------------------------\n"
     ]
    }
   ],
   "source": [
    "n_mensagens = 100\n",
    "provider = Provider(None,None,n_mensagens)"
   ]
  },
  {
   "cell_type": "markdown",
   "id": "97fc68b8-9183-49e7-9f1e-bb48d23d3845",
   "metadata": {},
   "source": [
    "## Receiver"
   ]
  },
  {
   "cell_type": "code",
   "execution_count": 19,
   "id": "14ac884d-3afa-4a78-9111-a4c6c7aee198",
   "metadata": {},
   "outputs": [],
   "source": [
    "import hashlib\n",
    "from random import sample\n",
    "\n",
    "class Receiver:\n",
    "    def __init__(self, k, n_mensagens, q):\n",
    "        self.k = k  # Número de chaves privadas geradas\n",
    "        self.n_mensagens = n_mensagens\n",
    "        self.q = q \n",
    "        self.I = sample(range(n_mensagens), k)  # Seleção aleatória de k índices\n",
    "        self.e = self.enumeration(self.I)  \n",
    "        self.p,self.s_values = self.generate_keys()  \n",
    "        self.s = self.generate_secret()\n",
    "        self.tau = self.generate_authentication_tag()\n",
    "\n",
    "    def enumeration(self, I):\n",
    "        \"\"\"Cria a função de enumeração que mapeia {1, 2, ..., κ} para os elementos de I ordenados\"\"\"\n",
    "        I_sorted = sorted(I)\n",
    "        return {i + 1: I_sorted[i] for i in range(len(I_sorted))}\n",
    "\n",
    "    def generate_secret(self):\n",
    "        \"\"\"Gera um segredo aleatório (simulado como um número grande)\"\"\"\n",
    "        return ZZ.random_element(2**32)\n",
    "\n",
    "    def generate_keys(self):\n",
    "        \"\"\"Gera κ chaves privadas e publicas usando o genkeys de ElGamal\"\"\"\n",
    "        vetor_pk = [0] * self.n_mensagens \n",
    "        vetor_sk = []\n",
    "        for i in range(1,self.k+1):\n",
    "            pk,sk = gen_keys(lambda_bits) # (p, q, g, pow(g, s, p)), s\n",
    "            vetor_sk.append(sk)\n",
    "            vetor_pk[self.e[i]] = pk\n",
    "        return vetor_pk,vetor_sk\n",
    "\n",
    "    def generate_authentication_tag(self):\n",
    "        \"\"\"Gera a tag de autenticação hash(I, s)\"\"\"\n",
    "        data = str(self.I) + str(self.s)\n",
    "        return hashlib.sha256(data.encode()).digest()\n",
    "\n",
    "    def complete_p_vector(self, A, u):\n",
    "        \"\"\"Completa o vetor p para satisfazer p * A = u no corpo finito Z_q\"\"\"\n",
    "        Zq = GF(self.q)  # Define o corpo finito Z_q\n",
    "    \n",
    "        # Identificar os índices já preenchidos (valores diferentes de 0)\n",
    "        filled_indices = [i for i in range(self.n_mensagens) if self.p[i] != 0]\n",
    "        filled_values = vector(Zq, [self.p[i][0] if isinstance(self.p[i], tuple) else self.p[i] for i in filled_indices])\n",
    "    \n",
    "        # Criar a matriz A_filled (linhas correspondentes aos índices preenchidos)\n",
    "        A_filled = matrix(Zq, [A[i] for i in filled_indices])\n",
    "    \n",
    "        # Criar a matriz A_empty (linhas correspondentes aos índices vazios, ou seja, onde p[i] == 0)\n",
    "        A_empty = matrix(Zq, [A[i] for i in range(A.nrows()) if i not in filled_indices])\n",
    "    \n",
    "        # Calcular u' = u - (filled_values * A_filled)\n",
    "        u_prime = vector(Zq, u) - filled_values * A_filled\n",
    "    \n",
    "        # Resolver o sistema linear A_empty^T * p_empty = u' no corpo finito Z_q\n",
    "        try:\n",
    "            A_empty_T = A_empty.transpose()\n",
    "            p_empty = A_empty_T.solve_right(u_prime)\n",
    "        except:\n",
    "            # Se o sistema for singular, tentar solução alternativa (ex: mínimos quadrados)\n",
    "            p_empty = A_empty_T.pseudoinverse() * u_prime\n",
    "    \n",
    "        # Preencher os elementos desconhecidos no vetor p (apenas onde p[i] == 0)\n",
    "        empty_indices = [i for i in range(self.n_mensagens) if self.p[i] == 0]\n",
    "        for i, idx in enumerate(empty_indices):\n",
    "            # Gerar a chave \"má\"\n",
    "            p_mau, q_mau, g_mau, gs_mau = self.gen_mau_keys() \n",
    "            self.p[idx] = (p_mau, q_mau, g_mau, gs_mau)\n",
    "        return self.p\n",
    "    \n",
    "    def gen_mau_keys(self, max_attempts=100):\n",
    "        \"\"\"Gera uma chave 'má' no formato (p, q, g, g^s)\"\"\"\n",
    "        attempts = 0\n",
    "        while attempts < max_attempts:\n",
    "            # Gerar q_mau como um número primo aleatório\n",
    "            q_mau = random_prime(2^128, False, 2^127)\n",
    "    \n",
    "            # Tentar encontrar um k tal que p_mau = q_mau * 2^k + 1 seja primo\n",
    "            for k in range(1, 10):  # Limitar k a um intervalo razoável\n",
    "                p_mau = q_mau * (2^k) + 1\n",
    "                if is_prime(p_mau):\n",
    "                    # Criar o corpo finito F_p_mau\n",
    "                    F_p_mau = GF(p_mau)\n",
    "    \n",
    "                    # Encontrar um gerador g_mau do grupo multiplicativo F_p_mau^*\n",
    "                    g_mau = F_p_mau.multiplicative_generator()\n",
    "    \n",
    "                    # Gerar a chave privada s_mau aleatoriamente\n",
    "                    s_mau = randint(1, q_mau - 1)\n",
    "    \n",
    "                    # Calcular g^s mod p\n",
    "                    gs_mau = pow(g_mau, s_mau, p_mau)\n",
    "    \n",
    "                    return p_mau, q_mau, g_mau, gs_mau\n",
    "    \n",
    "            attempts += 1\n",
    "    \n",
    "        raise ValueError(f\"Não foi possível gerar p_mau após {max_attempts} tentativas.\")\n",
    "    \n",
    "    def print_info(self):\n",
    "        print(\"----------------------------------------------------------------------\")\n",
    "        print(f\"Seleção I: {self.I}\")\n",
    "        print(\"----------------------------------------------------------------------\")\n",
    "        print(f\"Função de enumeração e: {self.e}\")\n",
    "        print(\"----------------------------------------------------------------------\")\n",
    "        print(f\"Segredo s: {self.s}\")\n",
    "        print(\"----------------------------------------------------------------------\")\n",
    "        print(f\"Chaves privadas s_i: {self.s_values}\")\n",
    "        print(\"----------------------------------------------------------------------\")\n",
    "        print(f\"Vetor p (com chaves públicas mapeadas): {self.p}\")\n",
    "        print(\"----------------------------------------------------------------------\")\n",
    "        print(f\"Tag de autenticação τ: {self.tau}\")\n",
    "        print(\"----------------------------------------------------------------------\")"
   ]
  },
  {
   "cell_type": "markdown",
   "id": "67564db3-862f-4076-8278-4b032122ef26",
   "metadata": {},
   "source": [
    "Escolhe o número de mensagens que pretende receber do Provider tendo acesso ao número de mensagens disponíveis"
   ]
  },
  {
   "cell_type": "code",
   "execution_count": 20,
   "id": "96d91176-50b2-4764-98bb-7e3a743824f4",
   "metadata": {},
   "outputs": [
    {
     "name": "stdout",
     "output_type": "stream",
     "text": [
      "----------------------------------Geração de chaves:--------------------------------------\n",
      "Parâmetro q gerado: 468601276260083369395618784167366617347\n",
      "p não convergiu, novo valor de q:  456386142030968830373266851338520761167\n",
      "Parâmetro p gerado: 265099183591794405915695160300324671560308897386636795244324099854230498456089622562903658082260194971043213337871005267171027971289906551786948653939748720067868608004799221595523428981705733956754552359734779162510407006530283923277871255890086278532891948604218926325204524727221793025961861544205967644736837136678913\n",
      "gerador (g): 3\n",
      "chave privada (s): 39822229966415039273058785286330073985\n",
      "---------------------------------------------------------------------------------\n",
      "----------------------------------Geração de chaves:--------------------------------------\n",
      "Parâmetro q gerado: 658316136949427614649801826651412869359\n",
      "Parâmetro p gerado: 4638068330695857455560253762025612876415815945860993898444412589750059695628839660806678023230566628838380282241293229419815295937619150648377261532576537590105987779439922930759574490770573644523361810138338669414830286330637329084187971314571036596761440673838572913941946539350466494638351415243720482250790115658748328147652033297624440828153875930459551238795021925078462094466962477089148686478111565147156056183324295260288394806904642041151133782312382114467596742823104019288138697279998600286242000091897045383241271532284279293356957237249\n",
      "gerador (g): 3\n",
      "chave privada (s): 343347144649756448864458167347865142323\n",
      "---------------------------------------------------------------------------------\n",
      "----------------------------------Geração de chaves:--------------------------------------\n",
      "Parâmetro q gerado: 600562632040476496974591432613102259701\n",
      "Parâmetro p gerado: 230606996058570763602532603701088688116214291571823225911710471859323325134633549826175043471709843907297584355760839737277921650457613807151399941930593690239416869471915569736668719807001226150802216167998974139368620458071003325729931710222544248868634794557084751395792165086254113017794034700324300156854442735056634281627229828140864994780757940291289033721911116329740938833097624331114752118263412315287749106954251636156465613809647617\n",
      "gerador (g): 3\n",
      "chave privada (s): 353368548385613739706645266031680521474\n",
      "---------------------------------------------------------------------------------\n",
      "----------------------------------Geração de chaves:--------------------------------------\n",
      "Parâmetro q gerado: 615437303557669889369409730827750125603\n",
      "p não convergiu, novo valor de q:  389821515904532788184485108681923467591\n",
      "p não convergiu, novo valor de q:  361824098607611558860307177687820828083\n",
      "p não convergiu, novo valor de q:  665289345282220409691668246927379559501\n",
      "p não convergiu, novo valor de q:  557790163272807787109414619717124794047\n",
      "Parâmetro p gerado: 60611644663333726708979453576122925533701204942470779653775476905058312674956651240420622169037441490438938142703131320418223974094458054315294444651053253266251770039237095311864494670627596885112576583875527306202775703877955370001656287918747667115013763915966093992462882263274766638570011436315682161933617611669629567199998349846751382543494198195445039559266533377\n",
      "gerador (g): 3\n",
      "chave privada (s): 255557811927045804038532781631186778513\n",
      "---------------------------------------------------------------------------------\n",
      "----------------------------------Geração de chaves:--------------------------------------\n",
      "Parâmetro q gerado: 637962409690365289767631651711072663327\n",
      "Parâmetro p gerado: 2166358506678062084934042817138595960516165757654743286124411160489515136369957662367167389066172479136190331148795156100927439880736144409076862446423996218219805578973052056709845496016343164388635665441657010450047070811071040754724485935207522265064567388458276773165353966371497145768457677450193201631406141212288131744399092675017315490952291217801479593014591489\n",
      "gerador (g): 3\n",
      "chave privada (s): 198341130538577325603860882039892100043\n",
      "---------------------------------------------------------------------------------\n",
      "----------------------------------Geração de chaves:--------------------------------------\n",
      "Parâmetro q gerado: 347381885964481921300659341818392978371\n",
      "Parâmetro p gerado: 200702072448875520080300684743307751780364348774070432898765511411134093485110886640897222325683456911180257864103926100308485660648719763668836222509008414278978968068179610055421979634597371154360910646733120740844709091916509708290899305333762711171812089934511031251957363765036102349222752460976625251673600903758410454760985136578626329701151374796356782763394061623849148579168317541025120100676534273\n",
      "gerador (g): 3\n",
      "chave privada (s): 64469076890246090008274633860416453612\n",
      "---------------------------------------------------------------------------------\n",
      "----------------------------------Geração de chaves:--------------------------------------\n",
      "Parâmetro q gerado: 555148849024578670252834023659699142029\n",
      "Parâmetro p gerado: 3681923169109105420086052139378992353723317764895070607326061621618993145528764208977221673456674134228643510508370396198161264283655490010551944873868318247055755731819287471101695942492071737594194974161172996958291753146040632786644768912951882024741552359441312905667259034047399198836005379402591342166305835129916166937095127364829939164456426120085067423285249\n",
      "gerador (g): 3\n",
      "chave privada (s): 70317692219282548406715057325397986923\n",
      "---------------------------------------------------------------------------------\n",
      "----------------------------------Geração de chaves:--------------------------------------\n",
      "Parâmetro q gerado: 679435609356307059788726117217475867523\n",
      "p não convergiu, novo valor de q:  573036012623438550261426996858117162361\n",
      "p não convergiu, novo valor de q:  646403578903946875851245009924942437061\n",
      "Parâmetro p gerado: 3003790786033505606427921936973997239188392409975374009858447894983834163659938052506091541647237577213064071949293258231679472618548634485499058644197785587390194394167810056959308622704173288633005409025344262105064562058908984545256816745649771849091112749967222599174438768582628563042553575682111903257550483166855169\n",
      "gerador (g): 3\n",
      "chave privada (s): 493483774982927187919444285799807421619\n",
      "---------------------------------------------------------------------------------\n",
      "----------------------------------Geração de chaves:--------------------------------------\n",
      "Parâmetro q gerado: 568398012504521375478505260440477994071\n",
      "Parâmetro p gerado: 204361040989752573751662836745415271257662311110098629795729383733448123673796120608663425059955370328811867919173463609857742938332135395376998314493903588632684991616631436323620154626647751180819757064282075331852616341052843211153481948095144917110316093075118925598934300062839142467801758672189960435373770313165840358136418154661208676892673\n",
      "gerador (g): 3\n",
      "chave privada (s): 74395228704494580996344400193131340377\n",
      "---------------------------------------------------------------------------------\n",
      "----------------------------------Geração de chaves:--------------------------------------\n",
      "Parâmetro q gerado: 668860611164538706798530320367985722247\n",
      "p não convergiu, novo valor de q:  650468954555024072640925805945181960581\n",
      "Parâmetro p gerado: 150976865075923373813126897413558941094709328567201746974646846893425173690939962406943560914163070941111563466023444866795416356250905106996057612907645462580230756469438839216483780672544608211193738400099838872883963910340260415147721246235836855679791496643675370832589767903264709308555291230772424084896814760743252508927932598934838259678355510538036817311999614302434031822987662097335233507338381807818233658382994727999160953030545755486766286133758942773249\n",
      "gerador (g): 3\n",
      "chave privada (s): 57531422204828047005062251041721297926\n",
      "---------------------------------------------------------------------------------\n",
      "----------------------------------Geração de chaves:--------------------------------------\n",
      "Parâmetro q gerado: 371081029743498718868639176043022566851\n",
      "Parâmetro p gerado: 102231217396686438031657868999876699304802287840579281377155112045671434113743825128804374987926434031429551384755260181819363411431123708958502896335756268120823830771345916663709273787843548057534990265879610663077543627282671792751009390022414516007938397819460375803413760781415111149011253750340752766004979768949144966238293936308171240504260126809675141872474390263668989185418112327425107951617\n",
      "gerador (g): 3\n",
      "chave privada (s): 313840771016016143770368078138183248127\n",
      "---------------------------------------------------------------------------------\n",
      "----------------------------------Geração de chaves:--------------------------------------\n",
      "Parâmetro q gerado: 573058966416899761399988914766132159261\n",
      "Parâmetro p gerado: 785968147124446979860843381093551961738478310393472196713345984594980575645861361377925670380782301426287196373487351563183849277638092385618430286712036958122603802021002237463733008599782666229126812743496075544153842361625922420707103755480578417784703750092411246849927710322214924762180075306845063813570281132777562607001993731698065409\n",
      "gerador (g): 3\n",
      "chave privada (s): 147233377015877404139868773789538801097\n",
      "---------------------------------------------------------------------------------\n",
      "----------------------------------Geração de chaves:--------------------------------------\n",
      "Parâmetro q gerado: 582848036817965428676000438729733196493\n",
      "Parâmetro p gerado: 336744124085055685128272699163897677297821403922367344247344238687266117559981116692101921673682755037339604086447240980482041138411497005067760602903733601732013885324095367379478146790692565455336789116303283501069192348041043824095613747918806909748196856807352390928687079916168637337428505518753454585398746213668088924300330950245894925699259620016393125751656163101985688468117705229685611025951358977\n",
      "gerador (g): 3\n",
      "chave privada (s): 243690665875956075766621595991091130121\n",
      "---------------------------------------------------------------------------------\n",
      "----------------------------------Geração de chaves:--------------------------------------\n",
      "Parâmetro q gerado: 425470817860043327483742538978044308021\n",
      "Parâmetro p gerado: 5481934499473464165776356930235501664509565689149066813794564146591513668680531966665823485026277944227963883057536855806409033602650451643752504047195140381202994995721591595407467337988889565613500223147454616625950731562409416068808944357045985226082546454660644483179394067590961791644038906373715777615581379125601692706531455202957799795787651766488605772626230253054453109968005545243947611962358876507610025366985319949253483116761018062077953\n",
      "gerador (g): 3\n",
      "chave privada (s): 288737413110533207900811427327387166632\n",
      "---------------------------------------------------------------------------------\n",
      "----------------------------------Geração de chaves:--------------------------------------\n",
      "Parâmetro q gerado: 576737214817094848139128700132061134471\n",
      "Parâmetro p gerado: 93791278530561233867740258106995977555058765937657688076688212721877659202327149631657431448500722982482438147110764736667984805894239919526834194710638597189341093658701149169100284044430312973857938134621798809704448211844134354789220286405409573175917767660224620121541213604098408244822851012975378187421732734813005339327468783027867077629768554764930032843751679981790794551872307124678300464932625795735826445893633\n",
      "gerador (g): 3\n",
      "chave privada (s): 65842499376991967703800559498306415128\n",
      "---------------------------------------------------------------------------------\n",
      "----------------------------------Geração de chaves:--------------------------------------\n",
      "Parâmetro q gerado: 639232617026483874067874552423254280287\n",
      "p não convergiu, novo valor de q:  501031297950676357270095335975068326511\n",
      "Parâmetro p gerado: 1511124725382080906219421498253351400678874229691045976080933404467644920110762561786571697128416436147651244568608613107006676743810925168454371179681106662869644268993222217675452400017668957102398622118362259590406485741907823688949400251550853813801457843535041509751156175822822752199937210213024649332940355599902525413100963931254053690444628361217\n",
      "gerador (g): 3\n",
      "chave privada (s): 177355216664146145210550340301213193282\n",
      "---------------------------------------------------------------------------------\n",
      "----------------------------------Geração de chaves:--------------------------------------\n",
      "Parâmetro q gerado: 654320144097128753876868092120162109637\n",
      "Parâmetro p gerado: 883084302923908893827339445336850810260000928768352056596065678496903033896851588018373774147035750306343403409960905037279716076400134813511411929698263052672184317921854081920973901300140692988951555868649415297978417228014805097910867516108464088417571914255960677507848394711948397048423263029750560548211121361146021062426782701047380913635221580866029391763995431936286024339314853762298320045039478889792157304269029930455877898906690822780085535040068914060506038427213654340082183945552575805250274617799811759340197163700974126795087913888286862252111063203999562674314690981861083582360977409\n",
      "gerador (g): 3\n",
      "chave privada (s): 620189274548183819852983150877348123604\n",
      "---------------------------------------------------------------------------------\n",
      "----------------------------------Geração de chaves:--------------------------------------\n",
      "Parâmetro q gerado: 497102171615386350598190394162187221103\n",
      "Parâmetro p gerado: 5997097471887566004396335694239833700341477115409921667087754829177700827264282234461904512577860954230722513358718962642130931444987102927730871003492264739089740473318457649420638481421700615821112187086088016390923499177615545858013117635536884929724301048768379788001697221460241732766363612443701573952556640797415347789209677382491592598363173814273\n",
      "gerador (g): 3\n",
      "chave privada (s): 338021759068382446592073267412161291539\n",
      "---------------------------------------------------------------------------------\n",
      "----------------------------------Geração de chaves:--------------------------------------\n",
      "Parâmetro q gerado: 477497461524563326159438160009177964779\n",
      "Parâmetro p gerado: 154473607843540405451417603958774171681845004468273115344012110287249402977102246687500679055190229545007906873236818428023203899245161274124411697685279721278808224533314227042392388404599210457796522205369898778244725694186048363487657825762863928001944489843567333464415906224313900036317849719928408709219204402782997758184436513330078027053383994582857245014874469499269762790579884004355387467506056016034550465690069225455445887332614719454685079325475972760272822189767265197012071661455230780867346433\n",
      "gerador (g): 3\n",
      "chave privada (s): 250285680461530541799587819427748753442\n",
      "---------------------------------------------------------------------------------\n",
      "----------------------------------Geração de chaves:--------------------------------------\n",
      "Parâmetro q gerado: 364094411918235323009675669672989103539\n",
      "Parâmetro p gerado: 3465053099550021005517971395852578143140229172255516503507681104847101078684260029133130011790500939789596567222511946635587151431470040914386953565669854784876597062748435348697173269032573034510554004335484863489295040736573201148891067963404060315552239164617818447460021758722898343480022892885399772575929402098068750337\n",
      "gerador (g): 3\n",
      "chave privada (s): 326404092921520140320540133454663684684\n",
      "---------------------------------------------------------------------------------\n"
     ]
    }
   ],
   "source": [
    "k = 20\n",
    "receiver = Receiver(k,n_mensagens,provider.pk[1]) # Receiver escolhe o conjunto I já na sua construção"
   ]
  },
  {
   "cell_type": "markdown",
   "id": "8d22e573-d251-43e0-82ca-e5727658cacf",
   "metadata": {},
   "source": [
    "### 1. O **Provider** gera o critério C_{k,n} e envia-o ao **Receiver**"
   ]
  },
  {
   "cell_type": "code",
   "execution_count": 21,
   "id": "ff1ab722-0503-4536-be78-911dffd58995",
   "metadata": {},
   "outputs": [],
   "source": [
    "provider.define_criterion(k)"
   ]
  },
  {
   "cell_type": "markdown",
   "id": "00b8cd93-0dc9-4734-b985-26168a1b35b1",
   "metadata": {},
   "source": [
    "### 2. O Receiver  escolhe um conjunto $\\,I \\subset \\{1,n\\}\\,$ , de tamanho $\\,\\#I = \\kappa\\,$ , que identifica os índices das mensagens que pretende recolher.  \n",
    "Seja $\\;e\\;$ a enumeração de $\\,I\\,$:  a função crescente $\\,e\\colon\\{1,\\kappa\\}\\to \\{1,n\\}\\;$  cuja imagem é $\\,I\\,$.\n",
    "\n",
    "O Receiver compromete-se com a escolha de mensagens da seguinte forma (dado o conjunto $I$ e a função crescente $e$):\n",
    "\n",
    "1. Gera aleatoriamente um segredo $\\,\\mathbf{s}\\,$ e , usando um XOF com$\\,\\mathbf{s}\\,$ como “seed”, constrói$\\,\\kappa\\,$  chaves privadas$\\,s_1,\\cdots,s_\\kappa\\,$ .\n",
    "2. Para cada$\\,i\\in \\{1,\\kappa\\}\\,$ gera chaves públicas $\\;\\upsilon_i \\gets \\mathsf{pk}(s_i)\\,$ e atribui o valor$\\,\\upsilon_i\\,$ à componente de ordem$\\,e(i)\\,$ do vector $\\,\\mathsf{p}\\;$; ou seja , executa$\\,$ $\\,\\mathsf{p}_{e(i)} \\gets \\upsilon_i\\,$\n",
    "3. Gera uma “tag” de autenticação$\\,$para a seleção$\\,I\\,$ e o segredo$\\,\\mathbf{s}\\,$\n",
    "\n",
    "$$\\,\\tau \\gets \\mathsf{hash}(I\\,,\\,\\mathbf{s})\\,$$"
   ]
  },
  {
   "cell_type": "markdown",
   "id": "b7ca6967-1be8-4e7b-bb07-639c27a377cf",
   "metadata": {},
   "source": [
    "(Definido na classe:)"
   ]
  },
  {
   "cell_type": "code",
   "execution_count": 22,
   "id": "d5d1e86f-8d6a-45f5-8264-06ecd532c95a",
   "metadata": {},
   "outputs": [
    {
     "name": "stdout",
     "output_type": "stream",
     "text": [
      "----------------------------------------------------------------------\n",
      "Seleção I: [7, 74, 80, 57, 2, 29, 3, 20, 4, 67, 15, 28, 10, 98, 40, 35, 61, 8, 55, 64]\n",
      "----------------------------------------------------------------------\n",
      "Função de enumeração e: {1: 2, 2: 3, 3: 4, 4: 7, 5: 8, 6: 10, 7: 15, 8: 20, 9: 28, 10: 29, 11: 35, 12: 40, 13: 55, 14: 57, 15: 61, 16: 64, 17: 67, 18: 74, 19: 80, 20: 98}\n",
      "----------------------------------------------------------------------\n",
      "Segredo s: 1626447042\n",
      "----------------------------------------------------------------------\n",
      "Chaves privadas s_i: [39822229966415039273058785286330073985, 343347144649756448864458167347865142323, 353368548385613739706645266031680521474, 255557811927045804038532781631186778513, 198341130538577325603860882039892100043, 64469076890246090008274633860416453612, 70317692219282548406715057325397986923, 493483774982927187919444285799807421619, 74395228704494580996344400193131340377, 57531422204828047005062251041721297926, 313840771016016143770368078138183248127, 147233377015877404139868773789538801097, 243690665875956075766621595991091130121, 288737413110533207900811427327387166632, 65842499376991967703800559498306415128, 177355216664146145210550340301213193282, 620189274548183819852983150877348123604, 338021759068382446592073267412161291539, 250285680461530541799587819427748753442, 326404092921520140320540133454663684684]\n",
      "----------------------------------------------------------------------\n",
      "Vetor p (com chaves públicas mapeadas): [0, 0, (265099183591794405915695160300324671560308897386636795244324099854230498456089622562903658082260194971043213337871005267171027971289906551786948653939748720067868608004799221595523428981705733956754552359734779162510407006530283923277871255890086278532891948604218926325204524727221793025961861544205967644736837136678913, 456386142030968830373266851338520761167, 3, 103008136187908351401720311287907291050006374079978479625359689173550807975371698533359150948566332021851875953051212709069913707057166678411145050642516825877517803696196965081311183982258480330706032856417236547902690706297352018358863361831388341499795264188683821823072220050044818253626035899343524348834340984251904), (4638068330695857455560253762025612876415815945860993898444412589750059695628839660806678023230566628838380282241293229419815295937619150648377261532576537590105987779439922930759574490770573644523361810138338669414830286330637329084187971314571036596761440673838572913941946539350466494638351415243720482250790115658748328147652033297624440828153875930459551238795021925078462094466962477089148686478111565147156056183324295260288394806904642041151133782312382114467596742823104019288138697279998600286242000091897045383241271532284279293356957237249, 658316136949427614649801826651412869359, 3, 3265255635433058438502136945621813369296722978886282257182640538696917523426641115296147836213192062682671925884721086867217038402624978163013334059069706260713147099437530539979907660396088628110291655008839456850609378043383368335476716139411960382833932114179174447552951893629954144575852333001213445647081194001883662315608479514641334504308939986259448671245155920942182895638151463824103663998976933728679246937780956585976898786955990299429334429062222819963404788739033799890552480841266069426272013458491088360502228069276818239806553951241), (230606996058570763602532603701088688116214291571823225911710471859323325134633549826175043471709843907297584355760839737277921650457613807151399941930593690239416869471915569736668719807001226150802216167998974139368620458071003325729931710222544248868634794557084751395792165086254113017794034700324300156854442735056634281627229828140864994780757940291289033721911116329740938833097624331114752118263412315287749106954251636156465613809647617, 600562632040476496974591432613102259701, 3, 99737098153617517067425667550212904969240736122111607138607372042302494803186351432769883281975949350524389743933766944736541253333778484562114930585360656367252036599898655073955932413772050583834889262250984913092369273963154587648033930503101809714016775277472198353670064006883497377650783974902553292272839148309758411587413680819466098537320574559184258042104767132089252967880979915886374993108598897371077104616812669729809723530200834), 0, 0, (60611644663333726708979453576122925533701204942470779653775476905058312674956651240420622169037441490438938142703131320418223974094458054315294444651053253266251770039237095311864494670627596885112576583875527306202775703877955370001656287918747667115013763915966093992462882263274766638570011436315682161933617611669629567199998349846751382543494198195445039559266533377, 557790163272807787109414619717124794047, 3, 28477228408422618121149385531347242035495459441787292134907418493207128694226035409162596513750903778571455326478586850522249535501729068282567191951669938276997034804674687238785800306399324882188225082792296745366828319791163483139391916650144704984656851875134010052205261691121398133283053340400542753690392103077605257982759602466856648718097253845713533987668031385), (2166358506678062084934042817138595960516165757654743286124411160489515136369957662367167389066172479136190331148795156100927439880736144409076862446423996218219805578973052056709845496016343164388635665441657010450047070811071040754724485935207522265064567388458276773165353966371497145768457677450193201631406141212288131744399092675017315490952291217801479593014591489, 637962409690365289767631651711072663327, 3, 485657491874900032234270712467221881050187980851801043219715182476766159892046204868192443644220450432986781132493022567575864114887054454055507823476838742091388066570773732111764343228538871139849572116330179890615536876315404598987578965285147656931888991078590675480865925526942677823837785381917434094915712670811149910986691719228649064920202832518842857586825880), 0, (200702072448875520080300684743307751780364348774070432898765511411134093485110886640897222325683456911180257864103926100308485660648719763668836222509008414278978968068179610055421979634597371154360910646733120740844709091916509708290899305333762711171812089934511031251957363765036102349222752460976625251673600903758410454760985136578626329701151374796356782763394061623849148579168317541025120100676534273, 347381885964481921300659341818392978371, 3, 125443181305737886731183720445410097411918095486830879023792174824874141995759544150693210286842703219825980473822522893852693617972058344360367168910554721684991743074777105890663117226061649390946474108078280100546362976652300791164724524360452958900192461182052017094479856448909718985457497420075851866057498071163255442032177395431855256589746895234132570080375552423798038090617199694062074666478948259), 0, 0, 0, 0, (3681923169109105420086052139378992353723317764895070607326061621618993145528764208977221673456674134228643510508370396198161264283655490010551944873868318247055755731819287471101695942492071737594194974161172996958291753146040632786644768912951882024741552359441312905667259034047399198836005379402591342166305835129916166937095127364829939164456426120085067423285249, 555148849024578670252834023659699142029, 3, 2866793564029750494269170013862410196416435930055477899339717816127327707072242969862309633521156843603456037028438452517078490226694469949915278762999866098819609031981790207497609741597431469674038076703479393806950478999534695465223505786375074153433400984729407752627379899562903809054461103553378375267570085555831571779822791086334165192514898482538244438017877), 0, 0, 0, 0, (3003790786033505606427921936973997239188392409975374009858447894983834163659938052506091541647237577213064071949293258231679472618548634485499058644197785587390194394167810056959308622704173288633005409025344262105064562058908984545256816745649771849091112749967222599174438768582628563042553575682111903257550483166855169, 646403578903946875851245009924942437061, 3, 2926971145583063168510596636088421151678849102411770791212947716262428493051622257145002539020582066549143976659404307266552217796411135752029260051418899200520263085810758341997038147435071559124101207355371632584304481306783237364451967581365357581558808272691302526000490778301656117850324522376292459159792752213943413), 0, 0, 0, 0, 0, 0, 0, (204361040989752573751662836745415271257662311110098629795729383733448123673796120608663425059955370328811867919173463609857742938332135395376998314493903588632684991616631436323620154626647751180819757064282075331852616341052843211153481948095144917110316093075118925598934300062839142467801758672189960435373770313165840358136418154661208676892673, 568398012504521375478505260440477994071, 3, 72913851249874518567021970792858666851822701662217261268697570452989343066314832958305123767085703837985700343895732112721054636835215462384331309631185487414846191011635845516252689776237314012047857563049160404304751265335394712638446247783704144305401827898863626944756035902248692127788057688596354216466808510292192019866179596527538341426468), (150976865075923373813126897413558941094709328567201746974646846893425173690939962406943560914163070941111563466023444866795416356250905106996057612907645462580230756469438839216483780672544608211193738400099838872883963910340260415147721246235836855679791496643675370832589767903264709308555291230772424084896814760743252508927932598934838259678355510538036817311999614302434031822987662097335233507338381807818233658382994727999160953030545755486766286133758942773249, 650468954555024072640925805945181960581, 3, 140500172879403506045733593545672032591535537781155567681197007246169062742450832694637658324001575736331422645212775972633234002552416975928166176306441490336312806284891618563276466088228230293276772098762495676351772122796902519305398384113610808441097013794625574380286532725650678481978418278755086633715005456440249008159498112669046496864884954042904926373121319774865183213551810867741324092932319072757402620302755978980123756194702021437867635202919859547270), 0, 0, 0, 0, 0, (102231217396686438031657868999876699304802287840579281377155112045671434113743825128804374987926434031429551384755260181819363411431123708958502896335756268120823830771345916663709273787843548057534990265879610663077543627282671792751009390022414516007938397819460375803413760781415111149011253750340752766004979768949144966238293936308171240504260126809675141872474390263668989185418112327425107951617, 371081029743498718868639176043022566851, 3, 81619720786566550640283262675121065121666632003103556706079967002012204188180709758321399251888718182767127327565886319992221861301692384738539540119461609050696830006256480829285460489749680601854647814592212497895872724526508203141299539235825258080175482108915493856933638504287250521110337611087235352325342713342821675243116673127395763080572154037039213738974506322870969160052740959093586472339), 0, 0, 0, 0, (785968147124446979860843381093551961738478310393472196713345984594980575645861361377925670380782301426287196373487351563183849277638092385618430286712036958122603802021002237463733008599782666229126812743496075544153842361625922420707103755480578417784703750092411246849927710322214924762180075306845063813570281132777562607001993731698065409, 573058966416899761399988914766132159261, 3, 387194999361048781469485675827079711395785667913369585274105728750511861860907241676241464013930590593466098588065327167422943873516265584248856631908249968209075490967020602391614468841141044259836600901372740688287203905875503199068873292429965407248253582957150516930553475852533053179043539421030624663580054577158865114758612898452985888), 0, 0, 0, 0, 0, 0, 0, 0, 0, 0, 0, 0, 0, 0, (336744124085055685128272699163897677297821403922367344247344238687266117559981116692101921673682755037339604086447240980482041138411497005067760602903733601732013885324095367379478146790692565455336789116303283501069192348041043824095613747918806909748196856807352390928687079916168637337428505518753454585398746213668088924300330950245894925699259620016393125751656163101985688468117705229685611025951358977, 582848036817965428676000438729733196493, 3, 172916325166441953954457534424746582097548160012126941933731049898525771752335475630844317638299283788163421230519747896373903036996388438622231864575146022274992809018903361006868129552523988476352594788059377454953233546276665955363934397893859898811788116532562596542168292106885152039610138559363884751759791202281830861594234299916007330689799279577284724594655009175481150412946163204348738444931190770), 0, (5481934499473464165776356930235501664509565689149066813794564146591513668680531966665823485026277944227963883057536855806409033602650451643752504047195140381202994995721591595407467337988889565613500223147454616625950731562409416068808944357045985226082546454660644483179394067590961791644038906373715777615581379125601692706531455202957799795787651766488605772626230253054453109968005545243947611962358876507610025366985319949253483116761018062077953, 425470817860043327483742538978044308021, 3, 877026031929080397858515545207455672407276510523769333900176629335256545399934228252563557448501880146639162197996202893057950943209321088257072817104925112615319452855872495497253399494761876756281125067326602657571282728419672909071201079026645081204642541253722145413311514505235742565679991182225692510318342055911331037911910662114453858118989739318973365140248965637396326729934462105648856876682055352962560295997758867797158224620583170833690), 0, 0, 0, (93791278530561233867740258106995977555058765937657688076688212721877659202327149631657431448500722982482438147110764736667984805894239919526834194710638597189341093658701149169100284044430312973857938134621798809704448211844134354789220286405409573175917767660224620121541213604098408244822851012975378187421732734813005339327468783027867077629768554764930032843751679981790794551872307124678300464932625795735826445893633, 576737214817094848139128700132061134471, 3, 47211955200687564581861452746104766335025074597705201908204072391255820403912793860633860378273029175696022742915812669312966969630369095950547122988300647590911807919743338010080181772368898761800572771899893283015078540849817331808786287242707519160258847810044564100426465655028847097417917905179016501439114440741851975996361831263125480776593141577041964879941802973107029464398003406446110933105577012992369827066980), 0, 0, (1511124725382080906219421498253351400678874229691045976080933404467644920110762561786571697128416436147651244568608613107006676743810925168454371179681106662869644268993222217675452400017668957102398622118362259590406485741907823688949400251550853813801457843535041509751156175822822752199937210213024649332940355599902525413100963931254053690444628361217, 501031297950676357270095335975068326511, 3, 15586638312052887169491360259952771112842937468222137930643508621131183763562955620774508758529744828533518466732389724008439104422271075331332879831196088540578654006891734624076661816993979749745662254073937269141106768420094967559166219259957907194518805521063384411219500225796105848957032867004330248611040632041551380505677463858791218640388050767), 0, 0, (883084302923908893827339445336850810260000928768352056596065678496903033896851588018373774147035750306343403409960905037279716076400134813511411929698263052672184317921854081920973901300140692988951555868649415297978417228014805097910867516108464088417571914255960677507848394711948397048423263029750560548211121361146021062426782701047380913635221580866029391763995431936286024339314853762298320045039478889792157304269029930455877898906690822780085535040068914060506038427213654340082183945552575805250274617799811759340197163700974126795087913888286862252111063203999562674314690981861083582360977409, 654320144097128753876868092120162109637, 3, 623118353751748022996353262148231967159365472974482921210970711275172339063946979560564530196919371815209517718734709400212480392577794165518238733131486508777933466426081252471117251993481017714020191637833088655555784904029854701357189022095968138097883248082256448910815110085755771264670866640104222546508418149418465105443876339408323664724266307862173770494421681219937541880608221341217760693058194274008879124168623160182036903189956574989172380581167574208202172417379366642471390776094416739004729884894735650958034376984335361414462080306561087451874164607896847261075805205289274765890587613), 0, 0, 0, 0, 0, 0, (5997097471887566004396335694239833700341477115409921667087754829177700827264282234461904512577860954230722513358718962642130931444987102927730871003492264739089740473318457649420638481421700615821112187086088016390923499177615545858013117635536884929724301048768379788001697221460241732766363612443701573952556640797415347789209677382491592598363173814273, 497102171615386350598190394162187221103, 3, 5508169987507000521719601528026322487110199955990838205987457904030608462152605832516919262452588173046506000464647127061514218769713462250639887085001175870011900441011132459760126549125515273423929471332717197885666259624646784197229241804004923614375003048096760960084238368120422166481456304846149054642495431675174537507942700955299703509562384957704), 0, 0, 0, 0, 0, (154473607843540405451417603958774171681845004468273115344012110287249402977102246687500679055190229545007906873236818428023203899245161274124411697685279721278808224533314227042392388404599210457796522205369898778244725694186048363487657825762863928001944489843567333464415906224313900036317849719928408709219204402782997758184436513330078027053383994582857245014874469499269762790579884004355387467506056016034550465690069225455445887332614719454685079325475972760272822189767265197012071661455230780867346433, 477497461524563326159438160009177964779, 3, 119466429930786425311649978472282647067336112411639294814069801143199216507804150570224606263016872342234898563128582484845145786466954079106067108238270193953430765436152610059378621440909097183044676860592086361614506489846754860553688211445613232432895950774594681281325494884595444494856723438896341499118232305962501245200223225210452517853168250702258796042996484099132319414105986771870365180671324930918813355025486922710949939620229015877745105479992326616107794117523637073867332673227316634356518767), 0, 0, 0, 0, 0, 0, 0, 0, 0, 0, 0, 0, 0, 0, 0, 0, 0, (3465053099550021005517971395852578143140229172255516503507681104847101078684260029133130011790500939789596567222511946635587151431470040914386953565669854784876597062748435348697173269032573034510554004335484863489295040736573201148891067963404060315552239164617818447460021758722898343480022892885399772575929402098068750337, 364094411918235323009675669672989103539, 3, 733232051482440179535663330665851053559573942784586249463137349502850201284553657986967665175844864330775867291994960511997185927522151340901865736739787725603200180908032576198015585807550022955013749770662162391285226604504267759661223482635240905189086166568685872751678230494905887268996004428075985908978145258047640770), 0]\n",
      "----------------------------------------------------------------------\n",
      "Tag de autenticação τ: b'4\\xd25Eq\\x81\\xb0\\r\\xb1\\xdd\\x99X\\x07\\x84Qa\\xfa\\xa8\\xad\\x1c\\xeb\\x94\\xa4\\xdc\\x82S-\\x14\\xc1\\xea0`'\n",
      "----------------------------------------------------------------------\n"
     ]
    }
   ],
   "source": [
    "receiver.print_info()"
   ]
  },
  {
   "cell_type": "markdown",
   "id": "4b6dd2ea-f0c7-4dea-80a3-c9c59763042a",
   "metadata": {},
   "source": [
    "Em seguida completa a definição de $\\,\\mathsf{p}\\,$ atribuindo às compompentes $\\,\\{\\mathsf{p}_j\\}_{j\\in\\!\\!\\!/I}$valores tais que o vetor de chaves públicas  $\\,\\mathsf{p}\\,$ seja aceite pelo critério $\\,\\mathcal{C}_{\\kappa,n}\\,$."
   ]
  },
  {
   "cell_type": "markdown",
   "id": "065979eb-ead7-41f7-916f-88207af2e2fb",
   "metadata": {},
   "source": [
    "Para que o vetor **p** satisfaça a equação $p×A=u$, onde **A** é a matriz gerada pelo critério $C_{k,n}$ e **u** é o vetor correspondente, o Receiver precisa preencher os espaços em **p** que não foram preenchidos pelas chaves públicas de forma que a equação seja satisfeita.\n",
    "\n",
    "Mais concretamente essa forma de completar o vetor é descrita na classe Receiver:"
   ]
  },
  {
   "cell_type": "raw",
   "id": "5916350a-5eff-4e43-90dd-3c7e15601638",
   "metadata": {},
   "source": [
    "def complete_p_vector(self, A, u):\n",
    "    \"\"\"Completa o vetor p para satisfazer p * A = u no corpo finito Z_q\"\"\"\n",
    "    Zq = GF(self.q)  # Define o corpo finito Z_q\n",
    "\n",
    "    # Identificar os índices já preenchidos (valores diferentes de 0)\n",
    "    filled_indices = [i for i in range(self.n_mensagens) if self.p[i] != 0]\n",
    "    filled_values = vector(Zq, [self.p[i][0] if isinstance(self.p[i], tuple) else self.p[i] for i in filled_indices])\n",
    "\n",
    "    # Criar a matriz A_filled (linhas correspondentes aos índices preenchidos)\n",
    "    A_filled = matrix(Zq, [A[i] for i in filled_indices])\n",
    "\n",
    "    # Criar a matriz A_empty (linhas correspondentes aos índices vazios, ou seja, onde p[i] == 0)\n",
    "    A_empty = matrix(Zq, [A[i] for i in range(A.nrows()) if i not in filled_indices])\n",
    "\n",
    "    # Calcular u' = u - (filled_values * A_filled)\n",
    "    u_prime = vector(Zq, u) - filled_values * A_filled\n",
    "\n",
    "    # Resolver o sistema linear A_empty^T * p_empty = u' no corpo finito Z_q\n",
    "    try:\n",
    "        A_empty_T = A_empty.transpose()\n",
    "        p_empty = A_empty_T.solve_right(u_prime)\n",
    "    except:\n",
    "        # Se o sistema for singular, tentar solução alternativa (ex: mínimos quadrados)\n",
    "        p_empty = A_empty_T.pseudoinverse() * u_prime\n",
    "\n",
    "    # Preencher os elementos desconhecidos no vetor p (apenas onde p[i] == 0)\n",
    "    empty_indices = [i for i in range(self.n_mensagens) if self.p[i] == 0]\n",
    "    for i, idx in enumerate(empty_indices):\n",
    "        # Gerar uma chave \"má\" como uma tupla de 4 dimensões\n",
    "        # Aqui, você pode usar a função gen_keys para gerar uma nova chave (p, q, g, g^s)\n",
    "        # Ou, se preferir, usar valores padrão ou aleatórios para as chaves \"más\"\n",
    "        p_mau, q_mau, g_mau, gs_mau = self.gen_mau_keys()  # Exemplo de função para gerar chaves \"más\"\n",
    "        self.p[idx] = (int(p_empty[i]), q_mau, g_mau, gs_mau)  # Tupla de 4 dimensões\n",
    "\n",
    "    return self.p"
   ]
  },
  {
   "cell_type": "markdown",
   "id": "953a8d43-94d2-4180-bf97-a07af2bc723b",
   "metadata": {},
   "source": [
    "O código realiza a seguinte sequência de operações para completar o vetor p de forma que satisfaça a equação p×A=up×A=u no corpo finito $Z_q$:\n",
    "\n",
    "- Definição do corpo finito $Z_q$ usando ```GF(self.q)```.\n",
    "\n",
    "- Identificação dos índices preenchidos no vetor $p$ usando ```filled_indices```, que são obtidos a partir dos valores em ```self.e```. Os valores correspondentes a esses índices são armazenados em ```filled_values```.\n",
    "\n",
    "- Criação das matriz ```A_filled```  partir das linhas da matriz $A$ correspondentes aos índices preenchidos.\n",
    "\n",
    "- Criação das matriz ```A_empty``` a partir das linhas da matriz $A$ correspondentes aos índices vazios.\n",
    "\n",
    "- Cálculo do vetor $u′$ subtraindo a contribuição dos elementos preenchidos de $u$, ou seja, ```u′ = u − (filled_values × A_filled)```.\n",
    "\n",
    "- Resolução do sistema linear $p_{empty} = A_{empty}^T . u′$ para preencher os valores desconhecidos de $p$ (chaves \"más\").\n",
    "\n",
    "- Preenchimento de p, colocando os valores de $p_{empty}$ índices correspondentes no vetor p."
   ]
  },
  {
   "cell_type": "markdown",
   "id": "120e284b-2ec9-4bf2-b5f5-3d6ade367884",
   "metadata": {},
   "source": [
    "Finalmente o Receiver envia ao Provider a “tag” $\\,\\tau\\,$ e o vetor $\\,\\mathsf{p}\\,$"
   ]
  },
  {
   "cell_type": "code",
   "execution_count": 23,
   "id": "a46b4b2e-be22-4c48-a4f7-154e9a447fa4",
   "metadata": {},
   "outputs": [],
   "source": [
    "completed_p = receiver.complete_p_vector(provider.criterion.A, provider.criterion.u)\n",
    "tau = receiver.tau"
   ]
  },
  {
   "cell_type": "markdown",
   "id": "f066028d-2423-4c94-8c59-76ef80691e65",
   "metadata": {},
   "source": [
    "### 3. O Provider  determina  $\\,\\mathcal{C}_{\\kappa,n}(\\mathsf{p})\\,$; se $\\,\\mathsf{p}\\,$ não for aceite pelo critério então aborta o protocolo.\n",
    "\n",
    "Se $\\,\\mathsf{p}\\,$  for aceite,  então usa  a variante IND-CCA  da cifra IND-CPA com a “tag”  $\\tau$\n",
    "\n",
    "$$E'_{p}(x,\\tau)\\;\\equiv\\;\\vartheta\\,r\\gets \\{0,1\\}^\\lambda\\,\\centerdot\\,\\vartheta\\,y \\gets x\\oplus g(r)\\,\\centerdot\\,\\vartheta\\,r'\\gets h(r,y,\\tau)\\,\\centerdot\\,\\vartheta\\,c\\gets f_p(r,r') \\,\\centerdot\\, (y\\,,\\,c)$$\n",
    "\n",
    "cuja característica específica é o facto de se incluir o “tag” $\\,\\tau\\,$ no “hash”  $\\;h(r,y,\\tau)\\;$usado para construir a pseudo-aleatoriedade $\\,r'\\,$.\n",
    "\n",
    "Usando esta cifra o Provider  constrói $\\,n\\,$ criptogramas \n",
    "$$\\;(y_i,c_i) \\gets E'_{p_i}(m_i)\\quad$$  com $\\,i\\in\\{1,n\\}$\n",
    "que envia para o Receiver."
   ]
  },
  {
   "cell_type": "markdown",
   "id": "9556f1b0-27e2-4db3-a2fc-3bc5a7f1be87",
   "metadata": {},
   "source": [
    "Iremos definir um novo \"hash\" pseudo-aleatório $h$ para que consiga receber como argumento a tag $\\tau$:"
   ]
  },
  {
   "cell_type": "code",
   "execution_count": 24,
   "id": "27a135fe-a875-43b6-90cd-d5f72b462b2a",
   "metadata": {},
   "outputs": [],
   "source": [
    "def h_OT(r,y,t):\n",
    "    \"\"\"Hash pseudoaleatório h(r, y, t) com tamanho lambda_bits\"\"\"\n",
    "    h = hashlib.sha512()\n",
    "    r_bytes = r.to_bytes((r.bit_length() + 7) // 8, 'big')\n",
    "    ry = bytes(a ^^ b for a, b in zip(r_bytes, y))\n",
    "    ryt = bytes(a ^^ b for a, b in zip(ry, t))\n",
    "    h.update(ryt)\n",
    "    full_hash = h.digest()[:lambda_bits // 8]  # Truncar para lambda bits\n",
    "    #print(\"h(r, y) hash:\", full_hash)\n",
    "    return full_hash"
   ]
  },
  {
   "cell_type": "markdown",
   "id": "264a2b55-c2e5-459c-81d1-b7fb4c5708e5",
   "metadata": {},
   "source": [
    "E definir a cifra, que na realidade irá ser a do exercício 1.b. mas com um argumento extra $\\tau$:"
   ]
  },
  {
   "cell_type": "code",
   "execution_count": 25,
   "id": "a73b621c-26a5-429f-8f18-46ecebe31ba1",
   "metadata": {},
   "outputs": [],
   "source": [
    "def f_p_OT(pk, r, rlinha):\n",
    "    p, q, g, g_s = pk\n",
    "    # Verificar se p é primo\n",
    "    if not is_prime(p):\n",
    "        raise ValueError(f\"p = {p} não é um número primo. Não é possível criar o corpo finito GF(p).\")\n",
    "\n",
    "\n",
    "    # Calcular gamma e kappa\n",
    "    gamma = pow(g, rlinha, p)  # γ = g^ω mod p\n",
    "    kappa = pow(g_s, rlinha, p)  # κ = (g^s)^ω mod p\n",
    "\n",
    "    # Multiplicar r_fp por kappa no corpo finito F_p\n",
    "    result = (r * kappa) % p\n",
    "\n",
    "    return (gamma, result)"
   ]
  },
  {
   "cell_type": "code",
   "execution_count": 26,
   "id": "ab34d697-5152-4a5d-8339-854458f77f13",
   "metadata": {},
   "outputs": [],
   "source": [
    "def enc_fujisaki_OT(pk,x,t):\n",
    "    # r gerado aleatoriamente com lambda bits\n",
    "    r = ZZ.random_element(2^(lambda_bits - 1), 2^lambda_bits)\n",
    "\n",
    "    # y = x XOR g(r)\n",
    "    y = bytes(a ^^ b for a, b in zip(x, g(r)))\n",
    "\n",
    "    # r' = h(r,y,tau)\n",
    "    rlinha = h_OT(r,y,t)\n",
    "    print(rlinha)\n",
    "\n",
    "    # c gerado a partir do núcleo determinístico \n",
    "    c = f_p_OT(pk,r,int.from_bytes(rlinha,\"big\"))\n",
    "\n",
    "    #Devolver criptograma\n",
    "    return (y,c)"
   ]
  },
  {
   "cell_type": "markdown",
   "id": "a2a7675d-45fd-4fd1-99f0-b0ebf80921a9",
   "metadata": {},
   "source": [
    "Determinamos então $C_{k,n}(p)$, se este for aceite ciframos todas as mensagens com as chaves públicas fornecidas em $p$:"
   ]
  },
  {
   "cell_type": "code",
   "execution_count": 27,
   "id": "20be9d20-d087-48a5-a49e-7820d0b7f251",
   "metadata": {},
   "outputs": [
    {
     "name": "stdout",
     "output_type": "stream",
     "text": [
      "p_values: [16346905232881361996093839879029244433729, 2466501409751646836037369762551332052297, 265099183591794405915695160300324671560308897386636795244324099854230498456089622562903658082260194971043213337871005267171027971289906551786948653939748720067868608004799221595523428981705733956754552359734779162510407006530283923277871255890086278532891948604218926325204524727221793025961861544205967644736837136678913, 4638068330695857455560253762025612876415815945860993898444412589750059695628839660806678023230566628838380282241293229419815295937619150648377261532576537590105987779439922930759574490770573644523361810138338669414830286330637329084187971314571036596761440673838572913941946539350466494638351415243720482250790115658748328147652033297624440828153875930459551238795021925078462094466962477089148686478111565147156056183324295260288394806904642041151133782312382114467596742823104019288138697279998600286242000091897045383241271532284279293356957237249, 230606996058570763602532603701088688116214291571823225911710471859323325134633549826175043471709843907297584355760839737277921650457613807151399941930593690239416869471915569736668719807001226150802216167998974139368620458071003325729931710222544248868634794557084751395792165086254113017794034700324300156854442735056634281627229828140864994780757940291289033721911116329740938833097624331114752118263412315287749106954251636156465613809647617, 49266203683031139270997339861625750947073, 3583361715036925393010979500421295892657, 60611644663333726708979453576122925533701204942470779653775476905058312674956651240420622169037441490438938142703131320418223974094458054315294444651053253266251770039237095311864494670627596885112576583875527306202775703877955370001656287918747667115013763915966093992462882263274766638570011436315682161933617611669629567199998349846751382543494198195445039559266533377, 2166358506678062084934042817138595960516165757654743286124411160489515136369957662367167389066172479136190331148795156100927439880736144409076862446423996218219805578973052056709845496016343164388635665441657010450047070811071040754724485935207522265064567388458276773165353966371497145768457677450193201631406141212288131744399092675017315490952291217801479593014591489, 6392851834994242081205239558757992664609, 200702072448875520080300684743307751780364348774070432898765511411134093485110886640897222325683456911180257864103926100308485660648719763668836222509008414278978968068179610055421979634597371154360910646733120740844709091916509708290899305333762711171812089934511031251957363765036102349222752460976625251673600903758410454760985136578626329701151374796356782763394061623849148579168317541025120100676534273, 3720992927097327391237435411565795098769, 11276375581808948383055924106909165547073, 629403345732366623539117926615127505039, 2231907798608394070881923847613480358729, 3681923169109105420086052139378992353723317764895070607326061621618993145528764208977221673456674134228643510508370396198161264283655490010551944873868318247055755731819287471101695942492071737594194974161172996958291753146040632786644768912951882024741552359441312905667259034047399198836005379402591342166305835129916166937095127364829939164456426120085067423285249, 1773500258293650012278636170811493222233, 151313396781592313270867259667503242707457, 35608107424230574185783651475137698952833, 119283524859878006991517392697037268685313, 3003790786033505606427921936973997239188392409975374009858447894983834163659938052506091541647237577213064071949293258231679472618548634485499058644197785587390194394167810056959308622704173288633005409025344262105064562058908984545256816745649771849091112749967222599174438768582628563042553575682111903257550483166855169, 1463309195215029425480799270616501314953, 16484808226066359511581408425260008333377, 58601875683895985857976292096443441582849, 132466454717777580052955576842337440385537, 1424326269197232344132305423085500188473, 161839074484053028409965638014251096608257, 29330229026698669153894243321278426782849, 204361040989752573751662836745415271257662311110098629795729383733448123673796120608663425059955370328811867919173463609857742938332135395376998314493903588632684991616631436323620154626647751180819757064282075331852616341052843211153481948095144917110316093075118925598934300062839142467801758672189960435373770313165840358136418154661208676892673, 150976865075923373813126897413558941094709328567201746974646846893425173690939962406943560914163070941111563466023444866795416356250905106996057612907645462580230756469438839216483780672544608211193738400099838872883963910340260415147721246235836855679791496643675370832589767903264709308555291230772424084896814760743252508927932598934838259678355510538036817311999614302434031822987662097335233507338381807818233658382994727999160953030545755486766286133758942773249, 41395777262051386679916743809245792001409, 1014188186058274925554911531805188948509, 51182709607265276360627342044623288176897, 2489350305849254365265215815542380612793, 44220000209668912948873742021607085593857, 102231217396686438031657868999876699304802287840579281377155112045671434113743825128804374987926434031429551384755260181819363411431123708958502896335756268120823830771345916663709273787843548057534990265879610663077543627282671792751009390022414516007938397819460375803413760781415111149011253750340752766004979768949144966238293936308171240504260126809675141872474390263668989185418112327425107951617, 21738011017898402987759893466476404409409, 6025533733584087964402818149055210872417, 413931820278375449237949145341792661427, 7595397555273321703662532362208363224353, 785968147124446979860843381093551961738478310393472196713345984594980575645861361377925670380782301426287196373487351563183849277638092385618430286712036958122603802021002237463733008599782666229126812743496075544153842361625922420707103755480578417784703750092411246849927710322214924762180075306845063813570281132777562607001993731698065409, 47079780582140988615571415121328613955329, 15232805148782581190452917419163454950593, 1010321142426560313527123604804629475029, 71855780066205040095034572795344156766977, 108664673533602188570716200378136698577409, 21004974854632323699809790037499622899393, 16325829730445596366013812533704367618497, 12735772848209401687609738071601111592513, 43518790883028244124270046989301991163777, 2559263694150386286401606502799149345833, 696105402200016572381715132390670781069, 162958517405539346668839276867677408430593, 628113842692561806172467699138120523127, 3310555459816407330175300010744433834929, 336744124085055685128272699163897677297821403922367344247344238687266117559981116692101921673682755037339604086447240980482041138411497005067760602903733601732013885324095367379478146790692565455336789116303283501069192348041043824095613747918806909748196856807352390928687079916168637337428505518753454585398746213668088924300330950245894925699259620016393125751656163101985688468117705229685611025951358977, 1234282357874525512376090869885023138389, 5481934499473464165776356930235501664509565689149066813794564146591513668680531966665823485026277944227963883057536855806409033602650451643752504047195140381202994995721591595407467337988889565613500223147454616625950731562409416068808944357045985226082546454660644483179394067590961791644038906373715777615581379125601692706531455202957799795787651766488605772626230253054453109968005545243947611962358876507610025366985319949253483116761018062077953, 132403198071660013770509985511247947483649, 6068418964510402367879065571884000857953, 3014874554247841666095044232132367373969, 93791278530561233867740258106995977555058765937657688076688212721877659202327149631657431448500722982482438147110764736667984805894239919526834194710638597189341093658701149169100284044430312973857938134621798809704448211844134354789220286405409573175917767660224620121541213604098408244822851012975378187421732734813005339327468783027867077629768554764930032843751679981790794551872307124678300464932625795735826445893633, 5251194616280120396844314437201899448529, 21416994806772124708652763022654414432193, 1511124725382080906219421498253351400678874229691045976080933404467644920110762561786571697128416436147651244568608613107006676743810925168454371179681106662869644268993222217675452400017668957102398622118362259590406485741907823688949400251550853813801457843535041509751156175822822752199937210213024649332940355599902525413100963931254053690444628361217, 2975553371351000756639194424987745792113, 3936884652405934729543448566034686303409, 883084302923908893827339445336850810260000928768352056596065678496903033896851588018373774147035750306343403409960905037279716076400134813511411929698263052672184317921854081920973901300140692988951555868649415297978417228014805097910867516108464088417571914255960677507848394711948397048423263029750560548211121361146021062426782701047380913635221580866029391763995431936286024339314853762298320045039478889792157304269029930455877898906690822780085535040068914060506038427213654340082183945552575805250274617799811759340197163700974126795087913888286862252111063203999562674314690981861083582360977409, 29492071253202969545166241134044323226753, 742663701946986979070299173831298179869, 13324474213765817882787149489916679352513, 2211437637915238812506002500419362667897, 91595314371596365976444882627048437837313, 79544550935217667863620215701933949950209, 5997097471887566004396335694239833700341477115409921667087754829177700827264282234461904512577860954230722513358718962642130931444987102927730871003492264739089740473318457649420638481421700615821112187086088016390923499177615545858013117635536884929724301048768379788001697221460241732766363612443701573952556640797415347789209677382491592598363173814273, 603916505800294501393972796288297944823, 1377375732707018546919405800282513556329, 4354242441598622102142962406306297447473, 3431452145455499623558606145463972485969, 85850321523462775655069969406086147769089, 154473607843540405451417603958774171681845004468273115344012110287249402977102246687500679055190229545007906873236818428023203899245161274124411697685279721278808224533314227042392388404599210457796522205369898778244725694186048363487657825762863928001944489843567333464415906224313900036317849719928408709219204402782997758184436513330078027053383994582857245014874469499269762790579884004355387467506056016034550465690069225455445887332614719454685079325475972760272822189767265197012071661455230780867346433, 456500455369510130822297515599323881967, 72352937202830371836386923482801515712257, 2335072828576361795594358249531129681593, 75098639600433189820966174274313297693953, 17147869697840714468799703439374284375617, 28098362539908354810105285490451925397889, 2865387951579789006191983775535705608753, 738708371235601790823813453827847479429, 53124045846686158865042611846727289761537, 21231788757046327144825906855557991717697, 4823123049214789771347724592468067105713, 37596581548224837610098627581942761514369, 169717754967117560378129483886314533990913, 3763061069944821236815437304752858622289, 1475237767484244219234927870526259881337, 1423313940850834050790719738669235456889, 3532424234161110258470595350573534679857, 3465053099550021005517971395852578143140229172255516503507681104847101078684260029133130011790500939789596567222511946635587151431470040914386953565669854784876597062748435348697173269032573034510554004335484863489295040736573201148891067963404060315552239164617818447460021758722898343480022892885399772575929402098068750337, 2642571273248702520245125330489193924057]\n",
      "------------------------------------------------------------------------\n",
      "O vetor p foi aceite\n",
      "p final:[ \n",
      "(16346905232881361996093839879029244433729, 255420394263771281188966248109831944277, 3, 1375457470007060800742714033668919527969)\n",
      "(2466501409751646836037369762551332052297, 308312676218955854504671220318916506537, 3, 553384819134621129282789247052704482004)\n",
      "(265099183591794405915695160300324671560308897386636795244324099854230498456089622562903658082260194971043213337871005267171027971289906551786948653939748720067868608004799221595523428981705733956754552359734779162510407006530283923277871255890086278532891948604218926325204524727221793025961861544205967644736837136678913, 456386142030968830373266851338520761167, 3, 103008136187908351401720311287907291050006374079978479625359689173550807975371698533359150948566332021851875953051212709069913707057166678411145050642516825877517803696196965081311183982258480330706032856417236547902690706297352018358863361831388341499795264188683821823072220050044818253626035899343524348834340984251904)\n",
      "(4638068330695857455560253762025612876415815945860993898444412589750059695628839660806678023230566628838380282241293229419815295937619150648377261532576537590105987779439922930759574490770573644523361810138338669414830286330637329084187971314571036596761440673838572913941946539350466494638351415243720482250790115658748328147652033297624440828153875930459551238795021925078462094466962477089148686478111565147156056183324295260288394806904642041151133782312382114467596742823104019288138697279998600286242000091897045383241271532284279293356957237249, 658316136949427614649801826651412869359, 3, 3265255635433058438502136945621813369296722978886282257182640538696917523426641115296147836213192062682671925884721086867217038402624978163013334059069706260713147099437530539979907660396088628110291655008839456850609378043383368335476716139411960382833932114179174447552951893629954144575852333001213445647081194001883662315608479514641334504308939986259448671245155920942182895638151463824103663998976933728679246937780956585976898786955990299429334429062222819963404788739033799890552480841266069426272013458491088360502228069276818239806553951241)\n",
      "(230606996058570763602532603701088688116214291571823225911710471859323325134633549826175043471709843907297584355760839737277921650457613807151399941930593690239416869471915569736668719807001226150802216167998974139368620458071003325729931710222544248868634794557084751395792165086254113017794034700324300156854442735056634281627229828140864994780757940291289033721911116329740938833097624331114752118263412315287749106954251636156465613809647617, 600562632040476496974591432613102259701, 3, 99737098153617517067425667550212904969240736122111607138607372042302494803186351432769883281975949350524389743933766944736541253333778484562114930585360656367252036599898655073955932413772050583834889262250984913092369273963154587648033930503101809714016775277472198353670064006883497377650783974902553292272839148309758411587413680819466098537320574559184258042104767132089252967880979915886374993108598897371077104616812669729809723530200834)\n",
      "(49266203683031139270997339861625750947073, 192446108136840387777333358834475589637, 3, 6622187158194944660142540145775777328304)\n",
      "(3583361715036925393010979500421295892657, 223960107189807837063186218776330993291, 3, 284560512967700713231656756631424801309)\n",
      "(60611644663333726708979453576122925533701204942470779653775476905058312674956651240420622169037441490438938142703131320418223974094458054315294444651053253266251770039237095311864494670627596885112576583875527306202775703877955370001656287918747667115013763915966093992462882263274766638570011436315682161933617611669629567199998349846751382543494198195445039559266533377, 557790163272807787109414619717124794047, 3, 28477228408422618121149385531347242035495459441787292134907418493207128694226035409162596513750903778571455326478586850522249535501729068282567191951669938276997034804674687238785800306399324882188225082792296745366828319791163483139391916650144704984656851875134010052205261691121398133283053340400542753690392103077605257982759602466856648718097253845713533987668031385)\n",
      "(2166358506678062084934042817138595960516165757654743286124411160489515136369957662367167389066172479136190331148795156100927439880736144409076862446423996218219805578973052056709845496016343164388635665441657010450047070811071040754724485935207522265064567388458276773165353966371497145768457677450193201631406141212288131744399092675017315490952291217801479593014591489, 637962409690365289767631651711072663327, 3, 485657491874900032234270712467221881050187980851801043219715182476766159892046204868192443644220450432986781132493022567575864114887054454055507823476838742091388066570773732111764343228538871139849572116330179890615536876315404598987578965285147656931888991078590675480865925526942677823837785381917434094915712670811149910986691719228649064920202832518842857586825880)\n",
      "(6392851834994242081205239558757992664609, 199776619843570065037663736211187270769, 3, 205199501026149521912425774709387045)\n",
      "(200702072448875520080300684743307751780364348774070432898765511411134093485110886640897222325683456911180257864103926100308485660648719763668836222509008414278978968068179610055421979634597371154360910646733120740844709091916509708290899305333762711171812089934511031251957363765036102349222752460976625251673600903758410454760985136578626329701151374796356782763394061623849148579168317541025120100676534273, 347381885964481921300659341818392978371, 3, 125443181305737886731183720445410097411918095486830879023792174824874141995759544150693210286842703219825980473822522893852693617972058344360367168910554721684991743074777105890663117226061649390946474108078280100546362976652300791164724524360452958900192461182052017094479856448909718985457497420075851866057498071163255442032177395431855256589746895234132570080375552423798038090617199694062074666478948259)\n",
      "(3720992927097327391237435411565795098769, 232562057943582961952339713222862193673, 3, 3163559982251886172018028269621412398028)\n",
      "(11276375581808948383055924106909165547073, 176193368465764818485248814170455711673, 3, 8336652193883426154961091191985080369676)\n",
      "(629403345732366623539117926615127505039, 314701672866183311769558963307563752519, 7, 412224782573771188964109179074788441490)\n",
      "(2231907798608394070881923847613480358729, 278988474826049258860240480951685044841, 3, 125961441482029137631777692930649282300)\n",
      "(3681923169109105420086052139378992353723317764895070607326061621618993145528764208977221673456674134228643510508370396198161264283655490010551944873868318247055755731819287471101695942492071737594194974161172996958291753146040632786644768912951882024741552359441312905667259034047399198836005379402591342166305835129916166937095127364829939164456426120085067423285249, 555148849024578670252834023659699142029, 3, 2866793564029750494269170013862410196416435930055477899339717816127327707072242969862309633521156843603456037028438452517078490226694469949915278762999866098819609031981790207497609741597431469674038076703479393806950478999534695465223505786375074153433400984729407752627379899562903809054461103553378375267570085555831571779822791086334165192514898482538244438017877)\n",
      "(1773500258293650012278636170811493222233, 221687532286706251534829521351436652779, 3, 1550049385601434827120863998475815236060)\n",
      "(151313396781592313270867259667503242707457, 295533978089047486857162616538092270913, 3, 66763106334026044443806756503927211207547)\n",
      "(35608107424230574185783651475137698952833, 278188339251801360826434777149513273069, 3, 8808021523570436438292972760243575124130)\n",
      "(119283524859878006991517392697037268685313, 232975634491949232405307407611400915401, 3, 36282023623922258943919688140382340009055)\n",
      "(3003790786033505606427921936973997239188392409975374009858447894983834163659938052506091541647237577213064071949293258231679472618548634485499058644197785587390194394167810056959308622704173288633005409025344262105064562058908984545256816745649771849091112749967222599174438768582628563042553575682111903257550483166855169, 646403578903946875851245009924942437061, 3, 2926971145583063168510596636088421151678849102411770791212947716262428493051622257145002539020582066549143976659404307266552217796411135752029260051418899200520263085810758341997038147435071559124101207355371632584304481306783237364451967581365357581558808272691302526000490778301656117850324522376292459159792752213943413)\n",
      "(1463309195215029425480799270616501314953, 182913649401878678185099908827062664369, 3, 106836252776660479462738088128202828374)\n",
      "(16484808226066359511581408425260008333377, 257575128532286867368459506644687630209, 3, 3993039904867019060987231378560158826060)\n",
      "(58601875683895985857976292096443441582849, 228913576890218694757719891001732193683, 3, 32490357473743389115005054949977313398067)\n",
      "(132466454717777580052955576842337440385537, 258723544370659336040928861020190313253, 3, 77441496906497343312468981274503240476261)\n",
      "(1424326269197232344132305423085500188473, 178040783649654043016538177885687523559, 3, 1294662811465442611814754523317290801688)\n",
      "(161839074484053028409965638014251096608257, 316091942351666071113214136746584173063, 3, 160645112788984165935938095635045476019595)\n",
      "(29330229026698669153894243321278426782849, 229142414271083352764798775947487709241, 3, 16263855579694817502932276323134601252552)\n",
      "(204361040989752573751662836745415271257662311110098629795729383733448123673796120608663425059955370328811867919173463609857742938332135395376998314493903588632684991616631436323620154626647751180819757064282075331852616341052843211153481948095144917110316093075118925598934300062839142467801758672189960435373770313165840358136418154661208676892673, 568398012504521375478505260440477994071, 3, 72913851249874518567021970792858666851822701662217261268697570452989343066314832958305123767085703837985700343895732112721054636835215462384331309631185487414846191011635845516252689776237314012047857563049160404304751265335394712638446247783704144305401827898863626944756035902248692127788057688596354216466808510292192019866179596527538341426468)\n",
      "(150976865075923373813126897413558941094709328567201746974646846893425173690939962406943560914163070941111563466023444866795416356250905106996057612907645462580230756469438839216483780672544608211193738400099838872883963910340260415147721246235836855679791496643675370832589767903264709308555291230772424084896814760743252508927932598934838259678355510538036817311999614302434031822987662097335233507338381807818233658382994727999160953030545755486766286133758942773249, 650468954555024072640925805945181960581, 3, 140500172879403506045733593545672032591535537781155567681197007246169062742450832694637658324001575736331422645212775972633234002552416975928166176306441490336312806284891618563276466088228230293276772098762495676351772122796902519305398384113610808441097013794625574380286532725650678481978418278755086633715005456440249008159498112669046496864884954042904926373121319774865183213551810867741324092932319072757402620302755978980123756194702021437867635202919859547270)\n",
      "(41395777262051386679916743809245792001409, 323404509859776458436849561009732750011, 3, 20035321697908893290179116989069747601727)\n",
      "(1014188186058274925554911531805188948509, 253547046514568731388727882951297237127, 2, 331862484312518140187737742467836878837)\n",
      "(51182709607265276360627342044623288176897, 199932459403379985783700554861809719441, 3, 49494197947599871926156893614958930527847)\n",
      "(2489350305849254365265215815542380612793, 311168788231156795658151976942797576599, 3, 819348849875255416130302375279973097098)\n",
      "(44220000209668912948873742021607085593857, 172734375819019191206538054771902678101, 3, 34014108649668816234784456458894896073018)\n",
      "(102231217396686438031657868999876699304802287840579281377155112045671434113743825128804374987926434031429551384755260181819363411431123708958502896335756268120823830771345916663709273787843548057534990265879610663077543627282671792751009390022414516007938397819460375803413760781415111149011253750340752766004979768949144966238293936308171240504260126809675141872474390263668989185418112327425107951617, 371081029743498718868639176043022566851, 3, 81619720786566550640283262675121065121666632003103556706079967002012204188180709758321399251888718182767127327565886319992221861301692384738539540119461609050696830006256480829285460489749680601854647814592212497895872724526508203141299539235825258080175482108915493856933638504287250521110337611087235352325342713342821675243116673127395763080572154037039213738974506322870969160052740959093586472339)\n",
      "(21738011017898402987759893466476404409409, 339656422154662546683748335413693818897, 3, 13258948731927996811019900823757636003592)\n",
      "(6025533733584087964402818149055210872417, 188297929174502748887588067157975339763, 3, 1390012757318498841808129683447748363069)\n",
      "(413931820278375449237949145341792661427, 206965910139187724618974572670896330713, 2, 197484978699617408097824451091341462289)\n",
      "(7595397555273321703662532362208363224353, 237356173602291303239454136319011350761, 3, 3973732800589852327261525061096205362796)\n",
      "(785968147124446979860843381093551961738478310393472196713345984594980575645861361377925670380782301426287196373487351563183849277638092385618430286712036958122603802021002237463733008599782666229126812743496075544153842361625922420707103755480578417784703750092411246849927710322214924762180075306845063813570281132777562607001993731698065409, 573058966416899761399988914766132159261, 3, 387194999361048781469485675827079711395785667913369585274105728750511861860907241676241464013930590593466098588065327167422943873516265584248856631908249968209075490967020602391614468841141044259836600901372740688287203905875503199068873292429965407248253582957150516930553475852533053179043539421030624663580054577158865114758612898452985888)\n",
      "(47079780582140988615571415121328613955329, 183905392898988236779575840317689898263, 3, 1103407051099115025075917736242107390011)\n",
      "(15232805148782581190452917419163454950593, 238012580449727831100826834674428983603, 3, 4615142398869721953342656837948712474412)\n",
      "(1010321142426560313527123604804629475029, 252580285606640078381780901201157368757, 2, 634214154715328456908646370606227674269)\n",
      "(71855780066205040095034572795344156766977, 280686640883613437871228799981813112371, 3, 67806270368385577481674045141543262476970)\n",
      "(108664673533602188570716200378136698577409, 212235690495316774552180078863548239409, 3, 21634775014307132420667531056132570196306)\n",
      "(21004974854632323699809790037499622899393, 328202732103630057809527969335931607803, 3, 9001986410165096218171501041976414755048)\n",
      "(16325829730445596366013812533704367618497, 255091089538212443218965820839130744039, 3, 11550004686355177610494085105931591311191)\n",
      "(12735772848209401687609738071601111592513, 198996450753271901368902157368767368633, 3, 7738999800138412671875475500944493935784)\n",
      "(43518790883028244124270046989301991163777, 339990553773658157220859742103921805967, 3, 36720683270142556670304689596935684030057)\n",
      "(2559263694150386286401606502799149345833, 319907961768798285800200812849893668229, 3, 2111238474260446253849720470278093508820)\n",
      "(696105402200016572381715132390670781069, 174026350550004143095428783097667695267, 2, 392649208149153192599919056799145696201)\n",
      "(162958517405539346668839276867677408430593, 318278354307694036462576712632182438341, 3, 150576731809286401298969408981042932292213)\n",
      "(628113842692561806172467699138120523127, 314056921346280903086233849569060261563, 5, 183647028940578953898639699701919844830)\n",
      "(3310555459816407330175300010744433834929, 206909716238525458135956250671527114683, 3, 1902456156784383632037532615642533577496)\n",
      "(336744124085055685128272699163897677297821403922367344247344238687266117559981116692101921673682755037339604086447240980482041138411497005067760602903733601732013885324095367379478146790692565455336789116303283501069192348041043824095613747918806909748196856807352390928687079916168637337428505518753454585398746213668088924300330950245894925699259620016393125751656163101985688468117705229685611025951358977, 582848036817965428676000438729733196493, 3, 172916325166441953954457534424746582097548160012126941933731049898525771752335475630844317638299283788163421230519747896373903036996388438622231864575146022274992809018903361006868129552523988476352594788059377454953233546276665955363934397893859898811788116532562596542168292106885152039610138559363884751759791202281830861594234299916007330689799279577284724594655009175481150412946163204348738444931190770)\n",
      "(1234282357874525512376090869885023138389, 308570589468631378094022717471255784597, 2, 1863932561705857799923742135588097830)\n",
      "(5481934499473464165776356930235501664509565689149066813794564146591513668680531966665823485026277944227963883057536855806409033602650451643752504047195140381202994995721591595407467337988889565613500223147454616625950731562409416068808944357045985226082546454660644483179394067590961791644038906373715777615581379125601692706531455202957799795787651766488605772626230253054453109968005545243947611962358876507610025366985319949253483116761018062077953, 425470817860043327483742538978044308021, 3, 877026031929080397858515545207455672407276510523769333900176629335256545399934228252563557448501880146639162197996202893057950943209321088257072817104925112615319452855872495497253399494761876756281125067326602657571282728419672909071201079026645081204642541253722145413311514505235742565679991182225692510318342055911331037911910662114453858118989739318973365140248965637396326729934462105648856876682055352962560295997758867797158224620583170833690)\n",
      "(132403198071660013770509985511247947483649, 258599996233710964395527315451656147429, 3, 40491776177592228639008237810542293288793)\n",
      "(6068418964510402367879065571884000857953, 189638092640950073996220799121375026811, 3, 1098387091074898509502242239372218236056)\n",
      "(3014874554247841666095044232132367373969, 188429659640490104130940264508272960873, 3, 431807350796839519737179526572324839360)\n",
      "(93791278530561233867740258106995977555058765937657688076688212721877659202327149631657431448500722982482438147110764736667984805894239919526834194710638597189341093658701149169100284044430312973857938134621798809704448211844134354789220286405409573175917767660224620121541213604098408244822851012975378187421732734813005339327468783027867077629768554764930032843751679981790794551872307124678300464932625795735826445893633, 576737214817094848139128700132061134471, 3, 47211955200687564581861452746104766335025074597705201908204072391255820403912793860633860378273029175696022742915812669312966969630369095950547122988300647590911807919743338010080181772368898761800572771899893283015078540849817331808786287242707519160258847810044564100426465655028847097417917905179016501439114440741851975996361831263125480776593141577041964879941802973107029464398003406446110933105577012992369827066980)\n",
      "(5251194616280120396844314437201899448529, 328199663517507524802769652325118715533, 3, 3528731082352628596451395767527240456486)\n",
      "(21416994806772124708652763022654414432193, 334640543855814448572699422228975225503, 3, 15368788514039810317852196328713299447536)\n",
      "(1511124725382080906219421498253351400678874229691045976080933404467644920110762561786571697128416436147651244568608613107006676743810925168454371179681106662869644268993222217675452400017668957102398622118362259590406485741907823688949400251550853813801457843535041509751156175822822752199937210213024649332940355599902525413100963931254053690444628361217, 501031297950676357270095335975068326511, 3, 15586638312052887169491360259952771112842937468222137930643508621131183763562955620774508758529744828533518466732389724008439104422271075331332879831196088540578654006891734624076661816993979749745662254073937269141106768420094967559166219259957907194518805521063384411219500225796105848957032867004330248611040632041551380505677463858791218640388050767)\n",
      "(2975553371351000756639194424987745792113, 185972085709437547289949651561734112007, 3, 1792049570563253897395778403615273549039)\n",
      "(3936884652405934729543448566034686303409, 246055290775370920596465535377167893963, 3, 2876059742570633936235290758660961745441)\n",
      "(883084302923908893827339445336850810260000928768352056596065678496903033896851588018373774147035750306343403409960905037279716076400134813511411929698263052672184317921854081920973901300140692988951555868649415297978417228014805097910867516108464088417571914255960677507848394711948397048423263029750560548211121361146021062426782701047380913635221580866029391763995431936286024339314853762298320045039478889792157304269029930455877898906690822780085535040068914060506038427213654340082183945552575805250274617799811759340197163700974126795087913888286862252111063203999562674314690981861083582360977409, 654320144097128753876868092120162109637, 3, 623118353751748022996353262148231967159365472974482921210970711275172339063946979560564530196919371815209517718734709400212480392577794165518238733131486508777933466426081252471117251993481017714020191637833088655555784904029854701357189022095968138097883248082256448910815110085755771264670866640104222546508418149418465105443876339408323664724266307862173770494421681219937541880608221341217760693058194274008879124168623160182036903189956574989172380581167574208202172417379366642471390776094416739004729884894735650958034376984335361414462080306561087451874164607896847261075805205289274765890587613)\n",
      "(29492071253202969545166241134044323226753, 230406806665648199571611258859721275209, 3, 15179450590004930371943751853123903677965)\n",
      "(742663701946986979070299173831298179869, 185665925486746744767574793457824544967, 2, 73691436634575073778520218685210877888)\n",
      "(13324474213765817882787149489916679352513, 208194909590090904418549210779948114883, 3, 1379967033219684608581715411626849912681)\n",
      "(2211437637915238812506002500419362667897, 276429704739404851563250312552420333487, 3, 1068895664996058093406267119364693501130)\n",
      "(91595314371596365976444882627048437837313, 178897098382024152297743911380953980151, 3, 9880633777087419351965400229286570114520)\n",
      "(79544550935217667863620215701933949950209, 310720902090694015092266467585679491993, 3, 67500790444496484115009498026427377739500)\n",
      "(5997097471887566004396335694239833700341477115409921667087754829177700827264282234461904512577860954230722513358718962642130931444987102927730871003492264739089740473318457649420638481421700615821112187086088016390923499177615545858013117635536884929724301048768379788001697221460241732766363612443701573952556640797415347789209677382491592598363173814273, 497102171615386350598190394162187221103, 3, 5508169987507000521719601528026322487110199955990838205987457904030608462152605832516919262452588173046506000464647127061514218769713462250639887085001175870011900441011132459760126549125515273423929471332717197885666259624646784197229241804004923614375003048096760960084238368120422166481456304846149054642495431675174537507942700955299703509562384957704)\n",
      "(603916505800294501393972796288297944823, 301958252900147250696986398144148972411, 5, 63792539802652570817522930041768414831)\n",
      "(1377375732707018546919405800282513556329, 172171966588377318364925725035314194541, 3, 369475402636642051011501858482914758581)\n",
      "(4354242441598622102142962406306297447473, 272140152599913881383935150394143590467, 3, 400167327275265788179640495880960614643)\n",
      "(3431452145455499623558606145463972485969, 214465759090968726472412884091498280373, 3, 989239222418166208415579298210061112521)\n",
      "(85850321523462775655069969406086147769089, 335352818451026467402617067992524014723, 3, 84910460756289703939544299699640949063217)\n",
      "(154473607843540405451417603958774171681845004468273115344012110287249402977102246687500679055190229545007906873236818428023203899245161274124411697685279721278808224533314227042392388404599210457796522205369898778244725694186048363487657825762863928001944489843567333464415906224313900036317849719928408709219204402782997758184436513330078027053383994582857245014874469499269762790579884004355387467506056016034550465690069225455445887332614719454685079325475972760272822189767265197012071661455230780867346433, 477497461524563326159438160009177964779, 3, 119466429930786425311649978472282647067336112411639294814069801143199216507804150570224606263016872342234898563128582484845145786466954079106067108238270193953430765436152610059378621440909097183044676860592086361614506489846754860553688211445613232432895950774594681281325494884595444494856723438896341499118232305962501245200223225210452517853168250702258796042996484099132319414105986771870365180671324930918813355025486922710949939620229015877745105479992326616107794117523637073867332673227316634356518767)\n",
      "(456500455369510130822297515599323881967, 228250227684755065411148757799661940983, 5, 184032258870888950142665416519737990311)\n",
      "(72352937202830371836386923482801515712257, 282628660948556139985886419854693420751, 3, 34439063083303969342266490615130141607029)\n",
      "(2335072828576361795594358249531129681593, 291884103572045224449294781191391210199, 3, 798301668448138975015735138803943102236)\n",
      "(75098639600433189820966174274313297693953, 293354060939192147738149118259036319117, 3, 56382980580523258075104484124306327753098)\n",
      "(17147869697840714468799703439374284375617, 267935464028761163574995366240223193369, 3, 16751150684007441608920666082658202473055)\n",
      "(28098362539908354810105285490451925397889, 219518457343034021953947542894155667171, 3, 26552966498168648358653117634596464949464)\n",
      "(2865387951579789006191983775535705608753, 179086746973736812886998985970981600547, 3, 2337583319637908093264578659544330574658)\n",
      "(738708371235601790823813453827847479429, 184677092808900447705953363456961869857, 2, 442678858071170296819883382264110546612)\n",
      "(53124045846686158865042611846727289761537, 207515804088617808066572702526278475631, 3, 35668253915230348177924339164552020315535)\n",
      "(21231788757046327144825906855557991717697, 331746699328848861637904794618093620589, 3, 10895422842776018752466677985054922547858)\n",
      "(4823123049214789771347724592468067105713, 301445190575924360709232787029254194107, 3, 3463256360699675657051520257047386535606)\n",
      "(37596581548224837610098627581942761514369, 293723293345506543828895527983927824331, 3, 5855283981850580315260326875108625895908)\n",
      "(169717754967117560378129483886314533990913, 331479990170151485113534148215458074201, 3, 50606141714402208060343361433547779427763)\n",
      "(3763061069944821236815437304752858622289, 235191316871551327300964831547053663893, 3, 1473151441166052647709344666428013319901)\n",
      "(1475237767484244219234927870526259881337, 184404720935530527404365983815782485167, 3, 1224847490603139366357090562047550934315)\n",
      "(1423313940850834050790719738669235456889, 177914242606354256348839967333654432111, 3, 805414533321551764440231713368431155270)\n",
      "(3532424234161110258470595350573534679857, 220776514635069391154412209410845917491, 3, 2252035537219811619569197413847556438666)\n",
      "(3465053099550021005517971395852578143140229172255516503507681104847101078684260029133130011790500939789596567222511946635587151431470040914386953565669854784876597062748435348697173269032573034510554004335484863489295040736573201148891067963404060315552239164617818447460021758722898343480022892885399772575929402098068750337, 364094411918235323009675669672989103539, 3, 733232051482440179535663330665851053559573942784586249463137349502850201284553657986967665175844864330775867291994960511997185927522151340901865736739787725603200180908032576198015585807550022955013749770662162391285226604504267759661223482635240905189086166568685872751678230494905887268996004428075985908978145258047640770)\n",
      "(2642571273248702520245125330489193924057, 330321409156087815030640666311149240507, 3, 2000907075981018717623737058454440531525)\n",
      "]\n",
      "------------------------------------------------------------------------\n",
      "b'S\\x11\\x94\\x03\\xc8\\xbez\\x14\\x86q\\x82.\\xdb\\xf1\\xb2\\x8a'\n",
      "b'\\xfc\\x03b\\xb9D\\xf1\\xab)\\x9e<\\x90f6r\\xc6\\xc8'\n",
      "b\"\\xc7\\x85\\x18\\xb6\\xe3&\\xb5y\\xd0QW\\x0c\\xf1\\xc4'\\xc0\"\n",
      "b'\\x8e\\x1d6\\x181\\xa2g)\\xda&\\xcf\\x85\\xa1r\\xbe\\xb9'\n",
      "b'\\x91\\x9dd\\x8d\\xaf2]\\xfa\\xb4\\xf4\\xfcq\\xbb\\xa3\\xa4\\xc9'\n",
      "b'\\x02\\x89`\\xca\\x84\\xb6\\x18;;\\xbe\\xbeF\\x87\\xc5\\xf3\\xe6'\n",
      "b'\\xb9\\xd3q @\\xc7S!\\x96\\xb2\\x0f\\x13v>\\xd2\\xa4'\n",
      "b'|[t\\xf07\\x85P\\x88~JH\\xe5B7L\\xe8'\n",
      "b'z{EC\\x05I\\xefEE\\xeb\\xa9d/s\\xa4T'\n",
      "b'\\xf1\\xddx\\xd8\\xc9\\xdaW=\\xf3\\x8d\\x03d\\xb7\\xfb\\x995'\n",
      "b'\\x9e\\xd05?4\\x7f\\x04\\x13i\\x99\\xf8\\x15\\x8ey\\x0c\\xff'\n",
      "b'\\xc9\\xfe\\x01\\xf5O\\xc1g\\x9f\\x0f\\xde\\xd3\\xa1\\xed\\x86\\xde\\xe3'\n",
      "b'\\xbe\\n57\\x01\\xf5y\\xbdm\\xeb\\xfb+\\xb7e\\x15\\xd1'\n",
      "b'\\xe5\\x0c\\xce\\xc9\\xca\\xa2\\x87\\xda\\xbb\\xb1p\\xb4$73\\x93'\n",
      "b'\\x88\\xa3\\xad\\xb5\\xefu\\x7f\\xd4d\\xc5\\r\\x88\\xd54\\xf2R'\n",
      "b'\\x83\\xfb\\xc5\\xef\\xbf\\xd0M3\\xcd\\x1b\\x0f\\x81\\x18$\\x8a\\xd6'\n",
      "b'\\xd8\\x19\\xa9n\\nH\\xb5>H\\xd0\\xb2\\x84O4\\x05 '\n",
      "b'\\x94\\xd0h\\x11\\x86\\x0esA.\\x84\\x04\\xb7\\x9b\\xdc\\xebW'\n",
      "b'\\xac\\xafI\\x8cw\\x11\\x11\\r\\xa11\\xbfN\\x12\\xf6t\\x82'\n",
      "b'\\xc3\\xa6\\xa7\\xddAj\\xa7\\x07\\xbf\\xcfx\\t\\x805\\x0f,'\n",
      "b'\\xda\\xc3\\xe0\\x08\\xcb~\\xe9\\x84yu#\\xee\\x8fbz\\xa9'\n",
      "b'\\xaa\\xd3\\xd3J\\x9fa\\x16r\\x92\\xaf\\xf0\\xbf\\xb3Ys\\x14'\n",
      "b'liWI\\xe7\\x7f>\\\\\\xe2\\xf6\\xd9 h\\x89E\\xd1'\n",
      "b'\\x8d*\\xe0X9\\xb0,\\x8dI\\xd4\\x01\\xc8\\xdeQj*'\n",
      "b'\\x1cE\\x97\\xf5c\\xee\\x8e$\\xf14\\\\Ul&&@'\n",
      "b'\\xf4\\x83\\x0f\\xfdO\\x8f\\x9cpX=\\x17\\xbc\\x06\\xed\\xde\\x8c'\n",
      "b'\\x14a,\\x009\\xde\\xdfYHY\\x8b\\x19\\xe4\\xa5\\x16\\x1d'\n",
      "b\"'A\\x9ect^G\\x98\\xa5\\x0c\\x0b\\xf8\\x04\\x00\\n\\x87\"\n",
      "b'\\x0f\\x10\\x8aB\\xa6\\x1e\\xc1\\xf0(\\x92Jh;\\xb0E\\xe3'\n",
      "b'\\x16c\\xe1JH=\\x7f\\x07\\xcfC\\x022\\x9d:\\xab('\n",
      "b'\\xfb\\xb4\\x06Y\\xd1\\x837w\\xac\\xcf3\\x96_\\xf2\\xa4J'\n",
      "b'}vO\\xf2\\x9d\\xdf\\xaem\\xa4\\xdb\\xa3\\x96\\xc0!jk'\n",
      "b'!q4\\r\\x97\\xb6\\xca\\xb1\\xc8X3[\\xb98\\xef\\x9d'\n",
      "b'\\x8a\\xc4\\xf0 \\xd4\\xdc5L\\xe9&}H\\xda\\xc1\\xc5\\xd6'\n",
      "b'\\x00u\\x93G\\xd2\\xa9\\\\\\x18Al\\xadK<\\xf1\\x05\\x90'\n",
      "b\"\\xad~\\x07-n2\\xaf\\xb3\\x1a\\x8e\\x07\\xebE\\xee\\xaa'\"\n",
      "b'\\xf7\\x9a\\x8a\\x9a\\x9d\\x8b;\\x84-\\x17\\x0e)OQ\\x8dM'\n",
      "b'\\xde\\x8a\\xf2\\xb3\\x89\\xc1\\xa6\\x1cA\\x9f\\xd5-qPpW'\n",
      "b'\\xe0\\x08\\xd1\\xe2\\x9d\\x1a\\xaf\\xfc\\x11?\\x05\\xca\\x9dj\\x82\\xf9'\n",
      "b'\\x8c\\xf9\\xfa&6\\x80F$\\x80)\\xa6t\\x04v\\x82,'\n",
      "b\"|VL'\\xc06)\\xac\\x89\\xd8/c~j\\x06L\"\n",
      "b'\\x93Y\\xda*\\x95;*\"\\x98\\xcc\\xb4\\x85\\xe4\\xc8\\xf0\\x9c'\n",
      "b'\\x0bk\\x08t\\x0e\\xfe\\xfb\\x03#Z(Uor\\x06\\xa4'\n",
      "b'\\x8ba\\xe8\\x1b\\x06g\\xc5\\xa5\\x90\\x82\\x98\\xccD\\xc1\\x18^'\n",
      "b'\\x8c4w*\\xee\\x82\\xa4\\xea\\xab\\xfcP\\xc7\\xd9\\x10Ev'\n",
      "b'\\xcb\\x05e\\xb7\\x11\\xdeG\\x8d\\r\\x9d\\xd1\\xd6\\xed\\x16\\x07\\x06'\n",
      "b'\\x1b\\x17|\\xbd<;\\xde\\x99\\xbc\\xc4}\\xfe\\x81s\\x08N'\n",
      "b\"\\x0cj\\x04\\xf9O\\x90\\x9a\\xd9\\x85\\xce\\x18\\xac?\\x03\\xce'\"\n",
      "b'\\x91\\rN\\x93\\x87?\\x14l.\\xba\\xea\\xa5\\xd6,\\xfe\\xd5'\n",
      "b'\\x7f\\xfa\\xf1\\xf4%\\xedG~\\x96\\xdcSM\\x90?\\xb3\\xee'\n",
      "b\"\\xdfL\\xcaG|+&\\xd8\\x07'\\xdfP|\\xbat:\"\n",
      "b'?:f\\xd3\\xfbZC\\xfd.2\\xe8RV\\xcfz\\x93'\n",
      "b'eX\\x0c:\\x08\\xc3\\x9b\\x189\\x92g\\xae\\xb7\\xae]X'\n",
      "b'q\\x18C\\xc4\\xa1\\xca\\xd5!\\x82pj\\x7f.\\xd8\\\\b'\n",
      "b'\\xb6{Z\\x1enA)\\xf4\\x8b9\\x9b\\xac\\xb3\\x05\\x16V'\n",
      "b'\\x8e\\x06\\x16\\xb8\\xc5|\\xde\\xee\\x0c\\x0fc\\xbe\\x87}\\xf5x'\n",
      "b'\\xea\\xaf\\xf2\\x1e\\xc4\\x82\\xe3c\\xdd\\x9dP\\xba(g\\xdaJ'\n",
      "b'\\x85\\xcfp\\xd1\\x16\\x0b\\x16p\\xba\\x86\\xd5\\xed\\xa1C\\x18\\xc8'\n",
      "b'\\xf79\\x7f\\xae\\x12/\\x88\\tq\\xb9\\xcf\\x1e}\\xd1\\xa3\\xf4'\n",
      "b'\\xf6\\xf9\\x9eF/i\\xa0\\xf0\\xffn\\xe5\\xe6r\\x8d1\\xbd'\n",
      "b'\\xe4\\x9cr\\xe1\\xfe\\x9e\\xe4\\x12\\xdf\\x7f/K\\xb8\\xb1\\xee\\x92'\n",
      "b'\\xa2\\xa0\\xe7\\xb1?\\xc3\\xa9\\x833\\r\\x8f\\x9c\\xb4\\xdf\\xb66'\n",
      "b'\\xa4.l6\\xd0#\\xfa\\x14u\\xfa?\\x18\\x8c;h\\x9d'\n",
      "b'~\\t\\tS*\\t\\x7f\\x05\\x11\\x92@QBv\\xba\\x07'\n",
      "b'ZH\\xb6\\xc1S\\x96\\xd7G\\xc9\\xff\\xbfK\\x8b\\xab\\x91\\xe2'\n",
      "b'\\xc3\\xa8\\xaf\\x02\\xbb\\x1077\\xd9\\xff\\xa9.@\\xdd\\xaf\\xa5'\n",
      "b'\\r!\\xbb&\\x823\\xa1w\\x8d\\xcc\\x17X\\xb8\\xfc:S'\n",
      "b'*\\x97TB\\x9a\\xfb^XHC\\x08;S\\x0b\\xe7\\x1b'\n",
      "b'\\xe4\\x96\\x8f\\xe6\\xf3f\\x8d\\xaa(6\\x10]\\xf8\\xbb\\xc7\\xa6'\n",
      "b'd\\x9e\\x0b@f>\\xa1\\x0b\\xa1\\xbc\\xa8\\xfcs\\xe5N='\n",
      "b'\\xc8\\x1aP@\\xd0\\xb1\\xf0\\xb6\\xe4\\x1e\\xb7n\\xeb\\xbf3\\xcd'\n",
      "b'\\x9dD\\xc8a\\xbb\\x9d\\t\\xea@&71i\\x9e%\\xe1'\n",
      "b'v\\xe7\\xbb\\n\\xe7\\x8f\\x0c\\x80\\xc1w\\xb4C\\x83@k\\xa0'\n",
      "b'#\\x89$\\xe1\\xbc\\xe4\\xb87\\xff:\\x8c\\xe9p\\xaa\\xf5\\x99'\n",
      "b'\\xdd7\\xb1k\\xa2\\x87\\xbe\\xaf\\x01,\\x87q\\x1c\\xec\\x14 '\n",
      "b'~\\x86\\xce\\x00J\\xcd9\\xae\\xe7^W\\x1b\\xb5\\tt '\n",
      "b'j\\x04\\x98\\xe5b\\x97X\\x0e\\x1bp\\xbf8\\x8f\\x00\\x94\\xb3'\n",
      "b'<\\xfd\\xa0\\x1a\\xa4\\xaes\\xd3\\xda\\x168Mt\\xf0\\xc4B'\n",
      "b'\\xb7]\\x19\\xaa.\\xa6\\x0c@<\\r0\\x98\\xbc\\xdf\\x96\\x1a'\n",
      "b\"\\xc9\\x1a\\xb9\\x05X$\\x08\\x89\\x13k\\\\hs0'\\x1d\"\n",
      "b'n\\xd3\\x84i\\xc6)\\x92\\xb7(\\xee\\x19%\\x06\\x98fs'\n",
      "b'\\xb5\\xf7\\xb7:h\\xcf\\x1d!\\x15\\x94JN@\\xbc\\xbf9'\n",
      "b'\\xea %\\xf8\\xe5\\x1a\\x0f\\x15\\xa0\\x81L\\xcf\\xd8\\xe8\\xcb\\x11'\n",
      "b'\\xbe#U[\\x8f\\xaf\\xdf\\xfe\\xcap\\x01w\\x0c\\x87x\\xfb'\n",
      "b'\\xe7\\xfe\\xa3\\\\5?\\xc9e\\x90\\x93\\xf5x\\xf1\\xba\\x98}'\n",
      "b'\\x8d\\xca\\\\\\x0b8d&\\x7f0}\\x07\\xb4\\t\\x0e\\xa0\\x04'\n",
      "b'Z\\xf1\\x01\\x86\\xdce\\xaa\\x17<{\\x97\\xf4\\xeaa\\xadX'\n",
      "b'SQ\\xd1\\xb7\\xb8\\x8f\\xb7\\xfa:\\t\\x0f\\x16\\x19\\xe8\\x1e\\x0b'\n",
      "b'\\xe7\\xbe\\xa7\\xc9J\\xab\\xba\\xb1:\\x81vM\\xc26\\x8e\\xf7'\n",
      "b'\\xccd\\x8b\\xae\\xdaFLp}{\\xe3\\x89\\x0f+\\xc6\\x84'\n",
      "b'5\\x01\\x83\\x9f\\xe9M\\xb0\\xe9\\x8ax\\x9d\\xe2\\xcf\\x18\\x1b\\xf3'\n",
      "b'\\x96\\xb6\\xb0\\x14\\x9e*\\xad\\x1f\\x8e\\x14\\xbe3&\\x9fn\\x1f'\n",
      "b'\\x85\\x0e\\x19F\\x1a\\xe5\\xb8\\xd3\\xf5\\xcf\\x96\\x8e\\xc5\\x99\\xf7~'\n",
      "b'H\\xa0<\\x14\\x93d``O\\x1c\\x0e\\x10\\xe9\\x87uX'\n",
      "b'\\x10\\x94\\xd04[}\\xb4A\\xd9\\x03\\xbe\\xdea8\\xb5\\xd3'\n",
      "b'\\xba_\\xed\\x06X\\xeaz\\xaes+V\\x80\\n\\x02\\xec\\xd5'\n",
      "b'\\xa1\\xfa\\x9d\\x92\\xda-E\\xa0e\\xa77\\x0f\\x9abd\\xda'\n",
      "b'j\\x0e)`\\xa2\\x86\\x0c\\xe9g0\\xde\\x02\\xf1\"\\xb5\\xb3'\n",
      "b'\\x10\\x01\\xa2\\xc8\\x18l\\x85gCC\\x9a\\xe9\\xd6F@\\xb0'\n",
      "b'K\\xd60\\xcaR!\\xfc\\x8e|%P~Az=/'\n"
     ]
    }
   ],
   "source": [
    "import sys \n",
    "if not provider.criterion.verify(completed_p):\n",
    "    print(\"------------------------------------------------------------------------\")\n",
    "    print(\"O vetor p foi aceite\")\n",
    "    print(\"p final:[ \")\n",
    "    for key in completed_p:\n",
    "        print(key)\n",
    "    print(\"]\")\n",
    "    print(\"------------------------------------------------------------------------\")\n",
    "    ciphertext_vector = []\n",
    "    i = 0\n",
    "    for public_key in completed_p:\n",
    "        if isinstance(public_key, tuple):\n",
    "            byte_length = (sys.getsizeof(provider.messages[i]))\n",
    "            ciphertext_vector.append(enc_fujisaki_OT(public_key, bytes(provider.messages[i], 'utf-8'), tau))\n",
    "            i += 1\n",
    "        else:\n",
    "            raise ValueError(f\"encontrada chave pública não primo: {public_key}\")\n",
    "else:\n",
    "    print(\"O vetor p não foi aceite. Abortado\")"
   ]
  },
  {
   "cell_type": "markdown",
   "id": "958e6aae-ad4f-4ee4-b946-39668b45c941",
   "metadata": {},
   "source": [
    "### 4. O Receiver  usa  a variante IND-CCA  da cifra IND-CPA com a “tag” de autenticação $\\tau$\n",
    "$$D'_{s}(y,c,\\tau)\\;\\equiv\\;\\vartheta\\,r \\gets D_s(c)\\,\\centerdot\\,\\vartheta\\,r'\\gets h(r,y,\\tau)\\,\\centerdot\\,\\mathsf{if}\\;\\;c\\neq f_p(r,r')\\;\\;\\mathsf{then}\\;\\;\\bot\\;\\mathsf{else}\\;\\;y\\oplus g(r)$$\n",
    "         \n",
    "uma vez mais a única característica particular deste algoritmo é o uso da “tag” de autenticação $\\,\\tau\\,$ na construção da pseudo-aleatoriedade $\\;r'\\gets h(r,y,\\tau)\\;$.\n",
    "\n",
    "\n",
    "O agente Receiver \n",
    "   - conhece, porque criou,  a “tag” $\\,\\tau\\,$que autentica o conjunto de mensagens escolhidas $\\,I\\,$ e  o respetivo conjunto de chaves públicas (as “boas” chaves).\n",
    "    - conhece , porque gerou e armazenou num passo anterior,  as chaves privadas $\\,s_i\\,$ para todos $\\,i\\in I\\,$  \n",
    "    - conhece, porque recebeu do Receiver,  todos os criptogramas $\\{(y_i,c_i)\\}_{i\\in\\{1,n\\}}\\,$\n",
    "        \n",
    "Então,  para todo $\\,i\\in I\\,$,  pode recuperar  a mensagem\n",
    "                                                        $$m_i \\,\\gets\\, D_{s_i}(y_i,c_i,\\tau)$$ \n"
   ]
  },
  {
   "cell_type": "markdown",
   "id": "860a8bb3-2773-49aa-8408-56d7341570df",
   "metadata": {},
   "source": [
    "Como na cifra vamos fazer com que a decifra possa receber a tag de autenticação:"
   ]
  },
  {
   "cell_type": "code",
   "execution_count": 28,
   "id": "eb55040d-03a0-446a-9865-9ac79fbc8c3f",
   "metadata": {},
   "outputs": [],
   "source": [
    "def dec_fujisaki_OT(sk,pk,y,c,tau):\n",
    "    r = int(dec(sk,pk,c))\n",
    "    rlinha = h_OT(r,y,tau)\n",
    "    if c != f_p_OT(pk,r,int.from_bytes(rlinha,\"big\")):\n",
    "        print(\"má decifração\")\n",
    "        return None\n",
    "    else:\n",
    "        print(\"boa decifração\")\n",
    "        res = bytes(a ^^ b for a, b in zip(y, g(r)))\n",
    "        return res"
   ]
  },
  {
   "cell_type": "code",
   "execution_count": 29,
   "id": "a6c5c39c-51b4-46be-8646-2f1c1407729b",
   "metadata": {},
   "outputs": [
    {
     "name": "stdout",
     "output_type": "stream",
     "text": [
      "\n",
      "Número da mensagem: 1\n",
      "Índice no vetor ciphertext_vector: 2\n",
      "Chave privada (sk): 39822229966415039273058785286330073985\n",
      "Chave pública (pk): (265099183591794405915695160300324671560308897386636795244324099854230498456089622562903658082260194971043213337871005267171027971289906551786948653939748720067868608004799221595523428981705733956754552359734779162510407006530283923277871255890086278532891948604218926325204524727221793025961861544205967644736837136678913, 456386142030968830373266851338520761167, 3, 103008136187908351401720311287907291050006374079978479625359689173550807975371698533359150948566332021851875953051212709069913707057166678411145050642516825877517803696196965081311183982258480330706032856417236547902690706297352018358863361831388341499795264188683821823072220050044818253626035899343524348834340984251904)\n",
      "len(ciphertext_vector):  100\n",
      "boa decifração\n",
      "Mensagem decifrada: b'mensagem2'\n",
      "Decifração bem-sucedida! A mensagem decifrada corresponde à original.\n",
      "\n",
      "Número da mensagem: 2\n",
      "Índice no vetor ciphertext_vector: 3\n",
      "Chave privada (sk): 343347144649756448864458167347865142323\n",
      "Chave pública (pk): (4638068330695857455560253762025612876415815945860993898444412589750059695628839660806678023230566628838380282241293229419815295937619150648377261532576537590105987779439922930759574490770573644523361810138338669414830286330637329084187971314571036596761440673838572913941946539350466494638351415243720482250790115658748328147652033297624440828153875930459551238795021925078462094466962477089148686478111565147156056183324295260288394806904642041151133782312382114467596742823104019288138697279998600286242000091897045383241271532284279293356957237249, 658316136949427614649801826651412869359, 3, 3265255635433058438502136945621813369296722978886282257182640538696917523426641115296147836213192062682671925884721086867217038402624978163013334059069706260713147099437530539979907660396088628110291655008839456850609378043383368335476716139411960382833932114179174447552951893629954144575852333001213445647081194001883662315608479514641334504308939986259448671245155920942182895638151463824103663998976933728679246937780956585976898786955990299429334429062222819963404788739033799890552480841266069426272013458491088360502228069276818239806553951241)\n",
      "len(ciphertext_vector):  100\n",
      "boa decifração\n",
      "Mensagem decifrada: b'mensagem3'\n",
      "Decifração bem-sucedida! A mensagem decifrada corresponde à original.\n",
      "\n",
      "Número da mensagem: 3\n",
      "Índice no vetor ciphertext_vector: 4\n",
      "Chave privada (sk): 353368548385613739706645266031680521474\n",
      "Chave pública (pk): (230606996058570763602532603701088688116214291571823225911710471859323325134633549826175043471709843907297584355760839737277921650457613807151399941930593690239416869471915569736668719807001226150802216167998974139368620458071003325729931710222544248868634794557084751395792165086254113017794034700324300156854442735056634281627229828140864994780757940291289033721911116329740938833097624331114752118263412315287749106954251636156465613809647617, 600562632040476496974591432613102259701, 3, 99737098153617517067425667550212904969240736122111607138607372042302494803186351432769883281975949350524389743933766944736541253333778484562114930585360656367252036599898655073955932413772050583834889262250984913092369273963154587648033930503101809714016775277472198353670064006883497377650783974902553292272839148309758411587413680819466098537320574559184258042104767132089252967880979915886374993108598897371077104616812669729809723530200834)\n",
      "len(ciphertext_vector):  100\n",
      "boa decifração\n",
      "Mensagem decifrada: b'mensagem4'\n",
      "Decifração bem-sucedida! A mensagem decifrada corresponde à original.\n",
      "\n",
      "Número da mensagem: 4\n",
      "Índice no vetor ciphertext_vector: 7\n",
      "Chave privada (sk): 255557811927045804038532781631186778513\n",
      "Chave pública (pk): (60611644663333726708979453576122925533701204942470779653775476905058312674956651240420622169037441490438938142703131320418223974094458054315294444651053253266251770039237095311864494670627596885112576583875527306202775703877955370001656287918747667115013763915966093992462882263274766638570011436315682161933617611669629567199998349846751382543494198195445039559266533377, 557790163272807787109414619717124794047, 3, 28477228408422618121149385531347242035495459441787292134907418493207128694226035409162596513750903778571455326478586850522249535501729068282567191951669938276997034804674687238785800306399324882188225082792296745366828319791163483139391916650144704984656851875134010052205261691121398133283053340400542753690392103077605257982759602466856648718097253845713533987668031385)\n",
      "len(ciphertext_vector):  100\n",
      "boa decifração\n",
      "Mensagem decifrada: b'mensagem7'\n",
      "Decifração bem-sucedida! A mensagem decifrada corresponde à original.\n",
      "\n",
      "Número da mensagem: 5\n",
      "Índice no vetor ciphertext_vector: 8\n",
      "Chave privada (sk): 198341130538577325603860882039892100043\n",
      "Chave pública (pk): (2166358506678062084934042817138595960516165757654743286124411160489515136369957662367167389066172479136190331148795156100927439880736144409076862446423996218219805578973052056709845496016343164388635665441657010450047070811071040754724485935207522265064567388458276773165353966371497145768457677450193201631406141212288131744399092675017315490952291217801479593014591489, 637962409690365289767631651711072663327, 3, 485657491874900032234270712467221881050187980851801043219715182476766159892046204868192443644220450432986781132493022567575864114887054454055507823476838742091388066570773732111764343228538871139849572116330179890615536876315404598987578965285147656931888991078590675480865925526942677823837785381917434094915712670811149910986691719228649064920202832518842857586825880)\n",
      "len(ciphertext_vector):  100\n",
      "boa decifração\n",
      "Mensagem decifrada: b'mensagem8'\n",
      "Decifração bem-sucedida! A mensagem decifrada corresponde à original.\n",
      "\n",
      "Número da mensagem: 6\n",
      "Índice no vetor ciphertext_vector: 10\n",
      "Chave privada (sk): 64469076890246090008274633860416453612\n",
      "Chave pública (pk): (200702072448875520080300684743307751780364348774070432898765511411134093485110886640897222325683456911180257864103926100308485660648719763668836222509008414278978968068179610055421979634597371154360910646733120740844709091916509708290899305333762711171812089934511031251957363765036102349222752460976625251673600903758410454760985136578626329701151374796356782763394061623849148579168317541025120100676534273, 347381885964481921300659341818392978371, 3, 125443181305737886731183720445410097411918095486830879023792174824874141995759544150693210286842703219825980473822522893852693617972058344360367168910554721684991743074777105890663117226061649390946474108078280100546362976652300791164724524360452958900192461182052017094479856448909718985457497420075851866057498071163255442032177395431855256589746895234132570080375552423798038090617199694062074666478948259)\n",
      "len(ciphertext_vector):  100\n",
      "boa decifração\n",
      "Mensagem decifrada: b'mensagem10'\n",
      "Decifração bem-sucedida! A mensagem decifrada corresponde à original.\n",
      "\n",
      "Número da mensagem: 7\n",
      "Índice no vetor ciphertext_vector: 15\n",
      "Chave privada (sk): 70317692219282548406715057325397986923\n",
      "Chave pública (pk): (3681923169109105420086052139378992353723317764895070607326061621618993145528764208977221673456674134228643510508370396198161264283655490010551944873868318247055755731819287471101695942492071737594194974161172996958291753146040632786644768912951882024741552359441312905667259034047399198836005379402591342166305835129916166937095127364829939164456426120085067423285249, 555148849024578670252834023659699142029, 3, 2866793564029750494269170013862410196416435930055477899339717816127327707072242969862309633521156843603456037028438452517078490226694469949915278762999866098819609031981790207497609741597431469674038076703479393806950478999534695465223505786375074153433400984729407752627379899562903809054461103553378375267570085555831571779822791086334165192514898482538244438017877)\n",
      "len(ciphertext_vector):  100\n",
      "boa decifração\n",
      "Mensagem decifrada: b'mensagem15'\n",
      "Decifração bem-sucedida! A mensagem decifrada corresponde à original.\n",
      "\n",
      "Número da mensagem: 8\n",
      "Índice no vetor ciphertext_vector: 20\n",
      "Chave privada (sk): 493483774982927187919444285799807421619\n",
      "Chave pública (pk): (3003790786033505606427921936973997239188392409975374009858447894983834163659938052506091541647237577213064071949293258231679472618548634485499058644197785587390194394167810056959308622704173288633005409025344262105064562058908984545256816745649771849091112749967222599174438768582628563042553575682111903257550483166855169, 646403578903946875851245009924942437061, 3, 2926971145583063168510596636088421151678849102411770791212947716262428493051622257145002539020582066549143976659404307266552217796411135752029260051418899200520263085810758341997038147435071559124101207355371632584304481306783237364451967581365357581558808272691302526000490778301656117850324522376292459159792752213943413)\n",
      "len(ciphertext_vector):  100\n",
      "boa decifração\n",
      "Mensagem decifrada: b'mensagem20'\n",
      "Decifração bem-sucedida! A mensagem decifrada corresponde à original.\n",
      "\n",
      "Número da mensagem: 9\n",
      "Índice no vetor ciphertext_vector: 28\n",
      "Chave privada (sk): 74395228704494580996344400193131340377\n",
      "Chave pública (pk): (204361040989752573751662836745415271257662311110098629795729383733448123673796120608663425059955370328811867919173463609857742938332135395376998314493903588632684991616631436323620154626647751180819757064282075331852616341052843211153481948095144917110316093075118925598934300062839142467801758672189960435373770313165840358136418154661208676892673, 568398012504521375478505260440477994071, 3, 72913851249874518567021970792858666851822701662217261268697570452989343066314832958305123767085703837985700343895732112721054636835215462384331309631185487414846191011635845516252689776237314012047857563049160404304751265335394712638446247783704144305401827898863626944756035902248692127788057688596354216466808510292192019866179596527538341426468)\n",
      "len(ciphertext_vector):  100\n",
      "boa decifração\n",
      "Mensagem decifrada: b'mensagem28'\n",
      "Decifração bem-sucedida! A mensagem decifrada corresponde à original.\n",
      "\n",
      "Número da mensagem: 10\n",
      "Índice no vetor ciphertext_vector: 29\n",
      "Chave privada (sk): 57531422204828047005062251041721297926\n",
      "Chave pública (pk): (150976865075923373813126897413558941094709328567201746974646846893425173690939962406943560914163070941111563466023444866795416356250905106996057612907645462580230756469438839216483780672544608211193738400099838872883963910340260415147721246235836855679791496643675370832589767903264709308555291230772424084896814760743252508927932598934838259678355510538036817311999614302434031822987662097335233507338381807818233658382994727999160953030545755486766286133758942773249, 650468954555024072640925805945181960581, 3, 140500172879403506045733593545672032591535537781155567681197007246169062742450832694637658324001575736331422645212775972633234002552416975928166176306441490336312806284891618563276466088228230293276772098762495676351772122796902519305398384113610808441097013794625574380286532725650678481978418278755086633715005456440249008159498112669046496864884954042904926373121319774865183213551810867741324092932319072757402620302755978980123756194702021437867635202919859547270)\n",
      "len(ciphertext_vector):  100\n",
      "boa decifração\n",
      "Mensagem decifrada: b'mensagem29'\n",
      "Decifração bem-sucedida! A mensagem decifrada corresponde à original.\n",
      "\n",
      "Número da mensagem: 11\n",
      "Índice no vetor ciphertext_vector: 35\n",
      "Chave privada (sk): 313840771016016143770368078138183248127\n",
      "Chave pública (pk): (102231217396686438031657868999876699304802287840579281377155112045671434113743825128804374987926434031429551384755260181819363411431123708958502896335756268120823830771345916663709273787843548057534990265879610663077543627282671792751009390022414516007938397819460375803413760781415111149011253750340752766004979768949144966238293936308171240504260126809675141872474390263668989185418112327425107951617, 371081029743498718868639176043022566851, 3, 81619720786566550640283262675121065121666632003103556706079967002012204188180709758321399251888718182767127327565886319992221861301692384738539540119461609050696830006256480829285460489749680601854647814592212497895872724526508203141299539235825258080175482108915493856933638504287250521110337611087235352325342713342821675243116673127395763080572154037039213738974506322870969160052740959093586472339)\n",
      "len(ciphertext_vector):  100\n",
      "boa decifração\n",
      "Mensagem decifrada: b'mensagem35'\n",
      "Decifração bem-sucedida! A mensagem decifrada corresponde à original.\n",
      "\n",
      "Número da mensagem: 12\n",
      "Índice no vetor ciphertext_vector: 40\n",
      "Chave privada (sk): 147233377015877404139868773789538801097\n",
      "Chave pública (pk): (785968147124446979860843381093551961738478310393472196713345984594980575645861361377925670380782301426287196373487351563183849277638092385618430286712036958122603802021002237463733008599782666229126812743496075544153842361625922420707103755480578417784703750092411246849927710322214924762180075306845063813570281132777562607001993731698065409, 573058966416899761399988914766132159261, 3, 387194999361048781469485675827079711395785667913369585274105728750511861860907241676241464013930590593466098588065327167422943873516265584248856631908249968209075490967020602391614468841141044259836600901372740688287203905875503199068873292429965407248253582957150516930553475852533053179043539421030624663580054577158865114758612898452985888)\n",
      "len(ciphertext_vector):  100\n",
      "boa decifração\n",
      "Mensagem decifrada: b'mensagem40'\n",
      "Decifração bem-sucedida! A mensagem decifrada corresponde à original.\n",
      "\n",
      "Número da mensagem: 13\n",
      "Índice no vetor ciphertext_vector: 55\n",
      "Chave privada (sk): 243690665875956075766621595991091130121\n",
      "Chave pública (pk): (336744124085055685128272699163897677297821403922367344247344238687266117559981116692101921673682755037339604086447240980482041138411497005067760602903733601732013885324095367379478146790692565455336789116303283501069192348041043824095613747918806909748196856807352390928687079916168637337428505518753454585398746213668088924300330950245894925699259620016393125751656163101985688468117705229685611025951358977, 582848036817965428676000438729733196493, 3, 172916325166441953954457534424746582097548160012126941933731049898525771752335475630844317638299283788163421230519747896373903036996388438622231864575146022274992809018903361006868129552523988476352594788059377454953233546276665955363934397893859898811788116532562596542168292106885152039610138559363884751759791202281830861594234299916007330689799279577284724594655009175481150412946163204348738444931190770)\n",
      "len(ciphertext_vector):  100\n",
      "boa decifração\n",
      "Mensagem decifrada: b'mensagem55'\n",
      "Decifração bem-sucedida! A mensagem decifrada corresponde à original.\n",
      "\n",
      "Número da mensagem: 14\n",
      "Índice no vetor ciphertext_vector: 57\n",
      "Chave privada (sk): 288737413110533207900811427327387166632\n",
      "Chave pública (pk): (5481934499473464165776356930235501664509565689149066813794564146591513668680531966665823485026277944227963883057536855806409033602650451643752504047195140381202994995721591595407467337988889565613500223147454616625950731562409416068808944357045985226082546454660644483179394067590961791644038906373715777615581379125601692706531455202957799795787651766488605772626230253054453109968005545243947611962358876507610025366985319949253483116761018062077953, 425470817860043327483742538978044308021, 3, 877026031929080397858515545207455672407276510523769333900176629335256545399934228252563557448501880146639162197996202893057950943209321088257072817104925112615319452855872495497253399494761876756281125067326602657571282728419672909071201079026645081204642541253722145413311514505235742565679991182225692510318342055911331037911910662114453858118989739318973365140248965637396326729934462105648856876682055352962560295997758867797158224620583170833690)\n",
      "len(ciphertext_vector):  100\n",
      "boa decifração\n",
      "Mensagem decifrada: b'mensagem57'\n",
      "Decifração bem-sucedida! A mensagem decifrada corresponde à original.\n",
      "\n",
      "Número da mensagem: 15\n",
      "Índice no vetor ciphertext_vector: 61\n",
      "Chave privada (sk): 65842499376991967703800559498306415128\n",
      "Chave pública (pk): (93791278530561233867740258106995977555058765937657688076688212721877659202327149631657431448500722982482438147110764736667984805894239919526834194710638597189341093658701149169100284044430312973857938134621798809704448211844134354789220286405409573175917767660224620121541213604098408244822851012975378187421732734813005339327468783027867077629768554764930032843751679981790794551872307124678300464932625795735826445893633, 576737214817094848139128700132061134471, 3, 47211955200687564581861452746104766335025074597705201908204072391255820403912793860633860378273029175696022742915812669312966969630369095950547122988300647590911807919743338010080181772368898761800572771899893283015078540849817331808786287242707519160258847810044564100426465655028847097417917905179016501439114440741851975996361831263125480776593141577041964879941802973107029464398003406446110933105577012992369827066980)\n",
      "len(ciphertext_vector):  100\n",
      "boa decifração\n",
      "Mensagem decifrada: b'mensagem61'\n",
      "Decifração bem-sucedida! A mensagem decifrada corresponde à original.\n",
      "\n",
      "Número da mensagem: 16\n",
      "Índice no vetor ciphertext_vector: 64\n",
      "Chave privada (sk): 177355216664146145210550340301213193282\n",
      "Chave pública (pk): (1511124725382080906219421498253351400678874229691045976080933404467644920110762561786571697128416436147651244568608613107006676743810925168454371179681106662869644268993222217675452400017668957102398622118362259590406485741907823688949400251550853813801457843535041509751156175822822752199937210213024649332940355599902525413100963931254053690444628361217, 501031297950676357270095335975068326511, 3, 15586638312052887169491360259952771112842937468222137930643508621131183763562955620774508758529744828533518466732389724008439104422271075331332879831196088540578654006891734624076661816993979749745662254073937269141106768420094967559166219259957907194518805521063384411219500225796105848957032867004330248611040632041551380505677463858791218640388050767)\n",
      "len(ciphertext_vector):  100\n",
      "boa decifração\n",
      "Mensagem decifrada: b'mensagem64'\n",
      "Decifração bem-sucedida! A mensagem decifrada corresponde à original.\n",
      "\n",
      "Número da mensagem: 17\n",
      "Índice no vetor ciphertext_vector: 67\n",
      "Chave privada (sk): 620189274548183819852983150877348123604\n",
      "Chave pública (pk): (883084302923908893827339445336850810260000928768352056596065678496903033896851588018373774147035750306343403409960905037279716076400134813511411929698263052672184317921854081920973901300140692988951555868649415297978417228014805097910867516108464088417571914255960677507848394711948397048423263029750560548211121361146021062426782701047380913635221580866029391763995431936286024339314853762298320045039478889792157304269029930455877898906690822780085535040068914060506038427213654340082183945552575805250274617799811759340197163700974126795087913888286862252111063203999562674314690981861083582360977409, 654320144097128753876868092120162109637, 3, 623118353751748022996353262148231967159365472974482921210970711275172339063946979560564530196919371815209517718734709400212480392577794165518238733131486508777933466426081252471117251993481017714020191637833088655555784904029854701357189022095968138097883248082256448910815110085755771264670866640104222546508418149418465105443876339408323664724266307862173770494421681219937541880608221341217760693058194274008879124168623160182036903189956574989172380581167574208202172417379366642471390776094416739004729884894735650958034376984335361414462080306561087451874164607896847261075805205289274765890587613)\n",
      "len(ciphertext_vector):  100\n",
      "boa decifração\n",
      "Mensagem decifrada: b'mensagem67'\n",
      "Decifração bem-sucedida! A mensagem decifrada corresponde à original.\n",
      "\n",
      "Número da mensagem: 18\n",
      "Índice no vetor ciphertext_vector: 74\n",
      "Chave privada (sk): 338021759068382446592073267412161291539\n",
      "Chave pública (pk): (5997097471887566004396335694239833700341477115409921667087754829177700827264282234461904512577860954230722513358718962642130931444987102927730871003492264739089740473318457649420638481421700615821112187086088016390923499177615545858013117635536884929724301048768379788001697221460241732766363612443701573952556640797415347789209677382491592598363173814273, 497102171615386350598190394162187221103, 3, 5508169987507000521719601528026322487110199955990838205987457904030608462152605832516919262452588173046506000464647127061514218769713462250639887085001175870011900441011132459760126549125515273423929471332717197885666259624646784197229241804004923614375003048096760960084238368120422166481456304846149054642495431675174537507942700955299703509562384957704)\n",
      "len(ciphertext_vector):  100\n",
      "boa decifração\n",
      "Mensagem decifrada: b'mensagem74'\n",
      "Decifração bem-sucedida! A mensagem decifrada corresponde à original.\n",
      "\n",
      "Número da mensagem: 19\n",
      "Índice no vetor ciphertext_vector: 80\n",
      "Chave privada (sk): 250285680461530541799587819427748753442\n",
      "Chave pública (pk): (154473607843540405451417603958774171681845004468273115344012110287249402977102246687500679055190229545007906873236818428023203899245161274124411697685279721278808224533314227042392388404599210457796522205369898778244725694186048363487657825762863928001944489843567333464415906224313900036317849719928408709219204402782997758184436513330078027053383994582857245014874469499269762790579884004355387467506056016034550465690069225455445887332614719454685079325475972760272822189767265197012071661455230780867346433, 477497461524563326159438160009177964779, 3, 119466429930786425311649978472282647067336112411639294814069801143199216507804150570224606263016872342234898563128582484845145786466954079106067108238270193953430765436152610059378621440909097183044676860592086361614506489846754860553688211445613232432895950774594681281325494884595444494856723438896341499118232305962501245200223225210452517853168250702258796042996484099132319414105986771870365180671324930918813355025486922710949939620229015877745105479992326616107794117523637073867332673227316634356518767)\n",
      "len(ciphertext_vector):  100\n",
      "boa decifração\n",
      "Mensagem decifrada: b'mensagem80'\n",
      "Decifração bem-sucedida! A mensagem decifrada corresponde à original.\n",
      "\n",
      "Número da mensagem: 20\n",
      "Índice no vetor ciphertext_vector: 98\n",
      "Chave privada (sk): 326404092921520140320540133454663684684\n",
      "Chave pública (pk): (3465053099550021005517971395852578143140229172255516503507681104847101078684260029133130011790500939789596567222511946635587151431470040914386953565669854784876597062748435348697173269032573034510554004335484863489295040736573201148891067963404060315552239164617818447460021758722898343480022892885399772575929402098068750337, 364094411918235323009675669672989103539, 3, 733232051482440179535663330665851053559573942784586249463137349502850201284553657986967665175844864330775867291994960511997185927522151340901865736739787725603200180908032576198015585807550022955013749770662162391285226604504267759661223482635240905189086166568685872751678230494905887268996004428075985908978145258047640770)\n",
      "len(ciphertext_vector):  100\n",
      "boa decifração\n",
      "Mensagem decifrada: b'mensagem98'\n",
      "Decifração bem-sucedida! A mensagem decifrada corresponde à original.\n"
     ]
    }
   ],
   "source": [
    "# Decifrar e verificar as mensagens\n",
    "decrypted_messages = []\n",
    "for msg_number, idx in receiver.e.items(): \n",
    "    if idx < len(ciphertext_vector):  # Verifica se o índice é válido\n",
    "        print(f\"\\nNúmero da mensagem: {msg_number}\")\n",
    "        print(f\"Índice no vetor ciphertext_vector: {idx}\")\n",
    "        print(f\"Chave privada (sk): {receiver.s_values[msg_number - 1]}\")  # Ajuste para índice base 0\n",
    "        print(f\"Chave pública (pk): {receiver.p[idx]}\")\n",
    "        print(\"len(ciphertext_vector): \",len(ciphertext_vector))\n",
    "        # Verifica se a mensagem foi cifrada corretamente\n",
    "        if ciphertext_vector[idx] is None:\n",
    "            print(\"idx:\",idx)\n",
    "            print(f\"Mensagem {idx} não foi cifrada corretamente.\")\n",
    "            continue\n",
    "\n",
    "        y, c = ciphertext_vector[idx]\n",
    "        sk = receiver.s_values[msg_number - 1] \n",
    "        decrypted_message = dec_fujisaki_OT(sk, receiver.p[idx], y, c, tau)\n",
    "\n",
    "        if decrypted_message is not None:\n",
    "            print(f\"Mensagem decifrada: {decrypted_message}\")\n",
    "\n",
    "            # Compara com a mensagem original no Provider\n",
    "            if decrypted_message == provider.messages[idx].encode('utf-8'):\n",
    "                print(\"Decifração bem-sucedida! A mensagem decifrada corresponde à original.\")\n",
    "                decrypted_messages.append(decrypted_message)\n",
    "            else:\n",
    "                print(\"!!!!!!!!!!!!!!!!!!!!!!!!!!!!!!!!!!!!!!!!!!!!!!!!!!!!\")\n",
    "                print(\"Erro na decifração: A mensagem decifrada NÃO corresponde à original.\")\n",
    "                print(\"!!!!!!!!!!!!!!!!!!!!!!!!!!!!!!!!!!!!!!!!!!!!!!!!!!!!\")\n",
    "        else:\n",
    "            print(\"Erro na decifração intencional.\")"
   ]
  }
 ],
 "metadata": {
  "kernelspec": {
   "display_name": "SageMath 10.5",
   "language": "sage",
   "name": "sagemath"
  },
  "language_info": {
   "codemirror_mode": {
    "name": "ipython",
    "version": 3
   },
   "file_extension": ".py",
   "mimetype": "text/x-python",
   "name": "python",
   "nbconvert_exporter": "python",
   "pygments_lexer": "ipython3",
   "version": "3.12.9"
  }
 },
 "nbformat": 4,
 "nbformat_minor": 5
}
