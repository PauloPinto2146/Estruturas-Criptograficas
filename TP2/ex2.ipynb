{
 "cells": [
  {
   "cell_type": "markdown",
   "metadata": {},
   "source": [
    "# Enunciado"
   ]
  },
  {
   "cell_type": "markdown",
   "metadata": {},
   "source": [
    "Utilizando o SageMath\n",
    "\n",
    "2. Construir uma classe Python que implemente o  EcDSA a partir do “standard” FIPS186-5\n",
    "    1. A implementação deve conter funções para assinar digitalmente e verificar a assinatura.\n",
    "    2. A implementação da classe deve usar  uma das “Twisted Edwards Curves” definidas no standard e escolhida  na iniciação da classe: a curva  “edwards25519” ou “edwards448”."
   ]
  },
  {
   "cell_type": "code",
   "execution_count": 1,
   "metadata": {},
   "outputs": [],
   "source": [
    "import hashlib\n",
    "import random\n",
    "from sage.all import *"
   ]
  },
  {
   "cell_type": "markdown",
   "metadata": {},
   "source": [
    "# **Exercício 2.2.**"
   ]
  },
  {
   "cell_type": "markdown",
   "metadata": {},
   "source": [
    "-p: Primo grande, define o corpo finito GF(p)\n",
    "\n",
    "-a, d: Parâmetros da curva Edwards\n",
    "\n",
    "Curva de Edwards \"twisted\":\n",
    "$ax^2+y^2=1+dx^2y^2$\n",
    "\n",
    "Conversão da curva de Edwards para a curva de Weierstrass:\n",
    "\n",
    "$A=\\frac{2(a+d)}{a-d}​$\n",
    "\n",
    "$B=\\frac{4}{a-d}​$\n",
    "\n",
    "-Calcula a4, a6 para definir a equação da curva $y^2=x^3+a_4x+a_6$ (fórmula de Weierstrass)\n",
    "\n",
    "\n"
   ]
  },
  {
   "cell_type": "code",
   "execution_count": 2,
   "metadata": {},
   "outputs": [],
   "source": [
    "class EcDSA_Ed25519:\n",
    "    def __init__(self, p, a, d):\n",
    "        assert a != d and is_prime(p) and p > 3\n",
    "        K = GF(p) # Corpo finito de p\n",
    "\n",
    "        A =  2*(a + d)/(a - d) #Centraliza a curva ao converter o eixo x\n",
    "        B =  4/(a - d)  #Normaliza os valores, ajusta a escala da curva\n",
    "\n",
    "        self.alfa = A/(3*B) #Deslocamento no eixo X na transformação de Edwards para Weierstrass\n",
    "        self.s = B #Ajusta a escala da curva\n",
    "\n",
    "        a4 =  self.s**(-2) - 3*self.alfa**2\n",
    "        a6 =  -self.alfa**3 - a4*self.alfa\n",
    "\n",
    "        self.EC = EllipticCurve(K,[a4,a6])\n",
    "\n",
    "        \n",
    "        #Ponto base (ponto de partida para a geração de chaves)\n",
    "        self.Px = K(15112221349535400772501151409588531511454012693041857206046113283949847762202)\n",
    "        self.Py = K(46316835694926478169428394003475163141307993866256225615783033603165251855960)\n",
    "\n",
    "        self.L = ZZ(2**252 + 27742317777372353535851937790883648493) #Ordem do grupo de pontos\n",
    "        self.P = self.ed2ec(self.Px, self.Py)\n",
    "\n",
    "        self.private_key = self.generate_private_key()\n",
    "        self.public_key = self.generate_public_key()\n",
    "        \n",
    "    def generate_private_key(self):\n",
    "        return randint(1, self.L - 1) #Chave privada aleatória\n",
    "    \n",
    "    def generate_public_key(self):\n",
    "        return self.private_key * self.P #Chave pública gerada a partir da chave privada\n",
    "    \n",
    "    def ed2ec(self,x,y):      ## mapeia Ed --> EC\n",
    "        if (x,y) == (0,1):\n",
    "            return self.EC(0)\n",
    "        z = (1+y)/(1-y) ; w = z/x\n",
    "        alfa = self.alfa; s = self.s\n",
    "        return self.EC(z/s + alfa , w/s)"
   ]
  },
  {
   "cell_type": "markdown",
   "metadata": {},
   "source": [
    "# **Exercício 2.1.**"
   ]
  },
  {
   "cell_type": "markdown",
   "metadata": {},
   "source": [
    "# Etapas do ECDSA\n",
    "\n",
    "## Gerar Assinatura\n",
    "\n",
    "Dada uma mensagem m, a assinatura $σ=(r,s)$ é gerada da seguinte forma:\n",
    "\n",
    "**Escolher um número aleatório $k$:**\n",
    "\n",
    "$k$ é um número aleatório gerado a cada assinatura.\n",
    "\n",
    "Esse número $k$ deve ser escolhido de forma segura para garantir que não seja reutilizado em duas assinaturas diferentes.\n",
    "\n",
    "\n",
    "**Calcular o ponto $(x_1,y_1)=k.P$:**\n",
    "\n",
    "O número $x_1$​ (coordenada $x$) do ponto $(x_1,y_1)$ na curva elíptica é usado para gerar o valor $r$.\n",
    "Se $r=0$, escolhe-se outro valor de $k$ e recalcula-se.\n",
    "\n",
    "$r=x_1 mod  L$, onde $L$ é a ordem do ponto $P$.\n",
    "\n",
    "**Calcular $s$:**\n",
    "\n",
    "A variável $s$ é calculada usando a chave privada $d$, a mensagem $m$ (convertida para um valor numérico,  usando um hash), e o número aleatório $k$:\n",
    "$s=k^{−1}(h(m)+rd) mod  L$\n",
    "\n",
    "Onde:\n",
    "\n",
    "-$h(m)$ é o hash da mensagem.\n",
    "\n",
    "-$k^{-1}$ é o inverso multiplicativo de $k$ módulo $L$.\n",
    "\n",
    "A assinatura é então o par $(r,s)$.\n",
    "\n",
    "## Validar assinatura\n",
    "\n",
    "Para verificar a assinatura $σ=(r,s)$ de uma mensagem $m$ é necessário uma chave pública $Q$\n",
    "\n",
    "**Validar $r$ e $s$:**\n",
    "\n",
    "$r$ e $s$ devem ser números no intervalo $[1,n−1]$. Se não forem, a assinatura é inválida.\n",
    "\n",
    "**Calcular valores intermédios:**\n",
    "\n",
    "-$h(m)$ é o hash da mensagem $m$\n",
    "\n",
    "-Calcular $w=s^{−1}     mod L$, o inverso de $s$ módulo $L$\n",
    "\n",
    "-Calcular $u_1=h(m)w    mod L$ e $u_2=r.wmodL$\n",
    "\n",
    "**Calcular o ponto $(x_1,y_1)=u_1.P+u_2.Q$:**\n",
    "\n",
    "-Se $x_1mod  n=r$, então a assinatura é válida\n",
    "\n"
   ]
  },
  {
   "cell_type": "code",
   "execution_count": 3,
   "metadata": {},
   "outputs": [],
   "source": [
    "def sign(e, message):\n",
    "        h = hashlib.sha512(message).digest()\n",
    "        h_int = int.from_bytes(h, 'big') % e.L\n",
    "        \n",
    "        while True:\n",
    "            k = randint(1, e.L - 1)\n",
    "            R = k * e.P\n",
    "\n",
    "            r = int(R[0]) % e.L\n",
    "            if r == 0:\n",
    "                continue\n",
    "\n",
    "            k_inv = pow(k, -1, e.L)\n",
    "            s = (k_inv * (h_int + r * e.private_key)) % e.L\n",
    "\n",
    "            if s == 0:\n",
    "                continue\n",
    "\n",
    "            return (r, s)\n",
    "    \n",
    "def verify(e, message, signature):\n",
    "    r, s = signature\n",
    "\n",
    "    if not (1 <= r < e.L and 1 <= s < e.L):\n",
    "        return False\n",
    "    \n",
    "    h = hashlib.sha512(message).digest()\n",
    "    h_int = int.from_bytes(h, 'big') % e.L\n",
    "\n",
    "    k_inv = pow(s, -1, e.L)\n",
    "    u1 = (h_int * k_inv) % e.L\n",
    "    u2 = (r * k_inv) % e.L\n",
    "\n",
    "    R_prime = u1 * e.P + u2 * e.public_key\n",
    "\n",
    "    return int(R_prime[0]) % e.L == r"
   ]
  },
  {
   "cell_type": "markdown",
   "metadata": {},
   "source": [
    "# Teste"
   ]
  },
  {
   "cell_type": "code",
   "execution_count": 4,
   "metadata": {},
   "outputs": [
    {
     "name": "stdout",
     "output_type": "stream",
     "text": [
      "Assinatura válida? True\n"
     ]
    }
   ],
   "source": [
    "p = 2**255 - 19\n",
    "K = GF(p)\n",
    "a = K(-1)\n",
    "d = K(-121665) / K(121666)\n",
    "\n",
    "ecdsa = EcDSA_Ed25519(p, a, d)\n",
    "message = b\"Ola!\"\n",
    "signature = sign(ecdsa, message)\n",
    "is_valid = verify(ecdsa, message, signature)\n",
    "\n",
    "print(f\"Assinatura válida? {is_valid}\")"
   ]
  }
 ],
 "metadata": {
  "kernelspec": {
   "display_name": "Python 3 (ipykernel)",
   "language": "python",
   "name": "python3"
  },
  "language_info": {
   "codemirror_mode": {
    "name": "ipython",
    "version": 3
   },
   "file_extension": ".py",
   "mimetype": "text/x-python",
   "name": "python",
   "nbconvert_exporter": "python",
   "pygments_lexer": "ipython3",
   "version": "3.12.9"
  }
 },
 "nbformat": 4,
 "nbformat_minor": 4
}
