{
 "cells": [
  {
   "cell_type": "markdown",
   "id": "bce231e6-dbff-4b13-ba8a-f4bfcbd2c11b",
   "metadata": {},
   "source": [
    "# Exercício de avaliação 2 - Relatório/Notebook"
   ]
  },
  {
   "cell_type": "markdown",
   "id": "a224b219-cd85-4cfa-be9f-462a31965686",
   "metadata": {},
   "source": [
    "### Enunciado"
   ]
  },
  {
   "cell_type": "markdown",
   "id": "133d23ac-8283-4536-9f6b-08efa18442be",
   "metadata": {},
   "source": [
    "\n",
    "**2.** Use o “package” cryptography para \\\n",
    "    **a.** Implementar uma AEAD com “Tweakable Block Ciphers” conforme está descrito na última secção do texto +Capítulo 1: Primitivas Criptográficas Básicas.  A cifra por blocos primitiva, usada para gerar a “tweakable block cipher”, é o AES-128. \\\n",
    "    **b.** Use esta cifra para construir um canal privado de informação assíncrona com acordo de chaves feito com “X25519 key exchange” e “Ed25519 Signing&Verification” para autenticação  dos agentes.  Deve incluir a confirmação da chave acordada. "
   ]
  },
  {
   "cell_type": "markdown",
   "id": "37e14827-3367-491b-b907-78aa3c40633b",
   "metadata": {},
   "source": [
    "--------------------------------------------------------------------------------------------------------"
   ]
  },
  {
   "cell_type": "markdown",
   "id": "25b748fa-d337-4de1-97b3-dc62392a2b6b",
   "metadata": {},
   "source": [
    "### Introdução"
   ]
  },
  {
   "cell_type": "markdown",
   "id": "2ce1fedf-2f3e-4196-8a22-2d38aa6e4f9f",
   "metadata": {},
   "source": [
    "A segurança da comunicação é essencial em aplicações modernas, especialmente quando há necessidade de privacidade e autenticidade na troca de mensagens entre agentes. Neste trabalho, implementamos um canal privado de comunicação assíncrona que utiliza técnicas de estruturas criptográficas avançadas abordadas nas aulas teóricas, estas irão nos garantir 3 objetivos fulcrais: **confidencialidade**, **integridade** e **autenticação** das mensagens trocadas.\n",
    "\n",
    "A abordagem adotada baseia-se na utilização de **_Authenticated Encryption with Associated Data_** (AEAD) com **_Tweakable Block Ciphers_**, utilizando **_AES-128_** como cifra de bloco subjacente. A introdução a **_tweaks_** na cifra desta nova abordagem permite, em comparação com o exercício anterior, uma maior resistência a ataques, tornando o esquema mais robusto.\n",
    "\n",
    "Para implementar um canal seguro entre os agentes, utilizamos o protocolo de acordo de chaves **_X25519_**, permitindo que as partes compartilhem uma chave secreta de forma segura (mesmo em canais inseguros). Além disso, implementamos **_Ed25519 Signing & Verification_** para autenticar os agentes.\n",
    "\n",
    "O trabalho é desenvolvido utilizando a biblioteca `cryptography` do *Python*, que oferece suporte às primitivas criptográficas necessárias.\n",
    "\n",
    "Para estruturar a implementação, tornar mais claro o que nos é pedido e garantir que o sistema cumpra os objetivos propostos, foi determinado um conjunto de requisitos funcionais, estes definem as funcionalidades essenciais que o sistema deve oferecer:"
   ]
  },
  {
   "cell_type": "markdown",
   "id": "0694e750-3da9-4d37-adb3-e3fb49c703ca",
   "metadata": {},
   "source": [
    "## Requisitos funcionais"
   ]
  },
  {
   "cell_type": "markdown",
   "id": "9c6059e6-4e9f-4f23-b7cd-df98958618c8",
   "metadata": {},
   "source": [
    "**RF1** - O sistema deve implementar `Authenticated Encryption with Associated Data` (AEAD) baseada em `Tweakable Block Ciphers`, a cifra por blocos a usar é `AES-128`; \\\n",
    "**RF2** - O sistema deve utilizar `X25519 key exchange` para estabelecer uma chave secreta compartilhada entre os agentes. \\\n",
    "**RF3** - Os agentes devem ser autenticados através de `Ed25519 Signing & Verification`. \\\n",
    "**RF4** - O servidor deve validar a assinatura antes de processar qualquer mensagem recebida. \\\n",
    "**RF5** - Caso a confirmação falhe, a mensagem não deve ser aceite. \\\n",
    "**RF6** - O sistema deve utilizar uma fonte segura para geração de chaves e tweaks. \\\n",
    "**RF7** - As mensagens devem ser cifradas antes do envio. \\\n",
    "**RF8** - As mensagens devem ser decifradas ao serem recebidas. \\\n",
    "**RF9** - A implementação deve garantir confidencialidade, integridade e autenticidade das mensagens"
   ]
  },
  {
   "cell_type": "markdown",
   "id": "62ac7975-9292-4c71-a561-2828f075cbbd",
   "metadata": {},
   "source": [
    "Neste documento iremos mostrar como é que foram cumpridos todos os requisitos funcionais estabelecidos explicando pretinentemente o raciocínio por de trás da implementação."
   ]
  },
  {
   "cell_type": "markdown",
   "id": "3966a151-a333-459a-b44a-42b0364b3704",
   "metadata": {},
   "source": [
    "------------------------------------------------------------------------------------------------------------------------------"
   ]
  },
  {
   "cell_type": "markdown",
   "id": "ab481157-91a0-48c2-bcfe-ed89d33e616e",
   "metadata": {},
   "source": [
    "## **RF1** - O sistema deve implementar `Authenticated Encryption with Associated Data` (AEAD) baseada em `Tweakable Block Ciphers`, a cifra por blocos a usar é `AES-128`; "
   ]
  },
  {
   "cell_type": "markdown",
   "id": "a7a61145-c811-4698-9b1e-23708c0eedac",
   "metadata": {},
   "source": [
    "Como base (e com objetivos de simplicidade) foi implementado uma versão modificada da criptografia AES-128 no modo **ECB** (Electronic Codebook), incorporando um \"_tweak_\" na chave de cifragem. Este modo segue a estratégia demonstrada no diagrama:"
   ]
  },
  {
   "cell_type": "markdown",
   "id": "8f369d92-4beb-4098-a8ea-4f9f229e84e6",
   "metadata": {},
   "source": [
    "![Modo ECB](ECB.png)"
   ]
  },
  {
   "cell_type": "markdown",
   "id": "8f7fcc24-eaec-4d04-a6fe-b5dde7ede90f",
   "metadata": {},
   "source": [
    "Fazemos uso do modo **ECB**, porém modificado, no sentido em que em vez de ser dado com _input_ o plaintext é dado a concatenação dos **dados associados** com **plaintext**, usamos como chave uma chave ajustada (**tweaked_key**) e é utilizado **AES-128** como a primtiva de cifração (PBC):"
   ]
  },
  {
   "cell_type": "markdown",
   "id": "fb2278ad-a996-477c-9997-7829c1c4bb7e",
   "metadata": {},
   "source": [
    "\n",
    "Fazendo $\\kappa\\;\\equiv\\; w\\,\\oplus\\,k$, então obtemos a TPBC a partir da abordagem: $$\\tilde{E}(w,k,x)\\;\\equiv\\;E(\\kappa,x)$$"
   ]
  },
  {
   "cell_type": "markdown",
   "id": "728ff3ce-3666-4e70-b815-1bed16075fff",
   "metadata": {},
   "source": [
    "Mais concretamente na prática:"
   ]
  },
  {
   "cell_type": "code",
   "execution_count": null,
   "id": "ea3f5eb1-044a-408f-8baf-12991f6da3a2",
   "metadata": {},
   "outputs": [],
   "source": [
    "def tweakable_aes_encrypt(key: bytes, tweak: bytes, plaintext: bytes) -> bytes:\n",
    "    \"\"\"Aplica AES-128 no modo ECB com tweak XOR na chave.\"\"\"\n",
    "    assert len(key) == 16, \"A chave deve ter 16 bytes (AES-128).\"\n",
    "    assert len(tweak) == 16, \"O tweak deve ter 16 bytes.\"\n",
    "    \n",
    "    tweaked_key = bytes(a ^ b for a, b in zip(key, tweak))\n",
    "    cipher = Cipher(algorithms.AES(tweaked_key), modes.ECB())\n",
    "    encryptor = cipher.encryptor()\n",
    "\n",
    "    # Adiciona padding caso a messagem não seja múltipla de 16 bytes\n",
    "    padder = padding.PKCS7(128).padder() # 128 bits = 16 bytes * 8\n",
    "    padded_plaintext = padder.update(plaintext) + padder.finalize()\n",
    "\n",
    "    return encryptor.update(padded_plaintext) + encryptor.finalize()"
   ]
  },
  {
   "cell_type": "markdown",
   "id": "ede2430c-d646-4630-93b3-29c4021b2cb9",
   "metadata": {},
   "source": [
    "(crypto_utils.py: Linhas 8-21)"
   ]
  },
  {
   "cell_type": "markdown",
   "id": "45bec0f0-b0c8-45e5-9dd4-4b8a32478ac8",
   "metadata": {},
   "source": [
    "O código definido tem 3 entradas:\n",
    "\n",
    "- **_key_** (chave AES de longa duração de 16 bytes).\n",
    "- **_tweak_** (Uma chave de curta duração de 16 bytes).\n",
    "- **_plaintext_** (dados a serem criptografados).\n",
    "\n",
    "No corpo da função (para além de definir pré-requisitos) começamos por operar um *XOR* entre a **_key_** e o **_tweak_**, gerando uma chave ajustada (**_tweaked_key_**). Para além disso aplicando uma estrutura criptográfica com AES-128-ECB:\n",
    "\n",
    "- Usa `Cipher` da biblioteca cryptography para criar um cifrador AES-128 no modo ECB.\n",
    "- Aplica **_PKCS7 padding_** para garantir que o *plaintext* tenha um tamanho múltiplo de 16 bytes.\n",
    "- Cifra o resultado final e retorna o resultado."
   ]
  },
  {
   "cell_type": "markdown",
   "id": "efc74940-c66d-4613-9b16-cc9004ddd078",
   "metadata": {},
   "source": [
    "Após definido o cifrador propriamente dito podemos agregar o processo total com:"
   ]
  },
  {
   "cell_type": "code",
   "execution_count": 2,
   "id": "45d08034-a049-48a3-b944-52007ec70629",
   "metadata": {},
   "outputs": [],
   "source": [
    "def encrypt_with_aead(key, tweak, plaintext, associated_data):\n",
    "    digest = hashes.Hash(hashes.SHA256())\n",
    "    digest.update(associated_data)\n",
    "    associated_hash = digest.finalize()\n",
    "    \n",
    "    extended_plaintext = associated_hash + plaintext\n",
    "    ciphertext = tweakable_aes_encrypt(key, tweak, extended_plaintext)\n",
    "    \n",
    "    return ciphertext"
   ]
  },
  {
   "cell_type": "markdown",
   "id": "f74c9b42-c8dd-4d63-9b69-b50b6c012f1f",
   "metadata": {},
   "source": [
    "(crypto_utils.py: Linhas 39-47)"
   ]
  },
  {
   "cell_type": "markdown",
   "id": "a46f0fbe-a0a7-45f7-9653-939d8d9b5ec2",
   "metadata": {},
   "source": [
    "Este código aplica inicialmente um hash **_SHA256_** nos dados associados e concatenamos ambos para criar um input que vai oferecer robustez na cifra final. Por final podemos apenas processar um texto cifrado invocando a função anteriormente mencionada.\n",
    "\n",
    "O uso do hash nas operações **_AEAD_** adiciona **integridade** e **autenticação** no processo de criptografia, ajudando a garantir que tanto os dados confidenciais quanto os dados associados sejam protegidos corretamente."
   ]
  },
  {
   "cell_type": "markdown",
   "id": "bff9e148-d9e9-4c98-8b65-e9d18c77bde7",
   "metadata": {},
   "source": [
    "--------------------------------------------------------------------------------------------------------"
   ]
  },
  {
   "cell_type": "markdown",
   "id": "27706b6a-50f7-4134-9010-a69cf466e050",
   "metadata": {},
   "source": [
    "## **RF2** - O sistema deve utilizar `X25519 key exchange` para estabelecer uma chave secreta compartilhada entre os agentes. "
   ]
  },
  {
   "cell_type": "markdown",
   "id": "df2b2b87-9021-4bbe-ae9d-c73948d5f416",
   "metadata": {},
   "source": [
    "Para obter uma comunicação segura foi nos proposto criar uma **chave pública** e uma **chave privada** fazendo uso da curva elíptica no protocolo Diffie-Hellman 25519. Para isso foi criada uma função `generate_x25519_keypair` que utiliza funções da biblioteca de `cryptography` do *Python* que facilita o processo.\n",
    "\n",
    "Esta função gera um par de chaves X25519, primeiramente uma chave privada seguido da chave pública dependente da privada:"
   ]
  },
  {
   "cell_type": "code",
   "execution_count": 3,
   "id": "d110bffb-b3c0-493b-b1d1-d12da8948a8c",
   "metadata": {},
   "outputs": [],
   "source": [
    "def generate_x25519_keypair():\n",
    "    \"\"\"Gera um par de chaves X25519.\"\"\"\n",
    "    private_key = x25519.X25519PrivateKey.generate()\n",
    "    public_key = private_key.public_key()\n",
    "    return private_key, public_key"
   ]
  },
  {
   "cell_type": "markdown",
   "id": "f18c176b-b7e8-4061-9d2a-b516fbbecd0f",
   "metadata": {},
   "source": [
    "(crypto_utils.py: Linhas 64-68)"
   ]
  },
  {
   "cell_type": "markdown",
   "id": "3c9fd4e3-ce7a-4ee7-b233-55f5d0df70dc",
   "metadata": {},
   "source": [
    "Dada a lógica de geração de chaves foi preciso também criar outra lógica para **troca de chaves** e **Derivação de chaves com HKDF**, dado que ao usar criptografia de curva elíptica como X25519, a chave privada nunca é compartilhada diretamente entre as partes. \n",
    "\n",
    "Em vez de partilhar diretamente as chaves privadas, ambas as partes trocam apenas as chaves públicas, e, por meio de um processo de troca segura, geram um **segredo partilhado**. Esse segredo é então transformado numa chave simétrica derviada através de uma HKDF, permitindo que a comunicação seja cifrada de forma segura sem revelar a chave privada:"
   ]
  },
  {
   "cell_type": "code",
   "execution_count": 4,
   "id": "ca0972fe-d75a-4d6d-af51-5e0b4040d77a",
   "metadata": {},
   "outputs": [],
   "source": [
    "def derive_shared_key(private_key, peer_public_key):\n",
    "    \"\"\"Deriva uma chave compartilhada usando X25519.\"\"\"\n",
    "    shared_secret = private_key.exchange(peer_public_key)\n",
    "    derived_key = HKDF(\n",
    "        algorithm=hashes.SHA256(),\n",
    "        length=16,  # Chave de 16 bytes para AES-128\n",
    "        salt=None,\n",
    "        info=b'handshake data'\n",
    "    ).derive(shared_secret)\n",
    "    return derived_key"
   ]
  },
  {
   "cell_type": "markdown",
   "id": "70087b7f-b0fa-4fe2-8ef2-935b6ca34ba7",
   "metadata": {},
   "source": [
    "(crypto_utils.py: Linhas 76-85)"
   ]
  },
  {
   "cell_type": "markdown",
   "id": "03b180bf-500b-4f23-bc08-baff44158f8c",
   "metadata": {},
   "source": [
    "--------------------------------------------------------------------------------------------------------"
   ]
  },
  {
   "cell_type": "markdown",
   "id": "99327a22-5378-461e-85f3-5edaa2f9eacc",
   "metadata": {},
   "source": [
    "## **RF3** - Os agentes devem ser autenticados através de `Ed25519 Signing & Verification`.\n",
    "e\n",
    "## **RF4** - O servidor deve validar a assinatura antes de processar qualquer mensagem recebida."
   ]
  },
  {
   "cell_type": "markdown",
   "id": "43f91c7c-73bd-46f0-9e7c-27700823abfc",
   "metadata": {},
   "source": [
    "A autenticação de agentes utilizando `Ed25519 Signing & Verification` é essencial para garantir as características de **integridade** e **autenticidade** das mensagens trocadas entre os agentes no sistema. O `Ed25519` é um algoritmo de assinatura digital, como o X25519, na curva elíptica 25519. \n",
    "\n",
    "Ao assinar uma mensagem com a chave privada de um agente e verificar a assinatura com a chave pública, é possível se a mensagem não foi alterada e que realmente foi enviada pelo legítimo emissor. Esse processo previne falsificação de identidade e ataques de repetição, garantindo que apenas agentes autenticados possam interagir dentro do sistema de forma confiável."
   ]
  },
  {
   "cell_type": "markdown",
   "id": "78e7bfbe-bd41-4473-a203-51e84fd0c905",
   "metadata": {},
   "source": [
    "Temos então uma geração de chaves para assinatura:"
   ]
  },
  {
   "cell_type": "code",
   "execution_count": 5,
   "id": "343fdbf3-3d5e-4e9b-b0a8-78c128161ac5",
   "metadata": {},
   "outputs": [],
   "source": [
    "def generate_ed25519_keypair():\n",
    "    \"\"\"Gera um par de chaves Ed25519 para assinatura.\"\"\"\n",
    "    private_key = ed25519.Ed25519PrivateKey.generate()\n",
    "    public_key = private_key.public_key()\n",
    "    return private_key, public_key"
   ]
  },
  {
   "cell_type": "markdown",
   "id": "f59652a9-0a15-417c-b2a8-e1c93851a5b2",
   "metadata": {},
   "source": [
    "(crypto_utils.py: Linhas 70-74)"
   ]
  },
  {
   "cell_type": "markdown",
   "id": "6dbfb4e3-207c-4bf6-9a3a-f761b7f457e2",
   "metadata": {},
   "source": [
    "E a lógica de assinatura e verificação com as chaves privadas e públicas respetivamente:"
   ]
  },
  {
   "cell_type": "code",
   "execution_count": 6,
   "id": "5c7fd99c-28df-4238-a421-b29dbdf1f412",
   "metadata": {},
   "outputs": [],
   "source": [
    "def sign_message(private_key, message: bytes) -> bytes:\n",
    "    \"\"\"Assina uma mensagem usando Ed25519.\"\"\"\n",
    "    return private_key.sign(message)\n",
    "\n",
    "def verify_signature(public_key, message: bytes, signature: bytes):\n",
    "    \"\"\"Verifica a assinatura de uma mensagem com Ed25519.\"\"\"\n",
    "    try:\n",
    "        public_key.verify(signature, message)\n",
    "        return True\n",
    "    except:\n",
    "        return False"
   ]
  },
  {
   "cell_type": "markdown",
   "id": "81c9e804-6001-4b0b-a2eb-70b8dc7648ba",
   "metadata": {},
   "source": [
    "(crypto_utils.py: Linhas 87-97)"
   ]
  },
  {
   "cell_type": "markdown",
   "id": "c3e7f769-77b1-4cc8-8741-d9c350c767ac",
   "metadata": {},
   "source": [
    "No caso do cliente este assina com a mensagem cifrada:"
   ]
  },
  {
   "cell_type": "raw",
   "id": "ed72dba9-4369-4cdf-bcef-1d89c45746e2",
   "metadata": {},
   "source": [
    "signature = sign_message(self.signing_key, ciphertext)"
   ]
  },
  {
   "cell_type": "markdown",
   "id": "71b8aba7-b5a9-4e9c-9862-3a9a79ee3d09",
   "metadata": {},
   "source": [
    "(Client.py: Linha 59)"
   ]
  },
  {
   "cell_type": "markdown",
   "id": "5f810cae-d224-4ede-b738-8699aba44646",
   "metadata": {},
   "source": [
    "E o servidor com a chave partilhada gerada:"
   ]
  },
  {
   "cell_type": "raw",
   "id": "a37de795-e377-42b5-aba5-7309c9126325",
   "metadata": {},
   "source": [
    "signature = sign_message(self.signing_key, shared_key)"
   ]
  },
  {
   "cell_type": "markdown",
   "id": "0eea5379-ded3-4a34-be2a-88605c57dd24",
   "metadata": {},
   "source": [
    "(Server.py: Linha 42)"
   ]
  },
  {
   "cell_type": "markdown",
   "id": "d1a6706a-f5fc-44c5-aefb-9d6bb25fab93",
   "metadata": {},
   "source": [
    "E ambos, para garantir a **integridade** e **autenticidade** das assinaturas verificam cada mensagem recebida:"
   ]
  },
  {
   "cell_type": "raw",
   "id": "2cb57b98-cc61-4e77-866b-5520f34e1ce1",
   "metadata": {},
   "source": [
    "#No cliente (linhas 41-43)\n",
    "if not verify_signature(self.server_verifying_key, shared_key, signature):\n",
    "    print(\"Assinatura inválida!\")\n",
    "    return\n",
    "\n",
    "#No servidor (linhas 79-81)\n",
    "if not verify_signature(self.clients[int(client_id)]['client_verifying_key'], ciphertext, signature):\n",
    "    print(\"Erro: Assinatura inválida! Mensagem rejeitada.\")\n",
    "    continue"
   ]
  },
  {
   "cell_type": "markdown",
   "id": "ead19aae-5527-4310-91c9-ad0d28edec3e",
   "metadata": {},
   "source": [
    "--------------------------------------------------------------------------------------------------------"
   ]
  },
  {
   "cell_type": "markdown",
   "id": "eaf271c7-22a3-4f58-9593-374604211843",
   "metadata": {},
   "source": [
    "## **RF5** - Caso a confirmação falhe, a mensagem não deve ser aceite. "
   ]
  },
  {
   "cell_type": "markdown",
   "id": "5ed8339a-a1ac-4c0a-bfc9-4410c60f9d62",
   "metadata": {},
   "source": [
    "Para evitar ataques de **Man-in-the-Middle** (um atacante poderia inserir uma chave falsa e interceptar ou modificar as mensagens) ou ataques de criação manual de mensagem decidimos ignorar todas as mensagens que não passam no teste de verificação."
   ]
  },
  {
   "cell_type": "markdown",
   "id": "41668de4-aa16-47cf-bcee-e23458865242",
   "metadata": {},
   "source": [
    "Como mencionado anteriormente o cliente sempre que deteta uma falha na assinatura:"
   ]
  },
  {
   "cell_type": "raw",
   "id": "b0591e31-2337-465a-86a4-4fda7ac01492",
   "metadata": {},
   "source": [
    "if not verify_signature(self.server_verifying_key, shared_key, signature):\n",
    "    print(\"Assinatura inválida!\")\n",
    "    return"
   ]
  },
  {
   "cell_type": "markdown",
   "id": "915b1ead-05fb-4825-9051-5cb74079af8b",
   "metadata": {},
   "source": [
    "(Client.py: Linhas 41-43)"
   ]
  },
  {
   "cell_type": "markdown",
   "id": "188b2533-061a-411e-a1d3-75949b925292",
   "metadata": {},
   "source": [
    "E o servidor rejeita a mensagem, neste caso, ignorando-a e iterando o ciclo para voltar a ficar à escuta de outras mensagens"
   ]
  },
  {
   "cell_type": "raw",
   "id": "641ed276-839e-4075-b3b9-bcf6c8af8b93",
   "metadata": {},
   "source": [
    "if not verify_signature(self.clients[int(client_id)]['client_verifying_key'], ciphertext, signature):\n",
    "    print(\"Erro: Assinatura inválida! Mensagem rejeitada.\")\n",
    "    continue"
   ]
  },
  {
   "cell_type": "markdown",
   "id": "0f2202dc-e02c-4b0e-828d-30d7020770c6",
   "metadata": {},
   "source": [
    "(Server.py: Linhas 79-81)"
   ]
  },
  {
   "attachments": {},
   "cell_type": "markdown",
   "id": "5385be2f-9bd1-4874-adb6-66f416da7974",
   "metadata": {},
   "source": [
    "---"
   ]
  },
  {
   "cell_type": "markdown",
   "id": "8611e1a1-633c-4baf-bf77-424029f878a4",
   "metadata": {},
   "source": [
    "## **RF6** - O sistema deve utilizar uma fonte segura para geração de chaves e tweaks."
   ]
  },
  {
   "cell_type": "markdown",
   "id": "46ebd929-2c46-4549-a5e8-421312a7f029",
   "metadata": {},
   "source": [
    "## Geração de chaves"
   ]
  },
  {
   "cell_type": "markdown",
   "id": "c88c23df-3dca-4c85-8a47-395e975c0882",
   "metadata": {},
   "source": [
    "Para gerar os pares de chaves de troca, de assinaturas (e validação) e fazer a derivação para obter a chave final a ser usada utilizamos respetivamente:"
   ]
  },
  {
   "cell_type": "raw",
   "id": "e43b5615-f3a6-4154-a61a-d655309ed709",
   "metadata": {},
   "source": [
    "private_key = x25519.X25519PrivateKey.generate()\n",
    "public_key = private_key.public_key()\n",
    "\n",
    "private_key = ed25519.Ed25519PrivateKey.generate()\n",
    "public_key = private_key.public_key()\n",
    "\n",
    "derive_shared_key(private_key_x25519, client_x25519_publickey) # No caso do servidor\n",
    "derive_shared_key(private_key_x25519, server_pubkey) # No caso do cliente"
   ]
  },
  {
   "cell_type": "markdown",
   "id": "35737af9-64b3-42ae-8a23-d329bebd8c30",
   "metadata": {},
   "source": [
    "(cripto_utils.py linhas 64-85)"
   ]
  },
  {
   "cell_type": "markdown",
   "id": "83c052f4-9368-4ad4-987d-2b9834d8e005",
   "metadata": {},
   "source": [
    "## Geração de tweaks"
   ]
  },
  {
   "cell_type": "markdown",
   "id": "f332b8df-5d5f-4947-a2b8-bf84342756a4",
   "metadata": {},
   "source": [
    "Através da biblioteca `os` o cliente cria uma sequência de bytes (neste caso 16) pseudo-aleatória:"
   ]
  },
  {
   "cell_type": "raw",
   "id": "c9bd3788-a2d3-474c-bfe9-600ba2f4177f",
   "metadata": {},
   "source": [
    "import os\n",
    "...\n",
    "tweak = os.urandom(16)  # Gera um \"tweak\" aleatório de 16 bytes"
   ]
  },
  {
   "cell_type": "markdown",
   "id": "1d5bd1dd-deb7-467d-beab-8205d7b366b6",
   "metadata": {},
   "source": [
    "(Client.py: Linha 56)"
   ]
  },
  {
   "cell_type": "markdown",
   "id": "ab1fa6d6-d8cf-4789-8bf1-eef4fd579afb",
   "metadata": {},
   "source": [
    "E usa este tweak pseudo-aleatório (e outros argumentos) é usado para cifrar a mensagem:"
   ]
  },
  {
   "cell_type": "raw",
   "id": "4c00f775-a08e-450a-a917-d01f01332837",
   "metadata": {},
   "source": [
    "ciphertext = encrypt_with_aead(shared_key, tweak, message.encode(), associated_data)"
   ]
  },
  {
   "cell_type": "markdown",
   "id": "93c23f6e-15b1-410a-bf72-221cb0e08afd",
   "metadata": {},
   "source": [
    "(Client.py: Linha 58)"
   ]
  },
  {
   "cell_type": "markdown",
   "id": "689d1f2d-2dab-4aac-8059-eca1b04247e8",
   "metadata": {},
   "source": [
    "O servidor filtar o tweak da mensagem do cliente e utiliza-a para decifração:"
   ]
  },
  {
   "cell_type": "raw",
   "id": "8cd53415-d5e6-43b3-96ff-9d67213c8c04",
   "metadata": {},
   "source": [
    "data = await reader.read(1024)\n",
    "#Separar tweak, ciphertext e assinatura\n",
    "tweak = data[:16]\n",
    "ciphertext = data[16:-64]\n",
    "signature = data[-64:]\n",
    "...\n",
    "plaintext = decrypt_with_aead(self.clients[int(client_id)]['shared_key'], tweak, ciphertext, associated_data)"
   ]
  },
  {
   "cell_type": "markdown",
   "id": "2742ca20-d202-43c5-a0e4-e152df89a0e5",
   "metadata": {},
   "source": [
    "(Servidor.py linhas 68-86)"
   ]
  },
  {
   "cell_type": "markdown",
   "id": "b151dc2f-8bd5-46ab-ac9f-689653bb1910",
   "metadata": {},
   "source": [
    "Um novo tweak será definido pelo cliente antes de mandar outra mensagem, assim garantimos que cada mensagem é cifrada com uma chave diferente, o que evita **ataques de repetição** (ou seja, que mesmo que um atacante tenha acesso ao _ciphertext_ de uma mensagem anterior, ele não será capaz de decifrar uma nova mensagem com a mesma chave.), garantindo que a mesma chave de criptografia (`shared_key`) nunca seja usada com o mesmo **tweak** para múltiplas mensagens."
   ]
  },
  {
   "cell_type": "markdown",
   "id": "5a1dba4a-2980-48e8-899d-40ed3fb5c19c",
   "metadata": {},
   "source": [
    "---"
   ]
  },
  {
   "cell_type": "markdown",
   "id": "8ab25a84-b3b2-4955-ba3f-9fb02153058f",
   "metadata": {},
   "source": [
    "## **RF7** - As mensagens devem ser cifradas antes do envio."
   ]
  },
  {
   "cell_type": "raw",
   "id": "eddbcf22-b74b-4984-a59c-38019bbe0992",
   "metadata": {},
   "source": [
    "message = await asyncio.get_event_loop().run_in_executor(None, input, \"Digite a sua mensagem: \")\n",
    "...\n",
    "ciphertext = encrypt_with_aead(shared_key, tweak, message.encode(), associated_data)"
   ]
  },
  {
   "cell_type": "markdown",
   "id": "78732de5-417b-4e28-a4b3-27d7b6f40128",
   "metadata": {},
   "source": [
    "(Cliente.py linhas 53-58)"
   ]
  },
  {
   "cell_type": "markdown",
   "id": "5d9c42ce-42fd-4ea5-a6ed-fb730b3a26aa",
   "metadata": {},
   "source": [
    "---"
   ]
  },
  {
   "cell_type": "markdown",
   "id": "44503d0c-01a5-4adc-988d-0f5367110bf6",
   "metadata": {},
   "source": [
    "## **RF8** - As mensagens devem ser decifradas ao serem recebidas."
   ]
  },
  {
   "cell_type": "raw",
   "id": "3ca32e3f-bb0b-4dda-a861-b984c7626b5e",
   "metadata": {},
   "source": [
    "data = await reader.read(1024)\n",
    "...\n",
    "ciphertext = data[16:-64]\n",
    "...\n",
    "plaintext = decrypt_with_aead(self.clients[int(client_id)]['shared_key'], tweak, ciphertext, associated_data)"
   ]
  },
  {
   "cell_type": "markdown",
   "id": "071a634b-6d79-4b27-a61d-407349b47c78",
   "metadata": {
    "jp-MarkdownHeadingCollapsed": true
   },
   "source": [
    "(Servidor.py linhas 68-86)"
   ]
  },
  {
   "cell_type": "markdown",
   "id": "04034d42-d474-4df4-a5c7-ca74854b6ff9",
   "metadata": {},
   "source": [
    "---"
   ]
  },
  {
   "cell_type": "markdown",
   "id": "deaccb18-2675-4d99-ad87-c920575e73ca",
   "metadata": {},
   "source": [
    "## **RF9** - A implementação deve garantir confidencialidade, integridade e autenticidade das mensagens."
   ]
  },
  {
   "cell_type": "markdown",
   "id": "ba187450-440c-4474-9ca3-3144ccd1fc30",
   "metadata": {},
   "source": [
    "### Confidencialidade:\n",
    "\n",
    "- AES-128 com tweak XOR na chave: A confidencialidade da mensagem é garantida pelo uso da cifra AES-128 no modo ECB com um \"tweak\" que modifica a chave de criptografia de maneira única para cada operação. Isso impede que a mesma chave seja reutilizada de maneira previsível, dificultando a criptografia de mensagens repetidas. O `tweakable_aes_encrypt` e `tweakable_aes_decrypt` implementam a cifração e decifração com esta técnica.\n",
    "\n",
    "### Integridade:\n",
    "\n",
    "- A função `encrypt_with_aead` utiliza uma técnica chamada **AEAD**. Ela calcula um hash **SHA-256** sobre os dados associados antes de criptografar os dados com **AES-128**, o que assegura que os dados associados não foram alterados (integridade). Ao decifrar, a função `decrypt_with_aead` voltar a calcular o hash **SHA-256** sobre os dados associados e compara com o hash armazenado. Se os hashes não coincidirem, um erro é levantado, indicando que os dados associados foram modificados.\n",
    "\n",
    "### Autenticidade:\n",
    "\n",
    "- Para garantir a autenticidade da mensagem, o código usa o algoritmo **Ed25519** de assinaturas digitais. A função `sign_message` assina a mensagem com a chave privada, e a função `verify_signature` permite verificar se a assinatura foi gerada pela chave privada associada à chave pública fornecida. Isso assegura que a mensagem veio de uma fonte legítima e que não foi modificada."
   ]
  },
  {
   "cell_type": "markdown",
   "id": "bd9ea2d4-0c9f-4f87-838a-ec9a7d711ba6",
   "metadata": {},
   "source": [
    "O uso do hash nas operações AEAD adiciona integridade e autenticação ao processo de criptografia, ajudando a garantir que tanto os dados confidenciais quanto os dados associados sejam protegidos corretamente."
   ]
  },
  {
   "cell_type": "markdown",
   "id": "6b4fbaa4-b9b9-46ff-ac3a-77d42c5673d6",
   "metadata": {},
   "source": [
    "-------"
   ]
  },
  {
   "cell_type": "markdown",
   "id": "b9d3e9ca-93ed-4624-a306-92ce18a15bc8",
   "metadata": {},
   "source": [
    "## Conclusão e observações"
   ]
  },
  {
   "cell_type": "markdown",
   "id": "cc665175-ec8f-4329-a484-583167e0d61f",
   "metadata": {},
   "source": [
    "O grupo considera que foi capaz de implementar a **AEAD baseada em Tweakable Block Ciphers**, seguindo as diretrizes propostas. \n",
    "\n",
    "O **AES-128** foi empregado como a cifra base, com um tweak aleatório para cada mensagem, garantindo variação na chave de cifragem. Além disso, foi desenvolvido um canal privado de comunicação assíncrona, onde o acordo de chaves foi realizado com **X25519 key exchange**, e a autenticação dos agentes foi garantida pelo **Ed25519 Signing & Verification**, incluindo a confirmação da chave acordada. \n",
    "\n",
    "O grupo sentiu que as medidas tomatas asseguraram confidencialidade, autenticidade e integridade na comunicação."
   ]
  },
  {
   "cell_type": "markdown",
   "id": "7b254d13-6b34-4e63-b01b-f97e37d9042c",
   "metadata": {},
   "source": [
    "Uma observação que o grupo quer apontar antes de dar por terminado o relatório está relacinado com implementação da cifra.\n",
    "O grupo 7 decidiu utilizar o modo de cifra **ECB** que reconhecemos que tem inseguranças. Nomeadamente o **ECB** tem um problema de ser relativamente fácil detetar padrões, como todos os blocos são independentes de cada um (diferente de **CBC**).\n",
    "\n",
    "Um exemplo clássico da demonstração desta vulnerabilidade está na encriptação de pixeis de imagens:"
   ]
  },
  {
   "cell_type": "markdown",
   "id": "24cb641c-ea5b-485c-b0ba-e00a3f22d31c",
   "metadata": {},
   "source": [
    "![Imagem Linux ECB](ECBLinux.png)"
   ]
  },
  {
   "cell_type": "markdown",
   "id": "1411afcc-6e11-4cd4-819d-a239c28b5d82",
   "metadata": {},
   "source": [
    "Mesmo cifrando os pixeis da imagem é simples de reconhecer um padrão mesmo que a informação objetivamente não seja a mesma.\n",
    "\n",
    "O grupo decidiu manter o modo **ECB** por fins de simplicidade e queremos demonstrar (de uma maneira mais abstrata) que é relativamente fácil implementar outros tipos de PBC's."
   ]
  },
  {
   "cell_type": "markdown",
   "id": "3452a6c6-7b04-4059-929d-dfbebf1ffb88",
   "metadata": {},
   "source": [
    "Usando como referência a nossa função de encriptação:"
   ]
  },
  {
   "cell_type": "code",
   "execution_count": 7,
   "id": "29f8e050-3993-47ec-90cc-0a9af2fb56d7",
   "metadata": {},
   "outputs": [],
   "source": [
    "def tweakable_aes_encrypt(key: bytes, tweak: bytes, plaintext: bytes) -> bytes:\n",
    "    \"\"\"Aplica AES-128 no modo ECB com tweak XOR na chave.\"\"\"\n",
    "    assert len(key) == 16, \"A chave deve ter 16 bytes (AES-128).\"\n",
    "    assert len(tweak) == 16, \"O tweak deve ter 16 bytes.\"\n",
    "    \n",
    "    tweaked_key = bytes(a ^ b for a, b in zip(key, tweak))\n",
    "    cipher = Cipher(algorithms.AES(tweaked_key), modes.ECB())\n",
    "    encryptor = cipher.encryptor()\n",
    "\n",
    "    padder = padding.PKCS7(128).padder()\n",
    "    padded_plaintext = padder.update(plaintext) + padder.finalize()\n",
    "\n",
    "    return encryptor.update(padded_plaintext) + encryptor.finalize()"
   ]
  },
  {
   "cell_type": "markdown",
   "id": "b5a929f9-8680-44fd-b8e1-7bb313f15529",
   "metadata": {},
   "source": [
    "Poderíamos criar uma versão que utilizasse **CBC** (com especial atenção na utilização do initial vector):"
   ]
  },
  {
   "cell_type": "code",
   "execution_count": 8,
   "id": "4dafbb04-b0fc-490b-a4cd-edb0f5cf7cd6",
   "metadata": {},
   "outputs": [],
   "source": [
    "def aes_cbc_encrypt(key: bytes, plaintext: bytes) -> bytes:\n",
    "    iv = os.urandom(16)  # IV aleatório\n",
    "    cipher = Cipher(algorithms.AES(key), modes.CBC(iv))\n",
    "    encryptor = cipher.encryptor()\n",
    "\n",
    "    padder = padding.PKCS7(128).padder() \n",
    "    padded_plaintext = padder.update(plaintext) + padder.finalize()\n",
    "\n",
    "    ciphertext = encryptor.update(padded_plaintext) + encryptor.finalize()\n",
    "\n",
    "    return iv + ciphertext  # Retorna IV + texto cifrado"
   ]
  },
  {
   "cell_type": "markdown",
   "id": "cdd3faa4-de5d-46b1-9107-d1394337da78",
   "metadata": {},
   "source": [
    "Ou até mesmo com o modo **GCM** (que faz uso do nonce que poderia ser acordado pelo cliente e servidor):"
   ]
  },
  {
   "cell_type": "code",
   "execution_count": 9,
   "id": "e31c2b5a-281b-4ee1-8626-554a53b4824d",
   "metadata": {},
   "outputs": [],
   "source": [
    "def tweakable_aes_encrypt(key: bytes, nonce:bytes, tweak: bytes, plaintext: bytes, associated_data: bytes) -> bytes:\n",
    "    \"\"\"Aplica AES-128 no modo GCM com tweak XOR na chave.\"\"\"\n",
    "    assert len(key) == 16, \"A chave deve ter 16 bytes (AES-128).\"\n",
    "    assert len(tweak) == 16, \"O tweak deve ter 16 bytes.\"\n",
    "    \n",
    "    tweaked_key = bytes(a ^ b for a, b in zip(key, tweak))\n",
    "\n",
    "    cipher = Cipher(algorithms.AES(tweaked_key), modes.GCM(nonce))\n",
    "    encryptor = cipher.encryptor()\n",
    "\n",
    "    encryptor.authenticate_additional_data(associated_data)\n",
    "\n",
    "    padder = padding.PKCS7(128).padder()\n",
    "    padded_plaintext = padder.update(plaintext) + padder.finalize()\n",
    "\n",
    "    ciphertext = encryptor.update(padded_plaintext) + encryptor.finalize()\n",
    "\n",
    "    return nonce + ciphertext + encryptor.tag  # Retorna o nonce, o texto cifrado e a tag de autenticação"
   ]
  },
  {
   "cell_type": "markdown",
   "id": "2d7d3ccf-fee5-4a47-af42-832a65744ad9",
   "metadata": {},
   "source": [
    "----"
   ]
  },
  {
   "cell_type": "markdown",
   "id": "2c6c6063-857a-4caa-a16a-119537cf4f3d",
   "metadata": {},
   "source": [
    "### **Ficheiro _Notebook_ do trabalho prático 1 - Exercício de avaliação alínea 2**\n",
    "### Estruturas Criptográficas 2024/2025 \n",
    "\n",
    "#### Realizado pelo grupo 7:\n",
    "Paulo André Alegre Pinto PG55991 \\\n",
    "Pedro Miguel Dias Leiras PG55995"
   ]
  }
 ],
 "metadata": {
  "kernelspec": {
   "display_name": "Python 3 (ipykernel)",
   "language": "python",
   "name": "python3"
  },
  "language_info": {
   "codemirror_mode": {
    "name": "ipython",
    "version": 3
   },
   "file_extension": ".py",
   "mimetype": "text/x-python",
   "name": "python",
   "nbconvert_exporter": "python",
   "pygments_lexer": "ipython3",
   "version": "3.9.21"
  }
 },
 "nbformat": 4,
 "nbformat_minor": 5
}
